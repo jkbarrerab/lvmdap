{
 "cells": [
  {
   "cell_type": "code",
   "execution_count": 1,
   "id": "8e365691",
   "metadata": {},
   "outputs": [],
   "source": [
    "import numpy as np\n",
    "import matplotlib.pyplot as plt\n",
    "%matplotlib inline\n",
    "from tabulate import tabulate\n",
    "\n",
    "from astropy.io import fits, ascii\n",
    "from astropy.table import Table,join\n",
    "from astropy.table import vstack as vstack_table\n",
    "\n",
    "from lvmdap.dap_tools import list_columns,read_DAP_file,map_plot_DAP\n",
    "from matplotlib import use as mpl_use\n",
    "#mpl_use('Agg')\n",
    "import sys\n",
    "org_stdout = sys.stdout # Save a reference to the original standard output\n",
    "\n",
    "import math\n",
    "from IPython.display import display, HTML\n",
    "%matplotlib inline\n",
    "from matplotlib import rcParams as rc\n",
    "rc.update({'font.size': 19,\\\n",
    "           'font.weight': 900,\\\n",
    "           'text.usetex': True,\\\n",
    "           'path.simplify'           :   True,\\\n",
    "           'xtick.labelsize' : 19,\\\n",
    "           'ytick.labelsize' : 19,\\\n",
    "#           'xtick.major.size' : 3.5,\\\n",
    "#           'ytick.major.size' : 3.5,\\\n",
    "           'axes.linewidth'  : 2.0,\\\n",
    "               # Increase the tick-mark lengths (defaults are 4 and 2)\n",
    "           'xtick.major.size'        :   6,\\\n",
    "           'ytick.major.size'        :   6,\\\n",
    "           'xtick.minor.size'        :   3,\\\n",
    "           'ytick.minor.size'        :   3,\\\n",
    "           'xtick.major.width'       :   1,\\\n",
    "           'ytick.major.width'       :   1,\\\n",
    "           'lines.markeredgewidth'   :   1,\\\n",
    "           'legend.numpoints'        :   1,\\\n",
    "           'xtick.minor.width'       :   1,\\\n",
    "           'ytick.minor.width'       :   1,\\\n",
    "           'legend.frameon'          :   False,\\\n",
    "           'legend.handletextpad'    :   0.3,\\\n",
    "           'font.family'    :   'serif',\\\n",
    "           'mathtext.fontset'        :   'stix',\\\n",
    "           'axes.facecolor' : \"w\",\\\n",
    "           \n",
    "          })\n"
   ]
  },
  {
   "cell_type": "code",
   "execution_count": 2,
   "id": "03f6e1f6",
   "metadata": {},
   "outputs": [],
   "source": [
    "import sys, os\n",
    "os.environ[\"OMP_NUM_THREADS\"] = \"1\" # export OMP_NUM_THREADS=1\n",
    "os.environ[\"OPENBLAS_NUM_THREADS\"] = \"1\" # export OPENBLAS_NUM_THREADS=1\n",
    "os.environ[\"MKL_NUM_THREADS\"] = \"1\" # export MKL_NUM_THREADS=1\n",
    "os.environ[\"VECLIB_MAXIMUM_THREADS\"] = \"1\" # export VECLIB_MAXIMUM_THREADS=1\n",
    "os.environ[\"NUMEXPR_NUM_THREADS\"] = \"1\" # export NUMEXPR_NUM_THREADS=1\n",
    "original_stdout = sys.stdout\n",
    "\n",
    "import time\n",
    "from astropy.io.fits.column import _parse_tdim\n",
    "import numpy as np\n",
    "import argparse\n",
    "from copy import deepcopy as copy\n",
    "from pprint import pprint\n",
    "\n",
    "# pyFIT3D dependencies\n",
    "from pyFIT3D.common.io import clean_preview_results_files, print_time, read_spectra\n",
    "\n",
    "# 18.11.2023\n",
    "# So far we were ysing the auto_ssp_tools from pyFIT3D\n",
    "# We will attempt to modify them\n",
    "#from pyFIT3D.common.auto_ssp_tools import auto_ssp_elines_single_main\n",
    "from lvmdap.modelling.auto_rsp_tools import auto_rsp_elines_single_main\n",
    "\n",
    "from pyFIT3D.common.auto_ssp_tools import load_rss, dump_rss_output\n",
    "from pyFIT3D.common.io import clean_preview_results_files, print_time, read_spectra\n",
    "\n",
    "from pyFIT3D.common.gas_tools import detect_create_ConfigEmissionModel\n",
    "from pyFIT3D.common.io import create_ConfigAutoSSP_from_lists\n",
    "from pyFIT3D.common.io import create_emission_lines_file_from_list\n",
    "from pyFIT3D.common.io import create_emission_lines_mask_file_from_list\n",
    "#from pyFIT3D.common.tools import read_coeffs_CS\n",
    "\n",
    "from lvmdap.modelling.synthesis import StellarSynthesis\n",
    "from lvmdap.modelling.auto_rsp_tools import ConfigAutoSSP\n",
    "from lvmdap.modelling.auto_rsp_tools import model_rsp_elines_single_main\n",
    "\n",
    "from lvmdap.dap_tools import load_LVM_rss, read_PT, rsp_print_header, plot_spec, read_rsp\n",
    "from lvmdap.dap_tools import plot_spectra, read_coeffs_RSP, read_elines_RSP, read_tab_EL\n",
    "from lvmdap.dap_tools import find_redshift_spec\n",
    "from lvmdap.flux_elines_tools import flux_elines_RSS_EW\n",
    "\n",
    "from scipy.ndimage import gaussian_filter1d,median_filter\n",
    "\n",
    "from astropy.table import Table\n",
    "from astropy.table import join as tab_join\n",
    "from astropy.table import vstack as vstack_table\n",
    "from astropy.io import fits, ascii\n",
    "\n",
    "import yaml\n",
    "import re\n",
    "from collections import Counter\n",
    "\n",
    "from lvmdap.dap_tools import list_columns,read_DAP_file,map_plot_DAP\n",
    "\n",
    "#\n",
    "# Just for tests\n",
    "#\n",
    "# import matplotlib.pyplot as plt\n",
    "\n",
    "\n",
    "CWD = os.path.abspath(\".\")\n",
    "EXT_CHOICES = [\"CCM\", \"CAL\"]\n",
    "EXT_CURVE = EXT_CHOICES[0]\n",
    "EXT_RV = 3.1\n",
    "N_MC = 20\n"
   ]
  },
  {
   "cell_type": "code",
   "execution_count": 24,
   "id": "52687a88",
   "metadata": {},
   "outputs": [
    {
     "name": "stdout",
     "output_type": "stream",
     "text": [
      "1754\n"
     ]
    }
   ],
   "source": [
    "# Number of stars in the model\n",
    "n_st=10\n",
    "n_sim=1754\n",
    "#n_sim=200\n",
    "f_scale_st=10\n",
    "f_scale_el=1\n",
    "f_scale=1e16\n",
    "label=f'sim_{n_sim}_{n_st}_{f_scale_st}_{f_scale_el}'\n",
    "config_yaml='lvm-dap_100.yaml'\n",
    "fileID='00006109'\n",
    "lvmCFrame=f'data/lvmCFrame-{fileID}.fits'\n",
    "hdu_org=fits.open(lvmCFrame)\n",
    "ref_file=f\"output_ofelia_new/dap-rsp30-sn20-{fileID}.output.fits.gz\"\n",
    "hdu=fits.open(ref_file)\n",
    "dap_file=f\"output_ofelia_new/dap-rsp30-sn20-{fileID}.dap.fits.gz\"\n",
    "tab_DAP=read_DAP_file(dap_file,verbose=False)\n",
    "tab_DAP.sort('fiberid')\n",
    "print(len(tab_DAP))"
   ]
  },
  {
   "cell_type": "code",
   "execution_count": null,
   "id": "dceccfe2",
   "metadata": {
    "scrolled": false
   },
   "outputs": [],
   "source": []
  },
  {
   "cell_type": "code",
   "execution_count": 25,
   "id": "47e16065",
   "metadata": {},
   "outputs": [
    {
     "name": "stdout",
     "output_type": "stream",
     "text": [
      "Filename: data/lvmCFrame-00006109.fits\n",
      "No.    Name      Ver    Type      Cards   Dimensions   Format\n",
      "  0  PRIMARY       1 PrimaryHDU     301   ()      \n",
      "  1  FLUX          1 ImageHDU        22   (12401, 1944)   float32   \n",
      "  2  ERROR         1 ImageHDU         8   (12401, 1944)   float32   \n",
      "  3  MASK          1 ImageHDU         8   (12401, 1944)   uint8   \n",
      "  4  WAVE          1 ImageHDU         7   (12401,)   float32   \n",
      "  5  FWHM          1 ImageHDU         8   (12401, 1944)   float32   \n",
      "  6  SKY           1 ImageHDU         8   (12401, 1944)   float32   \n",
      "  7  SKY_ERROR     1 ImageHDU         8   (12401, 1944)   float32   \n",
      "  8  SUPERSKY      1 BinTableHDU     24   1458345R x 6C   [E, E, E, J, J, 4A]   \n",
      "  9  SLITMAP       1 BinTableHDU     43   1944R x 17C   [K, K, 3A, K, 8A, 5A, K, 4A, D, D, D, 6A, 8A, K, 17A, K, K]   \n"
     ]
    }
   ],
   "source": [
    "hdu_org.info()"
   ]
  },
  {
   "cell_type": "code",
   "execution_count": 26,
   "id": "7d5d766c",
   "metadata": {},
   "outputs": [
    {
     "name": "stdout",
     "output_type": "stream",
     "text": [
      "Filename: data/lvmCFrame-00006109.fits\n",
      "No.    Name      Ver    Type      Cards   Dimensions   Format\n",
      "  0  PRIMARY       1 PrimaryHDU     301   ()      \n",
      "  1  FLUX          1 ImageHDU        22   (12401, 1754)   float32   \n",
      "  2  ERROR         1 ImageHDU         8   (12401, 1754)   float32   \n",
      "  3  MASK          1 ImageHDU         8   (12401, 1754)   uint8   \n",
      "  4  WAVE          1 ImageHDU         7   (12401,)   float32   \n",
      "  5  FWHM          1 ImageHDU         8   (12401, 1754)   float32   \n",
      "  6  SKY           1 ImageHDU         8   (12401, 1754)   float32   \n",
      "  7  SKY_ERROR     1 ImageHDU         8   (12401, 1754)   float32   \n",
      "  8  SUPERSKY      1 BinTableHDU     24   1458345R x 6C   [E, E, E, J, J, 4A]   \n",
      "  9  SLITMAP       1 BinTableHDU     43   1754R x 17C   ['K', 'K', '3A', 'K', '8A', '5A', 'K', '4A', 'D', 'D', 'D', '6A', '8A', 'K', '17A', 'K', 'K']   \n"
     ]
    }
   ],
   "source": [
    "tab_PT_org = read_PT(lvmCFrame,'none',ny_range=None)\n",
    "hdu_org['FLUX'].data=hdu_org['FLUX'].data[tab_PT_org['mask']]\n",
    "hdu_org['ERROR'].data=hdu_org['ERROR'].data[tab_PT_org['mask']]\n",
    "hdu_org['MASK'].data=hdu_org['MASK'].data[tab_PT_org['mask']]\n",
    "hdu_org['FWHM'].data=hdu_org['FWHM'].data[tab_PT_org['mask']]\n",
    "hdu_org['SKY'].data=hdu_org['SKY'].data[tab_PT_org['mask']]\n",
    "hdu_org['SKY_ERROR'].data=hdu_org['SKY_ERROR'].data[tab_PT_org['mask']]\n",
    "hdu_org['SLITMAP'].data=hdu_org['SLITMAP'].data[tab_PT_org['mask']]\n",
    "hdu_org.info()\n"
   ]
  },
  {
   "cell_type": "code",
   "execution_count": null,
   "id": "5e4276da",
   "metadata": {},
   "outputs": [],
   "source": []
  },
  {
   "cell_type": "code",
   "execution_count": 27,
   "id": "9603e64a",
   "metadata": {},
   "outputs": [
    {
     "name": "stdout",
     "output_type": "stream",
     "text": [
      "192\n"
     ]
    }
   ],
   "source": [
    "pe_e=[]\n",
    "w_e=[]\n",
    "for td_col in tab_DAP.columns:\n",
    "    if ((td_col.find(\"_pe_\")==-1) & (td_col.find(\"e_flux_\")>-1)):\n",
    "        l_name = td_col.replace('e_flux_','')\n",
    "        w_name = float(l_name.split(\"_\")[-1])\n",
    "        pe_e.append(l_name)\n",
    "        w_e.append(w_name)\n",
    "print(len(pe_e))\n",
    "# vel,disp,flux"
   ]
  },
  {
   "cell_type": "code",
   "execution_count": 28,
   "id": "1851532a",
   "metadata": {},
   "outputs": [
    {
     "name": "stdout",
     "output_type": "stream",
     "text": [
      "Filename: data/lvmCFrame-00006109.fits\n",
      "No.    Name      Ver    Type      Cards   Dimensions   Format\n",
      "  0  PRIMARY       1 PrimaryHDU     301   ()      \n",
      "  1  FLUX          1 ImageHDU        22   (12401, 1754)   float32   \n",
      "  2  ERROR         1 ImageHDU         8   (12401, 1754)   float32   \n",
      "  3  MASK          1 ImageHDU         8   (12401, 1754)   uint8   \n",
      "  4  WAVE          1 ImageHDU         7   (12401,)   float32   \n",
      "  5  FWHM          1 ImageHDU         8   (12401, 1754)   float32   \n",
      "  6  SKY           1 ImageHDU         8   (12401, 1754)   float32   \n",
      "  7  SKY_ERROR     1 ImageHDU         8   (12401, 1754)   float32   \n",
      "  8  SUPERSKY      1 BinTableHDU     24   1458345R x 6C   [E, E, E, J, J, 4A]   \n",
      "  9  SLITMAP       1 BinTableHDU     43   1754R x 17C   ['K', 'K', '3A', 'K', '8A', '5A', 'K', '4A', 'D', 'D', 'D', '6A', '8A', 'K', '17A', 'K', 'K']   \n"
     ]
    }
   ],
   "source": [
    "hdu_org['FLUX'].data=hdu_org['FLUX'].data[0:n_sim,:]\n",
    "hdu_org['ERROR'].data=hdu_org['ERROR'].data[0:n_sim,:]\n",
    "hdu_org['MASK'].data=hdu_org['MASK'].data[0:n_sim,:]\n",
    "hdu_org['FWHM'].data=hdu_org['FWHM'].data[0:n_sim,:]\n",
    "hdu_org['SKY'].data=hdu_org['SKY'].data[0:n_sim,:]\n",
    "hdu_org['SKY_ERROR'].data=hdu_org['SKY_ERROR'].data[0:n_sim,:]\n",
    "hdu_org['SLITMAP'].data=hdu_org['SLITMAP'].data[0:n_sim]\n",
    "hdu_org.info()"
   ]
  },
  {
   "cell_type": "code",
   "execution_count": 29,
   "id": "341d76bd",
   "metadata": {},
   "outputs": [
    {
     "name": "stdout",
     "output_type": "stream",
     "text": [
      "(6, 1754, 12401)\n"
     ]
    }
   ],
   "source": [
    "print(hdu[0].data.shape)"
   ]
  },
  {
   "cell_type": "code",
   "execution_count": 30,
   "id": "fb8752ab",
   "metadata": {},
   "outputs": [],
   "source": [
    "#print(hdu_org['SLITMAP'].data)"
   ]
  },
  {
   "cell_type": "code",
   "execution_count": 31,
   "id": "4828a3bb",
   "metadata": {},
   "outputs": [
    {
     "name": "stdout",
     "output_type": "stream",
     "text": [
      "12401\n",
      "1754\n",
      "6\n",
      "3600.0\n"
     ]
    }
   ],
   "source": [
    "print(hdu[0].header[\"NAXIS1\"])\n",
    "print(hdu[0].header[\"NAXIS2\"])\n",
    "print(hdu[0].header[\"NAXIS3\"])\n",
    "print(hdu[0].header[\"CRVAL1\"])"
   ]
  },
  {
   "cell_type": "code",
   "execution_count": 32,
   "id": "4332329a",
   "metadata": {},
   "outputs": [],
   "source": [
    "wave = hdu[0].header[\"CRVAL1\"]+hdu[0].header[\"CDELT1\"]*(np.arange(hdu[0].header[\"NAXIS1\"]))#-hdu[0].header[\"CRPIX1\"])"
   ]
  },
  {
   "cell_type": "code",
   "execution_count": null,
   "id": "83799ce6",
   "metadata": {},
   "outputs": [],
   "source": []
  },
  {
   "cell_type": "code",
   "execution_count": 33,
   "id": "f779bff8",
   "metadata": {},
   "outputs": [],
   "source": [
    "#\n",
    "#\n",
    "#\n",
    "def eline(w,W,F,D,V):\n",
    "    c = 299792.00\n",
    "    w0 = W*(1+(V/c))\n",
    "    sigma=D/2.354    \n",
    "    e1=np.exp(-0.5*((w-w0)/sigma)**2)\n",
    "    return F*e1/(sigma*((2*3.1416)**0.5))     \n",
    "\n",
    "#\n",
    "# Create emission lines!\n",
    "#\n",
    "spec2D_elines=0.0*hdu_org['FLUX'].data\n",
    "for i,spec2D_now in enumerate(spec2D_elines):\n",
    "    for j,(pe_now,w_now) in enumerate(zip(pe_e,w_e)):        \n",
    "        F=np.abs(tab_DAP[f'flux_{pe_now}'][i])\n",
    "        D=tab_DAP[f'disp_{pe_now}'][i]\n",
    "        V=tab_DAP[f'vel_{pe_now}'][i]\n",
    "        spec_eline = eline(wave,w_now,F,D,V)\n",
    "        spec2D_now += spec_eline\n",
    "#    plt.plot(wave,spec2D_elines[i,:])        \n"
   ]
  },
  {
   "cell_type": "code",
   "execution_count": 34,
   "id": "41b5b78f",
   "metadata": {},
   "outputs": [],
   "source": [
    "i_spec=0\n",
    "org_spec = hdu[0].data[0,i_spec,:]\n",
    "mod_spec = hdu[0].data[1,i_spec,:]\n",
    "res_spec = hdu[0].data[4,i_spec,:]"
   ]
  },
  {
   "cell_type": "code",
   "execution_count": 35,
   "id": "04c17bf0",
   "metadata": {},
   "outputs": [
    {
     "name": "stdout",
     "output_type": "stream",
     "text": [
      "{'output_path': '/disk-a/sanchez/LVM/LVM/ver_231113/input_sim/', 'lvmdap_dir': '/home/sanchez/sda2/code/python/lvmdap', 'rsp-file': '/disk-a/sanchez/LVM/LVM/templates/stellar-basis-spectra-100.fits.gz', 'sigma-inst': 1, 'rsp-nl-file': '/disk-a/sanchez/LVM/LVM/templates/stellar-basis-spectra-5.fits.gz', 'input-fmt': 'rss', 'redshift': [0.0, 0.0001, -0.0003, 0.0003], 'sigma': [1, 10, 1, 70], 'AV': [0, 0.3, 0.0, 1.5], 'emission-lines-file': '../_legacy/emission_lines_strong.LVM', 'emission-lines-file-long': '../_legacy/emission_lines_strong.LVM', 'w-range': [3800, 7000], 'mask-file': '../_legacy/mask_bands_LVM.txt', 'config-file': '../_legacy/auto_ssp_LVM.config', 'clear_outputs': True, 'w-range-nl': [3800, 4000], 'bin-nl': 3, 'bin-AV': 50, 'mask_file': 'none', 'ignore_gas': False, 'single-gas-fit': True, 'sigma-gas': 0.8, 'flux-scale-org': [-1, 1], 'single_rsp': False, 'do_plots': 1, 'only_integrated': False, 'out_plot_format': 'pdf', 'SN_CUT': 20, 'sky_hack': True, 'auto_redshift': True}\n"
     ]
    },
    {
     "name": "stderr",
     "output_type": "stream",
     "text": [
      "/tmp/ipykernel_274112/424892247.py:42: DeprecationWarning: `np.float` is a deprecated alias for the builtin `float`. To silence this warning, use `float` by itself. Doing this will not modify any behavior and is safe. If you specifically wanted the numpy scalar type, use `np.float64` here.\n",
      "Deprecated in NumPy 1.20; for more details and guidance: https://numpy.org/devdocs/release/1.20.0-notes.html#deprecations\n",
      "  \"--flux-scale\", metavar=(\"min\",\"max\"), type=np.float, nargs=2,\n",
      "/tmp/ipykernel_274112/424892247.py:48: DeprecationWarning: `np.int` is a deprecated alias for the builtin `int`. To silence this warning, use `int` by itself. Doing this will not modify any behavior and is safe. When replacing `np.int`, you may wish to use e.g. `np.int64` or `np.int32` to specify the precision. If you wish to review your current use, check the release note link for additional information.\n",
      "Deprecated in NumPy 1.20; for more details and guidance: https://numpy.org/devdocs/release/1.20.0-notes.html#deprecations\n",
      "  \"--plot\", type=np.int,\n"
     ]
    }
   ],
   "source": [
    "cmd_args=(f'{label}',f'{label}', f'{config_yaml}')\n",
    "\n",
    "parser = argparse.ArgumentParser(\n",
    "    description=\"lvm-dap-yaml LVM_FILE OUTPUT_LABEL CONFIG.YAML\"\n",
    ")\n",
    "parser.add_argument(\n",
    "    \"lvm_file\", metavar=\"lvm_file\",\n",
    "    help=\"input LVM spectrum to fit\"\n",
    ")\n",
    "\n",
    "parser.add_argument(\n",
    "    \"label\",\n",
    "    help=\"string to label the current run\"\n",
    ")\n",
    "\n",
    "parser.add_argument(\n",
    "    \"config_yaml\",\n",
    "    help=\"config_yaml with the fitting parameters\"\n",
    ")\n",
    "parser.add_argument(\n",
    "    \"-d\", \"--debug\",\n",
    "    help=\"debugging mode. Defaults to false.\",\n",
    "    action=\"store_true\"\n",
    ")\n",
    "\n",
    "args = parser.parse_args(cmd_args)\n",
    "\n",
    "with open(args.config_yaml, 'r') as yaml_file:\n",
    "    dap_config_args = yaml.safe_load(yaml_file)\n",
    "print(dap_config_args)\n",
    "\n",
    "dict_param={}\n",
    "for k, v in dap_config_args.items():\n",
    "    if(isinstance(v, str)):\n",
    "        v=v.replace(\"..\",dap_config_args['lvmdap_dir'])\n",
    "        dict_param[k]=v\n",
    "    parser.add_argument(\n",
    "        '--' + k, default=v\n",
    "    )\n",
    "\n",
    "parser.add_argument(\n",
    "    \"--flux-scale\", metavar=(\"min\",\"max\"), type=np.float, nargs=2,\n",
    "    help=\"scale of the flux in the input spectrum\",\n",
    "    default=[-1, +1]\n",
    ")\n",
    "\n",
    "parser.add_argument(\n",
    "    \"--plot\", type=np.int,\n",
    "    help=\"whether to plot (1) or not (0, default) the fitting procedure. If 2, a plot of the result is store in a %%file without display on screen\",\n",
    "    default=0\n",
    ")\n",
    "\n",
    "\n",
    "\n",
    "\n",
    "\n",
    "args = parser.parse_args(cmd_args)\n",
    "\n",
    "#print(args)"
   ]
  },
  {
   "cell_type": "code",
   "execution_count": 36,
   "id": "a05241ab",
   "metadata": {},
   "outputs": [
    {
     "name": "stdout",
     "output_type": "stream",
     "text": [
      "Namespace(lvm_file='sim_1754_10_10_1', label='sim_1754_10_10_1', config_yaml='lvm-dap_100.yaml', debug=False, output_path='/disk-a/sanchez/LVM/LVM/ver_231113/input_sim/', lvmdap_dir='/home/sanchez/sda2/code/python/lvmdap', rsp_file='/disk-a/sanchez/LVM/LVM/templates/stellar-basis-spectra-100.fits.gz', sigma_inst=1, rsp_nl_file='/disk-a/sanchez/LVM/LVM/templates/stellar-basis-spectra-5.fits.gz', input_fmt='rss', redshift=[0.0, 0.0001, -0.0003, 0.0003], sigma=[1, 10, 1, 70], AV=[0, 0.3, 0.0, 1.5], emission_lines_file='/home/sanchez/sda2/code/python/lvmdap/_legacy/emission_lines_strong.LVM', emission_lines_file_long='/home/sanchez/sda2/code/python/lvmdap/_legacy/emission_lines_strong.LVM', w_range=[3800, 7000], mask_file='/home/sanchez/sda2/code/python/lvmdap/_legacy/mask_bands_LVM.txt', config_file='/home/sanchez/sda2/code/python/lvmdap/_legacy/auto_ssp_LVM.config', clear_outputs=True, w_range_nl=[3800, 4000], bin_nl=3, bin_AV=50, ignore_gas=False, single_gas_fit=True, sigma_gas=0.8, flux_scale_org=[-1, 1], single_rsp=False, do_plots=1, only_integrated=False, out_plot_format='pdf', SN_CUT=20, sky_hack=True, auto_redshift=True, flux_scale=[-1, 1], plot=0)\n"
     ]
    }
   ],
   "source": [
    "print(args)"
   ]
  },
  {
   "cell_type": "code",
   "execution_count": 37,
   "id": "d83f0e4d",
   "metadata": {},
   "outputs": [
    {
     "name": "stdout",
     "output_type": "stream",
     "text": [
      "**** adopted arguments****\n"
     ]
    }
   ],
   "source": [
    "\n",
    "print('**** adopted arguments****')\n",
    "a_name=[]\n",
    "a_value=[]\n",
    "for arg_name, arg_value in vars(args).items():\n",
    "    a_name.append(arg_name)\n",
    "    a_value.append(str(arg_value))\n",
    "    \n",
    "try:\n",
    "    ny_range=args.ny_range\n",
    "except:\n",
    "    ny_range=None\n",
    "    \n",
    "try:\n",
    "    nx_range=args.nx_range\n",
    "except:\n",
    "    nx_range=None\n",
    "\n",
    "        \n",
    "try:\n",
    "    out_plot_format=args.out_plot_format\n",
    "except:\n",
    "    out_plot_format=\"pdf\"        \n",
    "\n",
    "try:\n",
    "    only_integrated=args.only_integrated\n",
    "except:\n",
    "    only_integrated=False\n",
    "\n",
    "try:\n",
    "    sky_hack=args.sky_hack\n",
    "except:\n",
    "    sky_hack=False\n",
    "\n",
    "try:\n",
    "    auto_redshift=args.auto_redshift\n",
    "except:\n",
    "    auto_redshift=False\n",
    "\n",
    "try:\n",
    "    dump_model=args.dump_model\n",
    "except:\n",
    "    dump_model=False\n",
    "\n",
    "\n",
    "try:\n",
    "    SN_CUT=args.SN_CUT\n",
    "except:\n",
    "    SN_CUT=3\n",
    "\n",
    "    \n",
    "# OUTPUT NAMES ---------------------------------------------------------------------------------\n",
    "out_file_elines = os.path.join(args.output_path, f\"elines_{args.label}\")\n",
    "out_file_single = os.path.join(args.output_path, f\"single_{args.label}\")\n",
    "out_file_coeffs = os.path.join(args.output_path, f\"coeffs_{args.label}\")\n",
    "out_file_fit = os.path.join(args.output_path, f\"sim_{args.label}.fits\")\n",
    "out_file_ps = os.path.join(args.output_path, args.label)\n",
    "out_file_stdout = os.path.join(args.output_path, f\"log_{args.label}.log\")\n",
    "\n",
    "\n",
    "\n",
    "if args.clear_outputs:\n",
    "        clean_preview_results_files(out_file_ps, out_file_elines, out_file_single, out_file_coeffs, out_file_fit)\n",
    "seed = print_time(print_seed=False, get_time_only=True)"
   ]
  },
  {
   "cell_type": "code",
   "execution_count": 38,
   "id": "cc5bf957",
   "metadata": {},
   "outputs": [
    {
     "name": "stdout",
     "output_type": "stream",
     "text": [
      "/disk-a/sanchez/LVM/LVM/ver_231113/input_sim/sim_1754_10_10_1\n"
     ]
    }
   ],
   "source": [
    "print(out_file_ps)"
   ]
  },
  {
   "cell_type": "code",
   "execution_count": null,
   "id": "3162e663",
   "metadata": {
    "scrolled": false
   },
   "outputs": [],
   "source": [
    "#\n",
    "# Main Loop\n",
    "#\n",
    "#hdu_org['ERROR'].data=hdu_org['ERROR'].data[0:n_sim,:]\n",
    "\n",
    "\n",
    "sys.stdout = open(out_file_stdout, 'w')\n",
    "for i_sim in np.arange(n_sim):\n",
    "    random_map=np.random.normal(0,1.0,size=(hdu[0].data.shape[1],hdu[0].data.shape[2]))\n",
    "#    random_map=np.random.normal(0,1.0,size=(hdu_org['ERROR'].data.shape[0],hdu_org['ERROR'].data.shape[1]))\n",
    "    err_map=random_map*hdu[0].data[4,:,:]\n",
    "#    err_map=random_map*hdu_org['ERROR'].data[:,:]\n",
    "    random_index=hdu[0].data.shape[1]*np.random.rand(hdu[0].data.shape[2])\n",
    "#    random_index=hdu_org['ERROR'].data.shape[0]*np.random.rand(hdu_org['ERROR'].data.shape[1])\n",
    "    random_index=random_index.astype(int)\n",
    "    err_spec=0.0*res_spec\n",
    "    err_spec_t=0.0*res_spec\n",
    "    for i in np.arange(hdu[0].data.shape[2]):\n",
    "#    for i in np.arange(hdu_org['ERROR'].data.shape[1]):\n",
    "        err_spec[i]=err_map[random_index[i],i]\n",
    "        #\n",
    "        # Change this\n",
    "        #\n",
    "        err_spec_t[i]=hdu[0].data[4,:,:][random_index[i],i]\n",
    "#        err_spec_t[i]=hdu_org['ERROR'].data[:,:][random_index[i],i]\n",
    "    #plt.plot(err_spec)\n",
    "    wl__w, f__w, ef__w = wave, org_spec, res_spec\n",
    "    out_file=args.output_path+'/sim_junk.fits'\n",
    "    config_file=args.config_file\n",
    "    rsp_hdu=fits.open(args.rsp_file)\n",
    "    n_coeffs=rsp_hdu[0].header['NAXIS2']\n",
    "    coeffs_random=np.random.rand(n_coeffs)\n",
    "    coeffs_select=np.zeros(n_coeffs)\n",
    "    choice=np.random.choice(rsp_hdu[0].header['NAXIS2'], n_st)\n",
    "    coeffs_select[choice]=coeffs_random[choice]\n",
    "    coeffs_input=coeffs_select/np.sum(coeffs_select)\n",
    "    #print(coeffs_input,sum(coeffs_input))\n",
    "    model_spectra = []\n",
    "    \n",
    "    if (i_sim==0):\n",
    "        SPS_master=None\n",
    "        \n",
    "    _, SPS = model_rsp_elines_single_main(\n",
    "        wl__w, f__w, ef__w, args.rsp_file,  config_file, out_file, ssp_nl_fit_file=args.rsp_file,\n",
    "        w_min=args.w_range[0], w_max=args.w_range[1], nl_w_min=args.w_range_nl[0],\n",
    "        nl_w_max=args.w_range_nl[1], mask_list=args.mask_file,\n",
    "        min=args.flux_scale[0], max=args.flux_scale[1], elines_mask_file=args.emission_lines_file,\n",
    "        fit_gas=not args.ignore_gas, \n",
    "        input_redshift=args.redshift[0], delta_redshift=args.redshift[1], \n",
    "        min_redshift=args.redshift[2], max_redshift=args.redshift[3],\n",
    "        input_sigma=args.sigma[0], delta_sigma=args.sigma[1], min_sigma=args.sigma[2], max_sigma=args.sigma[3],\n",
    "        input_AV=args.AV[0], delta_AV=args.AV[1], min_AV=args.AV[2], max_AV=args.AV[3],\n",
    "        sigma_inst=args.sigma_inst, plot=args.plot, sps_class=StellarSynthesis,\n",
    "        coeffs_input=coeffs_input, SPS_master=SPS_master\n",
    "    )\n",
    "    SPS_master=SPS\n",
    "    i=i_sim\n",
    "    SPS.output_gas_emission(filename=out_file_elines, spec_id=i)\n",
    "    SPS.output_coeffs_MC(filename=out_file_coeffs, write_header=i==0)\n",
    "    SPS.output(filename=out_file_ps, write_header=i==0, block_plot=False)\n",
    "    hdu_org['FLUX'].data[i_sim,:]=SPS.spectra['model_min']\n",
    "    #hdu_org['ERROR'].data[i_sim,:]=np.abs(err_spec_t)\n",
    "    #model_spectra.append(SPS.output_spectra_list)\n",
    "    print(f'### **** {i_sim}/{n_sim} *****')\n",
    "\n",
    "#\n",
    "# Add elines\n",
    "#\n",
    "hdu_org['FLUX'].data=(f_scale_st*hdu_org['FLUX'].data+f_scale_el*spec2D_elines)/f_scale\n",
    "mean_error = np.nanmean(hdu_org['ERROR'].data)\n",
    "hdu_org['ERROR'].data=np.nan_to_num(hdu_org['ERROR'].data,nan=mean_error)#/f_scale\n",
    "mean_flux = np.nanmean(hdu_org['FLUX'].data)\n",
    "hdu_org['ERROR'].data += (0.7*np.abs(np.nan_to_num(hdu_org['FLUX'].data,nan=mean_flux))+0.3*mean_flux)\n",
    "mean_error = np.nanmean(hdu_org['ERROR'].data)\n",
    "hdu_org['ERROR'].data *= mean_flux/mean_error/f_scale_st\n",
    "\n",
    "#/f_scale\n",
    "\n",
    "#hdu_org['ERROR'].data += 0.001*np.sqrt(np.abs(np.nan_to_num(hdu_org['FLUX'].data,nan=mean_flux)))#/f_scale\n",
    "#hdu_org['ERROR'].data += 0.001*np.abs(np.nan_to_num(hdu_org['FLUX'].data,nan=mean_flux))#/f_scale\n",
    "#0.1*hdu_org['FLUX'].data\n",
    "\n",
    "hdu_org.writeto(out_file_fit,overwrite=True)\n",
    "sys.stdout = original_stdout\n"
   ]
  },
  {
   "cell_type": "code",
   "execution_count": null,
   "id": "ca10a40b",
   "metadata": {},
   "outputs": [],
   "source": [
    "print('stop')\n",
    "#\n",
    "# STOP HERE!\n",
    "#"
   ]
  },
  {
   "cell_type": "code",
   "execution_count": 20,
   "id": "bd9aa2f3",
   "metadata": {},
   "outputs": [
    {
     "data": {
      "text/plain": [
       "<matplotlib.collections.PathCollection at 0x7f97e718c050>"
      ]
     },
     "execution_count": 20,
     "metadata": {},
     "output_type": "execute_result"
    },
    {
     "data": {
      "image/png": "[encoded data removed]",
      "text/plain": [
       "<Figure size 640x480 with 1 Axes>"
      ]
     },
     "metadata": {},
     "output_type": "display_data"
    }
   ],
   "source": [
    "tab_PT = tab_PT_org[tab_PT_org['mask']]\n",
    "tab_PT = tab_PT[0:n_sim]\n",
    "tab_DAP = tab_DAP[0:n_sim]\n",
    "plt.scatter(tab_PT['ra'],tab_PT['dec'],c=tab_DAP['flux_Halpha_6562.85'][0:n_sim])"
   ]
  },
  {
   "cell_type": "code",
   "execution_count": 21,
   "id": "c98a01ec",
   "metadata": {},
   "outputs": [
    {
     "name": "stdout",
     "output_type": "stream",
     "text": [
      " wl\n",
      "---\n",
      "0.0\n"
     ]
    }
   ],
   "source": [
    "tab_PT = tab_PT_org[tab_PT_org['mask']]\n",
    "tab_PT = tab_PT[0:n_sim]\n",
    "tab_DAP = tab_DAP[0:n_sim]\n",
    "tab_RSP=read_rsp(file_ssp=out_file_ps)\n",
    "tab_RSP.add_column(tab_PT['id'].value,name='id',index=0)\n",
    "tab_COEFFS=read_coeffs_RSP(coeffs_file=out_file_coeffs)\n",
    "id_coeffs=[]    \n",
    "for id_fib in tab_COEFFS['id_fib']:\n",
    "    id_coeffs.append(tab_PT['id'].value[id_fib])\n",
    "id_coeffs=np.array(id_coeffs)\n",
    "tab_COEFFS.add_column(id_coeffs,name='id',index=0)\n",
    "\n",
    "\n",
    "\n",
    "tab_PE=read_elines_RSP(elines_file=out_file_elines)\n",
    "#print(len(tab_PE))\n",
    "#tab_PE.add_column(tab_PT['id'].value,name='id',index=0)\n",
    "\n",
    "id_elines=[]    \n",
    "for id_fib in tab_PE['id_fib']:\n",
    "    id_elines.append(tab_PT['id'].value[id_fib])\n",
    "id_elines=np.array(id_elines)\n",
    "tab_PE.add_column(id_elines,name='id',index=0)\n",
    " \n",
    "#\n",
    "# Rename some entries!\n",
    "#\n",
    "tab_RSP.rename_column('Av','Av_st')\n",
    "tab_RSP.rename_column('e_Av','e_Av_st')\n",
    "tab_RSP.rename_column('z','z_st')\n",
    "tab_RSP.rename_column('e_z','e_z_st')\n",
    "tab_RSP.rename_column('disp','disp_st')\n",
    "tab_RSP.rename_column('e_disp','e_disp_st')\n",
    "tab_RSP.rename_column('flux','flux_st')\n",
    "tab_RSP.rename_column('redshift','redshift_st')\n",
    "tab_RSP.rename_column('med_flux','med_flux_st')\n",
    "tab_RSP.rename_column('e_med_flux','e_med_flux_st')\n",
    "tab_RSP.rename_column('sys_vel','vel_st')\n",
    "#\n",
    "# Parametric elines\n",
    "#\n",
    "tab_PE.rename_column('flux','flux_pe')\n",
    "tab_PE.rename_column('e_flux','e_flux_pe')\n",
    "tab_PE.rename_column('disp','disp_pe')\n",
    "tab_PE.rename_column('e_disp','e_disp_pe')\n",
    "tab_PE.rename_column('vel','vel_pe')\n",
    "tab_PE.rename_column('e_vel','e_vel_pe')\n",
    "\n",
    "#\n",
    "# id\tid_fib\trsp\tTEFF\tLOGG\tMETA\tALPHAM\tCOEFF\tMin.Coeff\tlog(M/L)\tAV\tN.Coeff\tErr.Coeff\n",
    "#\n",
    "tab_COEFFS.rename_column('rsp','id_rsp')\n",
    "tab_COEFFS.rename_column('TEFF','Teff_rsp')\n",
    "tab_COEFFS.rename_column('LOGG','Log_g_rsp')\n",
    "tab_COEFFS.rename_column('META','Fe_rsp')\n",
    "tab_COEFFS.rename_column('ALPHAM','alpha_rsp')\n",
    "tab_COEFFS.rename_column('COEFF','W_rsp')\n",
    "tab_COEFFS.rename_column('Min.Coeff','min_W_rsp')\n",
    "tab_COEFFS.rename_column('log(M/L)','log_ML_rsp')\n",
    "tab_COEFFS.rename_column('AV','Av_rsp')\n",
    "tab_COEFFS.rename_column('N.Coeff','n_W_rsp')\n",
    "tab_COEFFS.rename_column('Err.Coeff','e_W_rsp')\n",
    "\n",
    "\n",
    "#\n",
    "# order parametric emission line table\n",
    "#\n",
    "a_wl = np.unique(tab_PE['wl'])\n",
    "print(a_wl)\n",
    "I=0\n",
    "for wl_now in a_wl:\n",
    "    if (wl_now>0.0):\n",
    "        tab_PE_now=tab_PE[tab_PE['wl']==wl_now]\n",
    "        tab_PE_tmp=tab_PE_now['id','flux_pe','e_flux_pe','disp_pe','e_disp_pe','vel_pe','e_vel_pe']\n",
    "        for cols in tab_PE_tmp.colnames:        \n",
    "            if (cols != 'id'):\n",
    "                tab_PE_tmp.rename_column(cols,f'{cols}_{wl_now}')\n",
    "            if (I==0):\n",
    "                tab_PE_ord=tab_PE_tmp\n",
    "            else:\n",
    "                tab_PE_ord=join(tab_PE_ord,tab_PE_tmp,keys=['id'],join_type='left')\n",
    "            I=I+1\n",
    "\n",
    "            \n",
    "#\n",
    "# Order COEFFS table\n",
    "#\n",
    "a_rsp=np.unique(tab_COEFFS['id_rsp'])\n",
    "for I,rsp_now in enumerate(a_rsp):\n",
    "    tab_C_now=tab_COEFFS[tab_COEFFS['id_rsp']==rsp_now]\n",
    "    tab_C_tmp=tab_C_now['id','Teff_rsp', 'Log_g_rsp', 'Fe_rsp',\\\n",
    "                        'alpha_rsp', 'W_rsp', 'min_W_rsp',\\\n",
    "                        'log_ML_rsp', 'Av_rsp', 'n_W_rsp', 'e_W_rsp']\n",
    "    for cols in tab_C_tmp.colnames:        \n",
    "        if (cols != 'id'):\n",
    "            tab_C_tmp.rename_column(cols,f'{cols}_{rsp_now}')\n",
    "    if (I==0):\n",
    "        tab_C_ord=tab_C_tmp\n",
    "    else:\n",
    "        tab_C_ord=join(tab_C_ord,tab_C_tmp,keys=['id'],join_type='left')\n",
    "            "
   ]
  },
  {
   "cell_type": "code",
   "execution_count": 22,
   "id": "1a7197f0",
   "metadata": {},
   "outputs": [],
   "source": [
    "out_file_dap = os.path.join(args.output_path, f\"{args.label}.dap.ecsv\")\n",
    "tab_DAP_sim=tab_DAP\n",
    "for c_C_ord in tab_C_ord.columns:\n",
    "    tab_DAP_sim[c_C_ord]=tab_C_ord[c_C_ord]\n",
    "for c_RSP in tab_RSP.columns:\n",
    "    tab_DAP_sim[c_RSP]=tab_RSP[c_RSP]\n",
    "tab_DAP_sim.write(out_file_dap)\n"
   ]
  },
  {
   "cell_type": "code",
   "execution_count": 23,
   "id": "42e461ca",
   "metadata": {},
   "outputs": [
    {
     "name": "stdout",
     "output_type": "stream",
     "text": [
      "Stop ALL\n"
     ]
    }
   ],
   "source": [
    "print('Stop ALL')\n",
    "\n",
    "#\n",
    "# SINGLE SIM\n",
    "#"
   ]
  },
  {
   "cell_type": "code",
   "execution_count": 38,
   "id": "164cda1e",
   "metadata": {},
   "outputs": [
    {
     "name": "stdout",
     "output_type": "stream",
     "text": [
      "[0.     0.     0.     0.     0.     0.     0.     0.     0.     0.     0.1272 0.     0.     0.     0.     0.     0.1987 0.     0.     0.1389 0.     0.     0.     0.     0.     0.     0.165  0.\n",
      " 0.     0.     0.     0.     0.     0.     0.0205 0.     0.     0.     0.1597 0.     0.     0.     0.     0.     0.     0.     0.     0.     0.     0.0689 0.     0.     0.     0.     0.     0.\n",
      " 0.     0.     0.     0.     0.0193 0.     0.     0.     0.     0.     0.     0.     0.     0.     0.     0.     0.     0.     0.     0.     0.     0.     0.     0.     0.     0.     0.1019 0.\n",
      " 0.     0.     0.     0.     0.     0.     0.     0.     0.     0.     0.     0.     0.     0.     0.     0.    ] 1.0\n"
     ]
    }
   ],
   "source": [
    "wl__w, f__w, ef__w = wave, org_spec, res_spec\n",
    "out_file=args.output_path+'/sim_junk.fits'\n",
    "config_file=args.config_file\n",
    "rsp_hdu=fits.open(args.rsp_file)\n",
    "n_coeffs=rsp_hdu[0].header['NAXIS2']\n",
    "coeffs_random=np.random.rand(n_coeffs)\n",
    "coeffs_select=np.zeros(n_coeffs)\n",
    "choice=np.random.choice(rsp_hdu[0].header['NAXIS2'], n_st)\n",
    "coeffs_select[choice]=coeffs_random[choice]\n",
    "coeffs_input=coeffs_select/np.sum(coeffs_select)\n",
    "print(coeffs_input,sum(coeffs_input))\n",
    "model_spectra = []\n",
    "\n",
    "#print(args.rsp_file)"
   ]
  },
  {
   "cell_type": "code",
   "execution_count": 71,
   "id": "f6f3ceb6",
   "metadata": {
    "scrolled": false
   },
   "outputs": [
    {
     "name": "stdout",
     "output_type": "stream",
     "text": [
      "-> median error in flux = -3.1783\n",
      "-> median error in flux = -3.1783\n",
      "-> median raw flux = 31.8501 - Warning: no cut (CUT_MEDIAN_FLUX = 0)\n",
      "Normalization window = [5455.0, 5545.0]\n",
      "Signal-to-Noise inside normalization window = 2.66330558462893\n",
      "-> MED_FLUX: 31.850135803222656 +- 177.52728424529337 SN:2.66330558462893\n",
      "- Redshift: 0.00000000 +- 0.00000000\n",
      "- Sigma:    1.00000000 +- 0.00000000\n",
      "- Av:    0.00000000 +- 0.00000000\n",
      "model_min_shape:  (12401,)\n",
      "6548-6583 wavelength range: Saving 3 EML systems to file /disk-a/sanchez/LVM/LVM/ver_231113/input_sim/elines_sim_1600_10_1_1\n",
      "6716-6730 wavelength range: Saving 2 EML systems to file /disk-a/sanchez/LVM/LVM/ver_231113/input_sim/elines_sim_1600_10_1_1\n",
      "4861-5006 wavelength range: Saving 3 EML systems to file /disk-a/sanchez/LVM/LVM/ver_231113/input_sim/elines_sim_1600_10_1_1\n",
      "4340-4340 wavelength range: Saving 1 EML system to file /disk-a/sanchez/LVM/LVM/ver_231113/input_sim/elines_sim_1600_10_1_1\n",
      "4101-4101 wavelength range: Saving 1 EML system to file /disk-a/sanchez/LVM/LVM/ver_231113/input_sim/elines_sim_1600_10_1_1\n",
      "6300-6300 wavelength range: Saving 1 EML system to file /disk-a/sanchez/LVM/LVM/ver_231113/input_sim/elines_sim_1600_10_1_1\n",
      "3727-3727 wavelength range: Saving 1 EML system to file /disk-a/sanchez/LVM/LVM/ver_231113/input_sim/elines_sim_1600_10_1_1\n",
      "9069-9069 wavelength range: Saving 1 EML system to file /disk-a/sanchez/LVM/LVM/ver_231113/input_sim/elines_sim_1600_10_1_1\n",
      "9531-9531 wavelength range: Saving 1 EML system to file /disk-a/sanchez/LVM/LVM/ver_231113/input_sim/elines_sim_1600_10_1_1\n",
      "-------------------------------------------------------------------------------------------------------------\n",
      "|  ID  |  TEFF   |  LOGG   |  META   | ALPHAM  | COEFF  | Min.Coeff | log(M/L) |  AV  | N.Coeff | Err.Coeff |\n",
      "-------------------------------------------------------------------------------------------------------------\n",
      "| 0003 |  3.9973 |  3.5769 | -1.4049 |  0.2428 | 0.0835 |    0.0000 |  11.7437 | 0.00 |  0.0835 |    0.0000 | 0.0000 | 0.0000\n",
      "| 0011 |  4.0010 |  3.2214 | -1.0615 |  0.0735 | 0.0997 |    0.0000 |  13.5867 | 0.00 |  0.0997 |    0.0000 | 0.0000 | 0.0000\n",
      "| 0031 |  3.8428 |  4.2527 | -0.9222 |  0.0270 | 0.0948 |    0.0000 |  14.4797 | 0.00 |  0.0948 |    0.0000 | 0.0000 | 0.0000\n",
      "| 0041 |  3.7907 |  3.9016 | -1.2397 |  0.3570 | 0.1690 |    0.0000 |  14.2431 | 0.00 |  0.1690 |    0.0000 | 0.0000 | 0.0000\n",
      "| 0042 |  3.8211 |  3.9899 | -0.3000 |  0.0918 | 0.0428 |    0.0000 |  13.3216 | 0.00 |  0.0428 |    0.0000 | 0.0000 | 0.0000\n",
      "| 0051 |  3.9977 |  3.3025 | -2.8278 |  0.3248 | 0.0854 |    0.0000 |  12.7229 | 0.00 |  0.0854 |    0.0000 | 0.0000 | 0.0000\n",
      "| 0060 |  3.6221 |  0.7941 | -0.4154 |  0.2514 | 0.1047 |    0.0000 |  12.4853 | 0.00 |  0.1047 |    0.0000 | 0.0000 | 0.0000\n",
      "| 0080 |  3.5948 |  4.6425 |  0.1627 |  0.1314 | 0.0668 |    0.0000 |  13.9387 | 0.00 |  0.0668 |    0.0000 | 0.0000 | 0.0000\n",
      "| 0091 |  3.7034 |  3.5833 | -0.2093 |  0.1572 | 0.1404 |    0.0000 |  14.6761 | 0.00 |  0.1404 |    0.0000 | 0.0000 | 0.0000\n",
      "| 0096 |  3.4744 |  0.7093 | -0.2107 |  0.1388 | 0.1127 |    0.0000 |  14.1032 | 0.00 |  0.1127 |    0.0000 | 0.0000 | 0.0000\n",
      "-------------------------------------------------------------------------------------------------------------\n",
      "Teff test = 5945.222963384294\n",
      "MSP CHISQ=420.319047064728 TEFF=5945.222963384294+-0.0 LOGG=3.112060739886033+-0.0 META=-0.8603577521568947+-0.0 ALPHAM=0.19499886108017433+-0.0 AV=0.0+-0.0 REDSHIFT=0.0+-0.0 SIGMA_DISP_km_s=1+-0.0 RMS=29.52072795558146 MED_FLUX=56.31239318847656 TEFF_mass=5372.991296816983+-0.0 LOGG_mass=3.527381349672555+-0.0 META_mass=-0.5642957099826418+-0.0 ALPHAM_mass=0.16717678292512866+-0.0 MASS=2.9655799363599946e+19 log_M/L=10.633369561542056 log_Mass=19.47210963481082\n",
      "--------------------------------------------------------------\n"
     ]
    }
   ],
   "source": [
    "_, SPS = model_rsp_elines_single_main(\n",
    "    wl__w, f__w, ef__w, args.rsp_file,  config_file, out_file, ssp_nl_fit_file=args.rsp_file,\n",
    "    w_min=args.w_range[0], w_max=args.w_range[1], nl_w_min=args.w_range_nl[0],\n",
    "    nl_w_max=args.w_range_nl[1], mask_list=args.mask_file,\n",
    "    min=args.flux_scale[0], max=args.flux_scale[1], elines_mask_file=args.emission_lines_file,\n",
    "    fit_gas=not args.ignore_gas, \n",
    "    input_redshift=args.redshift[0], delta_redshift=args.redshift[1], \n",
    "    min_redshift=args.redshift[2], max_redshift=args.redshift[3],\n",
    "    input_sigma=args.sigma[0], delta_sigma=args.sigma[1], min_sigma=args.sigma[2], max_sigma=args.sigma[3],\n",
    "    input_AV=args.AV[0], delta_AV=args.AV[1], min_AV=args.AV[2], max_AV=args.AV[3],\n",
    "    sigma_inst=args.sigma_inst, plot=args.plot, sps_class=StellarSynthesis,\n",
    "    coeffs_input=coeffs_input\n",
    ")\n",
    "i=0\n",
    "SPS.output_gas_emission(filename=out_file_elines, spec_id=i)\n",
    "SPS.output_coeffs_MC(filename=out_file_coeffs, write_header=i==0)\n",
    "print(f'Teff test = {SPS.teff_min}')\n",
    "SPS.output(filename=out_file_ps, write_header=i==0, block_plot=False)\n",
    "model_spectra.append(SPS.output_spectra_list)"
   ]
  },
  {
   "cell_type": "code",
   "execution_count": 112,
   "id": "0cce28d1",
   "metadata": {},
   "outputs": [
    {
     "data": {
      "text/plain": [
       "[<matplotlib.lines.Line2D at 0x7f0dd4f30430>]"
      ]
     },
     "execution_count": 112,
     "metadata": {},
     "output_type": "execute_result"
    },
    {
     "data": {
      "image/png": "[encoded data removed]",
      "text/plain": [
       "<Figure size 640x480 with 1 Axes>"
      ]
     },
     "metadata": {},
     "output_type": "display_data"
    }
   ],
   "source": [
    "plt.plot(wave,org_spec)\n",
    "plt.plot(wave,SPS.spectra['model_min'])\n",
    "plt.plot(wave,ef__w)"
   ]
  },
  {
   "cell_type": "code",
   "execution_count": 113,
   "id": "a738c3db",
   "metadata": {},
   "outputs": [
    {
     "name": "stdout",
     "output_type": "stream",
     "text": [
      "-> median error in flux = 0.0000\n",
      "-> median error in flux = 0.0000\n",
      "-> median raw flux = 280.8842 - Warning: no cut (CUT_MEDIAN_FLUX = 0)\n",
      "Normalization window = [5455.0, 5545.0]\n",
      "Signal-to-Noise inside normalization window = 11.293192983425278\n",
      "-> MED_FLUX: 280.88421630859375 +- 454.0773235204956 SN:11.293192983425278\n",
      "- Redshift: 0.00000000 +- 0.00000000\n",
      "- Sigma:    1.00000000 +- 0.00000000\n",
      "- Av:    1.00000000 +- 0.00000000\n",
      "model_min_shape:  (12401,)\n",
      "6548-6583 wavelength range: Saving 3 EML systems to file /disk-a/sanchez/LVM/LVM/ver_231113/output_dap/elines_junk\n",
      "6716-6730 wavelength range: Saving 2 EML systems to file /disk-a/sanchez/LVM/LVM/ver_231113/output_dap/elines_junk\n",
      "4861-5006 wavelength range: Saving 3 EML systems to file /disk-a/sanchez/LVM/LVM/ver_231113/output_dap/elines_junk\n",
      "4340-4340 wavelength range: Saving 1 EML system to file /disk-a/sanchez/LVM/LVM/ver_231113/output_dap/elines_junk\n",
      "4101-4101 wavelength range: Saving 1 EML system to file /disk-a/sanchez/LVM/LVM/ver_231113/output_dap/elines_junk\n",
      "6300-6300 wavelength range: Saving 1 EML system to file /disk-a/sanchez/LVM/LVM/ver_231113/output_dap/elines_junk\n",
      "3727-3727 wavelength range: Saving 1 EML system to file /disk-a/sanchez/LVM/LVM/ver_231113/output_dap/elines_junk\n",
      "9069-9069 wavelength range: Saving 1 EML system to file /disk-a/sanchez/LVM/LVM/ver_231113/output_dap/elines_junk\n",
      "9531-9531 wavelength range: Saving 1 EML system to file /disk-a/sanchez/LVM/LVM/ver_231113/output_dap/elines_junk\n",
      "-------------------------------------------------------------------------------------------------------------\n",
      "|  ID  |  TEFF   |  LOGG   |  META   | ALPHAM  | COEFF  | Min.Coeff | log(M/L) |  AV  | N.Coeff | Err.Coeff |\n",
      "-------------------------------------------------------------------------------------------------------------\n",
      "| 0000 |  3.9970 |  2.5946 | -1.0825 |  0.1597 | 1.0000 |    0.0000 |  14.0274 | 1.00 |  1.0000 |    0.0000 | 0.0000 | 0.0000\n",
      "-------------------------------------------------------------------------------------------------------------\n",
      "Teff test = 9930.113275801661\n",
      "MSP CHISQ=3.712776644652591e+30 TEFF=9930.113275801661+-0.0 LOGG=2.594613790512085+-0.0 META=-1.0824589729309082+-0.0 ALPHAM=0.1596696823835373+-0.0 AV=1.0+-0.0 REDSHIFT=0.0+-0.0 SIGMA_DISP_km_s=1+-0.0 RMS=38.6761389396235 MED_FLUX=367.1139831542969 TEFF_mass=9930.113275801661+-0.0 LOGG_mass=2.594613790512085+-0.0 META_mass=-1.0824589729309082+-0.0 ALPHAM_mass=0.1596696823835373+-0.0 MASS=1.3686013250930586e+20 log_M/L=10.48333994060931 log_Mass=20.13627695614862\n",
      "--------------------------------------------------------------\n"
     ]
    },
    {
     "data": {
      "text/plain": [
       "[<matplotlib.lines.Line2D at 0x7f0dd4da9ba0>]"
      ]
     },
     "execution_count": 113,
     "metadata": {},
     "output_type": "execute_result"
    },
    {
     "data": {
      "image/png": "[encoded data removed]",
      "text/plain": [
       "<Figure size 640x480 with 1 Axes>"
      ]
     },
     "metadata": {},
     "output_type": "display_data"
    }
   ],
   "source": [
    "coeffs_now=0.0*coeffs_input\n",
    "coeffs_now[0]=1\n",
    "\n",
    "args.AV[0]=1\n",
    "_, SPS = model_rsp_elines_single_main(\n",
    "    wl__w, f__w, ef__w, args.rsp_file,  config_file, out_file, ssp_nl_fit_file=args.rsp_file,\n",
    "    w_min=args.w_range[0], w_max=args.w_range[1], nl_w_min=args.w_range_nl[0],\n",
    "    nl_w_max=args.w_range_nl[1], mask_list=args.mask_file,\n",
    "    min=args.flux_scale[0], max=args.flux_scale[1], elines_mask_file=args.emission_lines_file,\n",
    "    fit_gas=not args.ignore_gas, \n",
    "    input_redshift=args.redshift[0], delta_redshift=args.redshift[1], \n",
    "    min_redshift=args.redshift[2], max_redshift=args.redshift[3],\n",
    "    input_sigma=args.sigma[0], delta_sigma=args.sigma[1], min_sigma=args.sigma[2], max_sigma=args.sigma[3],\n",
    "    input_AV=args.AV[0], delta_AV=args.AV[1], min_AV=args.AV[2], max_AV=args.AV[3],\n",
    "    sigma_inst=args.sigma_inst, plot=args.plot, sps_class=StellarSynthesis,\n",
    "    coeffs_input=coeffs_now\n",
    ")\n",
    "i=0\n",
    "SPS.output_gas_emission(filename=out_file_elines, spec_id=i)\n",
    "SPS.output_coeffs_MC(filename=out_file_coeffs, write_header=i==0)\n",
    "print(f'Teff test = {SPS.teff_min}')\n",
    "SPS.output(filename=out_file_ps, write_header=i==0, block_plot=False)\n",
    "model_spectra.append(SPS.output_spectra_list)\n",
    "\n",
    "\n",
    "\n",
    "plt.plot(wave,org_spec)\n",
    "plt.plot(wave,SPS.spectra['model_min'])\n",
    "plt.plot(wave,ef__w)\n"
   ]
  },
  {
   "cell_type": "code",
   "execution_count": 114,
   "id": "75990a29",
   "metadata": {},
   "outputs": [
    {
     "data": {
      "text/plain": [
       "array([[[   687.652 ,    653.159 ,    590.4202, ...,    959.7869,    981.6826,   1012.1271],\n",
       "        [   687.652 ,    653.159 ,    590.4202, ...,    959.7869,    981.6826,   1012.1271],\n",
       "        [   687.652 ,    653.159 ,    590.4202, ...,    959.7869,    981.6826,   1012.1271]],\n",
       "\n",
       "       [[  3050.9247,   3029.6598,   3008.395 , ...,  28412.449 ,  28522.0301,  28638.6201],\n",
       "        [  3034.2536,   3013.1549,   2992.0561, ...,  28413.0817,  28522.5221,  28639.3124],\n",
       "        [   352.9948,    352.8291,    352.6632, ...,     27.5129,     27.4788,     27.4941]],\n",
       "\n",
       "       [[  3050.9247,   3029.6598,   3008.395 , ...,  28412.449 ,  28522.0301,  28638.6201],\n",
       "        [  3034.2536,   3013.1549,   2992.0561, ...,  28413.0817,  28522.5221,  28639.3124],\n",
       "        [   352.9948,    352.8291,    352.6632, ...,     27.5129,     27.4788,     27.4941]],\n",
       "\n",
       "       [[   687.652 ,    653.159 ,    590.4202, ...,    959.7869,    981.6826,   1012.1271],\n",
       "        [   687.652 ,    653.159 ,    590.4202, ...,    959.7869,    981.6826,   1012.1271],\n",
       "        [   687.652 ,    653.159 ,    590.4202, ...,    959.7869,    981.6826,   1012.1271]],\n",
       "\n",
       "       [[ -2363.2727,  -2376.5008,  -2417.9748, ..., -27452.6621, -27540.3475, -27626.493 ],\n",
       "        [ -2346.6017,  -2359.9959,  -2401.6359, ..., -27453.2949, -27540.8395, -27627.1853],\n",
       "        [   334.6571,    300.3299,    237.757 , ...,    932.274 ,    954.2038,    984.6329]],\n",
       "\n",
       "       [[   687.652 ,    653.159 ,    590.4202, ...,    959.7869,    981.6826,   1012.1271],\n",
       "        [   687.652 ,    653.159 ,    590.4202, ...,    959.7869,    981.6826,   1012.1271],\n",
       "        [   687.652 ,    653.159 ,    590.4202, ...,    959.7869,    981.6826,   1012.1271]]])"
      ]
     },
     "execution_count": 114,
     "metadata": {},
     "output_type": "execute_result"
    }
   ],
   "source": [
    "model_spectra = np.array(model_spectra).transpose(1, 0, 2)\n",
    "dump_rss_output(out_file_fit=out_file_fit, wavelength=wl__w, model_spectra=model_spectra)"
   ]
  },
  {
   "cell_type": "code",
   "execution_count": null,
   "id": "3ecbf07e",
   "metadata": {},
   "outputs": [],
   "source": []
  }
 ],
 "metadata": {
  "kernelspec": {
   "display_name": "Python 3 (ipykernel)",
   "language": "python",
   "name": "python3"
  },
  "language_info": {
   "codemirror_mode": {
    "name": "ipython",
    "version": 3
   },
   "file_extension": ".py",
   "mimetype": "text/x-python",
   "name": "python",
   "nbconvert_exporter": "python",
   "pygments_lexer": "ipython3",
   "version": "3.11.7"
  }
 },
 "nbformat": 4,
 "nbformat_minor": 5
}
