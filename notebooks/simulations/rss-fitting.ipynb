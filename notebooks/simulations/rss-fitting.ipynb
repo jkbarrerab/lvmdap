{
 "cells": [
  {
   "cell_type": "code",
   "execution_count": 1,
   "metadata": {},
   "outputs": [],
   "source": [
    "import os\n",
    "import sys\n",
    "import contextlib\n",
    "from tqdm import tqdm\n",
    "import numpy as np\n",
    "import matplotlib.pyplot as plt\n",
    "import seaborn as sns\n",
    "from argparse import Namespace\n",
    "\n",
    "sns.set(context=\"talk\", palette=\"husl\", color_codes=True)\n",
    "\n",
    "\n",
    "class DummyFile(object):\n",
    "    def write(self, x): pass\n",
    "\n",
    "@contextlib.contextmanager\n",
    "def nostdout():\n",
    "    save_stdout = sys.stdout\n",
    "    sys.stdout = DummyFile()\n",
    "    yield\n",
    "    sys.stdout = save_stdout"
   ]
  },
  {
   "cell_type": "code",
   "execution_count": 2,
   "metadata": {},
   "outputs": [],
   "source": [
    "SIM_NAME = \"DIG_bright\"\n",
    "EXP_TIME = 900\n",
    "\n",
    "SIM_PATH = f\"_data-sim/{SIM_NAME}/outputs\"\n",
    "\n",
    "SIMPLE_SIM_NAME = f\"{SIM_NAME}_linear_full_{EXP_TIME}_flux.fits\"\n",
    "\n",
    "current_sim = SIMPLE_SIM_NAME\n",
    "out_fl_name = os.path.join(SIM_PATH, current_sim.replace(\".fits\", \".fl.rss.fits\"))\n",
    "out_ef_name = os.path.join(SIM_PATH, current_sim.replace(\".fits\", \".ef.rss.fits\"))"
   ]
  },
  {
   "cell_type": "code",
   "execution_count": 3,
   "metadata": {},
   "outputs": [],
   "source": [
    "args = Namespace()\n",
    "args.spec_file = out_fl_name\n",
    "args.error_file = out_ef_name\n",
    "\n",
    "args.single_gas_fit = True\n",
    "args.ignore_gas = False\n",
    "\n",
    "args.emission_lines_file = \"../../_fitting-data/_configs/MaNGA/emission_lines_long_list.MaNGA\"\n",
    "args.output_path = \"_data/out\"\n",
    "\n",
    "args.sigma_gas = 3\n",
    "\n",
    "args.config_file = None\n",
    "\n",
    "args.rsp_file = \"../../_fitting-data/_basis_mastar_v3.1.1/stellar-basis-spectra-100.fits.gz\"\n",
    "args.rsp_nl_file = \"../../_fitting-data/_basis_mastar_v3.1.1/stellar-basis-spectra-10.fits.gz\"\n",
    "\n",
    "args.mask_file = None\n",
    "\n",
    "args.sigma_inst = 0.001\n",
    "args.flux_scale = -np.inf, np.inf\n",
    "\n",
    "args.w_range = 3650.0, 9800.0\n",
    "args.w_range_nl = 3800, 4700\n",
    "\n",
    "args.redshift = 0, 0, 0, 0.1\n",
    "args.sigma = 0, 0, 0, 350\n",
    "args.AV = 0, 0, 0, 1.5\n",
    "\n",
    "args.plot = 0\n",
    "args.ratio = True\n",
    "args.y_ratio = None\n",
    "args.fit_sigma_rnd = True\n",
    "\n",
    "args.label = current_sim.replace(\".fits\", \"\")\n",
    "\n",
    "out_file_elines = os.path.join(args.output_path, f\"elines_{args.label}\")\n",
    "out_file_single = os.path.join(args.output_path, f\"single_{args.label}\")\n",
    "out_file_coeffs = os.path.join(args.output_path, f\"coeffs_{args.label}\")\n",
    "out_file_fit = os.path.join(args.output_path, f\"output.{args.label}.fits.gz\")\n",
    "out_file_ps = os.path.join(args.output_path, args.label)"
   ]
  },
  {
   "cell_type": "code",
   "execution_count": 4,
   "metadata": {},
   "outputs": [
    {
     "name": "stderr",
     "output_type": "stream",
     "text": [
      "fitting spectra:   0%|          | 0/1801 [00:00<?, ?spectrum/s]/home/mejia/.cache/pypoetry/virtualenvs/lvm-dap-fAIgvtcU-py3.8/lib/python3.8/site-packages/numpy/core/fromnumeric.py:3440: RuntimeWarning: Mean of empty slice.\n",
      "  return _methods._mean(a, axis=axis, dtype=dtype,\n",
      "/home/mejia/.cache/pypoetry/virtualenvs/lvm-dap-fAIgvtcU-py3.8/lib/python3.8/site-packages/numpy/core/_methods.py:189: RuntimeWarning: invalid value encountered in double_scalars\n",
      "  ret = ret.dtype.type(ret / rcount)\n"
     ]
    },
    {
     "name": "stdout",
     "output_type": "stream",
     "text": [
      "3697-5176 wavelength range: Saving 22 EML systems to file _data/out/elines_DIG_bright_linear_full_900_flux\n",
      "5191-6435 wavelength range: Saving 25 EML systems to file _data/out/elines_DIG_bright_linear_full_900_flux\n",
      "6730-8236 wavelength range: Saving 23 EML systems to file _data/out/elines_DIG_bright_linear_full_900_flux\n",
      "8446-9399 wavelength range: Saving 7 EML systems to file _data/out/elines_DIG_bright_linear_full_900_flux\n",
      "-------------------------------------------------------------------------------------------------------------\n",
      "|  ID  |  TEFF   |  LOGG   |  META   | ALPHAM  | COEFF  | Min.Coeff | log(M/L) |  AV  | N.Coeff | Err.Coeff |\n",
      "-------------------------------------------------------------------------------------------------------------\n",
      "| 0028 |  3.8476 |  4.4402 |  0.0350 | -0.0250 | 0.3820 |    0.3820 |  13.1113 | 0.00 |  0.3820 |    0.0000 | 0.3820 | 0.0000\n",
      "| 0029 |  3.8901 |  4.7868 | -0.1984 | -0.0742 | 0.5802 |    0.5802 |  14.4435 | 0.00 |  0.5802 |    0.0000 | 0.5802 | 0.0000\n",
      "| 0035 |  3.9220 |  2.9127 |  0.4975 |  0.2669 | 0.0378 |    0.0378 |  12.0656 | 0.00 |  0.0378 |    0.0000 | 0.0378 | 0.0000\n",
      "-------------------------------------------------------------------------------------------------------------\n",
      "MSP CHISQ=42.843436503672 TEFF=7499.686250031637+-0.1356842111581618 LOGG=4.583500146896947+-8.292461591608682e-05 META=-0.08289894139098576+-1.4998064043592677e-06 ALPHAM=-0.04250854917586821+-7.690640341629326e-07 AV=0.0+-0.0 REDSHIFT=0+-0 SIGMA_DISP_km_s=0+-0 RMS=0.011063827169624634 MED_FLUX=1.6226775918323015 TEFF_mass=7741.437922222379+-0.14005797878573806 LOGG_mass=4.775988119357465+-9.41802798470247e-05 META_mass=-0.1912333397149232+-4.1341308555303867e-08 ALPHAM_mass=-0.07265780469156871+-7.4029452048247725e-09 MASS=9.432246948363217e+17 log_M/L=10.676246835057132 log_Mass=17.9746151626243\n",
      "--------------------------------------------------------------\n"
     ]
    },
    {
     "name": "stderr",
     "output_type": "stream",
     "text": [
      "fitting spectra:   0%|          | 1/1801 [04:07<123:53:27, 247.78s/spectrum]/home/mejia/.cache/pypoetry/virtualenvs/lvm-dap-fAIgvtcU-py3.8/lib/python3.8/site-packages/numpy/core/fromnumeric.py:3440: RuntimeWarning: Mean of empty slice.\n",
      "  return _methods._mean(a, axis=axis, dtype=dtype,\n",
      "/home/mejia/.cache/pypoetry/virtualenvs/lvm-dap-fAIgvtcU-py3.8/lib/python3.8/site-packages/numpy/core/_methods.py:189: RuntimeWarning: invalid value encountered in double_scalars\n",
      "  ret = ret.dtype.type(ret / rcount)\n",
      "fitting spectra:   0%|          | 2/1801 [08:41<131:33:07, 263.25s/spectrum]"
     ]
    },
    {
     "name": "stdout",
     "output_type": "stream",
     "text": [
      "3686-5176 wavelength range: Saving 53 EML systems to file _data/out/elines_DIG_bright_linear_full_900_flux\n",
      "5191-6716 wavelength range: Saving 22 EML systems to file _data/out/elines_DIG_bright_linear_full_900_flux\n",
      "6730-7452 wavelength range: Saving 8 EML systems to file _data/out/elines_DIG_bright_linear_full_900_flux\n",
      "8300-9531 wavelength range: Saving 20 EML systems to file _data/out/elines_DIG_bright_linear_full_900_flux\n",
      "-------------------------------------------------------------------------------------------------------------\n",
      "|  ID  |  TEFF   |  LOGG   |  META   | ALPHAM  | COEFF  | Min.Coeff | log(M/L) |  AV  | N.Coeff | Err.Coeff |\n",
      "-------------------------------------------------------------------------------------------------------------\n",
      "| 0035 |  3.9220 |  2.9127 |  0.4975 |  0.2669 | 0.0795 |    0.0797 |  12.0656 | 0.00 |  0.0795 |    0.0006 | 0.0801 | 0.0006\n",
      "| 0040 |  3.7782 |  4.3005 | -0.5922 |  0.0448 | 0.0634 |    0.0629 |  13.1688 | 0.00 |  0.0634 |    0.0019 | 0.0621 | 0.0019\n",
      "| 0054 |  3.5580 |  4.6137 | -0.1421 | -0.0031 | 0.1318 |    0.1325 |  14.4913 | 0.00 |  0.1318 |    0.0007 | 0.1337 | 0.0002\n",
      "| 0068 |  3.5334 |  0.5546 | -0.3881 |  0.0406 | 0.0228 |    0.0229 |  14.2118 | 0.00 |  0.0228 |    0.0001 | 0.0231 | 0.0000\n",
      "| 0075 |  3.6607 |  2.0839 |  0.1194 | -0.0040 | 0.4382 |    0.4399 |  12.0786 | 0.00 |  0.4382 |    0.0026 | 0.4431 | 0.0019\n",
      "| 0077 |  3.5927 |  1.1325 | -0.1682 |  0.0645 | 0.0710 |    0.0706 |  13.8827 | 0.00 |  0.0710 |    0.0019 | 0.0698 | 0.0019\n",
      "| 0080 |  3.5948 |  4.6425 |  0.1627 |  0.1314 | 0.0149 |    0.0149 |  13.9387 | 0.00 |  0.0149 |    0.0003 | 0.0149 | 0.0003\n",
      "| 0087 |  3.7006 |  3.0027 |  0.4294 |  0.2140 | 0.1247 |    0.1245 |  12.3724 | 0.00 |  0.1247 |    0.0022 | 0.1240 | 0.0022\n",
      "| 0089 |  3.7168 |  3.4819 | -0.4466 |  0.0795 | 0.0537 |    0.0521 |  14.7187 | 0.00 |  0.0537 |    0.0047 | 0.0492 | 0.0044\n",
      "-------------------------------------------------------------------------------------------------------------\n",
      "MSP CHISQ=1.297687254252545 TEFF=4727.722175675147+-113.59225231867211 LOGG=2.7493174496947854+-0.06605742677873404 META=0.04681652203434479+-0.0011248533619360838 ALPHAM=0.060300367558388315+-0.0014488276408972667 AV=0.0+-0.0 REDSHIFT=0+-0 SIGMA_DISP_km_s=0+-0 RMS=0.04034890626195952 MED_FLUX=1.0129933357237901 TEFF_mass=4157.328405352257+-99.88748907922398 LOGG_mass=3.777407522503771+-0.0736504421690441 META_mass=-0.256213316447507+-0.0002288431478925837 ALPHAM_mass=0.035781937907691824+-1.928445252082302e-05 MASS=2.8801377183263955e+17 log_M/L=10.365670577795628 log_Mass=17.459413254731185\n",
      "--------------------------------------------------------------\n"
     ]
    },
    {
     "name": "stderr",
     "output_type": "stream",
     "text": [
      "/home/mejia/.cache/pypoetry/virtualenvs/lvm-dap-fAIgvtcU-py3.8/lib/python3.8/site-packages/numpy/core/fromnumeric.py:3440: RuntimeWarning: Mean of empty slice.\n",
      "  return _methods._mean(a, axis=axis, dtype=dtype,\n",
      "/home/mejia/.cache/pypoetry/virtualenvs/lvm-dap-fAIgvtcU-py3.8/lib/python3.8/site-packages/numpy/core/_methods.py:189: RuntimeWarning: invalid value encountered in double_scalars\n",
      "  ret = ret.dtype.type(ret / rcount)\n",
      "fitting spectra:   0%|          | 3/1801 [13:16<133:58:37, 268.25s/spectrum]"
     ]
    },
    {
     "name": "stdout",
     "output_type": "stream",
     "text": [
      "3691-5184 wavelength range: Saving 57 EML systems to file _data/out/elines_DIG_bright_linear_full_900_flux\n",
      "5191-6716 wavelength range: Saving 34 EML systems to file _data/out/elines_DIG_bright_linear_full_900_flux\n",
      "6730-7377 wavelength range: Saving 3 EML systems to file _data/out/elines_DIG_bright_linear_full_900_flux\n",
      "8345-9682 wavelength range: Saving 21 EML systems to file _data/out/elines_DIG_bright_linear_full_900_flux\n",
      "-------------------------------------------------------------------------------------------------------------\n",
      "|  ID  |  TEFF   |  LOGG   |  META   | ALPHAM  | COEFF  | Min.Coeff | log(M/L) |  AV  | N.Coeff | Err.Coeff |\n",
      "-------------------------------------------------------------------------------------------------------------\n",
      "| 0035 |  3.9220 |  2.9127 |  0.4975 |  0.2669 | 0.0536 |    0.0538 |  12.0656 | 0.00 |  0.0536 |    0.0005 | 0.0540 | 0.0005\n",
      "| 0040 |  3.7782 |  4.3005 | -0.5922 |  0.0448 | 0.0452 |    0.0440 |  13.1688 | 0.00 |  0.0452 |    0.0035 | 0.0419 | 0.0033\n",
      "| 0054 |  3.5580 |  4.6137 | -0.1421 | -0.0031 | 0.0943 |    0.0948 |  14.4913 | 0.00 |  0.0943 |    0.0006 | 0.0957 | 0.0002\n",
      "| 0068 |  3.5334 |  0.5546 | -0.3881 |  0.0406 | 0.0181 |    0.0182 |  14.2118 | 0.00 |  0.0181 |    0.0001 | 0.0183 | 0.0000\n",
      "| 0075 |  3.6607 |  2.0839 |  0.1194 | -0.0040 | 0.4420 |    0.4440 |  12.0786 | 0.00 |  0.4420 |    0.0027 | 0.4477 | 0.0018\n",
      "| 0077 |  3.5927 |  1.1325 | -0.1682 |  0.0645 | 0.0105 |    0.0101 |  13.8827 | 0.00 |  0.0105 |    0.0012 | 0.0093 | 0.0011\n",
      "| 0080 |  3.5948 |  4.6425 |  0.1627 |  0.1314 | 0.0015 |    0.0015 |  13.9387 | 0.00 |  0.0015 |    0.0001 | 0.0014 | 0.0001\n",
      "| 0087 |  3.7006 |  3.0027 |  0.4294 |  0.2140 | 0.1337 |    0.1342 |  12.3724 | 0.00 |  0.1337 |    0.0008 | 0.1353 | 0.0006\n",
      "| 0089 |  3.7168 |  3.4819 | -0.4466 |  0.0795 | 0.2011 |    0.1995 |  14.7187 | 0.00 |  0.2011 |    0.0068 | 0.1965 | 0.0066\n",
      "-------------------------------------------------------------------------------------------------------------\n",
      "MSP CHISQ=5.201900324548038 TEFF=4828.900194638743+-125.93551606575822 LOGG=2.837259901655786+-0.07399444501346436 META=-0.0016586031882122876+-4.325561515802932e-05 ALPHAM=0.06047857777111753+-0.001577253742163659 AV=0.0+-0.0 REDSHIFT=0+-0 SIGMA_DISP_km_s=0+-0 RMS=0.02756441387026588 MED_FLUX=1.0831294073139452 TEFF_mass=4775.981385791822+-124.55541765139849 LOGG_mass=3.6415912332857823+-0.0829054704429853 META_mass=-0.3757738822041612+-0.0007246624821022604 ALPHAM_mass=0.0613323016005677+-2.9008276768868123e-05 MASS=5.303489175169547e+17 log_M/L=10.601745250829465 log_Mass=17.72456168676006\n",
      "--------------------------------------------------------------\n"
     ]
    },
    {
     "name": "stderr",
     "output_type": "stream",
     "text": [
      "/home/mejia/.cache/pypoetry/virtualenvs/lvm-dap-fAIgvtcU-py3.8/lib/python3.8/site-packages/numpy/core/fromnumeric.py:3440: RuntimeWarning: Mean of empty slice.\n",
      "  return _methods._mean(a, axis=axis, dtype=dtype,\n",
      "/home/mejia/.cache/pypoetry/virtualenvs/lvm-dap-fAIgvtcU-py3.8/lib/python3.8/site-packages/numpy/core/_methods.py:189: RuntimeWarning: invalid value encountered in double_scalars\n",
      "  ret = ret.dtype.type(ret / rcount)\n",
      "fitting spectra:   0%|          | 4/1801 [17:38<132:50:59, 266.14s/spectrum]"
     ]
    },
    {
     "name": "stdout",
     "output_type": "stream",
     "text": [
      "3697-5176 wavelength range: Saving 54 EML systems to file _data/out/elines_DIG_bright_linear_full_900_flux\n",
      "5191-6716 wavelength range: Saving 23 EML systems to file _data/out/elines_DIG_bright_linear_full_900_flux\n",
      "6730-7637 wavelength range: Saving 3 EML systems to file _data/out/elines_DIG_bright_linear_full_900_flux\n",
      "8300-9682 wavelength range: Saving 22 EML systems to file _data/out/elines_DIG_bright_linear_full_900_flux\n",
      "-------------------------------------------------------------------------------------------------------------\n",
      "|  ID  |  TEFF   |  LOGG   |  META   | ALPHAM  | COEFF  | Min.Coeff | log(M/L) |  AV  | N.Coeff | Err.Coeff |\n",
      "-------------------------------------------------------------------------------------------------------------\n",
      "| 0035 |  3.9220 |  2.9127 |  0.4975 |  0.2669 | 0.0359 |    0.0357 |  12.0656 | 0.00 |  0.0359 |    0.0016 | 0.0351 | 0.0016\n",
      "| 0040 |  3.7782 |  4.3005 | -0.5922 |  0.0448 | 0.0273 |    0.0268 |  13.1688 | 0.00 |  0.0273 |    0.0020 | 0.0258 | 0.0019\n",
      "| 0054 |  3.5580 |  4.6137 | -0.1421 | -0.0031 | 0.1221 |    0.1231 |  14.4913 | 0.00 |  0.1221 |    0.0013 | 0.1250 | 0.0008\n",
      "| 0061 |  3.5870 |  0.9341 | -0.2500 |  0.0797 | 0.0557 |    0.0553 |  13.5128 | 0.00 |  0.0557 |    0.0025 | 0.0545 | 0.0024\n",
      "| 0068 |  3.5334 |  0.5546 | -0.3881 |  0.0406 | 0.0103 |    0.0101 |  14.2118 | 0.00 |  0.0103 |    0.0006 | 0.0099 | 0.0006\n",
      "| 0072 |  3.5525 |  4.7937 | -0.2625 |  0.0162 | 0.0027 |    0.0025 |  14.8015 | 0.00 |  0.0027 |    0.0004 | 0.0023 | 0.0004\n",
      "| 0075 |  3.6607 |  2.0839 |  0.1194 | -0.0040 | 0.3587 |    0.3615 |  12.0786 | 0.00 |  0.3587 |    0.0041 | 0.3668 | 0.0028\n",
      "| 0080 |  3.5948 |  4.6425 |  0.1627 |  0.1314 | 0.0033 |    0.0033 |  13.9387 | 0.00 |  0.0033 |    0.0003 | 0.0031 | 0.0003\n",
      "| 0087 |  3.7006 |  3.0027 |  0.4294 |  0.2140 | 0.1704 |    0.1720 |  12.3724 | 0.00 |  0.1704 |    0.0018 | 0.1750 | 0.0008\n",
      "| 0089 |  3.7168 |  3.4819 | -0.4466 |  0.0795 | 0.1314 |    0.1302 |  14.7187 | 0.00 |  0.1314 |    0.0063 | 0.1280 | 0.0062\n",
      "| 0090 |  3.6687 |  2.2820 | -0.5364 |  0.0920 | 0.0600 |    0.0578 |  13.5451 | 0.00 |  0.0600 |    0.0070 | 0.0538 | 0.0066\n",
      "| 0092 |  3.7330 |  2.4575 | -0.1315 |  0.0299 | 0.0158 |    0.0152 |  11.9398 | 0.00 |  0.0158 |    0.0018 | 0.0142 | 0.0017\n",
      "| 0094 |  3.5317 |  0.8120 | -0.2795 |  0.0664 | 0.0065 |    0.0065 |  13.3101 | 0.00 |  0.0065 |    0.0003 | 0.0064 | 0.0003\n",
      "-------------------------------------------------------------------------------------------------------------\n",
      "MSP CHISQ=1.3379294731237672 TEFF=4675.032181450896+-220.77153721743989 LOGG=2.7686560057187184+-0.13074571867847978 META=-0.012417001675927505+-0.0005863746903182331 ALPHAM=0.06767255600638741+-0.0031957371921933512 AV=0.0+-0.0 REDSHIFT=0+-0 SIGMA_DISP_km_s=0+-0 RMS=0.0365090940940417 MED_FLUX=1.0700482130048807 TEFF_mass=4532.519370953364+-214.04157878601936 LOGG_mass=3.7628067966786465+-0.13136756557484244 META_mass=-0.3351976582002173+-0.001012040121029028 ALPHAM_mass=0.051447851100805096+-5.2291409283166215e-05 MASS=4.327925174724436e+17 log_M/L=10.518740308899302 log_Mass=17.636279743668478\n",
      "--------------------------------------------------------------\n"
     ]
    },
    {
     "name": "stderr",
     "output_type": "stream",
     "text": [
      "/home/mejia/.cache/pypoetry/virtualenvs/lvm-dap-fAIgvtcU-py3.8/lib/python3.8/site-packages/numpy/core/fromnumeric.py:3440: RuntimeWarning: Mean of empty slice.\n",
      "  return _methods._mean(a, axis=axis, dtype=dtype,\n",
      "/home/mejia/.cache/pypoetry/virtualenvs/lvm-dap-fAIgvtcU-py3.8/lib/python3.8/site-packages/numpy/core/_methods.py:189: RuntimeWarning: invalid value encountered in double_scalars\n",
      "  ret = ret.dtype.type(ret / rcount)\n",
      "fitting spectra:   0%|          | 5/1801 [22:08<133:19:34, 267.25s/spectrum]"
     ]
    },
    {
     "name": "stdout",
     "output_type": "stream",
     "text": [
      "3691-5176 wavelength range: Saving 55 EML systems to file _data/out/elines_DIG_bright_linear_full_900_flux\n",
      "5197-6716 wavelength range: Saving 24 EML systems to file _data/out/elines_DIG_bright_linear_full_900_flux\n",
      "6730-6730 wavelength range: Saving 2 EML systems to file _data/out/elines_DIG_bright_linear_full_900_flux\n",
      "8345-9682 wavelength range: Saving 23 EML systems to file _data/out/elines_DIG_bright_linear_full_900_flux\n",
      "-------------------------------------------------------------------------------------------------------------\n",
      "|  ID  |  TEFF   |  LOGG   |  META   | ALPHAM  | COEFF  | Min.Coeff | log(M/L) |  AV  | N.Coeff | Err.Coeff |\n",
      "-------------------------------------------------------------------------------------------------------------\n",
      "| 0035 |  3.9220 |  2.9127 |  0.4975 |  0.2669 | 0.0112 |    0.0107 |  12.0656 | 0.00 |  0.0112 |    0.0012 | 0.0100 | 0.0011\n",
      "| 0040 |  3.7782 |  4.3005 | -0.5922 |  0.0448 | 0.0108 |    0.0102 |  13.1688 | 0.00 |  0.0108 |    0.0015 | 0.0091 | 0.0014\n",
      "| 0054 |  3.5580 |  4.6137 | -0.1421 | -0.0031 | 0.1341 |    0.1346 |  14.4913 | 0.00 |  0.1341 |    0.0006 | 0.1356 | 0.0002\n",
      "| 0061 |  3.5870 |  0.9341 | -0.2500 |  0.0797 | 0.0009 |    0.0008 |  13.5128 | 0.00 |  0.0009 |    0.0001 | 0.0007 | 0.0001\n",
      "| 0068 |  3.5334 |  0.5546 | -0.3881 |  0.0406 | 0.0230 |    0.0231 |  14.2118 | 0.00 |  0.0230 |    0.0001 | 0.0232 | 0.0000\n",
      "| 0075 |  3.6607 |  2.0839 |  0.1194 | -0.0040 | 0.3878 |    0.3891 |  12.0786 | 0.00 |  0.3878 |    0.0017 | 0.3913 | 0.0012\n",
      "| 0077 |  3.5927 |  1.1325 | -0.1682 |  0.0645 | 0.0108 |    0.0103 |  13.8827 | 0.00 |  0.0108 |    0.0013 | 0.0095 | 0.0012\n",
      "| 0080 |  3.5948 |  4.6425 |  0.1627 |  0.1314 | 0.0094 |    0.0093 |  13.9387 | 0.00 |  0.0094 |    0.0003 | 0.0092 | 0.0002\n",
      "| 0087 |  3.7006 |  3.0027 |  0.4294 |  0.2140 | 0.1702 |    0.1707 |  12.3724 | 0.00 |  0.1702 |    0.0008 | 0.1716 | 0.0005\n",
      "| 0089 |  3.7168 |  3.4819 | -0.4466 |  0.0795 | 0.2419 |    0.2411 |  14.7187 | 0.00 |  0.2419 |    0.0043 | 0.2397 | 0.0042\n",
      "-------------------------------------------------------------------------------------------------------------\n",
      "MSP CHISQ=0.8035690258977265 TEFF=4646.404602209732+-87.44861532775167 LOGG=2.9283578983188945+-0.05511376328920768 META=-0.017979485751480506+-0.00033838661672387876 ALPHAM=0.06006931626810125+-0.0011305469456603147 AV=0.0+-0.0 REDSHIFT=0+-0 SIGMA_DISP_km_s=0+-0 RMS=0.033007272676469725 MED_FLUX=0.9545438885688782 TEFF_mass=4717.872301162852+-88.79368788366699 LOGG_mass=3.678355550275311+-0.05722747118999131 META_mass=-0.36521377530317156+-0.00032230530138658143 ALPHAM_mass=0.05927513909373894+-2.556416099166499e-05 MASS=5.833288946460663e+17 log_M/L=10.697981499198749 log_Mass=17.765913489329968\n",
      "--------------------------------------------------------------\n"
     ]
    },
    {
     "name": "stderr",
     "output_type": "stream",
     "text": [
      "/home/mejia/.cache/pypoetry/virtualenvs/lvm-dap-fAIgvtcU-py3.8/lib/python3.8/site-packages/numpy/core/fromnumeric.py:3440: RuntimeWarning: Mean of empty slice.\n",
      "  return _methods._mean(a, axis=axis, dtype=dtype,\n",
      "/home/mejia/.cache/pypoetry/virtualenvs/lvm-dap-fAIgvtcU-py3.8/lib/python3.8/site-packages/numpy/core/_methods.py:189: RuntimeWarning: invalid value encountered in double_scalars\n",
      "  ret = ret.dtype.type(ret / rcount)\n",
      "fitting spectra:   0%|          | 6/1801 [26:53<136:23:41, 273.55s/spectrum]"
     ]
    },
    {
     "name": "stdout",
     "output_type": "stream",
     "text": [
      "3691-5184 wavelength range: Saving 58 EML systems to file _data/out/elines_DIG_bright_linear_full_900_flux\n",
      "5191-6716 wavelength range: Saving 30 EML systems to file _data/out/elines_DIG_bright_linear_full_900_flux\n",
      "6730-8229 wavelength range: Saving 13 EML systems to file _data/out/elines_DIG_bright_linear_full_900_flux\n",
      "8357-9682 wavelength range: Saving 21 EML systems to file _data/out/elines_DIG_bright_linear_full_900_flux\n",
      "-------------------------------------------------------------------------------------------------------------\n",
      "|  ID  |  TEFF   |  LOGG   |  META   | ALPHAM  | COEFF  | Min.Coeff | log(M/L) |  AV  | N.Coeff | Err.Coeff |\n",
      "-------------------------------------------------------------------------------------------------------------\n",
      "| 0035 |  3.9220 |  2.9127 |  0.4975 |  0.2669 | 0.0024 |    0.0023 |  12.0656 | 0.00 |  0.0024 |    0.0002 | 0.0022 | 0.0002\n",
      "| 0054 |  3.5580 |  4.6137 | -0.1421 | -0.0031 | 0.0047 |    0.0047 |  14.4913 | 0.00 |  0.0047 |    0.0002 | 0.0046 | 0.0001\n",
      "| 0055 |  3.5675 |  4.5195 | -0.2704 |  0.0382 | 0.0013 |    0.0012 |  14.9067 | 0.00 |  0.0013 |    0.0001 | 0.0011 | 0.0001\n",
      "| 0061 |  3.5870 |  0.9341 | -0.2500 |  0.0797 | 0.0097 |    0.0093 |  13.5128 | 0.00 |  0.0097 |    0.0009 | 0.0087 | 0.0008\n",
      "| 0067 |  3.5661 |  4.1710 |  0.0740 | -0.0205 | 0.0001 |    0.0001 |  15.6416 | 0.00 |  0.0001 |    0.0000 | 0.0001 | 0.0000\n",
      "| 0075 |  3.6607 |  2.0839 |  0.1194 | -0.0040 | 0.2250 |    0.2255 |  12.0786 | 0.00 |  0.2250 |    0.0009 | 0.2262 | 0.0007\n",
      "| 0076 |  3.6375 |  2.4336 |  0.1147 |  0.1366 | 0.0023 |    0.0022 |  12.1601 | 0.00 |  0.0023 |    0.0003 | 0.0020 | 0.0003\n",
      "| 0077 |  3.5927 |  1.1325 | -0.1682 |  0.0645 | 0.0385 |    0.0383 |  13.8827 | 0.00 |  0.0385 |    0.0006 | 0.0380 | 0.0006\n",
      "| 0079 |  3.6249 |  1.5016 | -0.3838 |  0.0606 | 0.2476 |    0.2481 |  13.2314 | 0.00 |  0.2476 |    0.0010 | 0.2489 | 0.0008\n",
      "| 0086 |  3.6552 |  4.2152 |  0.3023 |  0.1461 | 0.1698 |    0.1702 |  13.2321 | 0.00 |  0.1698 |    0.0006 | 0.1709 | 0.0004\n",
      "| 0087 |  3.7006 |  3.0027 |  0.4294 |  0.2140 | 0.0108 |    0.0105 |  12.3724 | 0.00 |  0.0108 |    0.0008 | 0.0099 | 0.0008\n",
      "| 0090 |  3.6687 |  2.2820 | -0.5364 |  0.0920 | 0.1820 |    0.1820 |  13.5451 | 0.00 |  0.1820 |    0.0016 | 0.1818 | 0.0016\n",
      "| 0091 |  3.7034 |  3.5833 | -0.2093 |  0.1572 | 0.1018 |    0.1016 |  14.6761 | 0.00 |  0.1018 |    0.0011 | 0.1013 | 0.0011\n",
      "| 0094 |  3.5317 |  0.8120 | -0.2795 |  0.0664 | 0.0041 |    0.0041 |  13.3101 | 0.00 |  0.0041 |    0.0000 | 0.0041 | 0.0000\n",
      "-------------------------------------------------------------------------------------------------------------\n",
      "MSP CHISQ=0.7113150308509878 TEFF=4500.28725615562+-58.33503468178604 LOGG=2.4651123622416575+-0.03195405247724345 META=-0.1407182144109536+-0.0018240617655670207 ALPHAM=0.07846165463838717+-0.0010170602639331518 AV=0.0+-0.0 REDSHIFT=0+-0 SIGMA_DISP_km_s=0+-0 RMS=0.025480416255661796 MED_FLUX=0.9916636347770691 TEFF_mass=4804.111324988665+-62.27335830063819 LOGG_mass=3.272048459681968+-0.028098937119487043 META_mass=-0.2236236169151653+-0.00010175995882695415 ALPHAM_mass=0.13334773010277529+-4.8605282187131605e-05 MASS=2.370377876447594e+17 log_M/L=10.29031710882554 log_Mass=17.374817585071064\n",
      "--------------------------------------------------------------\n"
     ]
    },
    {
     "name": "stderr",
     "output_type": "stream",
     "text": [
      "/home/mejia/.cache/pypoetry/virtualenvs/lvm-dap-fAIgvtcU-py3.8/lib/python3.8/site-packages/numpy/core/fromnumeric.py:3440: RuntimeWarning: Mean of empty slice.\n",
      "  return _methods._mean(a, axis=axis, dtype=dtype,\n",
      "/home/mejia/.cache/pypoetry/virtualenvs/lvm-dap-fAIgvtcU-py3.8/lib/python3.8/site-packages/numpy/core/_methods.py:189: RuntimeWarning: invalid value encountered in double_scalars\n",
      "  ret = ret.dtype.type(ret / rcount)\n",
      "fitting spectra:   0%|          | 7/1801 [31:34<137:30:11, 275.93s/spectrum]"
     ]
    },
    {
     "name": "stdout",
     "output_type": "stream",
     "text": [
      "3686-5184 wavelength range: Saving 60 EML systems to file _data/out/elines_DIG_bright_linear_full_900_flux\n",
      "5191-6716 wavelength range: Saving 31 EML systems to file _data/out/elines_DIG_bright_linear_full_900_flux\n",
      "6730-8236 wavelength range: Saving 15 EML systems to file _data/out/elines_DIG_bright_linear_full_900_flux\n",
      "8345-9682 wavelength range: Saving 21 EML systems to file _data/out/elines_DIG_bright_linear_full_900_flux\n",
      "-------------------------------------------------------------------------------------------------------------\n",
      "|  ID  |  TEFF   |  LOGG   |  META   | ALPHAM  | COEFF  | Min.Coeff | log(M/L) |  AV  | N.Coeff | Err.Coeff |\n",
      "-------------------------------------------------------------------------------------------------------------\n",
      "| 0027 |  3.8020 |  3.4271 |  0.4132 |  0.1126 | 0.0047 |    0.0046 |  11.2388 | 0.00 |  0.0047 |    0.0003 | 0.0044 | 0.0003\n",
      "| 0054 |  3.5580 |  4.6137 | -0.1421 | -0.0031 | 0.0518 |    0.0520 |  14.4913 | 0.00 |  0.0518 |    0.0005 | 0.0524 | 0.0004\n",
      "| 0068 |  3.5334 |  0.5546 | -0.3881 |  0.0406 | 0.0162 |    0.0163 |  14.2118 | 0.00 |  0.0162 |    0.0001 | 0.0165 | 0.0000\n",
      "| 0075 |  3.6607 |  2.0839 |  0.1194 | -0.0040 | 0.3558 |    0.3569 |  12.0786 | 0.00 |  0.3558 |    0.0040 | 0.3591 | 0.0038\n",
      "| 0087 |  3.7006 |  3.0027 |  0.4294 |  0.2140 | 0.1410 |    0.1420 |  12.3724 | 0.00 |  0.1410 |    0.0011 | 0.1438 | 0.0003\n",
      "| 0089 |  3.7168 |  3.4819 | -0.4466 |  0.0795 | 0.2858 |    0.2861 |  14.7187 | 0.00 |  0.2858 |    0.0046 | 0.2867 | 0.0046\n",
      "| 0090 |  3.6687 |  2.2820 | -0.5364 |  0.0920 | 0.1384 |    0.1359 |  13.5451 | 0.00 |  0.1384 |    0.0087 | 0.1313 | 0.0083\n",
      "| 0092 |  3.7330 |  2.4575 | -0.1315 |  0.0299 | 0.0064 |    0.0063 |  11.9398 | 0.00 |  0.0064 |    0.0006 | 0.0059 | 0.0005\n",
      "-------------------------------------------------------------------------------------------------------------\n",
      "MSP CHISQ=1.4331820045898835 TEFF=4755.586923349895+-149.03169523379879 LOGG=2.755387254589325+-0.08634897021034574 META=-0.11142237116613068+-0.0034917803269088185 ALPHAM=0.06540815237868923+-0.0020497759768083787 AV=0.0+-0.0 REDSHIFT=0+-0 SIGMA_DISP_km_s=0+-0 RMS=0.030268766059250756 MED_FLUX=1.03242027759552 TEFF_mass=4986.7852520030065+-156.27704252946404 LOGG_mass=3.504153566063115+-0.07840740763915031 META_mass=-0.4170457742872343+-0.00104108888567524 ALPHAM_mass=0.07171792447518496+-4.406125873971496e-05 MASS=6.282736871107334e+17 log_M/L=10.69615625673765 log_Mass=17.798148871299723\n",
      "--------------------------------------------------------------\n"
     ]
    },
    {
     "name": "stderr",
     "output_type": "stream",
     "text": [
      "/home/mejia/.cache/pypoetry/virtualenvs/lvm-dap-fAIgvtcU-py3.8/lib/python3.8/site-packages/numpy/core/fromnumeric.py:3440: RuntimeWarning: Mean of empty slice.\n",
      "  return _methods._mean(a, axis=axis, dtype=dtype,\n",
      "/home/mejia/.cache/pypoetry/virtualenvs/lvm-dap-fAIgvtcU-py3.8/lib/python3.8/site-packages/numpy/core/_methods.py:189: RuntimeWarning: invalid value encountered in double_scalars\n",
      "  ret = ret.dtype.type(ret / rcount)\n",
      "fitting spectra:   0%|          | 8/1801 [36:14<138:02:45, 277.17s/spectrum]"
     ]
    },
    {
     "name": "stdout",
     "output_type": "stream",
     "text": [
      "3686-5176 wavelength range: Saving 43 EML systems to file _data/out/elines_DIG_bright_linear_full_900_flux\n",
      "5220-6716 wavelength range: Saving 15 EML systems to file _data/out/elines_DIG_bright_linear_full_900_flux\n",
      "6730-6730 wavelength range: Saving 2 EML systems to file _data/out/elines_DIG_bright_linear_full_900_flux\n",
      "8359-9682 wavelength range: Saving 23 EML systems to file _data/out/elines_DIG_bright_linear_full_900_flux\n",
      "-------------------------------------------------------------------------------------------------------------\n",
      "|  ID  |  TEFF   |  LOGG   |  META   | ALPHAM  | COEFF  | Min.Coeff | log(M/L) |  AV  | N.Coeff | Err.Coeff |\n",
      "-------------------------------------------------------------------------------------------------------------\n",
      "| 0020 |  3.9178 |  2.8502 | -0.1434 |  0.4301 | 0.0014 |    0.0014 |  12.4419 | 0.00 |  0.0014 |    0.0001 | 0.0013 | 0.0001\n",
      "| 0035 |  3.9220 |  2.9127 |  0.4975 |  0.2669 | 0.1082 |    0.1087 |  12.0656 | 0.00 |  0.1082 |    0.0013 | 0.1097 | 0.0013\n",
      "| 0040 |  3.7782 |  4.3005 | -0.5922 |  0.0448 | 0.0397 |    0.0393 |  13.1688 | 0.00 |  0.0397 |    0.0016 | 0.0388 | 0.0016\n",
      "| 0042 |  3.8211 |  3.9899 | -0.3000 |  0.0918 | 0.0030 |    0.0028 |  13.3216 | 0.00 |  0.0030 |    0.0004 | 0.0025 | 0.0004\n",
      "| 0044 |  3.6175 |  2.6876 | -0.8062 |  0.3869 | 0.0003 |    0.0003 |  12.9288 | 0.00 |  0.0003 |    0.0000 | 0.0003 | 0.0000\n",
      "| 0045 |  3.7251 |  3.1927 | -1.9643 |  0.3019 | 0.0023 |    0.0023 |  13.7054 | 0.00 |  0.0023 |    0.0001 | 0.0023 | 0.0001\n",
      "| 0054 |  3.5580 |  4.6137 | -0.1421 | -0.0031 | 0.3173 |    0.3197 |  14.4913 | 0.00 |  0.3173 |    0.0029 | 0.3234 | 0.0024\n",
      "| 0056 |  3.5676 |  4.4046 | -0.1537 |  0.0240 | 0.1021 |    0.1013 |  14.5276 | 0.00 |  0.1021 |    0.0040 | 0.1000 | 0.0039\n",
      "| 0068 |  3.5334 |  0.5546 | -0.3881 |  0.0406 | 0.0557 |    0.0563 |  14.2118 | 0.00 |  0.0557 |    0.0004 | 0.0572 | 0.0001\n",
      "| 0074 |  3.6611 |  2.3618 | -0.0147 |  0.0420 | 0.0155 |    0.0146 |  12.4957 | 0.00 |  0.0155 |    0.0021 | 0.0133 | 0.0020\n",
      "| 0075 |  3.6607 |  2.0839 |  0.1194 | -0.0040 | 0.0385 |    0.0379 |  12.0786 | 0.00 |  0.0385 |    0.0022 | 0.0369 | 0.0021\n",
      "| 0077 |  3.5927 |  1.1325 | -0.1682 |  0.0645 | 0.0247 |    0.0241 |  13.8827 | 0.00 |  0.0247 |    0.0018 | 0.0231 | 0.0018\n",
      "| 0078 |  3.6176 |  2.3510 | -0.5391 |  0.1008 | 0.0027 |    0.0026 |  12.7842 | 0.00 |  0.0027 |    0.0003 | 0.0024 | 0.0003\n",
      "| 0082 |  3.6875 |  3.4132 |  0.3526 | -0.0964 | 0.0037 |    0.0037 |  13.5051 | 0.00 |  0.0037 |    0.0001 | 0.0036 | 0.0001\n",
      "| 0083 |  3.7750 |  3.8381 | -0.2731 |  0.4494 | 0.0018 |    0.0017 |  13.9321 | 0.00 |  0.0018 |    0.0001 | 0.0017 | 0.0001\n",
      "| 0086 |  3.6552 |  4.2152 |  0.3023 |  0.1461 | 0.0183 |    0.0175 |  13.2321 | 0.00 |  0.0183 |    0.0021 | 0.0162 | 0.0020\n",
      "| 0087 |  3.7006 |  3.0027 |  0.4294 |  0.2140 | 0.2355 |    0.2376 |  12.3724 | 0.00 |  0.2355 |    0.0019 | 0.2408 | 0.0013\n",
      "| 0089 |  3.7168 |  3.4819 | -0.4466 |  0.0795 | 0.0294 |    0.0283 |  14.7187 | 0.00 |  0.0294 |    0.0029 | 0.0266 | 0.0028\n",
      "-------------------------------------------------------------------------------------------------------------\n",
      "MSP CHISQ=0.2669035362754548 TEFF=4517.120686920696+-173.23631396141718 LOGG=3.5113600216161505+-0.13466433803674538 META=0.03522430885931975+-0.0013508891728962955 ALPHAM=0.09427438550029366+-0.003615521518461318 AV=0.0+-0.0 REDSHIFT=0+-0 SIGMA_DISP_km_s=0+-0 RMS=0.05455984924852802 MED_FLUX=0.8702183365821838 TEFF_mass=3771.8336475969368+-144.65377466608564 LOGG_mass=4.1786761759575874+-0.14706355522254272 META_mass=-0.18709343388367594+-0.00014352916588642863 ALPHAM_mass=0.015897504731908027+-1.2589162424285843e-05 MASS=4.9105480751926125e+17 log_M/L=10.663365648346106 log_Mass=17.69112996722441\n",
      "--------------------------------------------------------------\n"
     ]
    },
    {
     "name": "stderr",
     "output_type": "stream",
     "text": [
      "fitting spectra:   0%|          | 9/1801 [41:07<140:20:38, 281.94s/spectrum]"
     ]
    },
    {
     "name": "stdout",
     "output_type": "stream",
     "text": [
      "3691-5006 wavelength range: Saving 37 EML systems to file _data/out/elines_DIG_bright_linear_full_900_flux\n",
      "5270-6716 wavelength range: Saving 10 EML systems to file _data/out/elines_DIG_bright_linear_full_900_flux\n",
      "6730-7411 wavelength range: Saving 4 EML systems to file _data/out/elines_DIG_bright_linear_full_900_flux\n",
      "8300-9682 wavelength range: Saving 22 EML systems to file _data/out/elines_DIG_bright_linear_full_900_flux\n",
      "-------------------------------------------------------------------------------------------------------------\n",
      "|  ID  |  TEFF   |  LOGG   |  META   | ALPHAM  | COEFF  | Min.Coeff | log(M/L) |  AV  | N.Coeff | Err.Coeff |\n",
      "-------------------------------------------------------------------------------------------------------------\n",
      "| 0003 |  3.9973 |  3.5769 | -1.4049 |  0.2428 | 0.0045 |    0.0042 |  11.7437 | 0.00 |  0.0045 |    0.0009 | 0.0036 | 0.0008\n",
      "| 0004 |  4.0082 |  4.0227 | -1.5766 |  0.4497 | 0.0503 |    0.0501 |  11.5772 | 0.00 |  0.0503 |    0.0016 | 0.0498 | 0.0016\n",
      "| 0005 |  3.9837 |  3.4683 | -2.0871 |  0.2826 | 0.0132 |    0.0127 |  11.7220 | 0.00 |  0.0132 |    0.0015 | 0.0118 | 0.0014\n",
      "| 0014 |  3.9545 |  2.8745 | -0.5306 |  0.0525 | 0.0006 |    0.0006 |  12.7921 | 0.00 |  0.0006 |    0.0001 | 0.0005 | 0.0001\n",
      "| 0017 |  3.9354 |  2.8466 | -0.7919 |  0.1576 | 0.0045 |    0.0042 |  11.8734 | 0.00 |  0.0045 |    0.0009 | 0.0036 | 0.0008\n",
      "| 0020 |  3.9178 |  2.8502 | -0.1434 |  0.4301 | 0.0690 |    0.0694 |  12.4419 | 0.00 |  0.0690 |    0.0009 | 0.0700 | 0.0009\n",
      "| 0035 |  3.9220 |  2.9127 |  0.4975 |  0.2669 | 0.0040 |    0.0038 |  12.0656 | 0.00 |  0.0040 |    0.0005 | 0.0035 | 0.0004\n",
      "| 0043 |  3.6841 |  2.6831 | -0.5948 |  0.1234 | 0.0001 |    0.0001 |  13.1753 | 0.00 |  0.0001 |    0.0000 | 0.0001 | 0.0000\n",
      "| 0045 |  3.7251 |  3.1927 | -1.9643 |  0.3019 | 0.0095 |    0.0095 |  13.7054 | 0.00 |  0.0095 |    0.0002 | 0.0095 | 0.0002\n",
      "| 0054 |  3.5580 |  4.6137 | -0.1421 | -0.0031 | 0.0431 |    0.0401 |  14.4913 | 0.00 |  0.0431 |    0.0083 | 0.0347 | 0.0078\n",
      "| 0068 |  3.5334 |  0.5546 | -0.3881 |  0.0406 | 0.1194 |    0.1202 |  14.2118 | 0.00 |  0.1194 |    0.0012 | 0.1218 | 0.0008\n",
      "| 0072 |  3.5525 |  4.7937 | -0.2625 |  0.0162 | 0.6811 |    0.6845 |  14.8015 | 0.00 |  0.6811 |    0.0088 | 0.6906 | 0.0081\n",
      "| 0083 |  3.7750 |  3.8381 | -0.2731 |  0.4494 | 0.0007 |    0.0007 |  13.9321 | 0.00 |  0.0007 |    0.0001 | 0.0006 | 0.0001\n",
      "-------------------------------------------------------------------------------------------------------------\n",
      "MSP CHISQ=0.5143872937496722 TEFF=4088.364113800499+-161.83890157009418 LOGG=4.050455761139679+-0.16033829008242123 META=-0.3750382193280727+-0.014845980390537479 ALPHAM=0.0778645830555362+-0.0030822887204161255 AV=0.0+-0.0 REDSHIFT=0+-0 SIGMA_DISP_km_s=0+-0 RMS=0.17086175388965896 MED_FLUX=0.8791142106056213 TEFF_mass=3566.768989839578+-141.19142997107315 LOGG_mass=4.608508904362076+-0.20702211971061354 META_mass=-0.26607060470697086+-0.001384419203452612 ALPHAM_mass=0.017190869858691966+-1.729061314455413e-05 MASS=1.430053793717074e+18 log_M/L=11.123170985394776 log_Mass=18.15535237444064\n",
      "--------------------------------------------------------------\n"
     ]
    },
    {
     "name": "stderr",
     "output_type": "stream",
     "text": [
      "/home/mejia/.cache/pypoetry/virtualenvs/lvm-dap-fAIgvtcU-py3.8/lib/python3.8/site-packages/numpy/core/fromnumeric.py:3440: RuntimeWarning: Mean of empty slice.\n",
      "  return _methods._mean(a, axis=axis, dtype=dtype,\n",
      "/home/mejia/.cache/pypoetry/virtualenvs/lvm-dap-fAIgvtcU-py3.8/lib/python3.8/site-packages/numpy/core/_methods.py:189: RuntimeWarning: invalid value encountered in double_scalars\n",
      "  ret = ret.dtype.type(ret / rcount)\n"
     ]
    },
    {
     "name": "stdout",
     "output_type": "stream",
     "text": [
      "3697-5176 wavelength range: Saving 52 EML systems to file _data/out/elines_DIG_bright_linear_full_900_flux\n",
      "5191-6716 wavelength range: Saving 17 EML systems to file _data/out/elines_DIG_bright_linear_full_900_flux\n",
      "6730-8229 wavelength range: Saving 14 EML systems to file _data/out/elines_DIG_bright_linear_full_900_flux\n",
      "8357-9682 wavelength range: Saving 18 EML systems to file _data/out/elines_DIG_bright_linear_full_900_flux\n",
      "-------------------------------------------------------------------------------------------------------------\n",
      "|  ID  |  TEFF   |  LOGG   |  META   | ALPHAM  | COEFF  | Min.Coeff | log(M/L) |  AV  | N.Coeff | Err.Coeff |\n",
      "-------------------------------------------------------------------------------------------------------------\n",
      "| 0040 |  3.7782 |  4.3005 | -0.5922 |  0.0448 | 0.0305 |    0.0299 |  13.1688 | 0.00 |  0.0305 |    0.0017 | 0.0289 | 0.0016\n",
      "| 0075 |  3.6607 |  2.0839 |  0.1194 | -0.0040 | 0.4889 |    0.4907 |  12.0786 | 0.00 |  0.4889 |    0.0025 | 0.4940 | 0.0017\n",
      "| 0087 |  3.7006 |  3.0027 |  0.4294 |  0.2140 | 0.1866 |    0.1873 |  12.3724 | 0.00 |  0.1866 |    0.0010 | 0.1884 | 0.0007\n",
      "| 0089 |  3.7168 |  3.4819 | -0.4466 |  0.0795 | 0.0927 |    0.0913 |  14.7187 | 0.00 |  0.0927 |    0.0045 | 0.0888 | 0.0042\n",
      "| 0090 |  3.6687 |  2.2820 | -0.5364 |  0.0920 | 0.2013 |    0.2008 |  13.5451 | 0.00 |  0.2013 |    0.0035 | 0.2000 | 0.0034\n",
      "-------------------------------------------------------------------------------------------------------------\n",
      "MSP CHISQ=0.4566409357648706 TEFF=4770.1224495526285+-99.89590573930057 LOGG=2.492350415749396+-0.052194803138514545 META=-0.028919412478755277+-0.0006056303446224177 ALPHAM=0.06521137590100468+-0.0013656566532684745 AV=0.0+-0.0 REDSHIFT=0+-0 SIGMA_DISP_km_s=0+-0 RMS=0.03621126335085441 MED_FLUX=1.0048134326934814 TEFF_mass=5135.527023409055+-107.54820843230466 LOGG_mass=3.321659648075973+-0.055897176906853266 META_mass=-0.44631666902491673+-0.0008027223764166562 ALPHAM_mass=0.08098159952171002+-3.323228730559794e-05 MASS=2.006200279741466e+17 log_M/L=10.212152765701624 log_Mass=17.302374286632936\n",
      "--------------------------------------------------------------\n"
     ]
    },
    {
     "name": "stderr",
     "output_type": "stream",
     "text": [
      "fitting spectra:   1%|          | 10/1801 [45:59<141:52:06, 285.16s/spectrum]/home/mejia/.cache/pypoetry/virtualenvs/lvm-dap-fAIgvtcU-py3.8/lib/python3.8/site-packages/numpy/core/fromnumeric.py:3440: RuntimeWarning: Mean of empty slice.\n",
      "  return _methods._mean(a, axis=axis, dtype=dtype,\n",
      "/home/mejia/.cache/pypoetry/virtualenvs/lvm-dap-fAIgvtcU-py3.8/lib/python3.8/site-packages/numpy/core/_methods.py:189: RuntimeWarning: invalid value encountered in double_scalars\n",
      "  ret = ret.dtype.type(ret / rcount)\n",
      "fitting spectra:   1%|          | 11/1801 [50:48<142:23:48, 286.38s/spectrum]"
     ]
    },
    {
     "name": "stdout",
     "output_type": "stream",
     "text": [
      "3686-5184 wavelength range: Saving 57 EML systems to file _data/out/elines_DIG_bright_linear_full_900_flux\n",
      "5200-6716 wavelength range: Saving 24 EML systems to file _data/out/elines_DIG_bright_linear_full_900_flux\n",
      "6730-6730 wavelength range: Saving 2 EML systems to file _data/out/elines_DIG_bright_linear_full_900_flux\n",
      "8345-9682 wavelength range: Saving 22 EML systems to file _data/out/elines_DIG_bright_linear_full_900_flux\n",
      "-------------------------------------------------------------------------------------------------------------\n",
      "|  ID  |  TEFF   |  LOGG   |  META   | ALPHAM  | COEFF  | Min.Coeff | log(M/L) |  AV  | N.Coeff | Err.Coeff |\n",
      "-------------------------------------------------------------------------------------------------------------\n",
      "| 0035 |  3.9220 |  2.9127 |  0.4975 |  0.2669 | 0.0658 |    0.0658 |  12.0656 | 0.00 |  0.0658 |    0.0002 | 0.0659 | 0.0002\n",
      "| 0054 |  3.5580 |  4.6137 | -0.1421 | -0.0031 | 0.0756 |    0.0755 |  14.4913 | 0.00 |  0.0756 |    0.0007 | 0.0752 | 0.0007\n",
      "| 0059 |  3.6092 |  1.3838 |  0.1434 |  0.0343 | 0.0054 |    0.0050 |  13.0951 | 0.00 |  0.0054 |    0.0008 | 0.0045 | 0.0007\n",
      "| 0072 |  3.5525 |  4.7937 | -0.2625 |  0.0162 | 0.0216 |    0.0215 |  14.8015 | 0.00 |  0.0216 |    0.0005 | 0.0211 | 0.0005\n",
      "| 0075 |  3.6607 |  2.0839 |  0.1194 | -0.0040 | 0.2297 |    0.2299 |  12.0786 | 0.00 |  0.2297 |    0.0005 | 0.2304 | 0.0004\n",
      "| 0077 |  3.5927 |  1.1325 | -0.1682 |  0.0645 | 0.1337 |    0.1336 |  13.8827 | 0.00 |  0.1337 |    0.0007 | 0.1335 | 0.0007\n",
      "| 0080 |  3.5948 |  4.6425 |  0.1627 |  0.1314 | 0.0078 |    0.0078 |  13.9387 | 0.00 |  0.0078 |    0.0001 | 0.0077 | 0.0001\n",
      "| 0086 |  3.6552 |  4.2152 |  0.3023 |  0.1461 | 0.1578 |    0.1579 |  13.2321 | 0.00 |  0.1578 |    0.0005 | 0.1581 | 0.0004\n",
      "| 0091 |  3.7034 |  3.5833 | -0.2093 |  0.1572 | 0.3002 |    0.3006 |  14.6761 | 0.00 |  0.3002 |    0.0006 | 0.3012 | 0.0005\n",
      "| 0093 |  3.5513 |  0.6333 | -1.4135 |  0.7570 | 0.0005 |    0.0005 |  14.1895 | 0.00 |  0.0005 |    0.0000 | 0.0005 | 0.0000\n",
      "| 0094 |  3.5317 |  0.8120 | -0.2795 |  0.0664 | 0.0019 |    0.0019 |  13.3101 | 0.00 |  0.0019 |    0.0000 | 0.0019 | 0.0000\n",
      "-------------------------------------------------------------------------------------------------------------\n",
      "MSP CHISQ=17.474406090655176 TEFF=4672.384791027623+-33.87858865601377 LOGG=3.0606762701110872+-0.022192391466437977 META=0.006912611305788345+-5.012205232270842e-05 ALPHAM=0.0973538573775378+-0.0007058946203453506 AV=0.0+-0.0 REDSHIFT=0+-0 SIGMA_DISP_km_s=0+-0 RMS=0.029636848183378146 MED_FLUX=1.1267011165618896 TEFF_mass=4657.100546006791+-33.767765452631025 LOGG_mass=3.672083791060641+-0.022155196903737285 META_mass=-0.1939588850217517+-4.120521257941851e-06 ALPHAM_mass=0.12271058263929052+-1.711026096274874e-05 MASS=7.636645755559095e+17 log_M/L=10.742957831856849 log_Mass=17.882902645260952\n",
      "--------------------------------------------------------------\n"
     ]
    },
    {
     "name": "stderr",
     "output_type": "stream",
     "text": [
      "/home/mejia/.cache/pypoetry/virtualenvs/lvm-dap-fAIgvtcU-py3.8/lib/python3.8/site-packages/numpy/core/fromnumeric.py:3440: RuntimeWarning: Mean of empty slice.\n",
      "  return _methods._mean(a, axis=axis, dtype=dtype,\n",
      "/home/mejia/.cache/pypoetry/virtualenvs/lvm-dap-fAIgvtcU-py3.8/lib/python3.8/site-packages/numpy/core/_methods.py:189: RuntimeWarning: invalid value encountered in double_scalars\n",
      "  ret = ret.dtype.type(ret / rcount)\n"
     ]
    },
    {
     "name": "stdout",
     "output_type": "stream",
     "text": [
      "3686-5184 wavelength range: Saving 54 EML systems to file _data/out/elines_DIG_bright_linear_full_900_flux\n",
      "5191-6716 wavelength range: Saving 27 EML systems to file _data/out/elines_DIG_bright_linear_full_900_flux\n",
      "6730-7135 wavelength range: Saving 3 EML systems to file _data/out/elines_DIG_bright_linear_full_900_flux\n",
      "8300-9682 wavelength range: Saving 26 EML systems to file _data/out/elines_DIG_bright_linear_full_900_flux\n",
      "-------------------------------------------------------------------------------------------------------------\n",
      "|  ID  |  TEFF   |  LOGG   |  META   | ALPHAM  | COEFF  | Min.Coeff | log(M/L) |  AV  | N.Coeff | Err.Coeff |\n",
      "-------------------------------------------------------------------------------------------------------------\n",
      "| 0068 |  3.5334 |  0.5546 | -0.3881 |  0.0406 | 0.0004 |    0.0003 |  14.2118 | 0.00 |  0.0004 |    0.0001 | 0.0003 | 0.0001\n",
      "| 0075 |  3.6607 |  2.0839 |  0.1194 | -0.0040 | 0.5329 |    0.5375 |  12.0786 | 0.00 |  0.5329 |    0.0056 | 0.5461 | 0.0029\n",
      "| 0077 |  3.5927 |  1.1325 | -0.1682 |  0.0645 | 0.0142 |    0.0138 |  13.8827 | 0.00 |  0.0142 |    0.0012 | 0.0132 | 0.0012\n",
      "| 0087 |  3.7006 |  3.0027 |  0.4294 |  0.2140 | 0.1032 |    0.1039 |  12.3724 | 0.00 |  0.1032 |    0.0012 | 0.1052 | 0.0010\n",
      "| 0089 |  3.7168 |  3.4819 | -0.4466 |  0.0795 | 0.1425 |    0.1411 |  14.7187 | 0.00 |  0.1425 |    0.0068 | 0.1387 | 0.0067\n",
      "| 0090 |  3.6687 |  2.2820 | -0.5364 |  0.0920 | 0.0291 |    0.0277 |  13.5451 | 0.00 |  0.0291 |    0.0042 | 0.0251 | 0.0040\n",
      "| 0091 |  3.7034 |  3.5833 | -0.2093 |  0.1572 | 0.1741 |    0.1719 |  14.6761 | 0.00 |  0.1741 |    0.0099 | 0.1677 | 0.0096\n",
      "| 0094 |  3.5317 |  0.8120 | -0.2795 |  0.0664 | 0.0037 |    0.0037 |  13.3101 | 0.00 |  0.0037 |    0.0001 | 0.0038 | 0.0000\n",
      "-------------------------------------------------------------------------------------------------------------\n",
      "MSP CHISQ=2.486806805546727 TEFF=4775.035004874488+-220.082744289033 LOGG=2.625940086076477+-0.12103033797497394 META=-0.011320854647106011+-0.0005217814646152176 ALPHAM=0.06249271882073154+-0.002880307483004727 AV=0.0+-0.0 REDSHIFT=0+-0 SIGMA_DISP_km_s=0+-0 RMS=0.0329103146760572 MED_FLUX=0.9416130190945609 TEFF_mass=5108.634002628196+-235.4584185705322 LOGG_mass=3.5019889007102076+-0.1287748574238836 META_mass=-0.31929240052243985+-0.0008830318621900916 ALPHAM_mass=0.1194027592667+-0.00014432014640380374 MASS=5.282257289186723e+17 log_M/L=10.660811007788093 log_Mass=17.722819551083834\n",
      "--------------------------------------------------------------\n"
     ]
    },
    {
     "name": "stderr",
     "output_type": "stream",
     "text": [
      "fitting spectra:   1%|          | 12/1801 [56:19<148:58:53, 299.80s/spectrum]/home/mejia/.cache/pypoetry/virtualenvs/lvm-dap-fAIgvtcU-py3.8/lib/python3.8/site-packages/numpy/core/fromnumeric.py:3440: RuntimeWarning: Mean of empty slice.\n",
      "  return _methods._mean(a, axis=axis, dtype=dtype,\n",
      "/home/mejia/.cache/pypoetry/virtualenvs/lvm-dap-fAIgvtcU-py3.8/lib/python3.8/site-packages/numpy/core/_methods.py:189: RuntimeWarning: invalid value encountered in double_scalars\n",
      "  ret = ret.dtype.type(ret / rcount)\n"
     ]
    },
    {
     "name": "stdout",
     "output_type": "stream",
     "text": [
      "3686-5158 wavelength range: Saving 36 EML systems to file _data/out/elines_DIG_bright_linear_full_900_flux\n",
      "5270-6716 wavelength range: Saving 11 EML systems to file _data/out/elines_DIG_bright_linear_full_900_flux\n",
      "6730-7774 wavelength range: Saving 7 EML systems to file _data/out/elines_DIG_bright_linear_full_900_flux\n",
      "8345-9682 wavelength range: Saving 23 EML systems to file _data/out/elines_DIG_bright_linear_full_900_flux\n",
      "-------------------------------------------------------------------------------------------------------------\n",
      "|  ID  |  TEFF   |  LOGG   |  META   | ALPHAM  | COEFF  | Min.Coeff | log(M/L) |  AV  | N.Coeff | Err.Coeff |\n",
      "-------------------------------------------------------------------------------------------------------------\n",
      "| 0020 |  3.9178 |  2.8502 | -0.1434 |  0.4301 | 0.0001 |    0.0001 |  12.4419 | 0.00 |  0.0001 |    0.0000 | 0.0001 | 0.0000\n",
      "| 0035 |  3.9220 |  2.9127 |  0.4975 |  0.2669 | 0.1899 |    0.1912 |  12.0656 | 0.00 |  0.1899 |    0.0016 | 0.1935 | 0.0010\n",
      "| 0042 |  3.8211 |  3.9899 | -0.3000 |  0.0918 | 0.0007 |    0.0007 |  13.3216 | 0.00 |  0.0007 |    0.0001 | 0.0006 | 0.0001\n",
      "| 0043 |  3.6841 |  2.6831 | -0.5948 |  0.1234 | 0.0059 |    0.0059 |  13.1753 | 0.00 |  0.0059 |    0.0001 | 0.0059 | 0.0001\n",
      "| 0044 |  3.6175 |  2.6876 | -0.8062 |  0.3869 | 0.0024 |    0.0024 |  12.9288 | 0.00 |  0.0024 |    0.0001 | 0.0023 | 0.0001\n",
      "| 0054 |  3.5580 |  4.6137 | -0.1421 | -0.0031 | 0.0038 |    0.0036 |  14.4913 | 0.00 |  0.0038 |    0.0007 | 0.0031 | 0.0007\n",
      "| 0068 |  3.5334 |  0.5546 | -0.3881 |  0.0406 | 0.0023 |    0.0021 |  14.2118 | 0.00 |  0.0023 |    0.0003 | 0.0019 | 0.0003\n",
      "| 0072 |  3.5525 |  4.7937 | -0.2625 |  0.0162 | 0.3904 |    0.3934 |  14.8015 | 0.00 |  0.3904 |    0.0033 | 0.3990 | 0.0010\n",
      "| 0073 |  3.5644 |  0.6615 | -1.9179 |  0.8199 | 0.0001 |    0.0001 |  13.6592 | 0.00 |  0.0001 |    0.0000 | 0.0001 | 0.0000\n",
      "| 0075 |  3.6607 |  2.0839 |  0.1194 | -0.0040 | 0.0789 |    0.0771 |  12.0786 | 0.00 |  0.0789 |    0.0061 | 0.0737 | 0.0058\n",
      "| 0076 |  3.6375 |  2.4336 |  0.1147 |  0.1366 | 0.0428 |    0.0417 |  12.1601 | 0.00 |  0.0428 |    0.0037 | 0.0395 | 0.0035\n",
      "| 0078 |  3.6176 |  2.3510 | -0.5391 |  0.1008 | 0.2096 |    0.2099 |  12.7842 | 0.00 |  0.2096 |    0.0036 | 0.2104 | 0.0036\n",
      "| 0080 |  3.5948 |  4.6425 |  0.1627 |  0.1314 | 0.0414 |    0.0410 |  13.9387 | 0.00 |  0.0414 |    0.0016 | 0.0404 | 0.0016\n",
      "| 0083 |  3.7750 |  3.8381 | -0.2731 |  0.4494 | 0.0058 |    0.0057 |  13.9321 | 0.00 |  0.0058 |    0.0003 | 0.0056 | 0.0003\n",
      "| 0092 |  3.7330 |  2.4575 | -0.1315 |  0.0299 | 0.0213 |    0.0205 |  11.9398 | 0.00 |  0.0213 |    0.0022 | 0.0192 | 0.0021\n",
      "| 0094 |  3.5317 |  0.8120 | -0.2795 |  0.0664 | 0.0046 |    0.0046 |  13.3101 | 0.00 |  0.0046 |    0.0001 | 0.0046 | 0.0001\n",
      "-------------------------------------------------------------------------------------------------------------\n",
      "MSP CHISQ=1.5347993466584409 TEFF=4533.645200918758+-170.5702388702826 LOGG=3.5008286351540314+-0.13171237493863366 META=-0.11282721348889725+-0.004244920787354405 ALPHAM=0.09456635521136306+-0.003557888869253675 AV=0.0+-0.0 REDSHIFT=0+-0 SIGMA_DISP_km_s=0+-0 RMS=0.07050963103720213 MED_FLUX=0.9669985175132751 TEFF_mass=3583.656903622286+-134.82863942597797 LOGG_mass=4.76464777653272+-0.14225516372843788 META_mass=-0.25679544208073835+-0.00015283130467089575 ALPHAM_mass=0.019348190815087044+-1.5246596640824224e-05 MASS=8.62005904000798e+17 log_M/L=10.861948343403862 log_Mass=17.935510240379454\n",
      "--------------------------------------------------------------\n"
     ]
    },
    {
     "name": "stderr",
     "output_type": "stream",
     "text": [
      "fitting spectra:   1%|          | 13/1801 [1:01:34<151:15:51, 304.56s/spectrum]"
     ]
    },
    {
     "name": "stdout",
     "output_type": "stream",
     "text": [
      "3686-5158 wavelength range: Saving 38 EML systems to file _data/out/elines_DIG_bright_linear_full_900_flux\n",
      "5270-6716 wavelength range: Saving 8 EML systems to file _data/out/elines_DIG_bright_linear_full_900_flux\n",
      "6730-7637 wavelength range: Saving 4 EML systems to file _data/out/elines_DIG_bright_linear_full_900_flux\n",
      "8300-9682 wavelength range: Saving 29 EML systems to file _data/out/elines_DIG_bright_linear_full_900_flux\n",
      "-------------------------------------------------------------------------------------------------------------\n",
      "|  ID  |  TEFF   |  LOGG   |  META   | ALPHAM  | COEFF  | Min.Coeff | log(M/L) |  AV  | N.Coeff | Err.Coeff |\n",
      "-------------------------------------------------------------------------------------------------------------\n",
      "| 0005 |  3.9837 |  3.4683 | -2.0871 |  0.2826 | 0.6208 |    0.6253 |  11.7220 | 0.00 |  0.6208 |    0.0071 | 0.6336 | 0.0054\n",
      "| 0035 |  3.9220 |  2.9127 |  0.4975 |  0.2669 | 0.0355 |    0.0342 |  12.0656 | 0.00 |  0.0355 |    0.0040 | 0.0319 | 0.0037\n",
      "| 0042 |  3.8211 |  3.9899 | -0.3000 |  0.0918 | 0.1226 |    0.1217 |  13.3216 | 0.00 |  0.1226 |    0.0053 | 0.1199 | 0.0053\n",
      "| 0062 |  3.6034 |  4.8217 |  0.0615 |  0.0298 | 0.0004 |    0.0004 |  14.3674 | 0.00 |  0.0004 |    0.0001 | 0.0003 | 0.0001\n",
      "| 0075 |  3.6607 |  2.0839 |  0.1194 | -0.0040 | 0.0145 |    0.0136 |  12.0786 | 0.00 |  0.0145 |    0.0028 | 0.0117 | 0.0026\n",
      "| 0082 |  3.6875 |  3.4132 |  0.3526 | -0.0964 | 0.1381 |    0.1362 |  13.5051 | 0.00 |  0.1381 |    0.0080 | 0.1328 | 0.0078\n",
      "| 0093 |  3.5513 |  0.6333 | -1.4135 |  0.7570 | 0.0682 |    0.0687 |  14.1895 | 0.00 |  0.0682 |    0.0007 | 0.0697 | 0.0005\n",
      "-------------------------------------------------------------------------------------------------------------\n",
      "MSP CHISQ=3.83359625000248 TEFF=7697.865825045749+-353.80574988566093 LOGG=3.2920562239138564+-0.15130796605703076 META=-1.360652876324203+-0.06253769839371097 ALPHAM=0.2343954801135098+-0.01077317668249654 AV=0.0+-0.0 REDSHIFT=0+-0 SIGMA_DISP_km_s=0+-0 RMS=0.3069931021183423 MED_FLUX=0.1158142164349556 TEFF_mass=4288.031956837752+-197.08454219694616 LOGG_mass=1.8741420354033549+-0.07370183460000755 META_mass=-0.8201565861982323+-0.004355232767786304 ALPHAM_mass=0.438512465665808+-0.0006288762620278263 MASS=7304176712077406.0 log_M/L=9.71167330975496 log_Mass=15.863571271666403\n",
      "--------------------------------------------------------------\n"
     ]
    },
    {
     "name": "stderr",
     "output_type": "stream",
     "text": [
      "fitting spectra:   1%|          | 15/1801 [1:07:06<119:39:10, 241.18s/spectrum]"
     ]
    },
    {
     "name": "stdout",
     "output_type": "stream",
     "text": [
      "3686-5145 wavelength range: Saving 35 EML systems to file _data/out/elines_DIG_bright_linear_full_900_flux\n",
      "5270-6716 wavelength range: Saving 8 EML systems to file _data/out/elines_DIG_bright_linear_full_900_flux\n",
      "6730-7751 wavelength range: Saving 5 EML systems to file _data/out/elines_DIG_bright_linear_full_900_flux\n",
      "8308-9682 wavelength range: Saving 26 EML systems to file _data/out/elines_DIG_bright_linear_full_900_flux\n",
      "-------------------------------------------------------------------------------------------------------------\n",
      "|  ID  |  TEFF   |  LOGG   |  META   | ALPHAM  | COEFF  | Min.Coeff | log(M/L) |  AV  | N.Coeff | Err.Coeff |\n",
      "-------------------------------------------------------------------------------------------------------------\n",
      "| 0020 |  3.9178 |  2.8502 | -0.1434 |  0.4301 | 0.1191 |    0.1194 |  12.4419 | 0.00 |  0.1191 |    0.0016 | 0.1199 | 0.0016\n",
      "| 0035 |  3.9220 |  2.9127 |  0.4975 |  0.2669 | 0.0144 |    0.0140 |  12.0656 | 0.00 |  0.0144 |    0.0012 | 0.0134 | 0.0011\n",
      "| 0042 |  3.8211 |  3.9899 | -0.3000 |  0.0918 | 0.0281 |    0.0272 |  13.3216 | 0.00 |  0.0281 |    0.0029 | 0.0254 | 0.0027\n",
      "| 0044 |  3.6175 |  2.6876 | -0.8062 |  0.3869 | 0.0002 |    0.0002 |  12.9288 | 0.00 |  0.0002 |    0.0000 | 0.0001 | 0.0000\n",
      "| 0059 |  3.6092 |  1.3838 |  0.1434 |  0.0343 | 0.0228 |    0.0216 |  13.0951 | 0.00 |  0.0228 |    0.0032 | 0.0196 | 0.0030\n",
      "| 0072 |  3.5525 |  4.7937 | -0.2625 |  0.0162 | 0.1209 |    0.1216 |  14.8015 | 0.00 |  0.1209 |    0.0010 | 0.1229 | 0.0007\n",
      "| 0075 |  3.6607 |  2.0839 |  0.1194 | -0.0040 | 0.2809 |    0.2805 |  12.0786 | 0.00 |  0.2809 |    0.0062 | 0.2798 | 0.0062\n",
      "| 0080 |  3.5948 |  4.6425 |  0.1627 |  0.1314 | 0.2855 |    0.2867 |  13.9387 | 0.00 |  0.2855 |    0.0030 | 0.2888 | 0.0027\n",
      "| 0083 |  3.7750 |  3.8381 | -0.2731 |  0.4494 | 0.1208 |    0.1214 |  13.9321 | 0.00 |  0.1208 |    0.0010 | 0.1226 | 0.0008\n",
      "| 0093 |  3.5513 |  0.6333 | -1.4135 |  0.7570 | 0.0074 |    0.0074 |  14.1895 | 0.00 |  0.0074 |    0.0001 | 0.0074 | 0.0001\n",
      "-------------------------------------------------------------------------------------------------------------\n",
      "MSP CHISQ=3.373604557569757 TEFF=4780.827203620175+-154.06413122159242 LOGG=3.484223468014135+-0.11228054031632985 META=-0.010350392978343904+-0.00033354568866306866 ALPHAM=0.1566549134277293+-0.005048269287072595 AV=0.0+-0.0 REDSHIFT=0+-0 SIGMA_DISP_km_s=0+-0 RMS=0.21650467282760522 MED_FLUX=0.8864254951477051 TEFF_mass=3843.3043667685383+-123.85207058686018 LOGG_mass=4.606751960194167+-0.11815910816096076 META_mass=-0.18033812553510192+-3.454787511367006e-05 ALPHAM_mass=0.08923825710434234+-8.9311367481481e-05 MASS=3.548412628492421e+17 log_M/L=10.514255788859368 log_Mass=17.550034116192844\n",
      "--------------------------------------------------------------\n"
     ]
    },
    {
     "name": "stderr",
     "output_type": "stream",
     "text": [
      "fitting spectra:   1%|          | 16/1801 [1:11:54<126:32:54, 255.22s/spectrum]"
     ]
    },
    {
     "name": "stdout",
     "output_type": "stream",
     "text": [
      "3686-5158 wavelength range: Saving 38 EML systems to file _data/out/elines_DIG_bright_linear_full_900_flux\n",
      "5270-6716 wavelength range: Saving 9 EML systems to file _data/out/elines_DIG_bright_linear_full_900_flux\n",
      "6730-7637 wavelength range: Saving 4 EML systems to file _data/out/elines_DIG_bright_linear_full_900_flux\n",
      "8300-9682 wavelength range: Saving 22 EML systems to file _data/out/elines_DIG_bright_linear_full_900_flux\n",
      "-------------------------------------------------------------------------------------------------------------\n",
      "|  ID  |  TEFF   |  LOGG   |  META   | ALPHAM  | COEFF  | Min.Coeff | log(M/L) |  AV  | N.Coeff | Err.Coeff |\n",
      "-------------------------------------------------------------------------------------------------------------\n",
      "| 0000 |  3.9970 |  2.5946 | -1.0825 |  0.1597 | 0.0231 |    0.0221 |  14.0274 | 0.00 |  0.0231 |    0.0033 | 0.0202 | 0.0031\n",
      "| 0004 |  4.0082 |  4.0227 | -1.5766 |  0.4497 | 0.0420 |    0.0409 |  11.5772 | 0.00 |  0.0420 |    0.0042 | 0.0388 | 0.0040\n",
      "| 0005 |  3.9837 |  3.4683 | -2.0871 |  0.2826 | 0.0418 |    0.0407 |  11.7220 | 0.00 |  0.0418 |    0.0041 | 0.0386 | 0.0040\n",
      "| 0006 |  3.9397 |  2.8905 | -2.3637 |  0.0845 | 0.0539 |    0.0530 |  11.0819 | 0.00 |  0.0539 |    0.0041 | 0.0512 | 0.0040\n",
      "| 0009 |  3.9988 |  3.7561 |  0.0265 | -0.0907 | 0.0057 |    0.0053 |  13.3728 | 0.00 |  0.0057 |    0.0011 | 0.0046 | 0.0010\n",
      "| 0016 |  3.9912 |  3.8512 | -2.4725 | -0.0788 | 0.0135 |    0.0129 |  12.0442 | 0.00 |  0.0135 |    0.0019 | 0.0118 | 0.0018\n",
      "| 0017 |  3.9354 |  2.8466 | -0.7919 |  0.1576 | 0.0096 |    0.0090 |  11.8734 | 0.00 |  0.0096 |    0.0019 | 0.0078 | 0.0017\n",
      "| 0020 |  3.9178 |  2.8502 | -0.1434 |  0.4301 | 0.0081 |    0.0078 |  12.4419 | 0.00 |  0.0081 |    0.0011 | 0.0072 | 0.0010\n",
      "| 0043 |  3.6841 |  2.6831 | -0.5948 |  0.1234 | 0.0012 |    0.0011 |  13.1753 | 0.00 |  0.0012 |    0.0002 | 0.0010 | 0.0002\n",
      "| 0045 |  3.7251 |  3.1927 | -1.9643 |  0.3019 | 0.0035 |    0.0033 |  13.7054 | 0.00 |  0.0035 |    0.0007 | 0.0028 | 0.0006\n",
      "| 0067 |  3.5661 |  4.1710 |  0.0740 | -0.0205 | 0.0487 |    0.0478 |  15.6416 | 0.00 |  0.0487 |    0.0038 | 0.0462 | 0.0037\n",
      "| 0068 |  3.5334 |  0.5546 | -0.3881 |  0.0406 | 0.0105 |    0.0101 |  14.2118 | 0.00 |  0.0105 |    0.0015 | 0.0092 | 0.0014\n",
      "| 0072 |  3.5525 |  4.7937 | -0.2625 |  0.0162 | 0.6611 |    0.6690 |  14.8015 | 0.00 |  0.6611 |    0.0091 | 0.6837 | 0.0043\n",
      "| 0080 |  3.5948 |  4.6425 |  0.1627 |  0.1314 | 0.0000 |    0.0000 |  13.9387 | 0.00 |  0.0000 |    0.0000 | 0.0000 | 0.0000\n",
      "| 0082 |  3.6875 |  3.4132 |  0.3526 | -0.0964 | 0.0497 |    0.0497 |  13.5051 | 0.00 |  0.0497 |    0.0018 | 0.0496 | 0.0018\n",
      "| 0094 |  3.5317 |  0.8120 | -0.2795 |  0.0664 | 0.0269 |    0.0268 |  13.3101 | 0.00 |  0.0269 |    0.0012 | 0.0265 | 0.0012\n",
      "| 0096 |  3.4744 |  0.7093 | -0.2107 |  0.1388 | 0.0006 |    0.0006 |  14.1032 | 0.00 |  0.0006 |    0.0001 | 0.0005 | 0.0001\n",
      "-------------------------------------------------------------------------------------------------------------\n",
      "MSP CHISQ=2.0587625913761625 TEFF=4398.241743240092+-287.4955810925407 LOGG=4.238257164709502+-0.27703802508366754 META=-0.5196425344570075+-0.03396696705762742 ALPHAM=0.05078061140241236+-0.003319326730007368 AV=0.0+-0.0 REDSHIFT=0+-0 SIGMA_DISP_km_s=0+-0 RMS=0.21276601119899785 MED_FLUX=0.3942434787750244 TEFF_mass=3624.3901661544564+-236.9119793213206 LOGG_mass=4.557543704929104+-0.27789341788481214 META_mass=-0.15261317888650358+-0.002548132111967811 ALPHAM_mass=0.0043949945237269274+-8.928082488313883e-06 MASS=8.813579897631992e+17 log_M/L=11.261251738821025 log_Mass=17.945152345868884\n",
      "--------------------------------------------------------------\n"
     ]
    },
    {
     "name": "stderr",
     "output_type": "stream",
     "text": [
      "fitting spectra:   1%|          | 17/1801 [1:16:30<129:27:45, 261.25s/spectrum]"
     ]
    },
    {
     "name": "stdout",
     "output_type": "stream",
     "text": [
      "3686-5006 wavelength range: Saving 36 EML systems to file _data/out/elines_DIG_bright_linear_full_900_flux\n",
      "5270-6716 wavelength range: Saving 10 EML systems to file _data/out/elines_DIG_bright_linear_full_900_flux\n",
      "6730-7637 wavelength range: Saving 3 EML systems to file _data/out/elines_DIG_bright_linear_full_900_flux\n",
      "8308-9545 wavelength range: Saving 22 EML systems to file _data/out/elines_DIG_bright_linear_full_900_flux\n",
      "-------------------------------------------------------------------------------------------------------------\n",
      "|  ID  |  TEFF   |  LOGG   |  META   | ALPHAM  | COEFF  | Min.Coeff | log(M/L) |  AV  | N.Coeff | Err.Coeff |\n",
      "-------------------------------------------------------------------------------------------------------------\n",
      "| 0005 |  3.9837 |  3.4683 | -2.0871 |  0.2826 | 0.0902 |    0.0896 |  11.7220 | 0.00 |  0.0902 |    0.0016 | 0.0886 | 0.0015\n",
      "| 0006 |  3.9397 |  2.8905 | -2.3637 |  0.0845 | 0.0104 |    0.0098 |  11.0819 | 0.00 |  0.0104 |    0.0015 | 0.0087 | 0.0013\n",
      "| 0072 |  3.5525 |  4.7937 | -0.2625 |  0.0162 | 0.8581 |    0.8592 |  14.8015 | 0.00 |  0.8581 |    0.0011 | 0.8612 | 0.0002\n",
      "| 0093 |  3.5513 |  0.6333 | -1.4135 |  0.7570 | 0.0413 |    0.0414 |  14.1895 | 0.00 |  0.0413 |    0.0001 | 0.0414 | 0.0000\n",
      "-------------------------------------------------------------------------------------------------------------\n",
      "MSP CHISQ=63.942854533389685 TEFF=3938.9717277524564+-28.085192001258825 LOGG=4.4823538137167995+-0.03195955091245134 META=-0.4964618056495854+-0.0035398134580966224 ALPHAM=0.07153637800141854+-0.0005100602517883139 AV=0.0+-0.0 REDSHIFT=0+-0 SIGMA_DISP_km_s=0+-0 RMS=0.2667920430414214 MED_FLUX=0.9488070389260477 TEFF_mass=3568.9812622189897+-25.44712958767768 LOGG_mass=4.745149073666268+-0.03150007860879739 META_mass=-0.27603019991763245+-0.0008631105212493815 ALPHAM_mass=0.024813230604239803+-6.924815778751731e-06 MASS=1.8253707311034652e+18 log_M/L=11.19603709591925 log_Mass=18.26135108255757\n",
      "--------------------------------------------------------------\n"
     ]
    },
    {
     "name": "stderr",
     "output_type": "stream",
     "text": [
      "/home/mejia/.cache/pypoetry/virtualenvs/lvm-dap-fAIgvtcU-py3.8/lib/python3.8/site-packages/numpy/core/fromnumeric.py:3440: RuntimeWarning: Mean of empty slice.\n",
      "  return _methods._mean(a, axis=axis, dtype=dtype,\n",
      "/home/mejia/.cache/pypoetry/virtualenvs/lvm-dap-fAIgvtcU-py3.8/lib/python3.8/site-packages/numpy/core/_methods.py:189: RuntimeWarning: invalid value encountered in double_scalars\n",
      "  ret = ret.dtype.type(ret / rcount)\n",
      "fitting spectra:   1%|          | 18/1801 [1:21:07<131:51:58, 266.25s/spectrum]"
     ]
    },
    {
     "name": "stdout",
     "output_type": "stream",
     "text": [
      "3691-5176 wavelength range: Saving 51 EML systems to file _data/out/elines_DIG_bright_linear_full_900_flux\n",
      "5191-6716 wavelength range: Saving 28 EML systems to file _data/out/elines_DIG_bright_linear_full_900_flux\n",
      "6730-8125 wavelength range: Saving 6 EML systems to file _data/out/elines_DIG_bright_linear_full_900_flux\n",
      "8345-9682 wavelength range: Saving 20 EML systems to file _data/out/elines_DIG_bright_linear_full_900_flux\n",
      "-------------------------------------------------------------------------------------------------------------\n",
      "|  ID  |  TEFF   |  LOGG   |  META   | ALPHAM  | COEFF  | Min.Coeff | log(M/L) |  AV  | N.Coeff | Err.Coeff |\n",
      "-------------------------------------------------------------------------------------------------------------\n",
      "| 0035 |  3.9220 |  2.9127 |  0.4975 |  0.2669 | 0.0686 |    0.0686 |  12.0656 | 0.00 |  0.0686 |    0.0013 | 0.0686 | 0.0013\n",
      "| 0040 |  3.7782 |  4.3005 | -0.5922 |  0.0448 | 0.0898 |    0.0898 |  13.1688 | 0.00 |  0.0898 |    0.0014 | 0.0898 | 0.0014\n",
      "| 0054 |  3.5580 |  4.6137 | -0.1421 | -0.0031 | 0.1750 |    0.1750 |  14.4913 | 0.00 |  0.1750 |    0.0003 | 0.1750 | 0.0003\n",
      "| 0068 |  3.5334 |  0.5546 | -0.3881 |  0.0406 | 0.0266 |    0.0266 |  14.2118 | 0.00 |  0.0266 |    0.0000 | 0.0266 | 0.0000\n",
      "| 0075 |  3.6607 |  2.0839 |  0.1194 | -0.0040 | 0.4329 |    0.4329 |  12.0786 | 0.00 |  0.4329 |    0.0032 | 0.4329 | 0.0032\n",
      "| 0077 |  3.5927 |  1.1325 | -0.1682 |  0.0645 | 0.0261 |    0.0261 |  13.8827 | 0.00 |  0.0261 |    0.0014 | 0.0261 | 0.0014\n",
      "| 0080 |  3.5948 |  4.6425 |  0.1627 |  0.1314 | 0.0111 |    0.0111 |  13.9387 | 0.00 |  0.0111 |    0.0002 | 0.0111 | 0.0002\n",
      "| 0087 |  3.7006 |  3.0027 |  0.4294 |  0.2140 | 0.1451 |    0.1451 |  12.3724 | 0.00 |  0.1451 |    0.0019 | 0.1451 | 0.0019\n",
      "| 0089 |  3.7168 |  3.4819 | -0.4466 |  0.0795 | 0.0107 |    0.0107 |  14.7187 | 0.00 |  0.0107 |    0.0024 | 0.0107 | 0.0024\n",
      "| 0090 |  3.6687 |  2.2820 | -0.5364 |  0.0920 | 0.0141 |    0.0141 |  13.5451 | 0.00 |  0.0141 |    0.0032 | 0.0141 | 0.0032\n",
      "-------------------------------------------------------------------------------------------------------------\n",
      "MSP CHISQ=0.3927198478590767 TEFF=4697.0742398304565+-114.90235540657304 LOGG=2.8961958859112995+-0.07084830088230555 META=0.044863550782470465+-0.0010974762998411387 ALPHAM=0.05747871830209121+-0.001406075310170011 AV=0.0+-0.0 REDSHIFT=0+-0 SIGMA_DISP_km_s=0+-0 RMS=0.03524721666757745 MED_FLUX=1.1373963971800305 TEFF_mass=3779.9103335536056+-92.46619882393672 LOGG_mass=4.121361195889771+-0.07428589419461881 META_mass=-0.18408082019445204+-0.00015822683730883744 ALPHAM_mass=0.012955021311725908+-7.865990525833278e-06 MASS=2.7808575297256845e+17 log_M/L=10.300130802496996 log_Mass=17.444178739443476\n",
      "--------------------------------------------------------------\n"
     ]
    },
    {
     "name": "stderr",
     "output_type": "stream",
     "text": [
      "/home/mejia/.cache/pypoetry/virtualenvs/lvm-dap-fAIgvtcU-py3.8/lib/python3.8/site-packages/numpy/core/fromnumeric.py:3440: RuntimeWarning: Mean of empty slice.\n",
      "  return _methods._mean(a, axis=axis, dtype=dtype,\n",
      "/home/mejia/.cache/pypoetry/virtualenvs/lvm-dap-fAIgvtcU-py3.8/lib/python3.8/site-packages/numpy/core/_methods.py:189: RuntimeWarning: invalid value encountered in double_scalars\n",
      "  ret = ret.dtype.type(ret / rcount)\n",
      "fitting spectra:   1%|1         | 19/1801 [1:25:50<134:17:25, 271.29s/spectrum]"
     ]
    },
    {
     "name": "stdout",
     "output_type": "stream",
     "text": [
      "3691-5176 wavelength range: Saving 57 EML systems to file _data/out/elines_DIG_bright_linear_full_900_flux\n",
      "5200-6716 wavelength range: Saving 20 EML systems to file _data/out/elines_DIG_bright_linear_full_900_flux\n",
      "6730-7637 wavelength range: Saving 3 EML systems to file _data/out/elines_DIG_bright_linear_full_900_flux\n",
      "8345-9682 wavelength range: Saving 25 EML systems to file _data/out/elines_DIG_bright_linear_full_900_flux\n",
      "-------------------------------------------------------------------------------------------------------------\n",
      "|  ID  |  TEFF   |  LOGG   |  META   | ALPHAM  | COEFF  | Min.Coeff | log(M/L) |  AV  | N.Coeff | Err.Coeff |\n",
      "-------------------------------------------------------------------------------------------------------------\n",
      "| 0022 |  3.9211 |  3.5419 | -0.4455 |  0.2577 | 0.0007 |    0.0007 |  12.7263 | 0.00 |  0.0007 |    0.0001 | 0.0006 | 0.0001\n",
      "| 0035 |  3.9220 |  2.9127 |  0.4975 |  0.2669 | 0.1110 |    0.1110 |  12.0656 | 0.00 |  0.1110 |    0.0015 | 0.1111 | 0.0015\n",
      "| 0042 |  3.8211 |  3.9899 | -0.3000 |  0.0918 | 0.0369 |    0.0368 |  13.3216 | 0.00 |  0.0369 |    0.0007 | 0.0366 | 0.0007\n",
      "| 0054 |  3.5580 |  4.6137 | -0.1421 | -0.0031 | 0.0679 |    0.0672 |  14.4913 | 0.00 |  0.0679 |    0.0026 | 0.0659 | 0.0025\n",
      "| 0068 |  3.5334 |  0.5546 | -0.3881 |  0.0406 | 0.0084 |    0.0082 |  14.2118 | 0.00 |  0.0084 |    0.0006 | 0.0079 | 0.0006\n",
      "| 0072 |  3.5525 |  4.7937 | -0.2625 |  0.0162 | 0.0939 |    0.0933 |  14.8015 | 0.00 |  0.0939 |    0.0027 | 0.0922 | 0.0027\n",
      "| 0075 |  3.6607 |  2.0839 |  0.1194 | -0.0040 | 0.5643 |    0.5668 |  12.0786 | 0.00 |  0.5643 |    0.0034 | 0.5713 | 0.0022\n",
      "| 0080 |  3.5948 |  4.6425 |  0.1627 |  0.1314 | 0.0806 |    0.0809 |  13.9387 | 0.00 |  0.0806 |    0.0005 | 0.0815 | 0.0004\n",
      "| 0087 |  3.7006 |  3.0027 |  0.4294 |  0.2140 | 0.0313 |    0.0301 |  12.3724 | 0.00 |  0.0313 |    0.0032 | 0.0281 | 0.0030\n",
      "| 0094 |  3.5317 |  0.8120 | -0.2795 |  0.0664 | 0.0049 |    0.0049 |  13.3101 | 0.00 |  0.0049 |    0.0002 | 0.0048 | 0.0002\n",
      "-------------------------------------------------------------------------------------------------------------\n",
      "MSP CHISQ=5.409383559201211 TEFF=4708.793771495269+-115.26388921499485 LOGG=2.8892568086108112+-0.07072447698121084 META=0.09881163814485647+-0.002418753987746677 ALPHAM=0.05018917784462598+-0.0012285523884894257 AV=0.0+-0.0 REDSHIFT=0+-0 SIGMA_DISP_km_s=0+-0 RMS=0.04213458392909525 MED_FLUX=1.0124565362930298 TEFF_mass=3634.9833090224593+-88.97869258276586 LOGG_mass=4.640270791481619+-0.10443176421700613 META_mass=-0.1994231923751397+-8.218092684579554e-05 ALPHAM_mass=0.022045968123608047+-1.246355830593165e-05 MASS=3.210955401532795e+17 log_M/L=10.41312179631179 log_Mass=17.50663427348842\n",
      "--------------------------------------------------------------\n"
     ]
    },
    {
     "name": "stderr",
     "output_type": "stream",
     "text": [
      "/home/mejia/.cache/pypoetry/virtualenvs/lvm-dap-fAIgvtcU-py3.8/lib/python3.8/site-packages/numpy/core/fromnumeric.py:3440: RuntimeWarning: Mean of empty slice.\n",
      "  return _methods._mean(a, axis=axis, dtype=dtype,\n",
      "/home/mejia/.cache/pypoetry/virtualenvs/lvm-dap-fAIgvtcU-py3.8/lib/python3.8/site-packages/numpy/core/_methods.py:189: RuntimeWarning: invalid value encountered in double_scalars\n",
      "  ret = ret.dtype.type(ret / rcount)\n",
      "fitting spectra:   1%|1         | 20/1801 [1:30:51<138:30:26, 279.97s/spectrum]"
     ]
    },
    {
     "name": "stdout",
     "output_type": "stream",
     "text": [
      "3686-5176 wavelength range: Saving 53 EML systems to file _data/out/elines_DIG_bright_linear_full_900_flux\n",
      "5200-6716 wavelength range: Saving 22 EML systems to file _data/out/elines_DIG_bright_linear_full_900_flux\n",
      "6730-8229 wavelength range: Saving 11 EML systems to file _data/out/elines_DIG_bright_linear_full_900_flux\n",
      "8359-9682 wavelength range: Saving 20 EML systems to file _data/out/elines_DIG_bright_linear_full_900_flux\n",
      "-------------------------------------------------------------------------------------------------------------\n",
      "|  ID  |  TEFF   |  LOGG   |  META   | ALPHAM  | COEFF  | Min.Coeff | log(M/L) |  AV  | N.Coeff | Err.Coeff |\n",
      "-------------------------------------------------------------------------------------------------------------\n",
      "| 0022 |  3.9211 |  3.5419 | -0.4455 |  0.2577 | 0.0116 |    0.0115 |  12.7263 | 0.00 |  0.0116 |    0.0004 | 0.0114 | 0.0004\n",
      "| 0040 |  3.7782 |  4.3005 | -0.5922 |  0.0448 | 0.0361 |    0.0351 |  13.1688 | 0.00 |  0.0361 |    0.0033 | 0.0332 | 0.0031\n",
      "| 0045 |  3.7251 |  3.1927 | -1.9643 |  0.3019 | 0.0000 |    0.0000 |  13.7054 | 0.00 |  0.0000 |    0.0000 | 0.0000 | 0.0000\n",
      "| 0054 |  3.5580 |  4.6137 | -0.1421 | -0.0031 | 0.0341 |    0.0339 |  14.4913 | 0.00 |  0.0341 |    0.0012 | 0.0336 | 0.0012\n",
      "| 0061 |  3.5870 |  0.9341 | -0.2500 |  0.0797 | 0.0192 |    0.0186 |  13.5128 | 0.00 |  0.0192 |    0.0019 | 0.0175 | 0.0018\n",
      "| 0068 |  3.5334 |  0.5546 | -0.3881 |  0.0406 | 0.0052 |    0.0051 |  14.2118 | 0.00 |  0.0052 |    0.0005 | 0.0048 | 0.0004\n",
      "| 0072 |  3.5525 |  4.7937 | -0.2625 |  0.0162 | 0.0424 |    0.0424 |  14.8015 | 0.00 |  0.0424 |    0.0012 | 0.0422 | 0.0012\n",
      "| 0075 |  3.6607 |  2.0839 |  0.1194 | -0.0040 | 0.3204 |    0.3225 |  12.0786 | 0.00 |  0.3204 |    0.0035 | 0.3262 | 0.0028\n",
      "| 0080 |  3.5948 |  4.6425 |  0.1627 |  0.1314 | 0.0315 |    0.0316 |  13.9387 | 0.00 |  0.0315 |    0.0004 | 0.0319 | 0.0004\n",
      "| 0087 |  3.7006 |  3.0027 |  0.4294 |  0.2140 | 0.1713 |    0.1727 |  12.3724 | 0.00 |  0.1713 |    0.0017 | 0.1751 | 0.0010\n",
      "| 0089 |  3.7168 |  3.4819 | -0.4466 |  0.0795 | 0.0164 |    0.0157 |  14.7187 | 0.00 |  0.0164 |    0.0023 | 0.0142 | 0.0022\n",
      "| 0090 |  3.6687 |  2.2820 | -0.5364 |  0.0920 | 0.3031 |    0.3026 |  13.5451 | 0.00 |  0.3031 |    0.0082 | 0.3017 | 0.0081\n",
      "| 0092 |  3.7330 |  2.4575 | -0.1315 |  0.0299 | 0.0020 |    0.0019 |  11.9398 | 0.00 |  0.0020 |    0.0003 | 0.0016 | 0.0003\n",
      "| 0094 |  3.5317 |  0.8120 | -0.2795 |  0.0664 | 0.0066 |    0.0066 |  13.3101 | 0.00 |  0.0066 |    0.0002 | 0.0065 | 0.0002\n",
      "-------------------------------------------------------------------------------------------------------------\n",
      "MSP CHISQ=1.1590258289207631 TEFF=4625.698584971277+-182.85785669224458 LOGG=2.6653831759878317+-0.10536489697106562 META=-0.10444115584109916+-0.004128649015223865 ALPHAM=0.07612082435445365+-0.0030091218732507703 AV=0.0+-0.0 REDSHIFT=0+-0 SIGMA_DISP_km_s=0+-0 RMS=0.05680764756095969 MED_FLUX=1.0738678777613542 TEFF_mass=3996.716739694577+-157.99366158465423 LOGG_mass=4.008923670714943+-0.12198233780522506 META_mass=-0.29335127100959274+-0.0009584333876220762 ALPHAM_mass=0.042339517318852+-3.2746153346902736e-05 MASS=2.3452495658304646e+17 log_M/L=10.251102123862514 log_Mass=17.37018906423491\n",
      "--------------------------------------------------------------\n"
     ]
    },
    {
     "name": "stderr",
     "output_type": "stream",
     "text": [
      "fitting spectra:   1%|1         | 21/1801 [1:35:23<137:21:44, 277.81s/spectrum]"
     ]
    },
    {
     "name": "stdout",
     "output_type": "stream",
     "text": [
      "3686-5158 wavelength range: Saving 42 EML systems to file _data/out/elines_DIG_bright_linear_full_900_flux\n",
      "5197-6716 wavelength range: Saving 10 EML systems to file _data/out/elines_DIG_bright_linear_full_900_flux\n",
      "6730-7637 wavelength range: Saving 3 EML systems to file _data/out/elines_DIG_bright_linear_full_900_flux\n",
      "8345-9682 wavelength range: Saving 26 EML systems to file _data/out/elines_DIG_bright_linear_full_900_flux\n",
      "-------------------------------------------------------------------------------------------------------------\n",
      "|  ID  |  TEFF   |  LOGG   |  META   | ALPHAM  | COEFF  | Min.Coeff | log(M/L) |  AV  | N.Coeff | Err.Coeff |\n",
      "-------------------------------------------------------------------------------------------------------------\n",
      "| 0000 |  3.9970 |  2.5946 | -1.0825 |  0.1597 | 0.0119 |    0.0114 |  14.0274 | 0.00 |  0.0119 |    0.0017 | 0.0105 | 0.0016\n",
      "| 0004 |  4.0082 |  4.0227 | -1.5766 |  0.4497 | 0.0114 |    0.0109 |  11.5772 | 0.00 |  0.0114 |    0.0016 | 0.0100 | 0.0015\n",
      "| 0007 |  3.9743 |  3.6718 | -2.1832 |  0.2652 | 0.0097 |    0.0093 |  12.1924 | 0.00 |  0.0097 |    0.0014 | 0.0085 | 0.0013\n",
      "| 0013 |  3.9918 |  2.9386 | -1.2331 |  0.5237 | 0.0250 |    0.0246 |  11.4489 | 0.00 |  0.0250 |    0.0020 | 0.0238 | 0.0019\n",
      "| 0016 |  3.9912 |  3.8512 | -2.4725 | -0.0788 | 0.0149 |    0.0144 |  12.0442 | 0.00 |  0.0149 |    0.0017 | 0.0135 | 0.0017\n",
      "| 0020 |  3.9178 |  2.8502 | -0.1434 |  0.4301 | 0.0165 |    0.0164 |  12.4419 | 0.00 |  0.0165 |    0.0009 | 0.0162 | 0.0009\n",
      "| 0022 |  3.9211 |  3.5419 | -0.4455 |  0.2577 | 0.0089 |    0.0085 |  12.7263 | 0.00 |  0.0089 |    0.0013 | 0.0077 | 0.0013\n",
      "| 0035 |  3.9220 |  2.9127 |  0.4975 |  0.2669 | 0.0028 |    0.0027 |  12.0656 | 0.00 |  0.0028 |    0.0003 | 0.0025 | 0.0003\n",
      "| 0043 |  3.6841 |  2.6831 | -0.5948 |  0.1234 | 0.0007 |    0.0006 |  13.1753 | 0.00 |  0.0007 |    0.0001 | 0.0006 | 0.0001\n",
      "| 0044 |  3.6175 |  2.6876 | -0.8062 |  0.3869 | 0.0047 |    0.0047 |  12.9288 | 0.00 |  0.0047 |    0.0002 | 0.0047 | 0.0002\n",
      "| 0045 |  3.7251 |  3.1927 | -1.9643 |  0.3019 | 0.0064 |    0.0064 |  13.7054 | 0.00 |  0.0064 |    0.0003 | 0.0064 | 0.0003\n",
      "| 0052 |  3.9823 |  2.9885 | -2.5903 |  0.2664 | 0.0198 |    0.0192 |  11.2825 | 0.00 |  0.0198 |    0.0021 | 0.0182 | 0.0020\n",
      "| 0054 |  3.5580 |  4.6137 | -0.1421 | -0.0031 | 0.6188 |    0.6238 |  14.4913 | 0.00 |  0.6188 |    0.0120 | 0.6332 | 0.0108\n",
      "| 0068 |  3.5334 |  0.5546 | -0.3881 |  0.0406 | 0.1640 |    0.1661 |  14.2118 | 0.00 |  0.1640 |    0.0024 | 0.1701 | 0.0011\n",
      "| 0072 |  3.5525 |  4.7937 | -0.2625 |  0.0162 | 0.0845 |    0.0809 |  14.8015 | 0.00 |  0.0845 |    0.0120 | 0.0741 | 0.0114\n",
      "-------------------------------------------------------------------------------------------------------------\n",
      "MSP CHISQ=0.4891873905506574 TEFF=4029.380521234474+-255.59150566176663 LOGG=3.774827467630588+-0.2394447064457212 META=-0.3666106342452761+-0.0232548312338736 ALPHAM=0.04691580696856029+-0.0029759616097904252 AV=0.0+-0.0 REDSHIFT=0+-0 SIGMA_DISP_km_s=0+-0 RMS=0.11071318707428464 MED_FLUX=0.7153914570808411 TEFF_mass=3605.5369087322824+-228.70627441749377 LOGG_mass=4.240678615918721+-0.28916486970783234 META_mass=-0.19663224791808406+-0.002253846916932624 ALPHAM_mass=0.006279682048281925+-1.0870562683710268e-05 MASS=6.854125479272786e+17 log_M/L=10.89327221247309 log_Mass=17.835952050846245\n",
      "--------------------------------------------------------------\n"
     ]
    },
    {
     "name": "stderr",
     "output_type": "stream",
     "text": [
      "/home/mejia/.cache/pypoetry/virtualenvs/lvm-dap-fAIgvtcU-py3.8/lib/python3.8/site-packages/numpy/core/fromnumeric.py:3440: RuntimeWarning: Mean of empty slice.\n",
      "  return _methods._mean(a, axis=axis, dtype=dtype,\n",
      "/home/mejia/.cache/pypoetry/virtualenvs/lvm-dap-fAIgvtcU-py3.8/lib/python3.8/site-packages/numpy/core/_methods.py:189: RuntimeWarning: invalid value encountered in double_scalars\n",
      "  ret = ret.dtype.type(ret / rcount)\n",
      "fitting spectra:   1%|1         | 22/1801 [1:40:01<137:12:16, 277.65s/spectrum]"
     ]
    },
    {
     "name": "stdout",
     "output_type": "stream",
     "text": [
      "3686-5176 wavelength range: Saving 56 EML systems to file _data/out/elines_DIG_bright_linear_full_900_flux\n",
      "5200-6716 wavelength range: Saving 20 EML systems to file _data/out/elines_DIG_bright_linear_full_900_flux\n",
      "6730-8236 wavelength range: Saving 10 EML systems to file _data/out/elines_DIG_bright_linear_full_900_flux\n",
      "8300-9682 wavelength range: Saving 24 EML systems to file _data/out/elines_DIG_bright_linear_full_900_flux\n",
      "-------------------------------------------------------------------------------------------------------------\n",
      "|  ID  |  TEFF   |  LOGG   |  META   | ALPHAM  | COEFF  | Min.Coeff | log(M/L) |  AV  | N.Coeff | Err.Coeff |\n",
      "-------------------------------------------------------------------------------------------------------------\n",
      "| 0035 |  3.9220 |  2.9127 |  0.4975 |  0.2669 | 0.0261 |    0.0256 |  12.0656 | 0.00 |  0.0261 |    0.0016 | 0.0248 | 0.0016\n",
      "| 0040 |  3.7782 |  4.3005 | -0.5922 |  0.0448 | 0.1110 |    0.1106 |  13.1688 | 0.00 |  0.1110 |    0.0031 | 0.1099 | 0.0031\n",
      "| 0054 |  3.5580 |  4.6137 | -0.1421 | -0.0031 | 0.1628 |    0.1638 |  14.4913 | 0.00 |  0.1628 |    0.0015 | 0.1657 | 0.0010\n",
      "| 0055 |  3.5675 |  4.5195 | -0.2704 |  0.0382 | 0.0164 |    0.0160 |  14.9067 | 0.00 |  0.0164 |    0.0013 | 0.0153 | 0.0013\n",
      "| 0068 |  3.5334 |  0.5546 | -0.3881 |  0.0406 | 0.0272 |    0.0274 |  14.2118 | 0.00 |  0.0272 |    0.0002 | 0.0278 | 0.0000\n",
      "| 0075 |  3.6607 |  2.0839 |  0.1194 | -0.0040 | 0.3784 |    0.3808 |  12.0786 | 0.00 |  0.3784 |    0.0033 | 0.3853 | 0.0022\n",
      "| 0077 |  3.5927 |  1.1325 | -0.1682 |  0.0645 | 0.0227 |    0.0223 |  13.8827 | 0.00 |  0.0227 |    0.0014 | 0.0215 | 0.0014\n",
      "| 0087 |  3.7006 |  3.0027 |  0.4294 |  0.2140 | 0.1902 |    0.1913 |  12.3724 | 0.00 |  0.1902 |    0.0017 | 0.1934 | 0.0013\n",
      "| 0089 |  3.7168 |  3.4819 | -0.4466 |  0.0795 | 0.0444 |    0.0427 |  14.7187 | 0.00 |  0.0444 |    0.0052 | 0.0395 | 0.0049\n",
      "| 0091 |  3.7034 |  3.5833 | -0.2093 |  0.1572 | 0.0209 |    0.0195 |  14.6761 | 0.00 |  0.0209 |    0.0040 | 0.0168 | 0.0038\n",
      "-------------------------------------------------------------------------------------------------------------\n",
      "MSP CHISQ=0.27702550985691055 TEFF=4658.912541412064+-174.35269124345766 LOGG=3.008366311823435+-0.11258351773085566 META=0.007947385213063943+-0.00029741876198134947 ALPHAM=0.060614081550292534+-0.0022683894903811194 AV=0.0+-0.0 REDSHIFT=0+-0 SIGMA_DISP_km_s=0+-0 RMS=0.052946822748944265 MED_FLUX=0.9829063415527344 TEFF_mass=4091.731456053598+-153.12680477840254 LOGG_mass=4.005601707268037+-0.13335124605652507 META_mass=-0.24549629837693993+-0.0004184173156096286 ALPHAM_mass=0.04003402775469071+-3.675624223862044e-05 MASS=3.63199583721342e+17 log_M/L=10.479497116310638 log_Mass=17.560145342085754\n",
      "--------------------------------------------------------------\n"
     ]
    },
    {
     "name": "stderr",
     "output_type": "stream",
     "text": [
      "/home/mejia/.cache/pypoetry/virtualenvs/lvm-dap-fAIgvtcU-py3.8/lib/python3.8/site-packages/numpy/core/fromnumeric.py:3440: RuntimeWarning: Mean of empty slice.\n",
      "  return _methods._mean(a, axis=axis, dtype=dtype,\n",
      "/home/mejia/.cache/pypoetry/virtualenvs/lvm-dap-fAIgvtcU-py3.8/lib/python3.8/site-packages/numpy/core/_methods.py:189: RuntimeWarning: invalid value encountered in double_scalars\n",
      "  ret = ret.dtype.type(ret / rcount)\n",
      "fitting spectra:   1%|1         | 23/1801 [1:44:27<135:30:53, 274.38s/spectrum]"
     ]
    },
    {
     "name": "stdout",
     "output_type": "stream",
     "text": [
      "3686-5184 wavelength range: Saving 46 EML systems to file _data/out/elines_DIG_bright_linear_full_900_flux\n",
      "5220-6716 wavelength range: Saving 12 EML systems to file _data/out/elines_DIG_bright_linear_full_900_flux\n",
      "6730-6730 wavelength range: Saving 2 EML systems to file _data/out/elines_DIG_bright_linear_full_900_flux\n",
      "8300-9682 wavelength range: Saving 24 EML systems to file _data/out/elines_DIG_bright_linear_full_900_flux\n",
      "-------------------------------------------------------------------------------------------------------------\n",
      "|  ID  |  TEFF   |  LOGG   |  META   | ALPHAM  | COEFF  | Min.Coeff | log(M/L) |  AV  | N.Coeff | Err.Coeff |\n",
      "-------------------------------------------------------------------------------------------------------------\n",
      "| 0020 |  3.9178 |  2.8502 | -0.1434 |  0.4301 | 0.0026 |    0.0025 |  12.4419 | 0.00 |  0.0026 |    0.0002 | 0.0023 | 0.0002\n",
      "| 0042 |  3.8211 |  3.9899 | -0.3000 |  0.0918 | 0.1679 |    0.1680 |  13.3216 | 0.00 |  0.1679 |    0.0005 | 0.1682 | 0.0005\n",
      "| 0043 |  3.6841 |  2.6831 | -0.5948 |  0.1234 | 0.0001 |    0.0001 |  13.1753 | 0.00 |  0.0001 |    0.0000 | 0.0001 | 0.0000\n",
      "| 0072 |  3.5525 |  4.7937 | -0.2625 |  0.0162 | 0.0121 |    0.0121 |  14.8015 | 0.00 |  0.0121 |    0.0001 | 0.0120 | 0.0001\n",
      "| 0075 |  3.6607 |  2.0839 |  0.1194 | -0.0040 | 0.7638 |    0.7647 |  12.0786 | 0.00 |  0.7638 |    0.0016 | 0.7663 | 0.0013\n",
      "| 0080 |  3.5948 |  4.6425 |  0.1627 |  0.1314 | 0.0376 |    0.0375 |  13.9387 | 0.00 |  0.0376 |    0.0005 | 0.0372 | 0.0005\n",
      "| 0082 |  3.6875 |  3.4132 |  0.3526 | -0.0964 | 0.0050 |    0.0049 |  13.5051 | 0.00 |  0.0050 |    0.0002 | 0.0048 | 0.0002\n",
      "| 0083 |  3.7750 |  3.8381 | -0.2731 |  0.4494 | 0.0004 |    0.0004 |  13.9321 | 0.00 |  0.0004 |    0.0001 | 0.0003 | 0.0001\n",
      "| 0087 |  3.7006 |  3.0027 |  0.4294 |  0.2140 | 0.0086 |    0.0079 |  12.3724 | 0.00 |  0.0086 |    0.0017 | 0.0068 | 0.0015\n",
      "| 0093 |  3.5513 |  0.6333 | -1.4135 |  0.7570 | 0.0019 |    0.0019 |  14.1895 | 0.00 |  0.0019 |    0.0000 | 0.0019 | 0.0000\n",
      "-------------------------------------------------------------------------------------------------------------\n",
      "MSP CHISQ=8.37431925589634 TEFF=4839.790476064793+-37.80831747608718 LOGG=2.547545628320219+-0.019901360271005947 META=0.04592786674342667+-0.00035878730193436066 ALPHAM=0.021609762913332175+-0.00016881490652350702 AV=0.0+-0.0 REDSHIFT=0+-0 SIGMA_DISP_km_s=0+-0 RMS=0.07050200100581597 MED_FLUX=0.8612554669380188 TEFF_mass=4256.94536832675+-33.25514663496808 LOGG_mass=4.330836256975305+-0.027726798729972333 META_mass=-0.1761208787106102+-5.702410489075187e-05 ALPHAM_mass=0.0696855506435252+-1.7869482546015608e-05 MASS=4.79282116621852e+16 log_M/L=9.657323144163302 log_Mass=16.680591224532485\n",
      "--------------------------------------------------------------\n"
     ]
    },
    {
     "name": "stderr",
     "output_type": "stream",
     "text": [
      "/home/mejia/.cache/pypoetry/virtualenvs/lvm-dap-fAIgvtcU-py3.8/lib/python3.8/site-packages/numpy/core/fromnumeric.py:3440: RuntimeWarning: Mean of empty slice.\n",
      "  return _methods._mean(a, axis=axis, dtype=dtype,\n",
      "/home/mejia/.cache/pypoetry/virtualenvs/lvm-dap-fAIgvtcU-py3.8/lib/python3.8/site-packages/numpy/core/_methods.py:189: RuntimeWarning: invalid value encountered in double_scalars\n",
      "  ret = ret.dtype.type(ret / rcount)\n",
      "fitting spectra:   1%|1         | 24/1801 [1:48:53<134:04:44, 271.63s/spectrum]"
     ]
    },
    {
     "name": "stdout",
     "output_type": "stream",
     "text": [
      "3697-5184 wavelength range: Saving 48 EML systems to file _data/out/elines_DIG_bright_linear_full_900_flux\n",
      "5220-6716 wavelength range: Saving 20 EML systems to file _data/out/elines_DIG_bright_linear_full_900_flux\n",
      "6730-7637 wavelength range: Saving 3 EML systems to file _data/out/elines_DIG_bright_linear_full_900_flux\n",
      "8300-9682 wavelength range: Saving 22 EML systems to file _data/out/elines_DIG_bright_linear_full_900_flux\n",
      "-------------------------------------------------------------------------------------------------------------\n",
      "|  ID  |  TEFF   |  LOGG   |  META   | ALPHAM  | COEFF  | Min.Coeff | log(M/L) |  AV  | N.Coeff | Err.Coeff |\n",
      "-------------------------------------------------------------------------------------------------------------\n",
      "| 0035 |  3.9220 |  2.9127 |  0.4975 |  0.2669 | 0.0671 |    0.0672 |  12.0656 | 0.00 |  0.0671 |    0.0010 | 0.0674 | 0.0009\n",
      "| 0040 |  3.7782 |  4.3005 | -0.5922 |  0.0448 | 0.0867 |    0.0871 |  13.1688 | 0.00 |  0.0867 |    0.0007 | 0.0878 | 0.0006\n",
      "| 0054 |  3.5580 |  4.6137 | -0.1421 | -0.0031 | 0.1961 |    0.1969 |  14.4913 | 0.00 |  0.1961 |    0.0018 | 0.1985 | 0.0015\n",
      "| 0056 |  3.5676 |  4.4046 | -0.1537 |  0.0240 | 0.0399 |    0.0392 |  14.5276 | 0.00 |  0.0399 |    0.0026 | 0.0378 | 0.0024\n",
      "| 0068 |  3.5334 |  0.5546 | -0.3881 |  0.0406 | 0.0317 |    0.0319 |  14.2118 | 0.00 |  0.0317 |    0.0002 | 0.0323 | 0.0001\n",
      "| 0074 |  3.6611 |  2.3618 | -0.0147 |  0.0420 | 0.0334 |    0.0317 |  12.4957 | 0.00 |  0.0334 |    0.0048 | 0.0286 | 0.0045\n",
      "| 0075 |  3.6607 |  2.0839 |  0.1194 | -0.0040 | 0.3456 |    0.3473 |  12.0786 | 0.00 |  0.3456 |    0.0029 | 0.3503 | 0.0023\n",
      "| 0077 |  3.5927 |  1.1325 | -0.1682 |  0.0645 | 0.0171 |    0.0167 |  13.8827 | 0.00 |  0.0171 |    0.0012 | 0.0160 | 0.0011\n",
      "| 0080 |  3.5948 |  4.6425 |  0.1627 |  0.1314 | 0.0025 |    0.0024 |  13.9387 | 0.00 |  0.0025 |    0.0003 | 0.0022 | 0.0003\n",
      "| 0086 |  3.6552 |  4.2152 |  0.3023 |  0.1461 | 0.0252 |    0.0246 |  13.2321 | 0.00 |  0.0252 |    0.0020 | 0.0235 | 0.0019\n",
      "| 0087 |  3.7006 |  3.0027 |  0.4294 |  0.2140 | 0.1548 |    0.1551 |  12.3724 | 0.00 |  0.1548 |    0.0020 | 0.1556 | 0.0020\n",
      "-------------------------------------------------------------------------------------------------------------\n",
      "MSP CHISQ=2.281917517708263 TEFF=4626.656539508721+-141.16300186402407 LOGG=3.067310161157786+-0.09358609317540424 META=0.04819030985906955+-0.0014703250051896163 ALPHAM=0.061679120973043816+-0.0018818794510762793 AV=0.0+-0.0 REDSHIFT=0+-0 SIGMA_DISP_km_s=0+-0 RMS=0.042182486421890195 MED_FLUX=0.9222673773765564 TEFF_mass=3665.4441631493664+-111.83564131390499 LOGG_mass=4.244708697393947+-0.10934582350979606 META_mass=-0.15877927688505444+-6.138763119296022e-05 ALPHAM_mass=0.00812934054925547+-4.829361648507424e-06 MASS=2.6975490770701693e+17 log_M/L=10.377976418976456 log_Mass=17.43096935463646\n",
      "--------------------------------------------------------------\n"
     ]
    },
    {
     "name": "stderr",
     "output_type": "stream",
     "text": [
      "fitting spectra:   1%|1         | 25/1801 [1:53:12<132:11:43, 267.96s/spectrum]"
     ]
    },
    {
     "name": "stdout",
     "output_type": "stream",
     "text": [
      "3686-5158 wavelength range: Saving 36 EML systems to file _data/out/elines_DIG_bright_linear_full_900_flux\n",
      "5270-6716 wavelength range: Saving 7 EML systems to file _data/out/elines_DIG_bright_linear_full_900_flux\n",
      "6730-6730 wavelength range: Saving 2 EML systems to file _data/out/elines_DIG_bright_linear_full_900_flux\n",
      "8300-9682 wavelength range: Saving 26 EML systems to file _data/out/elines_DIG_bright_linear_full_900_flux\n",
      "-------------------------------------------------------------------------------------------------------------\n",
      "|  ID  |  TEFF   |  LOGG   |  META   | ALPHAM  | COEFF  | Min.Coeff | log(M/L) |  AV  | N.Coeff | Err.Coeff |\n",
      "-------------------------------------------------------------------------------------------------------------\n",
      "| 0005 |  3.9837 |  3.4683 | -2.0871 |  0.2826 | 0.2295 |    0.2293 |  11.7220 | 0.00 |  0.2295 |    0.0019 | 0.2289 | 0.0019\n",
      "| 0020 |  3.9178 |  2.8502 | -0.1434 |  0.4301 | 0.0163 |    0.0158 |  12.4419 | 0.00 |  0.0163 |    0.0013 | 0.0149 | 0.0012\n",
      "| 0044 |  3.6175 |  2.6876 | -0.8062 |  0.3869 | 0.0113 |    0.0110 |  12.9288 | 0.00 |  0.0113 |    0.0007 | 0.0106 | 0.0007\n",
      "| 0045 |  3.7251 |  3.1927 | -1.9643 |  0.3019 | 0.0224 |    0.0219 |  13.7054 | 0.00 |  0.0224 |    0.0012 | 0.0211 | 0.0011\n",
      "| 0072 |  3.5525 |  4.7937 | -0.2625 |  0.0162 | 0.6838 |    0.6853 |  14.8015 | 0.00 |  0.6838 |    0.0017 | 0.6880 | 0.0008\n",
      "| 0080 |  3.5948 |  4.6425 |  0.1627 |  0.1314 | 0.0011 |    0.0011 |  13.9387 | 0.00 |  0.0011 |    0.0002 | 0.0009 | 0.0002\n",
      "| 0093 |  3.5513 |  0.6333 | -1.4135 |  0.7570 | 0.0002 |    0.0001 |  14.1895 | 0.00 |  0.0002 |    0.0000 | 0.0001 | 0.0000\n",
      "| 0094 |  3.5317 |  0.8120 | -0.2795 |  0.0664 | 0.0355 |    0.0355 |  13.3101 | 0.00 |  0.0355 |    0.0002 | 0.0355 | 0.0002\n",
      "-------------------------------------------------------------------------------------------------------------\n",
      "MSP CHISQ=1.6154189099190626 TEFF=4584.910747693287+-53.76249261053941 LOGG=4.2562755708758955+-0.04990892877091672 META=-0.7237796539597197+-0.008487013256963685 ALPHAM=0.09665177560195876+-0.0011333351198188754 AV=0.0+-0.0 REDSHIFT=0+-0 SIGMA_DISP_km_s=0+-0 RMS=0.33174909543009284 MED_FLUX=0.734110951423645 TEFF_mass=3573.6966899347676+-41.90503424337977 LOGG_mass=4.781583845968387+-0.0520993144923375 META_mass=-0.26751941787179284+-0.0008712509127109185 ALPHAM_mass=0.017263971296302572+-1.3458584719003099e-05 MASS=1.1180694546585491e+18 log_M/L=11.09457099123343 log_Mass=18.04846878283309\n",
      "--------------------------------------------------------------\n"
     ]
    },
    {
     "name": "stderr",
     "output_type": "stream",
     "text": [
      "/home/mejia/.cache/pypoetry/virtualenvs/lvm-dap-fAIgvtcU-py3.8/lib/python3.8/site-packages/numpy/core/fromnumeric.py:3440: RuntimeWarning: Mean of empty slice.\n",
      "  return _methods._mean(a, axis=axis, dtype=dtype,\n",
      "/home/mejia/.cache/pypoetry/virtualenvs/lvm-dap-fAIgvtcU-py3.8/lib/python3.8/site-packages/numpy/core/_methods.py:189: RuntimeWarning: invalid value encountered in double_scalars\n",
      "  ret = ret.dtype.type(ret / rcount)\n",
      "fitting spectra:   1%|1         | 26/1801 [1:58:12<136:54:25, 277.67s/spectrum]"
     ]
    },
    {
     "name": "stdout",
     "output_type": "stream",
     "text": [
      "3691-5176 wavelength range: Saving 57 EML systems to file _data/out/elines_DIG_bright_linear_full_900_flux\n",
      "5200-6716 wavelength range: Saving 22 EML systems to file _data/out/elines_DIG_bright_linear_full_900_flux\n",
      "6730-6730 wavelength range: Saving 2 EML systems to file _data/out/elines_DIG_bright_linear_full_900_flux\n",
      "8308-9682 wavelength range: Saving 23 EML systems to file _data/out/elines_DIG_bright_linear_full_900_flux\n",
      "-------------------------------------------------------------------------------------------------------------\n",
      "|  ID  |  TEFF   |  LOGG   |  META   | ALPHAM  | COEFF  | Min.Coeff | log(M/L) |  AV  | N.Coeff | Err.Coeff |\n",
      "-------------------------------------------------------------------------------------------------------------\n",
      "| 0035 |  3.9220 |  2.9127 |  0.4975 |  0.2669 | 0.1276 |    0.1278 |  12.0656 | 0.00 |  0.1276 |    0.0004 | 0.1281 | 0.0004\n",
      "| 0042 |  3.8211 |  3.9899 | -0.3000 |  0.0918 | 0.0142 |    0.0141 |  13.3216 | 0.00 |  0.0142 |    0.0003 | 0.0140 | 0.0003\n",
      "| 0054 |  3.5580 |  4.6137 | -0.1421 | -0.0031 | 0.0797 |    0.0789 |  14.4913 | 0.00 |  0.0797 |    0.0026 | 0.0773 | 0.0024\n",
      "| 0072 |  3.5525 |  4.7937 | -0.2625 |  0.0162 | 0.0273 |    0.0265 |  14.8015 | 0.00 |  0.0273 |    0.0021 | 0.0250 | 0.0020\n",
      "| 0075 |  3.6607 |  2.0839 |  0.1194 | -0.0040 | 0.7283 |    0.7300 |  12.0786 | 0.00 |  0.7283 |    0.0018 | 0.7330 | 0.0006\n",
      "| 0080 |  3.5948 |  4.6425 |  0.1627 |  0.1314 | 0.0208 |    0.0208 |  13.9387 | 0.00 |  0.0208 |    0.0002 | 0.0207 | 0.0002\n",
      "| 0094 |  3.5317 |  0.8120 | -0.2795 |  0.0664 | 0.0021 |    0.0021 |  13.3101 | 0.00 |  0.0021 |    0.0001 | 0.0020 | 0.0001\n",
      "-------------------------------------------------------------------------------------------------------------\n",
      "MSP CHISQ=17.860642378308263 TEFF=4825.534614893395+-56.3260520907929 LOGG=2.5429303983109426+-0.02968235470458586 META=0.13049285632012214+-0.0015231778464251948 ALPHAM=0.03549384949406589+-0.0004143019530592851 AV=0.0+-0.0 REDSHIFT=0+-0 SIGMA_DISP_km_s=0+-0 RMS=0.04030395076805608 MED_FLUX=1.0868756767380336 TEFF_mass=3649.7295224788327+-42.601467320525884 LOGG_mass=4.621526363094416+-0.05833977448797632 META_mass=-0.16994406633084017+-4.1776902846618737e-05 ALPHAM_mass=0.011223179917912572+-9.408996689363833e-07 MASS=1.7172635355417098e+17 log_M/L=10.110520989730063 log_Mass=17.234836948188903\n",
      "--------------------------------------------------------------\n"
     ]
    },
    {
     "name": "stderr",
     "output_type": "stream",
     "text": [
      "/home/mejia/.cache/pypoetry/virtualenvs/lvm-dap-fAIgvtcU-py3.8/lib/python3.8/site-packages/numpy/core/fromnumeric.py:3440: RuntimeWarning: Mean of empty slice.\n",
      "  return _methods._mean(a, axis=axis, dtype=dtype,\n",
      "/home/mejia/.cache/pypoetry/virtualenvs/lvm-dap-fAIgvtcU-py3.8/lib/python3.8/site-packages/numpy/core/_methods.py:189: RuntimeWarning: invalid value encountered in double_scalars\n",
      "  ret = ret.dtype.type(ret / rcount)\n",
      "fitting spectra:   1%|1         | 27/1801 [2:03:33<143:07:29, 290.45s/spectrum]"
     ]
    },
    {
     "name": "stdout",
     "output_type": "stream",
     "text": [
      "3686-5184 wavelength range: Saving 59 EML systems to file _data/out/elines_DIG_bright_linear_full_900_flux\n",
      "5200-6716 wavelength range: Saving 29 EML systems to file _data/out/elines_DIG_bright_linear_full_900_flux\n",
      "6730-7686 wavelength range: Saving 10 EML systems to file _data/out/elines_DIG_bright_linear_full_900_flux\n",
      "8345-9682 wavelength range: Saving 28 EML systems to file _data/out/elines_DIG_bright_linear_full_900_flux\n",
      "-------------------------------------------------------------------------------------------------------------\n",
      "|  ID  |  TEFF   |  LOGG   |  META   | ALPHAM  | COEFF  | Min.Coeff | log(M/L) |  AV  | N.Coeff | Err.Coeff |\n",
      "-------------------------------------------------------------------------------------------------------------\n",
      "| 0043 |  3.6841 |  2.6831 | -0.5948 |  0.1234 | 0.0008 |    0.0008 |  13.1753 | 0.00 |  0.0008 |    0.0000 | 0.0008 | 0.0000\n",
      "| 0058 |  3.5790 |  0.9806 | -0.3125 |  0.3323 | 0.0004 |    0.0004 |  12.9605 | 0.00 |  0.0004 |    0.0000 | 0.0004 | 0.0000\n",
      "| 0059 |  3.6092 |  1.3838 |  0.1434 |  0.0343 | 0.1684 |    0.1664 |  13.0951 | 0.00 |  0.1684 |    0.0087 | 0.1628 | 0.0084\n",
      "| 0062 |  3.6034 |  4.8217 |  0.0615 |  0.0298 | 0.1471 |    0.1478 |  14.3674 | 0.00 |  0.1471 |    0.0020 | 0.1490 | 0.0019\n",
      "| 0076 |  3.6375 |  2.4336 |  0.1147 |  0.1366 | 0.0459 |    0.0446 |  12.1601 | 0.00 |  0.0459 |    0.0040 | 0.0424 | 0.0038\n",
      "| 0077 |  3.5927 |  1.1325 | -0.1682 |  0.0645 | 0.0072 |    0.0068 |  13.8827 | 0.00 |  0.0072 |    0.0010 | 0.0062 | 0.0010\n",
      "| 0079 |  3.6249 |  1.5016 | -0.3838 |  0.0606 | 0.4344 |    0.4360 |  13.2314 | 0.00 |  0.4344 |    0.0067 | 0.4389 | 0.0064\n",
      "| 0082 |  3.6875 |  3.4132 |  0.3526 | -0.0964 | 0.0002 |    0.0002 |  13.5051 | 0.00 |  0.0002 |    0.0000 | 0.0001 | 0.0000\n",
      "| 0086 |  3.6552 |  4.2152 |  0.3023 |  0.1461 | 0.1956 |    0.1969 |  13.2321 | 0.00 |  0.1956 |    0.0020 | 0.1994 | 0.0015\n",
      "-------------------------------------------------------------------------------------------------------------\n",
      "MSP CHISQ=0.4773383692023007 TEFF=4221.062907285402+-161.45365812658218 LOGG=2.5422828154532606+-0.0972411142792577 META=-0.07089761069552293+-0.0027118000490989895 ALPHAM=0.07200094275380448+-0.0027540019780563684 AV=0.0+-0.0 REDSHIFT=0+-0 SIGMA_DISP_km_s=0+-0 RMS=0.02846419035319891 MED_FLUX=0.9238594747783809 TEFF_mass=4079.0580253562002+-156.02203861204438 LOGG_mass=4.067115703642464+-0.09024200155100551 META_mass=0.010207428449411093+-1.3066654274575805e-06 ALPHAM_mass=0.04346655095731229+-3.158479516989297e-05 MASS=1.5441868572430925e+17 log_M/L=10.134957845961438 log_Mass=17.18869985180248\n",
      "--------------------------------------------------------------\n"
     ]
    },
    {
     "name": "stderr",
     "output_type": "stream",
     "text": [
      "fitting spectra:   2%|1         | 28/1801 [2:07:49<137:58:33, 280.15s/spectrum]"
     ]
    },
    {
     "name": "stdout",
     "output_type": "stream",
     "text": [
      "3686-5176 wavelength range: Saving 39 EML systems to file _data/out/elines_DIG_bright_linear_full_900_flux\n",
      "5270-6716 wavelength range: Saving 8 EML systems to file _data/out/elines_DIG_bright_linear_full_900_flux\n",
      "6730-7637 wavelength range: Saving 3 EML systems to file _data/out/elines_DIG_bright_linear_full_900_flux\n",
      "8345-9682 wavelength range: Saving 23 EML systems to file _data/out/elines_DIG_bright_linear_full_900_flux\n",
      "-------------------------------------------------------------------------------------------------------------\n",
      "|  ID  |  TEFF   |  LOGG   |  META   | ALPHAM  | COEFF  | Min.Coeff | log(M/L) |  AV  | N.Coeff | Err.Coeff |\n",
      "-------------------------------------------------------------------------------------------------------------\n",
      "| 0020 |  3.9178 |  2.8502 | -0.1434 |  0.4301 | 0.0092 |    0.0090 |  12.4419 | 0.00 |  0.0092 |    0.0007 | 0.0087 | 0.0006\n",
      "| 0035 |  3.9220 |  2.9127 |  0.4975 |  0.2669 | 0.0045 |    0.0042 |  12.0656 | 0.00 |  0.0045 |    0.0009 | 0.0036 | 0.0008\n",
      "| 0042 |  3.8211 |  3.9899 | -0.3000 |  0.0918 | 0.2467 |    0.2474 |  13.3216 | 0.00 |  0.2467 |    0.0040 | 0.2488 | 0.0040\n",
      "| 0044 |  3.6175 |  2.6876 | -0.8062 |  0.3869 | 0.0012 |    0.0012 |  12.9288 | 0.00 |  0.0012 |    0.0001 | 0.0012 | 0.0001\n",
      "| 0054 |  3.5580 |  4.6137 | -0.1421 | -0.0031 | 0.0089 |    0.0087 |  14.4913 | 0.00 |  0.0089 |    0.0008 | 0.0082 | 0.0007\n",
      "| 0072 |  3.5525 |  4.7937 | -0.2625 |  0.0162 | 0.0099 |    0.0098 |  14.8015 | 0.00 |  0.0099 |    0.0005 | 0.0096 | 0.0005\n",
      "| 0075 |  3.6607 |  2.0839 |  0.1194 | -0.0040 | 0.3906 |    0.3902 |  12.0786 | 0.00 |  0.3906 |    0.0100 | 0.3893 | 0.0100\n",
      "| 0080 |  3.5948 |  4.6425 |  0.1627 |  0.1314 | 0.3064 |    0.3068 |  13.9387 | 0.00 |  0.3064 |    0.0062 | 0.3075 | 0.0062\n",
      "| 0093 |  3.5513 |  0.6333 | -1.4135 |  0.7570 | 0.0225 |    0.0227 |  14.1895 | 0.00 |  0.0225 |    0.0002 | 0.0230 | 0.0001\n",
      "-------------------------------------------------------------------------------------------------------------\n",
      "MSP CHISQ=76.97913835524092 TEFF=4776.65925814501+-176.88898810209704 LOGG=3.3663652529539814+-0.1246630565413909 META=-0.013239531727287458+-0.0004902856250824477 ALPHAM=0.0841448840111154+-0.0031160488078177816 AV=0.0+-0.0 REDSHIFT=0+-0 SIGMA_DISP_km_s=0+-0 RMS=0.1256948545422825 MED_FLUX=1.0606657266616821 TEFF_mass=4076.25337765908+-150.95159530007663 LOGG_mass=4.246605668023126+-0.1399388819942303 META_mass=-0.09222270448204876+-2.8708838987765373e-05 ALPHAM_mass=0.14983399561979058+-0.00012045804562913783 MASS=1.6629067158927165e+17 log_M/L=10.107153262875402 log_Mass=17.22086788727764\n",
      "--------------------------------------------------------------\n"
     ]
    },
    {
     "name": "stderr",
     "output_type": "stream",
     "text": [
      "/home/mejia/.cache/pypoetry/virtualenvs/lvm-dap-fAIgvtcU-py3.8/lib/python3.8/site-packages/numpy/core/fromnumeric.py:3440: RuntimeWarning: Mean of empty slice.\n",
      "  return _methods._mean(a, axis=axis, dtype=dtype,\n",
      "/home/mejia/.cache/pypoetry/virtualenvs/lvm-dap-fAIgvtcU-py3.8/lib/python3.8/site-packages/numpy/core/_methods.py:189: RuntimeWarning: invalid value encountered in double_scalars\n",
      "  ret = ret.dtype.type(ret / rcount)\n",
      "fitting spectra:   2%|1         | 29/1801 [2:13:08<143:41:55, 291.94s/spectrum]"
     ]
    },
    {
     "name": "stdout",
     "output_type": "stream",
     "text": [
      "3686-5176 wavelength range: Saving 43 EML systems to file _data/out/elines_DIG_bright_linear_full_900_flux\n",
      "5200-6716 wavelength range: Saving 18 EML systems to file _data/out/elines_DIG_bright_linear_full_900_flux\n",
      "6730-7135 wavelength range: Saving 3 EML systems to file _data/out/elines_DIG_bright_linear_full_900_flux\n",
      "8300-9682 wavelength range: Saving 27 EML systems to file _data/out/elines_DIG_bright_linear_full_900_flux\n",
      "-------------------------------------------------------------------------------------------------------------\n",
      "|  ID  |  TEFF   |  LOGG   |  META   | ALPHAM  | COEFF  | Min.Coeff | log(M/L) |  AV  | N.Coeff | Err.Coeff |\n",
      "-------------------------------------------------------------------------------------------------------------\n",
      "| 0022 |  3.9211 |  3.5419 | -0.4455 |  0.2577 | 0.0001 |    0.0000 |  12.7263 | 0.00 |  0.0001 |    0.0000 | 0.0000 | 0.0000\n",
      "| 0035 |  3.9220 |  2.9127 |  0.4975 |  0.2669 | 0.0111 |    0.0107 |  12.0656 | 0.00 |  0.0111 |    0.0010 | 0.0102 | 0.0010\n",
      "| 0043 |  3.6841 |  2.6831 | -0.5948 |  0.1234 | 0.0020 |    0.0020 |  13.1753 | 0.00 |  0.0020 |    0.0000 | 0.0020 | 0.0000\n",
      "| 0044 |  3.6175 |  2.6876 | -0.8062 |  0.3869 | 0.0018 |    0.0018 |  12.9288 | 0.00 |  0.0018 |    0.0000 | 0.0018 | 0.0000\n",
      "| 0059 |  3.6092 |  1.3838 |  0.1434 |  0.0343 | 0.1187 |    0.1184 |  13.0951 | 0.00 |  0.1187 |    0.0029 | 0.1180 | 0.0029\n",
      "| 0068 |  3.5334 |  0.5546 | -0.3881 |  0.0406 | 0.0014 |    0.0014 |  14.2118 | 0.00 |  0.0014 |    0.0001 | 0.0014 | 0.0001\n",
      "| 0071 |  3.5543 |  4.9259 | -0.1076 | -0.0448 | 0.0013 |    0.0013 |  14.7191 | 0.00 |  0.0013 |    0.0002 | 0.0012 | 0.0002\n",
      "| 0072 |  3.5525 |  4.7937 | -0.2625 |  0.0162 | 0.0118 |    0.0118 |  14.8015 | 0.00 |  0.0118 |    0.0003 | 0.0117 | 0.0003\n",
      "| 0077 |  3.5927 |  1.1325 | -0.1682 |  0.0645 | 0.0211 |    0.0206 |  13.8827 | 0.00 |  0.0211 |    0.0017 | 0.0197 | 0.0016\n",
      "| 0078 |  3.6176 |  2.3510 | -0.5391 |  0.1008 | 0.0103 |    0.0102 |  12.7842 | 0.00 |  0.0103 |    0.0004 | 0.0101 | 0.0004\n",
      "| 0079 |  3.6249 |  1.5016 | -0.3838 |  0.0606 | 0.1236 |    0.1228 |  13.2314 | 0.00 |  0.1236 |    0.0043 | 0.1214 | 0.0042\n",
      "| 0080 |  3.5948 |  4.6425 |  0.1627 |  0.1314 | 0.0016 |    0.0015 |  13.9387 | 0.00 |  0.0016 |    0.0003 | 0.0014 | 0.0002\n",
      "| 0082 |  3.6875 |  3.4132 |  0.3526 | -0.0964 | 0.0005 |    0.0005 |  13.5051 | 0.00 |  0.0005 |    0.0000 | 0.0004 | 0.0000\n",
      "| 0086 |  3.6552 |  4.2152 |  0.3023 |  0.1461 | 0.2434 |    0.2450 |  13.2321 | 0.00 |  0.2434 |    0.0020 | 0.2478 | 0.0012\n",
      "| 0087 |  3.7006 |  3.0027 |  0.4294 |  0.2140 | 0.0014 |    0.0013 |  12.3724 | 0.00 |  0.0014 |    0.0003 | 0.0011 | 0.0002\n",
      "| 0090 |  3.6687 |  2.2820 | -0.5364 |  0.0920 | 0.2341 |    0.2343 |  13.5451 | 0.00 |  0.2341 |    0.0040 | 0.2348 | 0.0040\n",
      "| 0091 |  3.7034 |  3.5833 | -0.2093 |  0.1572 | 0.2151 |    0.2156 |  14.6761 | 0.00 |  0.2151 |    0.0032 | 0.2164 | 0.0031\n",
      "| 0094 |  3.5317 |  0.8120 | -0.2795 |  0.0664 | 0.0009 |    0.0008 |  13.3101 | 0.00 |  0.0009 |    0.0000 | 0.0008 | 0.0000\n",
      "-------------------------------------------------------------------------------------------------------------\n",
      "MSP CHISQ=0.3799016533770331 TEFF=4561.494226146737+-148.41870867458204 LOGG=2.849237907200034+-0.09270651017583775 META=-0.13663043568895625+-0.004445585552725871 ALPHAM=0.10945471197405804+-0.003561360862065777 AV=0.0+-0.0 REDSHIFT=0+-0 SIGMA_DISP_km_s=0+-0 RMS=0.05841394767096841 MED_FLUX=1.0698443625603222 TEFF_mass=4849.733359080642+-157.79723197826476 LOGG_mass=3.502472375662294+-0.07505262897196892 META_mass=-0.2145753780057788+-0.0003198759390412803 ALPHAM_mass=0.1389046913052365+-0.00012190868292103053 MASS=4.804674203256201e+17 log_M/L=10.564207252988735 log_Mass=17.681663944236593\n",
      "--------------------------------------------------------------\n"
     ]
    },
    {
     "name": "stderr",
     "output_type": "stream",
     "text": [
      "fitting spectra:   2%|1         | 30/1801 [2:16:48<132:55:06, 270.19s/spectrum]"
     ]
    },
    {
     "name": "stdout",
     "output_type": "stream",
     "text": [
      "3691-5111 wavelength range: Saving 36 EML systems to file _data/out/elines_DIG_bright_linear_full_900_flux\n",
      "5270-6716 wavelength range: Saving 8 EML systems to file _data/out/elines_DIG_bright_linear_full_900_flux\n",
      "6730-7637 wavelength range: Saving 3 EML systems to file _data/out/elines_DIG_bright_linear_full_900_flux\n",
      "8300-9682 wavelength range: Saving 24 EML systems to file _data/out/elines_DIG_bright_linear_full_900_flux\n",
      "-------------------------------------------------------------------------------------------------------------\n",
      "|  ID  |  TEFF   |  LOGG   |  META   | ALPHAM  | COEFF  | Min.Coeff | log(M/L) |  AV  | N.Coeff | Err.Coeff |\n",
      "-------------------------------------------------------------------------------------------------------------\n",
      "| 0000 |  3.9970 |  2.5946 | -1.0825 |  0.1597 | 0.0944 |    0.0937 |  14.0274 | 0.00 |  0.0944 |    0.0084 | 0.0925 | 0.0083\n",
      "| 0002 |  3.9865 |  3.3665 | -1.7064 |  0.4121 | 0.0212 |    0.0201 |  10.9304 | 0.00 |  0.0212 |    0.0042 | 0.0181 | 0.0040\n",
      "| 0003 |  3.9973 |  3.5769 | -1.4049 |  0.2428 | 0.0782 |    0.0773 |  11.7437 | 0.00 |  0.0782 |    0.0078 | 0.0756 | 0.0078\n",
      "| 0004 |  4.0082 |  4.0227 | -1.5766 |  0.4497 | 0.0775 |    0.0769 |  11.5772 | 0.00 |  0.0775 |    0.0069 | 0.0759 | 0.0068\n",
      "| 0005 |  3.9837 |  3.4683 | -2.0871 |  0.2826 | 0.0171 |    0.0163 |  11.7220 | 0.00 |  0.0171 |    0.0034 | 0.0146 | 0.0033\n",
      "| 0007 |  3.9743 |  3.6718 | -2.1832 |  0.2652 | 0.0166 |    0.0158 |  12.1924 | 0.00 |  0.0166 |    0.0033 | 0.0142 | 0.0032\n",
      "| 0008 |  4.0046 |  3.0858 | -2.6604 |  0.0534 | 0.0406 |    0.0394 |  11.9797 | 0.00 |  0.0406 |    0.0058 | 0.0371 | 0.0057\n",
      "| 0010 |  3.9875 |  3.1223 | -1.0482 | -0.1908 | 0.0123 |    0.0117 |  12.4089 | 0.00 |  0.0123 |    0.0024 | 0.0105 | 0.0023\n",
      "| 0016 |  3.9912 |  3.8512 | -2.4725 | -0.0788 | 0.0082 |    0.0078 |  12.0442 | 0.00 |  0.0082 |    0.0016 | 0.0070 | 0.0016\n",
      "| 0020 |  3.9178 |  2.8502 | -0.1434 |  0.4301 | 0.0102 |    0.0098 |  12.4419 | 0.00 |  0.0102 |    0.0016 | 0.0092 | 0.0015\n",
      "| 0043 |  3.6841 |  2.6831 | -0.5948 |  0.1234 | 0.0316 |    0.0320 |  13.1753 | 0.00 |  0.0316 |    0.0013 | 0.0329 | 0.0012\n",
      "| 0044 |  3.6175 |  2.6876 | -0.8062 |  0.3869 | 0.0284 |    0.0289 |  12.9288 | 0.00 |  0.0284 |    0.0009 | 0.0300 | 0.0007\n",
      "| 0045 |  3.7251 |  3.1927 | -1.9643 |  0.3019 | 0.0772 |    0.0787 |  13.7054 | 0.00 |  0.0772 |    0.0025 | 0.0816 | 0.0019\n",
      "| 0062 |  3.6034 |  4.8217 |  0.0615 |  0.0298 | 0.0145 |    0.0138 |  14.3674 | 0.00 |  0.0145 |    0.0028 | 0.0125 | 0.0027\n",
      "| 0063 |  3.5913 |  0.8513 | -0.2640 |  0.0303 | 0.0033 |    0.0031 |  13.0746 | 0.00 |  0.0033 |    0.0007 | 0.0028 | 0.0006\n",
      "| 0066 |  3.5452 |  5.0235 | -0.0039 | -0.0271 | 0.0788 |    0.0783 |  14.2996 | 0.00 |  0.0788 |    0.0070 | 0.0773 | 0.0069\n",
      "| 0068 |  3.5334 |  0.5546 | -0.3881 |  0.0406 | 0.0574 |    0.0581 |  14.2118 | 0.00 |  0.0574 |    0.0026 | 0.0594 | 0.0025\n",
      "| 0069 |  3.5863 |  0.6062 | -1.4037 |  0.4739 | 0.0004 |    0.0004 |  13.6754 | 0.00 |  0.0004 |    0.0001 | 0.0004 | 0.0001\n",
      "| 0071 |  3.5543 |  4.9259 | -0.1076 | -0.0448 | 0.2005 |    0.2035 |  14.7191 | 0.00 |  0.2005 |    0.0079 | 0.2094 | 0.0072\n",
      "| 0078 |  3.6176 |  2.3510 | -0.5391 |  0.1008 | 0.0031 |    0.0029 |  12.7842 | 0.00 |  0.0031 |    0.0006 | 0.0026 | 0.0006\n",
      "| 0082 |  3.6875 |  3.4132 |  0.3526 | -0.0964 | 0.1172 |    0.1199 |  13.5051 | 0.00 |  0.1172 |    0.0034 | 0.1253 | 0.0019\n",
      "| 0093 |  3.5513 |  0.6333 | -1.4135 |  0.7570 | 0.0024 |    0.0024 |  14.1895 | 0.00 |  0.0024 |    0.0002 | 0.0023 | 0.0002\n",
      "| 0094 |  3.5317 |  0.8120 | -0.2795 |  0.0664 | 0.0089 |    0.0089 |  13.3101 | 0.00 |  0.0089 |    0.0008 | 0.0087 | 0.0008\n",
      "-------------------------------------------------------------------------------------------------------------\n",
      "MSP CHISQ=0.3343794986598747 TEFF=5673.857891893318+-710.04103547925 LOGG=3.564258422676015+-0.44604038193632295 META=-0.7891453306096061+-0.09875565767874457 ALPHAM=0.11194293946781514+-0.014008824713055212 AV=0.0+-0.0 REDSHIFT=0+-0 SIGMA_DISP_km_s=0+-0 RMS=3.073877755404701 MED_FLUX=3.2149198055267334 TEFF_mass=3899.9883025975673+-488.05447466173615 LOGG_mass=4.401126026233877+-0.5074037690232948 META_mass=-0.21915898804710798+-0.00778110604468516 ALPHAM_mass=-0.01130771613394203+-5.42979082420808e-05 MASS=1.7182850920540995e+18 log_M/L=10.639788989296088 log_Mass=18.23509522214596\n",
      "--------------------------------------------------------------\n"
     ]
    },
    {
     "name": "stderr",
     "output_type": "stream",
     "text": [
      "/home/mejia/.cache/pypoetry/virtualenvs/lvm-dap-fAIgvtcU-py3.8/lib/python3.8/site-packages/numpy/core/fromnumeric.py:3440: RuntimeWarning: Mean of empty slice.\n",
      "  return _methods._mean(a, axis=axis, dtype=dtype,\n",
      "/home/mejia/.cache/pypoetry/virtualenvs/lvm-dap-fAIgvtcU-py3.8/lib/python3.8/site-packages/numpy/core/_methods.py:189: RuntimeWarning: invalid value encountered in double_scalars\n",
      "  ret = ret.dtype.type(ret / rcount)\n",
      "fitting spectra:   2%|1         | 31/1801 [2:21:11<131:48:58, 268.10s/spectrum]"
     ]
    },
    {
     "name": "stdout",
     "output_type": "stream",
     "text": [
      "3686-5176 wavelength range: Saving 49 EML systems to file _data/out/elines_DIG_bright_linear_full_900_flux\n",
      "5200-6716 wavelength range: Saving 11 EML systems to file _data/out/elines_DIG_bright_linear_full_900_flux\n",
      "6730-7135 wavelength range: Saving 3 EML systems to file _data/out/elines_DIG_bright_linear_full_900_flux\n",
      "8357-9682 wavelength range: Saving 21 EML systems to file _data/out/elines_DIG_bright_linear_full_900_flux\n",
      "-------------------------------------------------------------------------------------------------------------\n",
      "|  ID  |  TEFF   |  LOGG   |  META   | ALPHAM  | COEFF  | Min.Coeff | log(M/L) |  AV  | N.Coeff | Err.Coeff |\n",
      "-------------------------------------------------------------------------------------------------------------\n",
      "| 0020 |  3.9178 |  2.8502 | -0.1434 |  0.4301 | 0.0071 |    0.0070 |  12.4419 | 0.00 |  0.0071 |    0.0002 | 0.0070 | 0.0002\n",
      "| 0022 |  3.9211 |  3.5419 | -0.4455 |  0.2577 | 0.0030 |    0.0029 |  12.7263 | 0.00 |  0.0030 |    0.0003 | 0.0027 | 0.0003\n",
      "| 0026 |  3.9201 |  3.2736 |  0.6849 | -0.0245 | 0.0015 |    0.0014 |  12.4392 | 0.00 |  0.0015 |    0.0003 | 0.0012 | 0.0003\n",
      "| 0040 |  3.7782 |  4.3005 | -0.5922 |  0.0448 | 0.0096 |    0.0089 |  13.1688 | 0.00 |  0.0096 |    0.0019 | 0.0077 | 0.0017\n",
      "| 0042 |  3.8211 |  3.9899 | -0.3000 |  0.0918 | 0.0477 |    0.0471 |  13.3216 | 0.00 |  0.0477 |    0.0025 | 0.0459 | 0.0024\n",
      "| 0043 |  3.6841 |  2.6831 | -0.5948 |  0.1234 | 0.0020 |    0.0020 |  13.1753 | 0.00 |  0.0020 |    0.0000 | 0.0020 | 0.0000\n",
      "| 0044 |  3.6175 |  2.6876 | -0.8062 |  0.3869 | 0.0001 |    0.0001 |  12.9288 | 0.00 |  0.0001 |    0.0000 | 0.0000 | 0.0000\n",
      "| 0054 |  3.5580 |  4.6137 | -0.1421 | -0.0031 | 0.0047 |    0.0044 |  14.4913 | 0.00 |  0.0047 |    0.0009 | 0.0038 | 0.0008\n",
      "| 0061 |  3.5870 |  0.9341 | -0.2500 |  0.0797 | 0.0501 |    0.0499 |  13.5128 | 0.00 |  0.0501 |    0.0014 | 0.0495 | 0.0013\n",
      "| 0063 |  3.5913 |  0.8513 | -0.2640 |  0.0303 | 0.0016 |    0.0015 |  13.0746 | 0.00 |  0.0016 |    0.0003 | 0.0013 | 0.0003\n",
      "| 0072 |  3.5525 |  4.7937 | -0.2625 |  0.0162 | 0.1239 |    0.1246 |  14.8015 | 0.00 |  0.1239 |    0.0010 | 0.1259 | 0.0007\n",
      "| 0075 |  3.6607 |  2.0839 |  0.1194 | -0.0040 | 0.3215 |    0.3233 |  12.0786 | 0.00 |  0.3215 |    0.0026 | 0.3266 | 0.0019\n",
      "| 0077 |  3.5927 |  1.1325 | -0.1682 |  0.0645 | 0.0099 |    0.0095 |  13.8827 | 0.00 |  0.0099 |    0.0012 | 0.0087 | 0.0011\n",
      "| 0080 |  3.5948 |  4.6425 |  0.1627 |  0.1314 | 0.0621 |    0.0624 |  13.9387 | 0.00 |  0.0621 |    0.0005 | 0.0630 | 0.0004\n",
      "| 0087 |  3.7006 |  3.0027 |  0.4294 |  0.2140 | 0.2247 |    0.2260 |  12.3724 | 0.00 |  0.2247 |    0.0018 | 0.2283 | 0.0013\n",
      "| 0089 |  3.7168 |  3.4819 | -0.4466 |  0.0795 | 0.1244 |    0.1229 |  14.7187 | 0.00 |  0.1244 |    0.0060 | 0.1201 | 0.0058\n",
      "| 0094 |  3.5317 |  0.8120 | -0.2795 |  0.0664 | 0.0062 |    0.0062 |  13.3101 | 0.00 |  0.0062 |    0.0000 | 0.0063 | 0.0000\n",
      "-------------------------------------------------------------------------------------------------------------\n",
      "MSP CHISQ=1.771289406765846 TEFF=4626.279713322938+-154.16854140224876 LOGG=3.0188984840593838+-0.10060333675643587 META=0.017345718591956633+-0.0005780377107753908 ALPHAM=0.08076151470416001+-0.0026913385473688674 AV=0.0+-0.0 REDSHIFT=0+-0 SIGMA_DISP_km_s=0+-0 RMS=0.04943133766394783 MED_FLUX=0.9071919918060303 TEFF_mass=4230.510622312901+-140.9797272202188 LOGG_mass=4.154380323295671+-0.11916025828017573 META_mass=-0.32058694719464514+-0.0005989465652388526 ALPHAM_mass=0.04878631707526798+-3.3934081571517875e-05 MASS=4.921686047648544e+17 log_M/L=10.646278610229446 log_Mass=17.69211390678196\n",
      "--------------------------------------------------------------\n",
      "3686-5176 wavelength range: Saving 42 EML systems to file _data/out/elines_DIG_bright_linear_full_900_flux\n",
      "5200-6716 wavelength range: Saving 8 EML systems to file _data/out/elines_DIG_bright_linear_full_900_flux\n",
      "6730-7637 wavelength range: Saving 3 EML systems to file _data/out/elines_DIG_bright_linear_full_900_flux\n",
      "8300-9682 wavelength range: Saving 26 EML systems to file _data/out/elines_DIG_bright_linear_full_900_flux\n",
      "-------------------------------------------------------------------------------------------------------------\n",
      "|  ID  |  TEFF   |  LOGG   |  META   | ALPHAM  | COEFF  | Min.Coeff | log(M/L) |  AV  | N.Coeff | Err.Coeff |\n",
      "-------------------------------------------------------------------------------------------------------------\n",
      "| 0003 |  3.9973 |  3.5769 | -1.4049 |  0.2428 | 0.0005 |    0.0005 |  11.7437 | 0.00 |  0.0005 |    0.0001 | 0.0004 | 0.0001\n",
      "| 0006 |  3.9397 |  2.8905 | -2.3637 |  0.0845 | 0.0002 |    0.0002 |  11.0819 | 0.00 |  0.0002 |    0.0000 | 0.0002 | 0.0000\n",
      "| 0020 |  3.9178 |  2.8502 | -0.1434 |  0.4301 | 0.0036 |    0.0035 |  12.4419 | 0.00 |  0.0036 |    0.0004 | 0.0032 | 0.0004\n",
      "| 0035 |  3.9220 |  2.9127 |  0.4975 |  0.2669 | 0.0349 |    0.0341 |  12.0656 | 0.00 |  0.0349 |    0.0028 | 0.0327 | 0.0026\n",
      "| 0042 |  3.8211 |  3.9899 | -0.3000 |  0.0918 | 0.2179 |    0.2188 |  13.3216 | 0.00 |  0.2179 |    0.0034 | 0.2205 | 0.0033\n",
      "| 0043 |  3.6841 |  2.6831 | -0.5948 |  0.1234 | 0.0009 |    0.0009 |  13.1753 | 0.00 |  0.0009 |    0.0001 | 0.0008 | 0.0001\n",
      "| 0054 |  3.5580 |  4.6137 | -0.1421 | -0.0031 | 0.1286 |    0.1266 |  14.4913 | 0.00 |  0.1286 |    0.0079 | 0.1231 | 0.0076\n",
      "| 0072 |  3.5525 |  4.7937 | -0.2625 |  0.0162 | 0.1555 |    0.1544 |  14.8015 | 0.00 |  0.1555 |    0.0065 | 0.1524 | 0.0064\n",
      "| 0075 |  3.6607 |  2.0839 |  0.1194 | -0.0040 | 0.3207 |    0.3232 |  12.0786 | 0.00 |  0.3207 |    0.0034 | 0.3279 | 0.0022\n",
      "| 0080 |  3.5948 |  4.6425 |  0.1627 |  0.1314 | 0.1071 |    0.1077 |  13.9387 | 0.00 |  0.1071 |    0.0014 | 0.1089 | 0.0012\n",
      "| 0083 |  3.7750 |  3.8381 | -0.2731 |  0.4494 | 0.0131 |    0.0131 |  13.9321 | 0.00 |  0.0131 |    0.0006 | 0.0129 | 0.0005\n",
      "| 0093 |  3.5513 |  0.6333 | -1.4135 |  0.7570 | 0.0063 |    0.0063 |  14.1895 | 0.00 |  0.0063 |    0.0001 | 0.0064 | 0.0000\n",
      "| 0094 |  3.5317 |  0.8120 | -0.2795 |  0.0664 | 0.0107 |    0.0107 |  13.3101 | 0.00 |  0.0107 |    0.0002 | 0.0107 | 0.0002\n",
      "-------------------------------------------------------------------------------------------------------------\n",
      "MSP CHISQ=9.587243648268844 TEFF=4659.039083060381+-195.66539848205554 LOGG=3.553466939878078+-0.1492347482793253 META=-0.06905135342496005+-0.0028999457490588637 ALPHAM=0.05737011368885651+-0.0024093693905047364 AV=0.0+-0.0 REDSHIFT=0+-0 SIGMA_DISP_km_s=0+-0 RMS=0.1094482528608181 MED_FLUX=0.6864855289459229 TEFF_mass=3684.353215904901+-154.73157174400384 LOGG_mass=4.668533846432662+-0.21385562580368087 META_mass=-0.21326525333677443+-0.0002292326973557035 ALPHAM_mass=0.02826299518858426+-2.204492146767403e-05 MASS=3.72244510519865e+17 log_M/L=10.646060826461337 log_Mass=17.570828301941983\n",
      "--------------------------------------------------------------\n"
     ]
    },
    {
     "name": "stderr",
     "output_type": "stream",
     "text": [
      "fitting spectra:   2%|1         | 33/1801 [2:28:50<121:20:09, 247.06s/spectrum]"
     ]
    },
    {
     "name": "stdout",
     "output_type": "stream",
     "text": [
      "3686-5015 wavelength range: Saving 35 EML systems to file _data/out/elines_DIG_bright_linear_full_900_flux\n",
      "5270-6716 wavelength range: Saving 8 EML systems to file _data/out/elines_DIG_bright_linear_full_900_flux\n",
      "6730-6730 wavelength range: Saving 2 EML systems to file _data/out/elines_DIG_bright_linear_full_900_flux\n",
      "8300-9682 wavelength range: Saving 24 EML systems to file _data/out/elines_DIG_bright_linear_full_900_flux\n",
      "-------------------------------------------------------------------------------------------------------------\n",
      "|  ID  |  TEFF   |  LOGG   |  META   | ALPHAM  | COEFF  | Min.Coeff | log(M/L) |  AV  | N.Coeff | Err.Coeff |\n",
      "-------------------------------------------------------------------------------------------------------------\n",
      "| 0004 |  4.0082 |  4.0227 | -1.5766 |  0.4497 | 0.0901 |    0.0894 |  11.5772 | 0.00 |  0.0901 |    0.0059 | 0.0881 | 0.0059\n",
      "| 0005 |  3.9837 |  3.4683 | -2.0871 |  0.2826 | 0.1625 |    0.1628 |  11.7220 | 0.00 |  0.1625 |    0.0071 | 0.1633 | 0.0070\n",
      "| 0020 |  3.9178 |  2.8502 | -0.1434 |  0.4301 | 0.0584 |    0.0579 |  12.4419 | 0.00 |  0.0584 |    0.0039 | 0.0570 | 0.0039\n",
      "| 0043 |  3.6841 |  2.6831 | -0.5948 |  0.1234 | 0.0424 |    0.0425 |  13.1753 | 0.00 |  0.0424 |    0.0017 | 0.0428 | 0.0017\n",
      "| 0055 |  3.5675 |  4.5195 | -0.2704 |  0.0382 | 0.0238 |    0.0224 |  14.9067 | 0.00 |  0.0238 |    0.0046 | 0.0197 | 0.0044\n",
      "| 0064 |  3.7728 |  3.6600 | -0.7627 |  0.1747 | 0.2494 |    0.2528 |  14.2166 | 0.00 |  0.2494 |    0.0051 | 0.2594 | 0.0037\n",
      "| 0066 |  3.5452 |  5.0235 | -0.0039 | -0.0271 | 0.1221 |    0.1216 |  14.2996 | 0.00 |  0.1221 |    0.0069 | 0.1207 | 0.0069\n",
      "| 0068 |  3.5334 |  0.5546 | -0.3881 |  0.0406 | 0.0042 |    0.0039 |  14.2118 | 0.00 |  0.0042 |    0.0008 | 0.0035 | 0.0008\n",
      "| 0071 |  3.5543 |  4.9259 | -0.1076 | -0.0448 | 0.1636 |    0.1635 |  14.7191 | 0.00 |  0.1636 |    0.0081 | 0.1633 | 0.0081\n",
      "| 0078 |  3.6176 |  2.3510 | -0.5391 |  0.1008 | 0.0682 |    0.0679 |  12.7842 | 0.00 |  0.0682 |    0.0039 | 0.0674 | 0.0039\n",
      "| 0093 |  3.5513 |  0.6333 | -1.4135 |  0.7570 | 0.0017 |    0.0017 |  14.1895 | 0.00 |  0.0017 |    0.0002 | 0.0016 | 0.0002\n",
      "| 0094 |  3.5317 |  0.8120 | -0.2795 |  0.0664 | 0.0137 |    0.0136 |  13.3101 | 0.00 |  0.0137 |    0.0010 | 0.0133 | 0.0010\n",
      "-------------------------------------------------------------------------------------------------------------\n",
      "MSP CHISQ=0.22294690142511045 TEFF=5614.410594006612+-443.0930743052684 LOGG=3.820216766574021+-0.30149408620395274 META=-0.7740970457467027+-0.06109226143465213 ALPHAM=0.1598797810026005+-0.012617820249790565 AV=0.0+-0.0 REDSHIFT=0+-0 SIGMA_DISP_km_s=0+-0 RMS=5.111691101889129 MED_FLUX=4.441636085510254 TEFF_mass=4050.9351662328395+-319.7025380604571 LOGG_mass=4.54593585901012+-0.3685298489120349 META_mass=-0.27424704558611485+-0.004084470093377244 ALPHAM_mass=0.02250742274316664+-7.453737728139193e-05 MASS=2.686346395242753e+18 log_M/L=10.693482951217623 log_Mass=18.429162012741806\n",
      "--------------------------------------------------------------\n"
     ]
    },
    {
     "name": "stderr",
     "output_type": "stream",
     "text": [
      "/home/mejia/.cache/pypoetry/virtualenvs/lvm-dap-fAIgvtcU-py3.8/lib/python3.8/site-packages/numpy/core/fromnumeric.py:3440: RuntimeWarning: Mean of empty slice.\n",
      "  return _methods._mean(a, axis=axis, dtype=dtype,\n",
      "/home/mejia/.cache/pypoetry/virtualenvs/lvm-dap-fAIgvtcU-py3.8/lib/python3.8/site-packages/numpy/core/_methods.py:189: RuntimeWarning: invalid value encountered in double_scalars\n",
      "  ret = ret.dtype.type(ret / rcount)\n",
      "fitting spectra:   2%|1         | 34/1801 [2:33:51<129:08:40, 263.11s/spectrum]"
     ]
    },
    {
     "name": "stdout",
     "output_type": "stream",
     "text": [
      "3691-5184 wavelength range: Saving 55 EML systems to file _data/out/elines_DIG_bright_linear_full_900_flux\n",
      "5191-6716 wavelength range: Saving 32 EML systems to file _data/out/elines_DIG_bright_linear_full_900_flux\n",
      "6730-7637 wavelength range: Saving 7 EML systems to file _data/out/elines_DIG_bright_linear_full_900_flux\n",
      "8345-9682 wavelength range: Saving 18 EML systems to file _data/out/elines_DIG_bright_linear_full_900_flux\n",
      "-------------------------------------------------------------------------------------------------------------\n",
      "|  ID  |  TEFF   |  LOGG   |  META   | ALPHAM  | COEFF  | Min.Coeff | log(M/L) |  AV  | N.Coeff | Err.Coeff |\n",
      "-------------------------------------------------------------------------------------------------------------\n",
      "| 0020 |  3.9178 |  2.8502 | -0.1434 |  0.4301 | 0.0003 |    0.0003 |  12.4419 | 0.00 |  0.0003 |    0.0000 | 0.0003 | 0.0000\n",
      "| 0035 |  3.9220 |  2.9127 |  0.4975 |  0.2669 | 0.1162 |    0.1164 |  12.0656 | 0.00 |  0.1162 |    0.0003 | 0.1168 | 0.0001\n",
      "| 0040 |  3.7782 |  4.3005 | -0.5922 |  0.0448 | 0.1520 |    0.1515 |  13.1688 | 0.00 |  0.1520 |    0.0019 | 0.1507 | 0.0018\n",
      "| 0075 |  3.6607 |  2.0839 |  0.1194 | -0.0040 | 0.0036 |    0.0035 |  12.0786 | 0.00 |  0.0036 |    0.0002 | 0.0034 | 0.0001\n",
      "| 0086 |  3.6552 |  4.2152 |  0.3023 |  0.1461 | 0.0434 |    0.0435 |  13.2321 | 0.00 |  0.0434 |    0.0001 | 0.0436 | 0.0001\n",
      "| 0088 |  3.7623 |  4.0596 | -0.4583 |  0.0735 | 0.4294 |    0.4294 |  14.1363 | 0.00 |  0.4294 |    0.0023 | 0.4293 | 0.0023\n",
      "| 0089 |  3.7168 |  3.4819 | -0.4466 |  0.0795 | 0.2097 |    0.2101 |  14.7187 | 0.00 |  0.2097 |    0.0005 | 0.2106 | 0.0004\n",
      "| 0091 |  3.7034 |  3.5833 | -0.2093 |  0.1572 | 0.0454 |    0.0453 |  14.6761 | 0.00 |  0.0454 |    0.0003 | 0.0453 | 0.0003\n",
      "-------------------------------------------------------------------------------------------------------------\n",
      "MSP CHISQ=4.629858303924348 TEFF=5835.442645694795+-52.52477155355874 LOGG=3.8195617320814335+-0.03437984392843013 META=-0.31868277800559885+-0.0028684610798371687 ALPHAM=0.09966075179744247+-0.0008970456122773395 AV=0.0+-0.0 REDSHIFT=0+-0 SIGMA_DISP_km_s=0+-0 RMS=0.021963798960114623 MED_FLUX=1.3121529817581177 TEFF_mass=5367.111941354608+-48.309330712042815 LOGG_mass=3.6808393612321124+-0.03479635716222492 META_mass=-0.4218687270233161+-0.0004160230317909351 ALPHAM_mass=0.08634639770604903+-1.6229230608242375e-05 MASS=8.87179556861235e+17 log_M/L=10.741890965505617 log_Mass=17.94801152587707\n",
      "--------------------------------------------------------------\n"
     ]
    },
    {
     "name": "stderr",
     "output_type": "stream",
     "text": [
      "/home/mejia/.cache/pypoetry/virtualenvs/lvm-dap-fAIgvtcU-py3.8/lib/python3.8/site-packages/numpy/core/fromnumeric.py:3440: RuntimeWarning: Mean of empty slice.\n",
      "  return _methods._mean(a, axis=axis, dtype=dtype,\n",
      "/home/mejia/.cache/pypoetry/virtualenvs/lvm-dap-fAIgvtcU-py3.8/lib/python3.8/site-packages/numpy/core/_methods.py:189: RuntimeWarning: invalid value encountered in double_scalars\n",
      "  ret = ret.dtype.type(ret / rcount)\n",
      "fitting spectra:   2%|1         | 35/1801 [2:38:39<132:48:13, 270.72s/spectrum]"
     ]
    },
    {
     "name": "stdout",
     "output_type": "stream",
     "text": [
      "3697-5176 wavelength range: Saving 50 EML systems to file _data/out/elines_DIG_bright_linear_full_900_flux\n",
      "5191-6716 wavelength range: Saving 33 EML systems to file _data/out/elines_DIG_bright_linear_full_900_flux\n",
      "6730-8229 wavelength range: Saving 15 EML systems to file _data/out/elines_DIG_bright_linear_full_900_flux\n",
      "8300-9531 wavelength range: Saving 18 EML systems to file _data/out/elines_DIG_bright_linear_full_900_flux\n",
      "-------------------------------------------------------------------------------------------------------------\n",
      "|  ID  |  TEFF   |  LOGG   |  META   | ALPHAM  | COEFF  | Min.Coeff | log(M/L) |  AV  | N.Coeff | Err.Coeff |\n",
      "-------------------------------------------------------------------------------------------------------------\n",
      "| 0027 |  3.8020 |  3.4271 |  0.4132 |  0.1126 | 0.2003 |    0.2005 |  11.2388 | 0.00 |  0.2003 |    0.0003 | 0.2009 | 0.0002\n",
      "| 0029 |  3.8901 |  4.7868 | -0.1984 | -0.0742 | 0.0215 |    0.0212 |  14.4435 | 0.00 |  0.0215 |    0.0008 | 0.0206 | 0.0008\n",
      "| 0037 |  3.7396 |  2.1982 | -3.0820 |  0.6766 | 0.0001 |    0.0001 |  12.3007 | 0.00 |  0.0001 |    0.0000 | 0.0001 | 0.0000\n",
      "| 0040 |  3.7782 |  4.3005 | -0.5922 |  0.0448 | 0.4063 |    0.4066 |  13.1688 | 0.00 |  0.4063 |    0.0008 | 0.4073 | 0.0008\n",
      "| 0042 |  3.8211 |  3.9899 | -0.3000 |  0.0918 | 0.0152 |    0.0148 |  13.3216 | 0.00 |  0.0152 |    0.0011 | 0.0140 | 0.0010\n",
      "| 0079 |  3.6249 |  1.5016 | -0.3838 |  0.0606 | 0.0536 |    0.0535 |  13.2314 | 0.00 |  0.0536 |    0.0003 | 0.0535 | 0.0003\n",
      "| 0086 |  3.6552 |  4.2152 |  0.3023 |  0.1461 | 0.0970 |    0.0971 |  13.2321 | 0.00 |  0.0970 |    0.0002 | 0.0973 | 0.0001\n",
      "| 0092 |  3.7330 |  2.4575 | -0.1315 |  0.0299 | 0.2060 |    0.2061 |  11.9398 | 0.00 |  0.2060 |    0.0006 | 0.2062 | 0.0006\n",
      "-------------------------------------------------------------------------------------------------------------\n",
      "MSP CHISQ=0.6835843282051423 TEFF=5709.051792810098+-38.54971903650898 LOGG=3.593195967963354+-0.02426264466238514 META=-0.1853454982435171+-0.001251524270802323 ALPHAM=0.06417907014271951+-0.00043336182816594316 AV=0.0+-0.0 REDSHIFT=0+-0 SIGMA_DISP_km_s=0+-0 RMS=0.019875715667258067 MED_FLUX=1.3192143440246582 TEFF_mass=6312.475806961032+-42.62427065201483 LOGG_mass=4.283943349322811+-0.028858130997908956 META_mass=-0.31121088380310286+-0.00013883231395819942 ALPHAM_mass=0.010656549543995657+-8.214158381920721e-07 MASS=6.9581638270583384e+16 log_M/L=9.634043196299194 log_Mass=16.84249464981396\n",
      "--------------------------------------------------------------\n"
     ]
    },
    {
     "name": "stderr",
     "output_type": "stream",
     "text": [
      "/home/mejia/.cache/pypoetry/virtualenvs/lvm-dap-fAIgvtcU-py3.8/lib/python3.8/site-packages/numpy/core/fromnumeric.py:3440: RuntimeWarning: Mean of empty slice.\n",
      "  return _methods._mean(a, axis=axis, dtype=dtype,\n",
      "/home/mejia/.cache/pypoetry/virtualenvs/lvm-dap-fAIgvtcU-py3.8/lib/python3.8/site-packages/numpy/core/_methods.py:189: RuntimeWarning: invalid value encountered in double_scalars\n",
      "  ret = ret.dtype.type(ret / rcount)\n"
     ]
    },
    {
     "name": "stdout",
     "output_type": "stream",
     "text": [
      "3697-5176 wavelength range: Saving 47 EML systems to file _data/out/elines_DIG_bright_linear_full_900_flux\n",
      "5200-6716 wavelength range: Saving 17 EML systems to file _data/out/elines_DIG_bright_linear_full_900_flux\n",
      "6730-7637 wavelength range: Saving 4 EML systems to file _data/out/elines_DIG_bright_linear_full_900_flux\n",
      "8345-9682 wavelength range: Saving 20 EML systems to file _data/out/elines_DIG_bright_linear_full_900_flux\n",
      "-------------------------------------------------------------------------------------------------------------\n",
      "|  ID  |  TEFF   |  LOGG   |  META   | ALPHAM  | COEFF  | Min.Coeff | log(M/L) |  AV  | N.Coeff | Err.Coeff |\n",
      "-------------------------------------------------------------------------------------------------------------\n",
      "| 0035 |  3.9220 |  2.9127 |  0.4975 |  0.2669 | 0.0914 |    0.0923 |  12.0656 | 0.00 |  0.0914 |    0.0013 | 0.0939 | 0.0010\n",
      "| 0040 |  3.7782 |  4.3005 | -0.5922 |  0.0448 | 0.0226 |    0.0223 |  13.1688 | 0.00 |  0.0226 |    0.0014 | 0.0218 | 0.0014\n",
      "| 0043 |  3.6841 |  2.6831 | -0.5948 |  0.1234 | 0.0001 |    0.0001 |  13.1753 | 0.00 |  0.0001 |    0.0000 | 0.0001 | 0.0000\n",
      "| 0044 |  3.6175 |  2.6876 | -0.8062 |  0.3869 | 0.0001 |    0.0001 |  12.9288 | 0.00 |  0.0001 |    0.0000 | 0.0001 | 0.0000\n",
      "| 0045 |  3.7251 |  3.1927 | -1.9643 |  0.3019 | 0.0007 |    0.0007 |  13.7054 | 0.00 |  0.0007 |    0.0000 | 0.0007 | 0.0000\n",
      "| 0054 |  3.5580 |  4.6137 | -0.1421 | -0.0031 | 0.1025 |    0.1032 |  14.4913 | 0.00 |  0.1025 |    0.0019 | 0.1045 | 0.0017\n",
      "| 0056 |  3.5676 |  4.4046 | -0.1537 |  0.0240 | 0.0643 |    0.0641 |  14.5276 | 0.00 |  0.0643 |    0.0028 | 0.0636 | 0.0027\n",
      "| 0068 |  3.5334 |  0.5546 | -0.3881 |  0.0406 | 0.0249 |    0.0251 |  14.2118 | 0.00 |  0.0249 |    0.0006 | 0.0253 | 0.0005\n",
      "| 0074 |  3.6611 |  2.3618 | -0.0147 |  0.0420 | 0.1847 |    0.1838 |  12.4957 | 0.00 |  0.1847 |    0.0081 | 0.1822 | 0.0081\n",
      "| 0075 |  3.6607 |  2.0839 |  0.1194 | -0.0040 | 0.2841 |    0.2860 |  12.0786 | 0.00 |  0.2841 |    0.0053 | 0.2896 | 0.0050\n",
      "| 0078 |  3.6176 |  2.3510 | -0.5391 |  0.1008 | 0.0005 |    0.0005 |  12.7842 | 0.00 |  0.0005 |    0.0001 | 0.0004 | 0.0001\n",
      "| 0080 |  3.5948 |  4.6425 |  0.1627 |  0.1314 | 0.0496 |    0.0500 |  13.9387 | 0.00 |  0.0496 |    0.0008 | 0.0508 | 0.0006\n",
      "| 0082 |  3.6875 |  3.4132 |  0.3526 | -0.0964 | 0.0084 |    0.0085 |  13.5051 | 0.00 |  0.0084 |    0.0001 | 0.0086 | 0.0001\n",
      "| 0087 |  3.7006 |  3.0027 |  0.4294 |  0.2140 | 0.0400 |    0.0394 |  12.3724 | 0.00 |  0.0400 |    0.0026 | 0.0385 | 0.0025\n",
      "| 0089 |  3.7168 |  3.4819 | -0.4466 |  0.0795 | 0.0102 |    0.0096 |  14.7187 | 0.00 |  0.0102 |    0.0020 | 0.0084 | 0.0019\n",
      "| 0090 |  3.6687 |  2.2820 | -0.5364 |  0.0920 | 0.1060 |    0.1050 |  13.5451 | 0.00 |  0.1060 |    0.0061 | 0.1030 | 0.0060\n",
      "| 0092 |  3.7330 |  2.4575 | -0.1315 |  0.0299 | 0.0071 |    0.0068 |  11.9398 | 0.00 |  0.0071 |    0.0011 | 0.0061 | 0.0011\n",
      "| 0094 |  3.5317 |  0.8120 | -0.2795 |  0.0664 | 0.0027 |    0.0026 |  13.3101 | 0.00 |  0.0027 |    0.0003 | 0.0024 | 0.0003\n",
      "-------------------------------------------------------------------------------------------------------------\n",
      "MSP CHISQ=0.6738276772243998 TEFF=4653.571695967449+-253.24795278636788 LOGG=2.8417623770611193+-0.15464906341073054 META=-0.007607841231737314+-0.00041401966982280503 ALPHAM=0.05981361457117979+-0.00325506437389379 AV=0.0+-0.0 REDSHIFT=0+-0 SIGMA_DISP_km_s=0+-0 RMS=0.05831551448336173 MED_FLUX=0.9438590529308328 TEFF_mass=3824.9239368356484+-208.15283826111235 LOGG_mass=4.0795386319257725+-0.17065049103436974 META_mass=-0.18123223005130057+-0.0002979580948700117 ALPHAM_mass=0.027472205408124367+-2.6617993041057817e-05 MASS=2.4020263349211094e+17 log_M/L=10.317534530164895 log_Mass=17.380577764535754\n",
      "--------------------------------------------------------------\n"
     ]
    },
    {
     "name": "stderr",
     "output_type": "stream",
     "text": [
      "fitting spectra:   2%|2         | 37/1801 [2:48:06<135:47:21, 277.12s/spectrum]"
     ]
    },
    {
     "name": "stdout",
     "output_type": "stream",
     "text": [
      "3691-5158 wavelength range: Saving 36 EML systems to file _data/out/elines_DIG_bright_linear_full_900_flux\n",
      "5270-6716 wavelength range: Saving 7 EML systems to file _data/out/elines_DIG_bright_linear_full_900_flux\n",
      "6730-7637 wavelength range: Saving 4 EML systems to file _data/out/elines_DIG_bright_linear_full_900_flux\n",
      "8308-9682 wavelength range: Saving 20 EML systems to file _data/out/elines_DIG_bright_linear_full_900_flux\n",
      "-------------------------------------------------------------------------------------------------------------\n",
      "|  ID  |  TEFF   |  LOGG   |  META   | ALPHAM  | COEFF  | Min.Coeff | log(M/L) |  AV  | N.Coeff | Err.Coeff |\n",
      "-------------------------------------------------------------------------------------------------------------\n",
      "| 0005 |  3.9837 |  3.4683 | -2.0871 |  0.2826 | 0.1258 |    0.1255 |  11.7220 | 0.00 |  0.1258 |    0.0017 | 0.1249 | 0.0016\n",
      "| 0006 |  3.9397 |  2.8905 | -2.3637 |  0.0845 | 0.0080 |    0.0074 |  11.0819 | 0.00 |  0.0080 |    0.0015 | 0.0063 | 0.0014\n",
      "| 0044 |  3.6175 |  2.6876 | -0.8062 |  0.3869 | 0.0035 |    0.0033 |  12.9288 | 0.00 |  0.0035 |    0.0005 | 0.0030 | 0.0005\n",
      "| 0072 |  3.5525 |  4.7937 | -0.2625 |  0.0162 | 0.8361 |    0.8378 |  14.8015 | 0.00 |  0.8361 |    0.0026 | 0.8407 | 0.0019\n",
      "| 0082 |  3.6875 |  3.4132 |  0.3526 | -0.0964 | 0.0059 |    0.0057 |  13.5051 | 0.00 |  0.0059 |    0.0007 | 0.0052 | 0.0006\n",
      "| 0093 |  3.5513 |  0.6333 | -1.4135 |  0.7570 | 0.0165 |    0.0165 |  14.1895 | 0.00 |  0.0165 |    0.0001 | 0.0165 | 0.0001\n",
      "| 0094 |  3.5317 |  0.8120 | -0.2795 |  0.0664 | 0.0041 |    0.0038 |  13.3101 | 0.00 |  0.0041 |    0.0006 | 0.0034 | 0.0005\n",
      "-------------------------------------------------------------------------------------------------------------\n",
      "MSP CHISQ=4.696179224305531 TEFF=4081.4717130201443+-50.237630178618126 LOGG=4.511236499813864+-0.05552747804252981 META=-0.5262598746581599+-0.0064775774083117065 ALPHAM=0.06329676038930193+-0.0007791011339851618 AV=0.0+-0.0 REDSHIFT=0+-0 SIGMA_DISP_km_s=0+-0 RMS=0.5032660900364346 MED_FLUX=1.5768567323684692 TEFF_mass=3569.5856025778767+-43.93697518989568 LOGG_mass=4.772338387227438+-0.05490269868068014 META_mass=-0.2680356945039559+-0.0009529042324980487 ALPHAM_mass=0.019742422053946756+-7.600520815173399e-06 MASS=2.9375281681972337e+18 log_M/L=11.182053714425326 log_Mass=18.467982039784975\n",
      "--------------------------------------------------------------\n"
     ]
    },
    {
     "name": "stderr",
     "output_type": "stream",
     "text": [
      "fitting spectra:   2%|2         | 38/1801 [2:52:21<132:28:54, 270.52s/spectrum]"
     ]
    },
    {
     "name": "stdout",
     "output_type": "stream",
     "text": [
      "3697-5107 wavelength range: Saving 42 EML systems to file _data/out/elines_DIG_bright_linear_full_900_flux\n",
      "5270-6716 wavelength range: Saving 8 EML systems to file _data/out/elines_DIG_bright_linear_full_900_flux\n",
      "6730-7637 wavelength range: Saving 5 EML systems to file _data/out/elines_DIG_bright_linear_full_900_flux\n",
      "8300-9682 wavelength range: Saving 19 EML systems to file _data/out/elines_DIG_bright_linear_full_900_flux\n",
      "-------------------------------------------------------------------------------------------------------------\n",
      "|  ID  |  TEFF   |  LOGG   |  META   | ALPHAM  | COEFF  | Min.Coeff | log(M/L) |  AV  | N.Coeff | Err.Coeff |\n",
      "-------------------------------------------------------------------------------------------------------------\n",
      "| 0005 |  3.9837 |  3.4683 | -2.0871 |  0.2826 | 0.0453 |    0.0458 |  11.7220 | 0.00 |  0.0453 |    0.0017 | 0.0469 | 0.0016\n",
      "| 0006 |  3.9397 |  2.8905 | -2.3637 |  0.0845 | 0.0057 |    0.0056 |  11.0819 | 0.00 |  0.0057 |    0.0007 | 0.0053 | 0.0007\n",
      "| 0010 |  3.9875 |  3.1223 | -1.0482 | -0.1908 | 0.0007 |    0.0007 |  12.4089 | 0.00 |  0.0007 |    0.0001 | 0.0006 | 0.0001\n",
      "| 0035 |  3.9220 |  2.9127 |  0.4975 |  0.2669 | 0.0017 |    0.0016 |  12.0656 | 0.00 |  0.0017 |    0.0002 | 0.0015 | 0.0002\n",
      "| 0042 |  3.8211 |  3.9899 | -0.3000 |  0.0918 | 0.0799 |    0.0785 |  13.3216 | 0.00 |  0.0799 |    0.0085 | 0.0758 | 0.0084\n",
      "| 0059 |  3.6092 |  1.3838 |  0.1434 |  0.0343 | 0.0790 |    0.0776 |  13.0951 | 0.00 |  0.0790 |    0.0085 | 0.0749 | 0.0084\n",
      "| 0060 |  3.6221 |  0.7941 | -0.4154 |  0.2514 | 0.0019 |    0.0018 |  12.4853 | 0.00 |  0.0019 |    0.0004 | 0.0016 | 0.0004\n",
      "| 0073 |  3.5644 |  0.6615 | -1.9179 |  0.8199 | 0.0083 |    0.0083 |  13.6592 | 0.00 |  0.0083 |    0.0006 | 0.0082 | 0.0006\n",
      "| 0074 |  3.6611 |  2.3618 | -0.0147 |  0.0420 | 0.1831 |    0.1805 |  12.4957 | 0.00 |  0.1831 |    0.0182 | 0.1753 | 0.0180\n",
      "| 0075 |  3.6607 |  2.0839 |  0.1194 | -0.0040 | 0.5645 |    0.5703 |  12.0786 | 0.00 |  0.5645 |    0.0228 | 0.5817 | 0.0220\n",
      "| 0078 |  3.6176 |  2.3510 | -0.5391 |  0.1008 | 0.0006 |    0.0006 |  12.7842 | 0.00 |  0.0006 |    0.0001 | 0.0006 | 0.0001\n",
      "| 0080 |  3.5948 |  4.6425 |  0.1627 |  0.1314 | 0.0059 |    0.0058 |  13.9387 | 0.00 |  0.0059 |    0.0005 | 0.0057 | 0.0005\n",
      "| 0083 |  3.7750 |  3.8381 | -0.2731 |  0.4494 | 0.0135 |    0.0135 |  13.9321 | 0.00 |  0.0135 |    0.0008 | 0.0135 | 0.0008\n",
      "| 0087 |  3.7006 |  3.0027 |  0.4294 |  0.2140 | 0.0097 |    0.0092 |  12.3724 | 0.00 |  0.0097 |    0.0019 | 0.0082 | 0.0018\n",
      "| 0093 |  3.5513 |  0.6333 | -1.4135 |  0.7570 | 0.0002 |    0.0002 |  14.1895 | 0.00 |  0.0002 |    0.0000 | 0.0002 | 0.0000\n",
      "-------------------------------------------------------------------------------------------------------------\n",
      "MSP CHISQ=1.8949928889372356 TEFF=4864.587398186361+-502.9534123487924 LOGG=2.334402209683014+-0.24135563020049042 META=-0.07176687465762749+-0.0074200320701646935 ALPHAM=0.045483934171513474+-0.004702618747715254 AV=0.0+-0.0 REDSHIFT=0+-0 SIGMA_DISP_km_s=0+-0 RMS=0.19737219944889442 MED_FLUX=0.8348912000656128 TEFF_mass=5106.03224366668+-527.9165796204151 LOGG_mass=2.986968733161238+-0.2023325354522653 META_mass=-0.22172921042064794+-0.0004538313695563775 ALPHAM_mass=0.18907823035743407+-0.0003084316908242291 MASS=1.7658810759203414e+16 log_M/L=9.237195480242834 log_Mass=16.24696145246315\n",
      "--------------------------------------------------------------\n"
     ]
    },
    {
     "name": "stderr",
     "output_type": "stream",
     "text": [
      "/home/mejia/.cache/pypoetry/virtualenvs/lvm-dap-fAIgvtcU-py3.8/lib/python3.8/site-packages/numpy/core/fromnumeric.py:3440: RuntimeWarning: Mean of empty slice.\n",
      "  return _methods._mean(a, axis=axis, dtype=dtype,\n",
      "/home/mejia/.cache/pypoetry/virtualenvs/lvm-dap-fAIgvtcU-py3.8/lib/python3.8/site-packages/numpy/core/_methods.py:189: RuntimeWarning: invalid value encountered in double_scalars\n",
      "  ret = ret.dtype.type(ret / rcount)\n",
      "fitting spectra:   2%|2         | 39/1801 [2:56:59<133:35:50, 272.96s/spectrum]"
     ]
    },
    {
     "name": "stdout",
     "output_type": "stream",
     "text": [
      "3697-5158 wavelength range: Saving 45 EML systems to file _data/out/elines_DIG_bright_linear_full_900_flux\n",
      "5261-6716 wavelength range: Saving 13 EML systems to file _data/out/elines_DIG_bright_linear_full_900_flux\n",
      "6730-8229 wavelength range: Saving 12 EML systems to file _data/out/elines_DIG_bright_linear_full_900_flux\n",
      "8308-9682 wavelength range: Saving 20 EML systems to file _data/out/elines_DIG_bright_linear_full_900_flux\n",
      "-------------------------------------------------------------------------------------------------------------\n",
      "|  ID  |  TEFF   |  LOGG   |  META   | ALPHAM  | COEFF  | Min.Coeff | log(M/L) |  AV  | N.Coeff | Err.Coeff |\n",
      "-------------------------------------------------------------------------------------------------------------\n",
      "| 0009 |  3.9988 |  3.7561 |  0.0265 | -0.0907 | 0.0009 |    0.0008 |  13.3728 | 0.00 |  0.0009 |    0.0002 | 0.0007 | 0.0002\n",
      "| 0012 |  3.9990 |  3.8112 | -1.6399 | -0.1184 | 0.0002 |    0.0002 |  12.2461 | 0.00 |  0.0002 |    0.0000 | 0.0002 | 0.0000\n",
      "| 0020 |  3.9178 |  2.8502 | -0.1434 |  0.4301 | 0.0002 |    0.0001 |  12.4419 | 0.00 |  0.0002 |    0.0000 | 0.0001 | 0.0000\n",
      "| 0022 |  3.9211 |  3.5419 | -0.4455 |  0.2577 | 0.0005 |    0.0004 |  12.7263 | 0.00 |  0.0005 |    0.0001 | 0.0004 | 0.0001\n",
      "| 0026 |  3.9201 |  3.2736 |  0.6849 | -0.0245 | 0.0025 |    0.0024 |  12.4392 | 0.00 |  0.0025 |    0.0005 | 0.0021 | 0.0005\n",
      "| 0031 |  3.8428 |  4.2527 | -0.9222 |  0.0270 | 0.0024 |    0.0023 |  14.4797 | 0.00 |  0.0024 |    0.0004 | 0.0021 | 0.0003\n",
      "| 0034 |  3.8120 |  3.7026 |  0.5970 |  0.0726 | 0.0066 |    0.0063 |  13.2184 | 0.00 |  0.0066 |    0.0009 | 0.0058 | 0.0008\n",
      "| 0040 |  3.7782 |  4.3005 | -0.5922 |  0.0448 | 0.0700 |    0.0688 |  13.1688 | 0.00 |  0.0700 |    0.0047 | 0.0666 | 0.0045\n",
      "| 0042 |  3.8211 |  3.9899 | -0.3000 |  0.0918 | 0.0161 |    0.0157 |  13.3216 | 0.00 |  0.0161 |    0.0013 | 0.0150 | 0.0013\n",
      "| 0043 |  3.6841 |  2.6831 | -0.5948 |  0.1234 | 0.0002 |    0.0002 |  13.1753 | 0.00 |  0.0002 |    0.0000 | 0.0002 | 0.0000\n",
      "| 0044 |  3.6175 |  2.6876 | -0.8062 |  0.3869 | 0.0003 |    0.0003 |  12.9288 | 0.00 |  0.0003 |    0.0000 | 0.0003 | 0.0000\n",
      "| 0047 |  3.9593 |  3.7774 | -3.1470 |  0.4162 | 0.0000 |    0.0000 |  11.0104 | 0.00 |  0.0000 |    0.0000 | 0.0000 | 0.0000\n",
      "| 0059 |  3.6092 |  1.3838 |  0.1434 |  0.0343 | 0.0321 |    0.0311 |  13.0951 | 0.00 |  0.0321 |    0.0033 | 0.0293 | 0.0031\n",
      "| 0061 |  3.5870 |  0.9341 | -0.2500 |  0.0797 | 0.0797 |    0.0794 |  13.5128 | 0.00 |  0.0797 |    0.0025 | 0.0790 | 0.0025\n",
      "| 0063 |  3.5913 |  0.8513 | -0.2640 |  0.0303 | 0.0005 |    0.0005 |  13.0746 | 0.00 |  0.0005 |    0.0001 | 0.0004 | 0.0001\n",
      "| 0072 |  3.5525 |  4.7937 | -0.2625 |  0.0162 | 0.1319 |    0.1332 |  14.8015 | 0.00 |  0.1319 |    0.0014 | 0.1355 | 0.0004\n",
      "| 0075 |  3.6607 |  2.0839 |  0.1194 | -0.0040 | 0.2534 |    0.2550 |  12.0786 | 0.00 |  0.2534 |    0.0032 | 0.2579 | 0.0027\n",
      "| 0078 |  3.6176 |  2.3510 | -0.5391 |  0.1008 | 0.0002 |    0.0002 |  12.7842 | 0.00 |  0.0002 |    0.0000 | 0.0002 | 0.0000\n",
      "| 0080 |  3.5948 |  4.6425 |  0.1627 |  0.1314 | 0.0435 |    0.0437 |  13.9387 | 0.00 |  0.0435 |    0.0007 | 0.0441 | 0.0006\n",
      "| 0082 |  3.6875 |  3.4132 |  0.3526 | -0.0964 | 0.0007 |    0.0007 |  13.5051 | 0.00 |  0.0007 |    0.0001 | 0.0007 | 0.0001\n",
      "| 0087 |  3.7006 |  3.0027 |  0.4294 |  0.2140 | 0.1785 |    0.1800 |  12.3724 | 0.00 |  0.1785 |    0.0019 | 0.1829 | 0.0010\n",
      "| 0089 |  3.7168 |  3.4819 | -0.4466 |  0.0795 | 0.1547 |    0.1542 |  14.7187 | 0.00 |  0.1547 |    0.0051 | 0.1533 | 0.0050\n",
      "| 0092 |  3.7330 |  2.4575 | -0.1315 |  0.0299 | 0.0178 |    0.0172 |  11.9398 | 0.00 |  0.0178 |    0.0019 | 0.0162 | 0.0018\n",
      "| 0094 |  3.5317 |  0.8120 | -0.2795 |  0.0664 | 0.0070 |    0.0071 |  13.3101 | 0.00 |  0.0070 |    0.0001 | 0.0072 | 0.0001\n",
      "-------------------------------------------------------------------------------------------------------------\n",
      "MSP CHISQ=0.35800405329826873 TEFF=4630.5216768966+-208.41343076313566 LOGG=3.0248392158723427+-0.13614386509239643 META=-0.053173191905515144+-0.002393252450355059 ALPHAM=0.07106280818523086+-0.003198439546766713 AV=0.0+-0.0 REDSHIFT=0+-0 SIGMA_DISP_km_s=0+-0 RMS=0.14643895465551526 MED_FLUX=1.6044703722000122 TEFF_mass=4307.044048540204+-193.85414630124706 LOGG_mass=4.095724401270195+-0.1494079351058706 META_mass=-0.33936237634496697+-0.0006726869729396934 ALPHAM_mass=0.049927637135286064+-3.642509102546576e-05 MASS=9.791831367522495e+17 log_M/L=10.697396134935719 log_Mass=17.990863925554645\n",
      "--------------------------------------------------------------\n"
     ]
    },
    {
     "name": "stderr",
     "output_type": "stream",
     "text": [
      "/home/mejia/.cache/pypoetry/virtualenvs/lvm-dap-fAIgvtcU-py3.8/lib/python3.8/site-packages/numpy/core/fromnumeric.py:3440: RuntimeWarning: Mean of empty slice.\n",
      "  return _methods._mean(a, axis=axis, dtype=dtype,\n",
      "/home/mejia/.cache/pypoetry/virtualenvs/lvm-dap-fAIgvtcU-py3.8/lib/python3.8/site-packages/numpy/core/_methods.py:189: RuntimeWarning: invalid value encountered in double_scalars\n",
      "  ret = ret.dtype.type(ret / rcount)\n",
      "fitting spectra:   2%|2         | 40/1801 [3:01:34<133:44:22, 273.40s/spectrum]"
     ]
    },
    {
     "name": "stdout",
     "output_type": "stream",
     "text": [
      "3686-5176 wavelength range: Saving 43 EML systems to file _data/out/elines_DIG_bright_linear_full_900_flux\n",
      "5220-6716 wavelength range: Saving 11 EML systems to file _data/out/elines_DIG_bright_linear_full_900_flux\n",
      "6730-6730 wavelength range: Saving 2 EML systems to file _data/out/elines_DIG_bright_linear_full_900_flux\n",
      "8300-9682 wavelength range: Saving 23 EML systems to file _data/out/elines_DIG_bright_linear_full_900_flux\n",
      "-------------------------------------------------------------------------------------------------------------\n",
      "|  ID  |  TEFF   |  LOGG   |  META   | ALPHAM  | COEFF  | Min.Coeff | log(M/L) |  AV  | N.Coeff | Err.Coeff |\n",
      "-------------------------------------------------------------------------------------------------------------\n",
      "| 0020 |  3.9178 |  2.8502 | -0.1434 |  0.4301 | 0.0005 |    0.0005 |  12.4419 | 0.00 |  0.0005 |    0.0001 | 0.0004 | 0.0001\n",
      "| 0035 |  3.9220 |  2.9127 |  0.4975 |  0.2669 | 0.0331 |    0.0322 |  12.0656 | 0.00 |  0.0331 |    0.0026 | 0.0306 | 0.0025\n",
      "| 0042 |  3.8211 |  3.9899 | -0.3000 |  0.0918 | 0.2248 |    0.2249 |  13.3216 | 0.00 |  0.2248 |    0.0031 | 0.2251 | 0.0031\n",
      "| 0072 |  3.5525 |  4.7937 | -0.2625 |  0.0162 | 0.1615 |    0.1623 |  14.8015 | 0.00 |  0.1615 |    0.0010 | 0.1638 | 0.0005\n",
      "| 0075 |  3.6607 |  2.0839 |  0.1194 | -0.0040 | 0.0748 |    0.0731 |  12.0786 | 0.00 |  0.0748 |    0.0052 | 0.0700 | 0.0049\n",
      "| 0080 |  3.5948 |  4.6425 |  0.1627 |  0.1314 | 0.4894 |    0.4910 |  13.9387 | 0.00 |  0.4894 |    0.0040 | 0.4939 | 0.0036\n",
      "| 0093 |  3.5513 |  0.6333 | -1.4135 |  0.7570 | 0.0160 |    0.0161 |  14.1895 | 0.00 |  0.0160 |    0.0001 | 0.0162 | 0.0001\n",
      "-------------------------------------------------------------------------------------------------------------\n",
      "MSP CHISQ=26.419449672125864 TEFF=4508.492730434513+-115.57902690153011 LOGG=4.2064976603539534+-0.10783712768688804 META=-0.027561620853427615+-0.0007065654773188625 ALPHAM=0.10840880841175571+-0.0027791515552865404 AV=0.0+-0.0 REDSHIFT=0+-0 SIGMA_DISP_km_s=0+-0 RMS=0.08432193956507976 MED_FLUX=1.0052598714828491 TEFF_mass=3739.316487050296+-95.86054291108252 LOGG_mass=4.6565029068725545+-0.10864854565073695 META_mass=-0.16316194567010162+-8.535426917567513e-05 ALPHAM_mass=0.06285583975123593+-4.3741415489063944e-05 MASS=5.3493452652026406e+17 log_M/L=10.63788619446896 log_Mass=17.72830062966416\n",
      "--------------------------------------------------------------\n"
     ]
    },
    {
     "name": "stderr",
     "output_type": "stream",
     "text": [
      "fitting spectra:   2%|2         | 41/1801 [3:05:54<131:41:54, 269.38s/spectrum]"
     ]
    },
    {
     "name": "stdout",
     "output_type": "stream",
     "text": [
      "3686-5015 wavelength range: Saving 34 EML systems to file _data/out/elines_DIG_bright_linear_full_900_flux\n",
      "5270-6716 wavelength range: Saving 9 EML systems to file _data/out/elines_DIG_bright_linear_full_900_flux\n",
      "6730-7135 wavelength range: Saving 3 EML systems to file _data/out/elines_DIG_bright_linear_full_900_flux\n",
      "8357-9682 wavelength range: Saving 24 EML systems to file _data/out/elines_DIG_bright_linear_full_900_flux\n",
      "-------------------------------------------------------------------------------------------------------------\n",
      "|  ID  |  TEFF   |  LOGG   |  META   | ALPHAM  | COEFF  | Min.Coeff | log(M/L) |  AV  | N.Coeff | Err.Coeff |\n",
      "-------------------------------------------------------------------------------------------------------------\n",
      "| 0004 |  4.0082 |  4.0227 | -1.5766 |  0.4497 | 0.1943 |    0.1967 |  11.5772 | 0.00 |  0.1943 |    0.0065 | 0.2014 | 0.0060\n",
      "| 0008 |  4.0046 |  3.0858 | -2.6604 |  0.0534 | 0.0111 |    0.0105 |  11.9797 | 0.00 |  0.0111 |    0.0022 | 0.0093 | 0.0021\n",
      "| 0013 |  3.9918 |  2.9386 | -1.2331 |  0.5237 | 0.0218 |    0.0212 |  11.4489 | 0.00 |  0.0218 |    0.0028 | 0.0200 | 0.0027\n",
      "| 0016 |  3.9912 |  3.8512 | -2.4725 | -0.0788 | 0.0456 |    0.0448 |  12.0442 | 0.00 |  0.0456 |    0.0048 | 0.0432 | 0.0047\n",
      "| 0044 |  3.6175 |  2.6876 | -0.8062 |  0.3869 | 0.0201 |    0.0204 |  12.9288 | 0.00 |  0.0201 |    0.0005 | 0.0211 | 0.0004\n",
      "| 0045 |  3.7251 |  3.1927 | -1.9643 |  0.3019 | 0.0070 |    0.0069 |  13.7054 | 0.00 |  0.0070 |    0.0007 | 0.0067 | 0.0007\n",
      "| 0054 |  3.5580 |  4.6137 | -0.1421 | -0.0031 | 0.1916 |    0.1909 |  14.4913 | 0.00 |  0.1916 |    0.0133 | 0.1895 | 0.0133\n",
      "| 0055 |  3.5675 |  4.5195 | -0.2704 |  0.0382 | 0.2484 |    0.2493 |  14.9067 | 0.00 |  0.2484 |    0.0130 | 0.2510 | 0.0130\n",
      "| 0068 |  3.5334 |  0.5546 | -0.3881 |  0.0406 | 0.1447 |    0.1475 |  14.2118 | 0.00 |  0.1447 |    0.0035 | 0.1531 | 0.0020\n",
      "| 0071 |  3.5543 |  4.9259 | -0.1076 | -0.0448 | 0.0483 |    0.0467 |  14.7191 | 0.00 |  0.0483 |    0.0069 | 0.0436 | 0.0067\n",
      "| 0072 |  3.5525 |  4.7937 | -0.2625 |  0.0162 | 0.0622 |    0.0601 |  14.8015 | 0.00 |  0.0622 |    0.0089 | 0.0562 | 0.0087\n",
      "| 0082 |  3.6875 |  3.4132 |  0.3526 | -0.0964 | 0.0050 |    0.0050 |  13.5051 | 0.00 |  0.0050 |    0.0005 | 0.0049 | 0.0004\n",
      "-------------------------------------------------------------------------------------------------------------\n",
      "MSP CHISQ=0.21914159248562792 TEFF=4796.452043363852+-481.7819472312534 LOGG=3.771607081773115+-0.3788408989852991 META=-0.6755345315578464+-0.06785439301664313 ALPHAM=0.11878972617137115+-0.011931891545771291 AV=0.0+-0.0 REDSHIFT=0+-0 SIGMA_DISP_km_s=0+-0 RMS=0.2884999941350409 MED_FLUX=0.5200427770614624 TEFF_mass=3642.2336365270603+-365.84592065399346 LOGG_mass=4.325091697109714+-0.4899928108719722 META_mass=-0.24619388934005168+-0.004532710859339639 ALPHAM_mass=0.02330566289171188+-4.941910160402321e-05 MASS=6.348693689966198e+17 log_M/L=10.99850921637397 log_Mass=17.802684373858643\n",
      "--------------------------------------------------------------\n"
     ]
    },
    {
     "name": "stderr",
     "output_type": "stream",
     "text": [
      "fitting spectra:   2%|2         | 42/1801 [3:08:39<116:18:29, 238.04s/spectrum]"
     ]
    },
    {
     "name": "stdout",
     "output_type": "stream",
     "text": [
      "3686-5176 wavelength range: Saving 37 EML systems to file _data/out/elines_DIG_bright_linear_full_900_flux\n",
      "5270-6716 wavelength range: Saving 8 EML systems to file _data/out/elines_DIG_bright_linear_full_900_flux\n",
      "6730-7637 wavelength range: Saving 4 EML systems to file _data/out/elines_DIG_bright_linear_full_900_flux\n",
      "8345-9545 wavelength range: Saving 24 EML systems to file _data/out/elines_DIG_bright_linear_full_900_flux\n",
      "-------------------------------------------------------------------------------------------------------------\n",
      "|  ID  |  TEFF   |  LOGG   |  META   | ALPHAM  | COEFF  | Min.Coeff | log(M/L) |  AV  | N.Coeff | Err.Coeff |\n",
      "-------------------------------------------------------------------------------------------------------------\n",
      "| 0005 |  3.9837 |  3.4683 | -2.0871 |  0.2826 | 0.2566 |    0.2577 |  11.7220 | 0.00 |  0.2566 |    0.0040 | 0.2597 | 0.0038\n",
      "| 0020 |  3.9178 |  2.8502 | -0.1434 |  0.4301 | 0.0094 |    0.0090 |  12.4419 | 0.00 |  0.0094 |    0.0013 | 0.0081 | 0.0013\n",
      "| 0043 |  3.6841 |  2.6831 | -0.5948 |  0.1234 | 0.0050 |    0.0047 |  13.1753 | 0.00 |  0.0050 |    0.0010 | 0.0040 | 0.0009\n",
      "| 0044 |  3.6175 |  2.6876 | -0.8062 |  0.3869 | 0.0124 |    0.0119 |  12.9288 | 0.00 |  0.0124 |    0.0014 | 0.0111 | 0.0014\n",
      "| 0058 |  3.5790 |  0.9806 | -0.3125 |  0.3323 | 0.0011 |    0.0010 |  12.9605 | 0.00 |  0.0011 |    0.0002 | 0.0009 | 0.0002\n",
      "| 0066 |  3.5452 |  5.0235 | -0.0039 | -0.0271 | 0.0049 |    0.0046 |  14.2996 | 0.00 |  0.0049 |    0.0010 | 0.0040 | 0.0009\n",
      "| 0072 |  3.5525 |  4.7937 | -0.2625 |  0.0162 | 0.0231 |    0.0222 |  14.8015 | 0.00 |  0.0231 |    0.0027 | 0.0206 | 0.0026\n",
      "| 0080 |  3.5948 |  4.6425 |  0.1627 |  0.1314 | 0.3482 |    0.3497 |  13.9387 | 0.00 |  0.3482 |    0.0052 | 0.3526 | 0.0049\n",
      "| 0082 |  3.6875 |  3.4132 |  0.3526 | -0.0964 | 0.0726 |    0.0719 |  13.5051 | 0.00 |  0.0726 |    0.0036 | 0.0705 | 0.0035\n",
      "| 0083 |  3.7750 |  3.8381 | -0.2731 |  0.4494 | 0.2481 |    0.2487 |  13.9321 | 0.00 |  0.2481 |    0.0046 | 0.2499 | 0.0046\n",
      "| 0093 |  3.5513 |  0.6333 | -1.4135 |  0.7570 | 0.0172 |    0.0172 |  14.1895 | 0.00 |  0.0172 |    0.0005 | 0.0171 | 0.0005\n",
      "| 0097 |  3.5082 |  1.6716 | -0.3469 |  0.0952 | 0.0000 |    0.0000 |  14.3016 | 0.00 |  0.0000 |    0.0000 | 0.0000 | 0.0000\n",
      "| 0098 |  3.5046 |  2.4923 | -1.2847 |  0.1336 | 0.0014 |    0.0014 |  13.5373 | 0.00 |  0.0014 |    0.0000 | 0.0014 | 0.0000\n",
      "-------------------------------------------------------------------------------------------------------------\n",
      "MSP CHISQ=2.3775516117975948 TEFF=5593.234522812023+-227.50728618448704 LOGG=3.9307496056326166+-0.1598849774313806 META=-0.5678807085961062+-0.023098798800996682 ALPHAM=0.2459973471699872+-0.010006050816386945 AV=0.0+-0.0 REDSHIFT=0+-0 SIGMA_DISP_km_s=0+-0 RMS=1.095810159844854 MED_FLUX=0.31155258417129517 TEFF_mass=4371.180360012212+-177.79969301722227 LOGG_mass=4.245639523932694+-0.17570855022512777 META_mass=-0.11254783517181909+-0.0005271817641523037 ALPHAM_mass=0.21556381531387508+-0.00048686601949741656 MASS=7.901315763099133e+16 log_M/L=10.31603197144886 log_Mass=16.89769941800846\n",
      "--------------------------------------------------------------\n"
     ]
    },
    {
     "name": "stderr",
     "output_type": "stream",
     "text": [
      "/home/mejia/.cache/pypoetry/virtualenvs/lvm-dap-fAIgvtcU-py3.8/lib/python3.8/site-packages/numpy/core/fromnumeric.py:3440: RuntimeWarning: Mean of empty slice.\n",
      "  return _methods._mean(a, axis=axis, dtype=dtype,\n",
      "/home/mejia/.cache/pypoetry/virtualenvs/lvm-dap-fAIgvtcU-py3.8/lib/python3.8/site-packages/numpy/core/_methods.py:189: RuntimeWarning: invalid value encountered in double_scalars\n",
      "  ret = ret.dtype.type(ret / rcount)\n",
      "fitting spectra:   2%|2         | 43/1801 [3:13:28<123:43:20, 253.36s/spectrum]"
     ]
    },
    {
     "name": "stdout",
     "output_type": "stream",
     "text": [
      "3697-5176 wavelength range: Saving 21 EML systems to file _data/out/elines_DIG_bright_linear_full_900_flux\n",
      "5191-6435 wavelength range: Saving 27 EML systems to file _data/out/elines_DIG_bright_linear_full_900_flux\n",
      "6730-8236 wavelength range: Saving 23 EML systems to file _data/out/elines_DIG_bright_linear_full_900_flux\n",
      "8578-9069 wavelength range: Saving 5 EML systems to file _data/out/elines_DIG_bright_linear_full_900_flux\n",
      "-------------------------------------------------------------------------------------------------------------\n",
      "|  ID  |  TEFF   |  LOGG   |  META   | ALPHAM  | COEFF  | Min.Coeff | log(M/L) |  AV  | N.Coeff | Err.Coeff |\n",
      "-------------------------------------------------------------------------------------------------------------\n",
      "| 0028 |  3.8476 |  4.4402 |  0.0350 | -0.0250 | 0.2713 |    0.2713 |  13.1113 | 0.00 |  0.2713 |    0.0000 | 0.2713 | 0.0000\n",
      "| 0029 |  3.8901 |  4.7868 | -0.1984 | -0.0742 | 0.6803 |    0.6803 |  14.4435 | 0.00 |  0.6803 |    0.0000 | 0.6803 | 0.0000\n",
      "| 0035 |  3.9220 |  2.9127 |  0.4975 |  0.2669 | 0.0484 |    0.0484 |  12.0656 | 0.00 |  0.0484 |    0.0000 | 0.0484 | 0.0000\n",
      "-------------------------------------------------------------------------------------------------------------\n",
      "MSP CHISQ=29.64653836154754 TEFF=7587.265873304282+-0.15290626993553197 LOGG=4.602000424140356+-9.274417568163919e-05 META=-0.10134753247367054+-2.0424581682637544e-06 ALPHAM=-0.044341605882790486+-8.936169723990668e-07 AV=0.0+-0.0 REDSHIFT=0+-0 SIGMA_DISP_km_s=0+-0 RMS=0.01170841323752226 MED_FLUX=1.6402665017456346 TEFF_mass=7750.173916644824+-0.15618935789707852 LOGG_mass=4.779922439411841+-0.00010704323262975961 META_mass=-0.19389762615566047+-2.4281755430474717e-08 ALPHAM_mass=-0.0732144196463697+-2.6090932129956087e-09 MASS=1.1048024314568609e+18 log_M/L=10.74023411703961 log_Mass=18.04328462136994\n",
      "--------------------------------------------------------------\n",
      "3686-5158 wavelength range: Saving 38 EML systems to file _data/out/elines_DIG_bright_linear_full_900_flux\n",
      "5270-6716 wavelength range: Saving 8 EML systems to file _data/out/elines_DIG_bright_linear_full_900_flux\n",
      "6730-7637 wavelength range: Saving 4 EML systems to file _data/out/elines_DIG_bright_linear_full_900_flux\n",
      "8300-9682 wavelength range: Saving 24 EML systems to file _data/out/elines_DIG_bright_linear_full_900_flux\n",
      "-------------------------------------------------------------------------------------------------------------\n",
      "|  ID  |  TEFF   |  LOGG   |  META   | ALPHAM  | COEFF  | Min.Coeff | log(M/L) |  AV  | N.Coeff | Err.Coeff |\n",
      "-------------------------------------------------------------------------------------------------------------\n",
      "| 0005 |  3.9837 |  3.4683 | -2.0871 |  0.2826 | 0.0674 |    0.0683 |  11.7220 | 0.00 |  0.0674 |    0.0024 | 0.0702 | 0.0022\n",
      "| 0006 |  3.9397 |  2.8905 | -2.3637 |  0.0845 | 0.0046 |    0.0045 |  11.0819 | 0.00 |  0.0046 |    0.0006 | 0.0043 | 0.0006\n",
      "| 0042 |  3.8211 |  3.9899 | -0.3000 |  0.0918 | 0.1424 |    0.1414 |  13.3216 | 0.00 |  0.1424 |    0.0119 | 0.1394 | 0.0118\n",
      "| 0043 |  3.6841 |  2.6831 | -0.5948 |  0.1234 | 0.0063 |    0.0063 |  13.1753 | 0.00 |  0.0063 |    0.0004 | 0.0063 | 0.0004\n",
      "| 0059 |  3.6092 |  1.3838 |  0.1434 |  0.0343 | 0.0857 |    0.0846 |  13.0951 | 0.00 |  0.0857 |    0.0086 | 0.0822 | 0.0085\n",
      "| 0062 |  3.6034 |  4.8217 |  0.0615 |  0.0298 | 0.0735 |    0.0734 |  14.3674 | 0.00 |  0.0735 |    0.0051 | 0.0731 | 0.0051\n",
      "| 0075 |  3.6607 |  2.0839 |  0.1194 | -0.0040 | 0.3917 |    0.3939 |  12.0786 | 0.00 |  0.3917 |    0.0206 | 0.3982 | 0.0205\n",
      "| 0080 |  3.5948 |  4.6425 |  0.1627 |  0.1314 | 0.0082 |    0.0078 |  13.9387 | 0.00 |  0.0082 |    0.0016 | 0.0070 | 0.0016\n",
      "| 0082 |  3.6875 |  3.4132 |  0.3526 | -0.0964 | 0.0557 |    0.0568 |  13.5051 | 0.00 |  0.0557 |    0.0015 | 0.0590 | 0.0009\n",
      "| 0084 |  3.7074 |  2.8389 | -2.8995 |  0.2013 | 0.0051 |    0.0048 |  14.6561 | 0.00 |  0.0051 |    0.0010 | 0.0043 | 0.0010\n",
      "| 0087 |  3.7006 |  3.0027 |  0.4294 |  0.2140 | 0.1552 |    0.1540 |  12.3724 | 0.00 |  0.1552 |    0.0131 | 0.1516 | 0.0131\n",
      "| 0093 |  3.5513 |  0.6333 | -1.4135 |  0.7570 | 0.0042 |    0.0042 |  14.1895 | 0.00 |  0.0042 |    0.0002 | 0.0043 | 0.0002\n",
      "-------------------------------------------------------------------------------------------------------------\n",
      "MSP CHISQ=2.9220007473812664 TEFF=5070.700063938671+-540.5221034346253 LOGG=2.8327255689038813+-0.3019604322184358 META=-0.0676196470119236+-0.007208060696850139 ALPHAM=0.06994576949136377+-0.007456018690732534 AV=0.0+-0.0 REDSHIFT=0+-0 SIGMA_DISP_km_s=0+-0 RMS=0.2402478560112461 MED_FLUX=0.897811770439148 TEFF_mass=4394.327606649771+-468.42273673789606 LOGG_mass=4.159770467951562+-0.34534406487254227 META_mass=-0.2340294230662192+-0.00029380431155278167 ALPHAM_mass=0.06500446726850681+-0.00015211387517487197 MASS=8.66959460518769e+16 log_M/L=9.896677406646646 log_Mass=16.937998790112168\n",
      "--------------------------------------------------------------\n"
     ]
    },
    {
     "name": "stderr",
     "output_type": "stream",
     "text": [
      "fitting spectra:   2%|2         | 44/1801 [3:17:30<121:57:36, 249.89s/spectrum]/home/mejia/.cache/pypoetry/virtualenvs/lvm-dap-fAIgvtcU-py3.8/lib/python3.8/site-packages/numpy/core/fromnumeric.py:3440: RuntimeWarning: Mean of empty slice.\n",
      "  return _methods._mean(a, axis=axis, dtype=dtype,\n",
      "/home/mejia/.cache/pypoetry/virtualenvs/lvm-dap-fAIgvtcU-py3.8/lib/python3.8/site-packages/numpy/core/_methods.py:189: RuntimeWarning: invalid value encountered in double_scalars\n",
      "  ret = ret.dtype.type(ret / rcount)\n"
     ]
    },
    {
     "name": "stdout",
     "output_type": "stream",
     "text": [
      "3691-5158 wavelength range: Saving 40 EML systems to file _data/out/elines_DIG_bright_linear_full_900_flux\n",
      "5270-6716 wavelength range: Saving 13 EML systems to file _data/out/elines_DIG_bright_linear_full_900_flux\n",
      "6730-7637 wavelength range: Saving 4 EML systems to file _data/out/elines_DIG_bright_linear_full_900_flux\n",
      "8308-9682 wavelength range: Saving 24 EML systems to file _data/out/elines_DIG_bright_linear_full_900_flux\n",
      "-------------------------------------------------------------------------------------------------------------\n",
      "|  ID  |  TEFF   |  LOGG   |  META   | ALPHAM  | COEFF  | Min.Coeff | log(M/L) |  AV  | N.Coeff | Err.Coeff |\n",
      "-------------------------------------------------------------------------------------------------------------\n",
      "| 0022 |  3.9211 |  3.5419 | -0.4455 |  0.2577 | 0.0070 |    0.0067 |  12.7263 | 0.00 |  0.0070 |    0.0008 | 0.0062 | 0.0007\n",
      "| 0035 |  3.9220 |  2.9127 |  0.4975 |  0.2669 | 0.0418 |    0.0415 |  12.0656 | 0.00 |  0.0418 |    0.0012 | 0.0408 | 0.0011\n",
      "| 0042 |  3.8211 |  3.9899 | -0.3000 |  0.0918 | 0.0771 |    0.0770 |  13.3216 | 0.00 |  0.0771 |    0.0009 | 0.0768 | 0.0009\n",
      "| 0043 |  3.6841 |  2.6831 | -0.5948 |  0.1234 | 0.0000 |    0.0000 |  13.1753 | 0.00 |  0.0000 |    0.0000 | 0.0000 | 0.0000\n",
      "| 0044 |  3.6175 |  2.6876 | -0.8062 |  0.3869 | 0.0002 |    0.0002 |  12.9288 | 0.00 |  0.0002 |    0.0000 | 0.0002 | 0.0000\n",
      "| 0054 |  3.5580 |  4.6137 | -0.1421 | -0.0031 | 0.1031 |    0.1031 |  14.4913 | 0.00 |  0.1031 |    0.0008 | 0.1031 | 0.0008\n",
      "| 0068 |  3.5334 |  0.5546 | -0.3881 |  0.0406 | 0.0024 |    0.0024 |  14.2118 | 0.00 |  0.0024 |    0.0002 | 0.0023 | 0.0001\n",
      "| 0072 |  3.5525 |  4.7937 | -0.2625 |  0.0162 | 0.0108 |    0.0105 |  14.8015 | 0.00 |  0.0108 |    0.0008 | 0.0100 | 0.0007\n",
      "| 0073 |  3.5644 |  0.6615 | -1.9179 |  0.8199 | 0.0014 |    0.0014 |  13.6592 | 0.00 |  0.0014 |    0.0001 | 0.0014 | 0.0001\n",
      "| 0075 |  3.6607 |  2.0839 |  0.1194 | -0.0040 | 0.5555 |    0.5573 |  12.0786 | 0.00 |  0.5555 |    0.0019 | 0.5603 | 0.0007\n",
      "| 0077 |  3.5927 |  1.1325 | -0.1682 |  0.0645 | 0.0020 |    0.0018 |  13.8827 | 0.00 |  0.0020 |    0.0004 | 0.0015 | 0.0003\n",
      "| 0078 |  3.6176 |  2.3510 | -0.5391 |  0.1008 | 0.0163 |    0.0161 |  12.7842 | 0.00 |  0.0163 |    0.0006 | 0.0158 | 0.0006\n",
      "| 0080 |  3.5948 |  4.6425 |  0.1627 |  0.1314 | 0.0248 |    0.0247 |  13.9387 | 0.00 |  0.0248 |    0.0004 | 0.0246 | 0.0004\n",
      "| 0082 |  3.6875 |  3.4132 |  0.3526 | -0.0964 | 0.0013 |    0.0013 |  13.5051 | 0.00 |  0.0013 |    0.0001 | 0.0012 | 0.0001\n",
      "| 0083 |  3.7750 |  3.8381 | -0.2731 |  0.4494 | 0.0006 |    0.0006 |  13.9321 | 0.00 |  0.0006 |    0.0001 | 0.0005 | 0.0001\n",
      "| 0087 |  3.7006 |  3.0027 |  0.4294 |  0.2140 | 0.1549 |    0.1549 |  12.3724 | 0.00 |  0.1549 |    0.0014 | 0.1548 | 0.0014\n",
      "| 0094 |  3.5317 |  0.8120 | -0.2795 |  0.0664 | 0.0007 |    0.0006 |  13.3101 | 0.00 |  0.0007 |    0.0001 | 0.0006 | 0.0001\n",
      "| 0097 |  3.5082 |  1.6716 | -0.3469 |  0.0952 | 0.0000 |    0.0000 |  14.3016 | 0.00 |  0.0000 |    0.0000 | 0.0000 | 0.0000\n",
      "-------------------------------------------------------------------------------------------------------------\n",
      "MSP CHISQ=2.9127482847110375 TEFF=4756.9274630497275+-72.90268047446432 LOGG=2.770207187476971+-0.04245503657674481 META=0.10104857344367166+-0.001548628167948044 ALPHAM=0.05739505377307027+-0.0008796125857572487 AV=0.0+-0.0 REDSHIFT=0+-0 SIGMA_DISP_km_s=0+-0 RMS=0.07605494768581698 MED_FLUX=1.147058129310608 TEFF_mass=3735.0526158187517+-57.241854016368485 LOGG_mass=4.503624105490072+-0.058254486992347795 META_mass=-0.1480169027900458+-3.5380960489046457e-06 ALPHAM_mass=0.014653880994360215+-7.160883349355514e-06 MASS=1.785574688433804e+17 log_M/L=10.104056505080097 log_Mass=17.25177802092267\n",
      "--------------------------------------------------------------\n"
     ]
    },
    {
     "name": "stderr",
     "output_type": "stream",
     "text": [
      "fitting spectra:   3%|2         | 46/1801 [3:26:13<124:17:33, 254.96s/spectrum]"
     ]
    },
    {
     "name": "stdout",
     "output_type": "stream",
     "text": [
      "3686-5158 wavelength range: Saving 34 EML systems to file _data/out/elines_DIG_bright_linear_full_900_flux\n",
      "5270-6716 wavelength range: Saving 8 EML systems to file _data/out/elines_DIG_bright_linear_full_900_flux\n",
      "6730-7637 wavelength range: Saving 4 EML systems to file _data/out/elines_DIG_bright_linear_full_900_flux\n",
      "8300-9682 wavelength range: Saving 28 EML systems to file _data/out/elines_DIG_bright_linear_full_900_flux\n",
      "-------------------------------------------------------------------------------------------------------------\n",
      "|  ID  |  TEFF   |  LOGG   |  META   | ALPHAM  | COEFF  | Min.Coeff | log(M/L) |  AV  | N.Coeff | Err.Coeff |\n",
      "-------------------------------------------------------------------------------------------------------------\n",
      "| 0005 |  3.9837 |  3.4683 | -2.0871 |  0.2826 | 0.0911 |    0.0893 |  11.7220 | 0.00 |  0.0911 |    0.0055 | 0.0860 | 0.0052\n",
      "| 0006 |  3.9397 |  2.8905 | -2.3637 |  0.0845 | 0.1220 |    0.1205 |  11.0819 | 0.00 |  0.1220 |    0.0052 | 0.1177 | 0.0050\n",
      "| 0043 |  3.6841 |  2.6831 | -0.5948 |  0.1234 | 0.0029 |    0.0027 |  13.1753 | 0.00 |  0.0029 |    0.0006 | 0.0023 | 0.0005\n",
      "| 0044 |  3.6175 |  2.6876 | -0.8062 |  0.3869 | 0.0014 |    0.0013 |  12.9288 | 0.00 |  0.0014 |    0.0003 | 0.0011 | 0.0003\n",
      "| 0072 |  3.5525 |  4.7937 | -0.2625 |  0.0162 | 0.7736 |    0.7774 |  14.8015 | 0.00 |  0.7736 |    0.0040 | 0.7843 | 0.0012\n",
      "| 0073 |  3.5644 |  0.6615 | -1.9179 |  0.8199 | 0.0007 |    0.0007 |  13.6592 | 0.00 |  0.0007 |    0.0001 | 0.0006 | 0.0001\n",
      "| 0093 |  3.5513 |  0.6333 | -1.4135 |  0.7570 | 0.0082 |    0.0081 |  14.1895 | 0.00 |  0.0082 |    0.0004 | 0.0078 | 0.0004\n",
      "-------------------------------------------------------------------------------------------------------------\n",
      "MSP CHISQ=2.2384318381856585 TEFF=4360.21024517231+-115.7586031401161 LOGG=4.3944456578734+-0.1166675142543431 META=-0.697416187737868+-0.018515603413672112 ALPHAM=0.056272175566008095+-0.0014939620047883823 AV=0.0+-0.0 REDSHIFT=0+-0 SIGMA_DISP_km_s=0+-0 RMS=10.50829661454037 MED_FLUX=16.55086326599121 TEFF_mass=3569.32012167708+-94.76137346879693 LOGG_mass=4.782239950044429+-0.11561882529992118 META_mass=-0.2658399546171748+-0.002995010626834176 ALPHAM_mass=0.018182149359302607+-2.045712394226127e-05 MASS=2.845317102201327e+19 log_M/L=11.147173934774012 log_Mass=19.4541306742678\n",
      "--------------------------------------------------------------\n"
     ]
    },
    {
     "name": "stderr",
     "output_type": "stream",
     "text": [
      "/home/mejia/.cache/pypoetry/virtualenvs/lvm-dap-fAIgvtcU-py3.8/lib/python3.8/site-packages/numpy/core/fromnumeric.py:3440: RuntimeWarning: Mean of empty slice.\n",
      "  return _methods._mean(a, axis=axis, dtype=dtype,\n",
      "/home/mejia/.cache/pypoetry/virtualenvs/lvm-dap-fAIgvtcU-py3.8/lib/python3.8/site-packages/numpy/core/_methods.py:189: RuntimeWarning: invalid value encountered in double_scalars\n",
      "  ret = ret.dtype.type(ret / rcount)\n",
      "fitting spectra:   3%|2         | 47/1801 [3:31:04<129:24:48, 265.61s/spectrum]"
     ]
    },
    {
     "name": "stdout",
     "output_type": "stream",
     "text": [
      "3686-5176 wavelength range: Saving 45 EML systems to file _data/out/elines_DIG_bright_linear_full_900_flux\n",
      "5200-6716 wavelength range: Saving 15 EML systems to file _data/out/elines_DIG_bright_linear_full_900_flux\n",
      "6730-7637 wavelength range: Saving 3 EML systems to file _data/out/elines_DIG_bright_linear_full_900_flux\n",
      "8345-9682 wavelength range: Saving 24 EML systems to file _data/out/elines_DIG_bright_linear_full_900_flux\n",
      "-------------------------------------------------------------------------------------------------------------\n",
      "|  ID  |  TEFF   |  LOGG   |  META   | ALPHAM  | COEFF  | Min.Coeff | log(M/L) |  AV  | N.Coeff | Err.Coeff |\n",
      "-------------------------------------------------------------------------------------------------------------\n",
      "| 0035 |  3.9220 |  2.9127 |  0.4975 |  0.2669 | 0.0710 |    0.0711 |  12.0656 | 0.00 |  0.0710 |    0.0007 | 0.0713 | 0.0007\n",
      "| 0040 |  3.7782 |  4.3005 | -0.5922 |  0.0448 | 0.1042 |    0.1043 |  13.1688 | 0.00 |  0.1042 |    0.0013 | 0.1044 | 0.0013\n",
      "| 0043 |  3.6841 |  2.6831 | -0.5948 |  0.1234 | 0.0003 |    0.0003 |  13.1753 | 0.00 |  0.0003 |    0.0000 | 0.0003 | 0.0000\n",
      "| 0054 |  3.5580 |  4.6137 | -0.1421 | -0.0031 | 0.2106 |    0.2115 |  14.4913 | 0.00 |  0.2106 |    0.0013 | 0.2132 | 0.0009\n",
      "| 0056 |  3.5676 |  4.4046 | -0.1537 |  0.0240 | 0.0083 |    0.0077 |  14.5276 | 0.00 |  0.0083 |    0.0016 | 0.0066 | 0.0015\n",
      "| 0068 |  3.5334 |  0.5546 | -0.3881 |  0.0406 | 0.0300 |    0.0302 |  14.2118 | 0.00 |  0.0300 |    0.0002 | 0.0305 | 0.0000\n",
      "| 0075 |  3.6607 |  2.0839 |  0.1194 | -0.0040 | 0.3366 |    0.3375 |  12.0786 | 0.00 |  0.3366 |    0.0029 | 0.3392 | 0.0027\n",
      "| 0077 |  3.5927 |  1.1325 | -0.1682 |  0.0645 | 0.0370 |    0.0363 |  13.8827 | 0.00 |  0.0370 |    0.0021 | 0.0351 | 0.0020\n",
      "| 0078 |  3.6176 |  2.3510 | -0.5391 |  0.1008 | 0.0161 |    0.0160 |  12.7842 | 0.00 |  0.0161 |    0.0005 | 0.0158 | 0.0004\n",
      "| 0080 |  3.5948 |  4.6425 |  0.1627 |  0.1314 | 0.0031 |    0.0030 |  13.9387 | 0.00 |  0.0031 |    0.0003 | 0.0028 | 0.0003\n",
      "| 0087 |  3.7006 |  3.0027 |  0.4294 |  0.2140 | 0.1702 |    0.1704 |  12.3724 | 0.00 |  0.1702 |    0.0021 | 0.1706 | 0.0021\n",
      "| 0089 |  3.7168 |  3.4819 | -0.4466 |  0.0795 | 0.0126 |    0.0117 |  14.7187 | 0.00 |  0.0126 |    0.0024 | 0.0101 | 0.0022\n",
      "-------------------------------------------------------------------------------------------------------------\n",
      "MSP CHISQ=0.3160758802010223 TEFF=4670.419223371004+-114.1285333362167 LOGG=3.031153520521128+-0.07407067525820384 META=0.023805942281950945+-0.0005817330623619403 ALPHAM=0.06490137247097401+-0.0015859600813893312 AV=0.0+-0.0 REDSHIFT=0+-0 SIGMA_DISP_km_s=0+-0 RMS=0.05755236968682224 MED_FLUX=1.0127812759946626 TEFF_mass=3767.3064604590395+-92.05965040755177 LOGG_mass=4.141346849931365+-0.08352184199357678 META_mass=-0.18413614351842114+-0.00010511672239647429 ALPHAM_mass=0.011660882263001663+-5.832076762105135e-06 MASS=3.019433367848194e+17 log_M/L=10.386273697802556 log_Mass=17.47992545014068\n",
      "--------------------------------------------------------------\n"
     ]
    },
    {
     "name": "stderr",
     "output_type": "stream",
     "text": [
      "fitting spectra:   3%|2         | 48/1801 [3:35:12<126:43:48, 260.26s/spectrum]"
     ]
    },
    {
     "name": "stdout",
     "output_type": "stream",
     "text": [
      "3691-5158 wavelength range: Saving 37 EML systems to file _data/out/elines_DIG_bright_linear_full_900_flux\n",
      "5270-6716 wavelength range: Saving 11 EML systems to file _data/out/elines_DIG_bright_linear_full_900_flux\n",
      "6730-6730 wavelength range: Saving 2 EML systems to file _data/out/elines_DIG_bright_linear_full_900_flux\n",
      "8345-9682 wavelength range: Saving 21 EML systems to file _data/out/elines_DIG_bright_linear_full_900_flux\n",
      "-------------------------------------------------------------------------------------------------------------\n",
      "|  ID  |  TEFF   |  LOGG   |  META   | ALPHAM  | COEFF  | Min.Coeff | log(M/L) |  AV  | N.Coeff | Err.Coeff |\n",
      "-------------------------------------------------------------------------------------------------------------\n",
      "| 0002 |  3.9865 |  3.3665 | -1.7064 |  0.4121 | 0.0146 |    0.0136 |  10.9304 | 0.00 |  0.0146 |    0.0028 | 0.0118 | 0.0026\n",
      "| 0003 |  3.9973 |  3.5769 | -1.4049 |  0.2428 | 0.0153 |    0.0143 |  11.7437 | 0.00 |  0.0153 |    0.0030 | 0.0123 | 0.0028\n",
      "| 0004 |  4.0082 |  4.0227 | -1.5766 |  0.4497 | 0.0280 |    0.0267 |  11.5772 | 0.00 |  0.0280 |    0.0040 | 0.0242 | 0.0037\n",
      "| 0005 |  3.9837 |  3.4683 | -2.0871 |  0.2826 | 0.0607 |    0.0592 |  11.7220 | 0.00 |  0.0607 |    0.0053 | 0.0563 | 0.0050\n",
      "| 0006 |  3.9397 |  2.8905 | -2.3637 |  0.0845 | 0.1014 |    0.1002 |  11.0819 | 0.00 |  0.1014 |    0.0052 | 0.0981 | 0.0051\n",
      "| 0009 |  3.9988 |  3.7561 |  0.0265 | -0.0907 | 0.0101 |    0.0094 |  13.3728 | 0.00 |  0.0101 |    0.0019 | 0.0081 | 0.0018\n",
      "| 0043 |  3.6841 |  2.6831 | -0.5948 |  0.1234 | 0.0032 |    0.0030 |  13.1753 | 0.00 |  0.0032 |    0.0005 | 0.0028 | 0.0004\n",
      "| 0045 |  3.7251 |  3.1927 | -1.9643 |  0.3019 | 0.0077 |    0.0074 |  13.7054 | 0.00 |  0.0077 |    0.0008 | 0.0069 | 0.0008\n",
      "| 0072 |  3.5525 |  4.7937 | -0.2625 |  0.0162 | 0.7475 |    0.7549 |  14.8015 | 0.00 |  0.7475 |    0.0076 | 0.7683 | 0.0014\n",
      "| 0082 |  3.6875 |  3.4132 |  0.3526 | -0.0964 | 0.0006 |    0.0006 |  13.5051 | 0.00 |  0.0006 |    0.0001 | 0.0005 | 0.0001\n",
      "| 0093 |  3.5513 |  0.6333 | -1.4135 |  0.7570 | 0.0090 |    0.0091 |  14.1895 | 0.00 |  0.0090 |    0.0002 | 0.0091 | 0.0002\n",
      "| 0094 |  3.5317 |  0.8120 | -0.2795 |  0.0664 | 0.0018 |    0.0017 |  13.3101 | 0.00 |  0.0018 |    0.0003 | 0.0014 | 0.0003\n",
      "-------------------------------------------------------------------------------------------------------------\n",
      "MSP CHISQ=1.8976375345436236 TEFF=4468.455492603259+-234.79174582463628 LOGG=4.38409177612143+-0.23035891566445862 META=-0.6829549758149518+-0.035885372777383504 ALPHAM=0.06885673017424189+-0.0036180268363750685 AV=0.0+-0.0 REDSHIFT=0+-0 SIGMA_DISP_km_s=0+-0 RMS=6.700096533335122 MED_FLUX=9.736274719238281 TEFF_mass=3572.3750476448677+-187.7078501879079 LOGG_mass=4.7788547776073935+-0.24177860404380652 META_mass=-0.26734614744405+-0.004898123499665943 ALPHAM_mass=0.01857366456059098+-4.781005043982349e-05 MASS=1.6201784414057445e+19 log_M/L=11.133033940846678 log_Mass=19.20956284901801\n",
      "--------------------------------------------------------------\n"
     ]
    },
    {
     "name": "stderr",
     "output_type": "stream",
     "text": [
      "fitting spectra:   3%|2         | 49/1801 [3:38:56<121:22:05, 249.39s/spectrum]"
     ]
    },
    {
     "name": "stdout",
     "output_type": "stream",
     "text": [
      "3686-5111 wavelength range: Saving 40 EML systems to file _data/out/elines_DIG_bright_linear_full_900_flux\n",
      "5270-6716 wavelength range: Saving 9 EML systems to file _data/out/elines_DIG_bright_linear_full_900_flux\n",
      "6730-7751 wavelength range: Saving 5 EML systems to file _data/out/elines_DIG_bright_linear_full_900_flux\n",
      "8374-9682 wavelength range: Saving 18 EML systems to file _data/out/elines_DIG_bright_linear_full_900_flux\n",
      "-------------------------------------------------------------------------------------------------------------\n",
      "|  ID  |  TEFF   |  LOGG   |  META   | ALPHAM  | COEFF  | Min.Coeff | log(M/L) |  AV  | N.Coeff | Err.Coeff |\n",
      "-------------------------------------------------------------------------------------------------------------\n",
      "| 0003 |  3.9973 |  3.5769 | -1.4049 |  0.2428 | 0.0026 |    0.0025 |  11.7437 | 0.00 |  0.0026 |    0.0004 | 0.0023 | 0.0004\n",
      "| 0004 |  4.0082 |  4.0227 | -1.5766 |  0.4497 | 0.0031 |    0.0029 |  11.5772 | 0.00 |  0.0031 |    0.0006 | 0.0026 | 0.0006\n",
      "| 0005 |  3.9837 |  3.4683 | -2.0871 |  0.2826 | 0.0018 |    0.0017 |  11.7220 | 0.00 |  0.0018 |    0.0003 | 0.0015 | 0.0003\n",
      "| 0006 |  3.9397 |  2.8905 | -2.3637 |  0.0845 | 0.0302 |    0.0303 |  11.0819 | 0.00 |  0.0302 |    0.0013 | 0.0307 | 0.0013\n",
      "| 0016 |  3.9912 |  3.8512 | -2.4725 | -0.0788 | 0.0280 |    0.0279 |  12.0442 | 0.00 |  0.0280 |    0.0019 | 0.0276 | 0.0019\n",
      "| 0020 |  3.9178 |  2.8502 | -0.1434 |  0.4301 | 0.0021 |    0.0020 |  12.4419 | 0.00 |  0.0021 |    0.0004 | 0.0018 | 0.0004\n",
      "| 0027 |  3.8020 |  3.4271 |  0.4132 |  0.1126 | 0.0057 |    0.0054 |  11.2388 | 0.00 |  0.0057 |    0.0011 | 0.0048 | 0.0011\n",
      "| 0038 |  3.7246 |  4.6481 | -2.9338 | -0.0286 | 0.0540 |    0.0521 |  11.1505 | 0.00 |  0.0540 |    0.0078 | 0.0485 | 0.0075\n",
      "| 0040 |  3.7782 |  4.3005 | -0.5922 |  0.0448 | 0.1558 |    0.1549 |  13.1688 | 0.00 |  0.1558 |    0.0110 | 0.1531 | 0.0110\n",
      "| 0041 |  3.7907 |  3.9016 | -1.2397 |  0.3570 | 0.0331 |    0.0313 |  14.2431 | 0.00 |  0.0331 |    0.0065 | 0.0278 | 0.0062\n",
      "| 0042 |  3.8211 |  3.9899 | -0.3000 |  0.0918 | 0.0446 |    0.0433 |  13.3216 | 0.00 |  0.0446 |    0.0058 | 0.0407 | 0.0057\n",
      "| 0045 |  3.7251 |  3.1927 | -1.9643 |  0.3019 | 0.0512 |    0.0521 |  13.7054 | 0.00 |  0.0512 |    0.0012 | 0.0540 | 0.0006\n",
      "| 0059 |  3.6092 |  1.3838 |  0.1434 |  0.0343 | 0.0009 |    0.0008 |  13.0951 | 0.00 |  0.0009 |    0.0002 | 0.0007 | 0.0002\n",
      "| 0064 |  3.7728 |  3.6600 | -0.7627 |  0.1747 | 0.0011 |    0.0010 |  14.2166 | 0.00 |  0.0011 |    0.0002 | 0.0009 | 0.0002\n",
      "| 0078 |  3.6176 |  2.3510 | -0.5391 |  0.1008 | 0.0034 |    0.0032 |  12.7842 | 0.00 |  0.0034 |    0.0007 | 0.0028 | 0.0006\n",
      "| 0080 |  3.5948 |  4.6425 |  0.1627 |  0.1314 | 0.2260 |    0.2305 |  13.9387 | 0.00 |  0.2260 |    0.0051 | 0.2391 | 0.0022\n",
      "| 0081 |  3.6748 |  2.9787 | -2.8941 |  0.2371 | 0.0018 |    0.0017 |  13.1684 | 0.00 |  0.0018 |    0.0004 | 0.0015 | 0.0003\n",
      "| 0082 |  3.6875 |  3.4132 |  0.3526 | -0.0964 | 0.0664 |    0.0675 |  13.5051 | 0.00 |  0.0664 |    0.0017 | 0.0695 | 0.0013\n",
      "| 0085 |  3.6933 |  3.3537 | -3.5093 |  0.2149 | 0.1662 |    0.1672 |  11.8048 | 0.00 |  0.1662 |    0.0072 | 0.1691 | 0.0071\n",
      "| 0087 |  3.7006 |  3.0027 |  0.4294 |  0.2140 | 0.1222 |    0.1219 |  12.3724 | 0.00 |  0.1222 |    0.0078 | 0.1212 | 0.0078\n",
      "-------------------------------------------------------------------------------------------------------------\n",
      "MSP CHISQ=0.31445823320777994 TEFF=5198.4392586200875+-516.1438571187159 LOGG=3.858445331459806+-0.3830982255989673 META=-1.0344748662785144+-0.10271118330140742 ALPHAM=0.12733753706588402+-0.012643119264728936 AV=0.0+-0.0 REDSHIFT=0+-0 SIGMA_DISP_km_s=0+-0 RMS=1.1088028773573877 MED_FLUX=3.071805238723755 TEFF_mass=4625.595910755971+-459.2672523567959 LOGG_mass=4.260093181445595+-0.4353280164695611 META_mass=-0.3103467940132569+-0.009752499850388093 ALPHAM_mass=0.16268355705846652+-0.0005676343189811199 MASS=3.6624599792173075e+17 log_M/L=9.988243122308736 log_Mass=17.56377288772393\n",
      "--------------------------------------------------------------\n"
     ]
    },
    {
     "name": "stderr",
     "output_type": "stream",
     "text": [
      "fitting spectra:   3%|2         | 50/1801 [3:41:57<111:20:49, 228.93s/spectrum]"
     ]
    },
    {
     "name": "stdout",
     "output_type": "stream",
     "text": [
      "3686-5015 wavelength range: Saving 35 EML systems to file _data/out/elines_DIG_bright_linear_full_900_flux\n",
      "5270-6716 wavelength range: Saving 8 EML systems to file _data/out/elines_DIG_bright_linear_full_900_flux\n",
      "6730-7637 wavelength range: Saving 5 EML systems to file _data/out/elines_DIG_bright_linear_full_900_flux\n",
      "8300-9545 wavelength range: Saving 23 EML systems to file _data/out/elines_DIG_bright_linear_full_900_flux\n",
      "-------------------------------------------------------------------------------------------------------------\n",
      "|  ID  |  TEFF   |  LOGG   |  META   | ALPHAM  | COEFF  | Min.Coeff | log(M/L) |  AV  | N.Coeff | Err.Coeff |\n",
      "-------------------------------------------------------------------------------------------------------------\n",
      "| 0005 |  3.9837 |  3.4683 | -2.0871 |  0.2826 | 0.2000 |    0.2003 |  11.7220 | 0.00 |  0.2000 |    0.0045 | 0.2010 | 0.0045\n",
      "| 0006 |  3.9397 |  2.8905 | -2.3637 |  0.0845 | 0.0240 |    0.0229 |  11.0819 | 0.00 |  0.0240 |    0.0034 | 0.0208 | 0.0032\n",
      "| 0020 |  3.9178 |  2.8502 | -0.1434 |  0.4301 | 0.1675 |    0.1677 |  12.4419 | 0.00 |  0.1675 |    0.0042 | 0.1679 | 0.0042\n",
      "| 0043 |  3.6841 |  2.6831 | -0.5948 |  0.1234 | 0.1192 |    0.1203 |  13.1753 | 0.00 |  0.1192 |    0.0013 | 0.1221 | 0.0008\n",
      "| 0044 |  3.6175 |  2.6876 | -0.8062 |  0.3869 | 0.0135 |    0.0132 |  12.9288 | 0.00 |  0.0135 |    0.0012 | 0.0126 | 0.0011\n",
      "| 0066 |  3.5452 |  5.0235 | -0.0039 | -0.0271 | 0.0403 |    0.0394 |  14.2996 | 0.00 |  0.0403 |    0.0034 | 0.0376 | 0.0033\n",
      "| 0078 |  3.6176 |  2.3510 | -0.5391 |  0.1008 | 0.3481 |    0.3503 |  12.7842 | 0.00 |  0.3481 |    0.0048 | 0.3543 | 0.0043\n",
      "| 0083 |  3.7750 |  3.8381 | -0.2731 |  0.4494 | 0.0247 |    0.0235 |  13.9321 | 0.00 |  0.0247 |    0.0036 | 0.0213 | 0.0034\n",
      "| 0094 |  3.5317 |  0.8120 | -0.2795 |  0.0664 | 0.0608 |    0.0608 |  13.3101 | 0.00 |  0.0608 |    0.0016 | 0.0608 | 0.0016\n",
      "| 0096 |  3.4744 |  0.7093 | -0.2107 |  0.1388 | 0.0018 |    0.0017 |  14.1032 | 0.00 |  0.0018 |    0.0002 | 0.0016 | 0.0002\n",
      "-------------------------------------------------------------------------------------------------------------\n",
      "MSP CHISQ=1.4626877079611458 TEFF=5652.880841993903+-259.0055703913664 LOGG=2.763268135176617+-0.12660833643952457 META=-0.791866841258968+-0.03628201772283347 ALPHAM=0.19992402390232455+-0.009160185274221033 AV=0.0+-0.0 REDSHIFT=0+-0 SIGMA_DISP_km_s=0+-0 RMS=0.6958930299642749 MED_FLUX=0.5813835859298706 TEFF_mass=4092.9548097628763+-187.53236176738497 LOGG_mass=3.7892968355366676+-0.143378979021054 META_mass=-0.22197615137637064+-0.002289941950219845 ALPHAM_mass=0.09595762582924872+-0.00025331199259520133 MASS=3.2992404238146876e+16 log_M/L=9.665815109841205 log_Mass=16.518413964812233\n",
      "--------------------------------------------------------------\n",
      "3686-5158 wavelength range: Saving 36 EML systems to file _data/out/elines_DIG_bright_linear_full_900_flux\n",
      "5220-6716 wavelength range: Saving 9 EML systems to file _data/out/elines_DIG_bright_linear_full_900_flux\n",
      "6730-7637 wavelength range: Saving 5 EML systems to file _data/out/elines_DIG_bright_linear_full_900_flux\n",
      "8357-9545 wavelength range: Saving 26 EML systems to file _data/out/elines_DIG_bright_linear_full_900_flux\n",
      "-------------------------------------------------------------------------------------------------------------\n",
      "|  ID  |  TEFF   |  LOGG   |  META   | ALPHAM  | COEFF  | Min.Coeff | log(M/L) |  AV  | N.Coeff | Err.Coeff |\n",
      "-------------------------------------------------------------------------------------------------------------\n",
      "| 0003 |  3.9973 |  3.5769 | -1.4049 |  0.2428 | 0.0044 |    0.0042 |  11.7437 | 0.00 |  0.0044 |    0.0005 | 0.0039 | 0.0005\n",
      "| 0004 |  4.0082 |  4.0227 | -1.5766 |  0.4497 | 0.0023 |    0.0021 |  11.5772 | 0.00 |  0.0023 |    0.0003 | 0.0019 | 0.0003\n",
      "| 0005 |  3.9837 |  3.4683 | -2.0871 |  0.2826 | 0.0004 |    0.0004 |  11.7220 | 0.00 |  0.0004 |    0.0001 | 0.0003 | 0.0001\n",
      "| 0006 |  3.9397 |  2.8905 | -2.3637 |  0.0845 | 0.0006 |    0.0005 |  11.0819 | 0.00 |  0.0006 |    0.0001 | 0.0004 | 0.0001\n",
      "| 0016 |  3.9912 |  3.8512 | -2.4725 | -0.0788 | 0.0107 |    0.0105 |  12.0442 | 0.00 |  0.0107 |    0.0006 | 0.0102 | 0.0005\n",
      "| 0020 |  3.9178 |  2.8502 | -0.1434 |  0.4301 | 0.0166 |    0.0164 |  12.4419 | 0.00 |  0.0166 |    0.0006 | 0.0162 | 0.0006\n",
      "| 0031 |  3.8428 |  4.2527 | -0.9222 |  0.0270 | 0.0022 |    0.0020 |  14.4797 | 0.00 |  0.0022 |    0.0004 | 0.0017 | 0.0004\n",
      "| 0042 |  3.8211 |  3.9899 | -0.3000 |  0.0918 | 0.0013 |    0.0012 |  13.3216 | 0.00 |  0.0013 |    0.0003 | 0.0011 | 0.0002\n",
      "| 0043 |  3.6841 |  2.6831 | -0.5948 |  0.1234 | 0.0147 |    0.0148 |  13.1753 | 0.00 |  0.0147 |    0.0001 | 0.0149 | 0.0001\n",
      "| 0054 |  3.5580 |  4.6137 | -0.1421 | -0.0031 | 0.0020 |    0.0019 |  14.4913 | 0.00 |  0.0020 |    0.0002 | 0.0018 | 0.0002\n",
      "| 0056 |  3.5676 |  4.4046 | -0.1537 |  0.0240 | 0.0020 |    0.0019 |  14.5276 | 0.00 |  0.0020 |    0.0003 | 0.0017 | 0.0003\n",
      "| 0057 |  3.5692 |  4.4734 | -0.7302 |  0.0831 | 0.0030 |    0.0028 |  14.5684 | 0.00 |  0.0030 |    0.0006 | 0.0024 | 0.0005\n",
      "| 0059 |  3.6092 |  1.3838 |  0.1434 |  0.0343 | 0.4048 |    0.4069 |  13.0951 | 0.00 |  0.4048 |    0.0042 | 0.4107 | 0.0036\n",
      "| 0062 |  3.6034 |  4.8217 |  0.0615 |  0.0298 | 0.0155 |    0.0147 |  14.3674 | 0.00 |  0.0155 |    0.0022 | 0.0133 | 0.0021\n",
      "| 0064 |  3.7728 |  3.6600 | -0.7627 |  0.1747 | 0.0070 |    0.0068 |  14.2166 | 0.00 |  0.0070 |    0.0006 | 0.0065 | 0.0006\n",
      "| 0070 |  3.5661 |  0.2192 | -1.0902 |  0.4151 | 0.0048 |    0.0047 |  12.4227 | 0.00 |  0.0048 |    0.0003 | 0.0046 | 0.0002\n",
      "| 0071 |  3.5543 |  4.9259 | -0.1076 | -0.0448 | 0.0007 |    0.0007 |  14.7191 | 0.00 |  0.0007 |    0.0001 | 0.0006 | 0.0001\n",
      "| 0073 |  3.5644 |  0.6615 | -1.9179 |  0.8199 | 0.0145 |    0.0144 |  13.6592 | 0.00 |  0.0145 |    0.0008 | 0.0140 | 0.0007\n",
      "| 0074 |  3.6611 |  2.3618 | -0.0147 |  0.0420 | 0.0009 |    0.0008 |  12.4957 | 0.00 |  0.0009 |    0.0002 | 0.0007 | 0.0002\n",
      "| 0077 |  3.5927 |  1.1325 | -0.1682 |  0.0645 | 0.0058 |    0.0054 |  13.8827 | 0.00 |  0.0058 |    0.0011 | 0.0047 | 0.0010\n",
      "| 0078 |  3.6176 |  2.3510 | -0.5391 |  0.1008 | 0.1062 |    0.1066 |  12.7842 | 0.00 |  0.1062 |    0.0014 | 0.1073 | 0.0013\n",
      "| 0080 |  3.5948 |  4.6425 |  0.1627 |  0.1314 | 0.0399 |    0.0396 |  13.9387 | 0.00 |  0.0399 |    0.0017 | 0.0389 | 0.0017\n",
      "| 0081 |  3.6748 |  2.9787 | -2.8941 |  0.2371 | 0.0016 |    0.0015 |  13.1684 | 0.00 |  0.0016 |    0.0003 | 0.0013 | 0.0003\n",
      "| 0082 |  3.6875 |  3.4132 |  0.3526 | -0.0964 | 0.0131 |    0.0130 |  13.5051 | 0.00 |  0.0131 |    0.0004 | 0.0129 | 0.0004\n",
      "| 0086 |  3.6552 |  4.2152 |  0.3023 |  0.1461 | 0.3066 |    0.3082 |  13.2321 | 0.00 |  0.3066 |    0.0031 | 0.3113 | 0.0025\n",
      "| 0087 |  3.7006 |  3.0027 |  0.4294 |  0.2140 | 0.0178 |    0.0172 |  12.3724 | 0.00 |  0.0178 |    0.0019 | 0.0160 | 0.0018\n",
      "| 0089 |  3.7168 |  3.4819 | -0.4466 |  0.0795 | 0.0007 |    0.0006 |  14.7187 | 0.00 |  0.0007 |    0.0001 | 0.0005 | 0.0001\n",
      "-------------------------------------------------------------------------------------------------------------\n",
      "MSP CHISQ=0.48609897977621963 TEFF=4367.5856506538+-155.04149062902925 LOGG=2.717721115973197+-0.0964742461023972 META=0.014365456926738476+-0.0005099480659652874 ALPHAM=0.10438295301249696+-0.003705408416866387 AV=0.0+-0.0 REDSHIFT=0+-0 SIGMA_DISP_km_s=0+-0 RMS=0.09814145253478747 MED_FLUX=0.6721360683441162 TEFF_mass=4247.395345502994+-150.7749494412338 LOGG_mass=3.5580593503589815+-0.1071431806815606 META_mass=-0.05606905142771904+-0.00012949741443687282 ALPHAM_mass=0.10072012612464935+-0.0001304528963606162 MASS=5.852415588285599e+16 log_M/L=9.851741868459609 log_Mass=16.76733515841204\n",
      "--------------------------------------------------------------\n"
     ]
    },
    {
     "name": "stderr",
     "output_type": "stream",
     "text": [
      "fitting spectra:   3%|2         | 52/1801 [3:50:11<114:55:01, 236.54s/spectrum]"
     ]
    },
    {
     "name": "stdout",
     "output_type": "stream",
     "text": [
      "3691-5184 wavelength range: Saving 39 EML systems to file _data/out/elines_DIG_bright_linear_full_900_flux\n",
      "5270-6716 wavelength range: Saving 7 EML systems to file _data/out/elines_DIG_bright_linear_full_900_flux\n",
      "6730-6730 wavelength range: Saving 2 EML systems to file _data/out/elines_DIG_bright_linear_full_900_flux\n",
      "8300-9682 wavelength range: Saving 23 EML systems to file _data/out/elines_DIG_bright_linear_full_900_flux\n",
      "-------------------------------------------------------------------------------------------------------------\n",
      "|  ID  |  TEFF   |  LOGG   |  META   | ALPHAM  | COEFF  | Min.Coeff | log(M/L) |  AV  | N.Coeff | Err.Coeff |\n",
      "-------------------------------------------------------------------------------------------------------------\n",
      "| 0005 |  3.9837 |  3.4683 | -2.0871 |  0.2826 | 0.1234 |    0.1217 |  11.7220 | 0.00 |  0.1234 |    0.0065 | 0.1186 | 0.0062\n",
      "| 0009 |  3.9988 |  3.7561 |  0.0265 | -0.0907 | 0.0319 |    0.0309 |  13.3728 | 0.00 |  0.0319 |    0.0029 | 0.0292 | 0.0027\n",
      "| 0020 |  3.9178 |  2.8502 | -0.1434 |  0.4301 | 0.2386 |    0.2377 |  12.4419 | 0.00 |  0.2386 |    0.0068 | 0.2360 | 0.0068\n",
      "| 0044 |  3.6175 |  2.6876 | -0.8062 |  0.3869 | 0.0650 |    0.0653 |  12.9288 | 0.00 |  0.0650 |    0.0007 | 0.0658 | 0.0006\n",
      "| 0072 |  3.5525 |  4.7937 | -0.2625 |  0.0162 | 0.4286 |    0.4319 |  14.8015 | 0.00 |  0.4286 |    0.0035 | 0.4380 | 0.0007\n",
      "| 0080 |  3.5948 |  4.6425 |  0.1627 |  0.1314 | 0.0162 |    0.0157 |  13.9387 | 0.00 |  0.0162 |    0.0016 | 0.0147 | 0.0015\n",
      "| 0083 |  3.7750 |  3.8381 | -0.2731 |  0.4494 | 0.0041 |    0.0039 |  13.9321 | 0.00 |  0.0041 |    0.0006 | 0.0035 | 0.0005\n",
      "| 0093 |  3.5513 |  0.6333 | -1.4135 |  0.7570 | 0.0922 |    0.0929 |  14.1895 | 0.00 |  0.0922 |    0.0007 | 0.0942 | 0.0002\n",
      "-------------------------------------------------------------------------------------------------------------\n",
      "MSP CHISQ=17.968271837976005 TEFF=5161.87006773389+-198.6540292261131 LOGG=3.6062772995118713+-0.1387872043763408 META=-0.584620894447983+-0.02249907392629342 ALPHAM=0.24048586173515607+-0.009255073215466599 AV=0.0+-0.0 REDSHIFT=0+-0 SIGMA_DISP_km_s=0+-0 RMS=0.6654166935336286 MED_FLUX=0.5836790204048157 TEFF_mass=3590.4443405241313+-138.17787460704903 LOGG_mass=4.5751863410420555+-0.16015665779521962 META_mass=-0.3176035064113919+-0.00229430519596137 ALPHAM_mass=0.055219864433309354+-0.0001388779758005391 MASS=5.911768321520347e+17 log_M/L=10.917407233860793 log_Mass=17.771717405992856\n",
      "--------------------------------------------------------------\n"
     ]
    },
    {
     "name": "stderr",
     "output_type": "stream",
     "text": [
      "fitting spectra:   3%|2         | 53/1801 [3:52:14<98:22:59, 202.62s/spectrum] "
     ]
    },
    {
     "name": "stdout",
     "output_type": "stream",
     "text": [
      "3691-5039 wavelength range: Saving 49 EML systems to file _data/out/elines_DIG_bright_linear_full_900_flux\n",
      "5270-6716 wavelength range: Saving 7 EML systems to file _data/out/elines_DIG_bright_linear_full_900_flux\n",
      "6730-7637 wavelength range: Saving 6 EML systems to file _data/out/elines_DIG_bright_linear_full_900_flux\n",
      "8300-9545 wavelength range: Saving 24 EML systems to file _data/out/elines_DIG_bright_linear_full_900_flux\n",
      "-------------------------------------------------------------------------------------------------------------\n",
      "|  ID  |  TEFF   |  LOGG   |  META   | ALPHAM  | COEFF  | Min.Coeff | log(M/L) |  AV  | N.Coeff | Err.Coeff |\n",
      "-------------------------------------------------------------------------------------------------------------\n",
      "| 0002 |  3.9865 |  3.3665 | -1.7064 |  0.4121 | 0.0234 |    0.0220 |  10.9304 | 0.00 |  0.0234 |    0.0046 | 0.0195 | 0.0044\n",
      "| 0004 |  4.0082 |  4.0227 | -1.5766 |  0.4497 | 0.0227 |    0.0214 |  11.5772 | 0.00 |  0.0227 |    0.0044 | 0.0189 | 0.0042\n",
      "| 0005 |  3.9837 |  3.4683 | -2.0871 |  0.2826 | 0.1452 |    0.1445 |  11.7220 | 0.00 |  0.1452 |    0.0093 | 0.1430 | 0.0093\n",
      "| 0006 |  3.9397 |  2.8905 | -2.3637 |  0.0845 | 0.0173 |    0.0166 |  11.0819 | 0.00 |  0.0173 |    0.0025 | 0.0154 | 0.0024\n",
      "| 0009 |  3.9988 |  3.7561 |  0.0265 | -0.0907 | 0.2083 |    0.2082 |  13.3728 | 0.00 |  0.2083 |    0.0109 | 0.2081 | 0.0109\n",
      "| 0020 |  3.9178 |  2.8502 | -0.1434 |  0.4301 | 0.0035 |    0.0034 |  12.4419 | 0.00 |  0.0035 |    0.0005 | 0.0032 | 0.0005\n",
      "| 0024 |  3.9814 |  3.2205 | -1.5890 |  0.3911 | 0.0041 |    0.0039 |  13.7600 | 0.00 |  0.0041 |    0.0008 | 0.0034 | 0.0008\n",
      "| 0025 |  3.9420 |  2.4846 | -3.2709 |  0.2771 | 0.0025 |    0.0024 |  12.2457 | 0.00 |  0.0025 |    0.0004 | 0.0022 | 0.0004\n",
      "| 0031 |  3.8428 |  4.2527 | -0.9222 |  0.0270 | 0.0000 |    0.0000 |  14.4797 | 0.00 |  0.0000 |    0.0000 | 0.0000 | 0.0000\n",
      "| 0044 |  3.6175 |  2.6876 | -0.8062 |  0.3869 | 0.0866 |    0.0879 |  12.9288 | 0.00 |  0.0866 |    0.0019 | 0.0906 | 0.0013\n",
      "| 0058 |  3.5790 |  0.9806 | -0.3125 |  0.3323 | 0.0091 |    0.0086 |  12.9605 | 0.00 |  0.0091 |    0.0018 | 0.0076 | 0.0017\n",
      "| 0062 |  3.6034 |  4.8217 |  0.0615 |  0.0298 | 0.0242 |    0.0234 |  14.3674 | 0.00 |  0.0242 |    0.0033 | 0.0219 | 0.0032\n",
      "| 0072 |  3.5525 |  4.7937 | -0.2625 |  0.0162 | 0.0081 |    0.0079 |  14.8015 | 0.00 |  0.0081 |    0.0010 | 0.0074 | 0.0009\n",
      "| 0078 |  3.6176 |  2.3510 | -0.5391 |  0.1008 | 0.3314 |    0.3362 |  12.7842 | 0.00 |  0.3314 |    0.0076 | 0.3455 | 0.0058\n",
      "| 0082 |  3.6875 |  3.4132 |  0.3526 | -0.0964 | 0.0079 |    0.0076 |  13.5051 | 0.00 |  0.0079 |    0.0014 | 0.0068 | 0.0013\n",
      "| 0083 |  3.7750 |  3.8381 | -0.2731 |  0.4494 | 0.0765 |    0.0766 |  13.9321 | 0.00 |  0.0765 |    0.0038 | 0.0767 | 0.0038\n",
      "| 0087 |  3.7006 |  3.0027 |  0.4294 |  0.2140 | 0.0037 |    0.0034 |  12.3724 | 0.00 |  0.0037 |    0.0007 | 0.0030 | 0.0007\n",
      "| 0093 |  3.5513 |  0.6333 | -1.4135 |  0.7570 | 0.0256 |    0.0260 |  14.1895 | 0.00 |  0.0256 |    0.0006 | 0.0268 | 0.0004\n",
      "-------------------------------------------------------------------------------------------------------------\n",
      "MSP CHISQ=1.6519825414086247 TEFF=6117.021720181847+-560.9089580350993 LOGG=3.0593238267979626+-0.28052902514954364 META=-0.7338995815591893+-0.06729596009715047 ALPHAM=0.17181313581935836+-0.015754648487060523 AV=0.0+-0.0 REDSHIFT=0+-0 SIGMA_DISP_km_s=0+-0 RMS=0.7769254892084472 MED_FLUX=0.39720794558525085 TEFF_mass=4982.693488447156+-456.8951265273721 LOGG_mass=3.600150241761982+-0.28729103616881024 META_mass=-0.35256745489536045+-0.007529467021261736 ALPHAM_mass=0.21478194747737225+-0.0009905424615483526 MASS=4.117886225929033e+16 log_M/L=9.927520327160929 log_Mass=16.614674343220866\n",
      "--------------------------------------------------------------\n"
     ]
    },
    {
     "name": "stderr",
     "output_type": "stream",
     "text": [
      "fitting spectra:   3%|2         | 54/1801 [3:53:36<80:46:05, 166.44s/spectrum]"
     ]
    },
    {
     "name": "stdout",
     "output_type": "stream",
     "text": [
      "3686-5015 wavelength range: Saving 37 EML systems to file _data/out/elines_DIG_bright_linear_full_900_flux\n",
      "5270-6716 wavelength range: Saving 7 EML systems to file _data/out/elines_DIG_bright_linear_full_900_flux\n",
      "6730-7637 wavelength range: Saving 4 EML systems to file _data/out/elines_DIG_bright_linear_full_900_flux\n",
      "8345-9545 wavelength range: Saving 18 EML systems to file _data/out/elines_DIG_bright_linear_full_900_flux\n",
      "-------------------------------------------------------------------------------------------------------------\n",
      "|  ID  |  TEFF   |  LOGG   |  META   | ALPHAM  | COEFF  | Min.Coeff | log(M/L) |  AV  | N.Coeff | Err.Coeff |\n",
      "-------------------------------------------------------------------------------------------------------------\n",
      "| 0005 |  3.9837 |  3.4683 | -2.0871 |  0.2826 | 0.3221 |    0.3231 |  11.7220 | 0.00 |  0.3221 |    0.0086 | 0.3249 | 0.0086\n",
      "| 0009 |  3.9988 |  3.7561 |  0.0265 | -0.0907 | 0.0513 |    0.0495 |  13.3728 | 0.00 |  0.0513 |    0.0061 | 0.0462 | 0.0058\n",
      "| 0013 |  3.9918 |  2.9386 | -1.2331 |  0.5237 | 0.0125 |    0.0117 |  11.4489 | 0.00 |  0.0125 |    0.0024 | 0.0102 | 0.0023\n",
      "| 0020 |  3.9178 |  2.8502 | -0.1434 |  0.4301 | 0.0531 |    0.0520 |  12.4419 | 0.00 |  0.0531 |    0.0044 | 0.0500 | 0.0042\n",
      "| 0043 |  3.6841 |  2.6831 | -0.5948 |  0.1234 | 0.0425 |    0.0423 |  13.1753 | 0.00 |  0.0425 |    0.0020 | 0.0418 | 0.0020\n",
      "| 0044 |  3.6175 |  2.6876 | -0.8062 |  0.3869 | 0.0134 |    0.0131 |  12.9288 | 0.00 |  0.0134 |    0.0013 | 0.0124 | 0.0013\n",
      "| 0080 |  3.5948 |  4.6425 |  0.1627 |  0.1314 | 0.3021 |    0.3047 |  13.9387 | 0.00 |  0.3021 |    0.0050 | 0.3094 | 0.0043\n",
      "| 0082 |  3.6875 |  3.4132 |  0.3526 | -0.0964 | 0.1779 |    0.1785 |  13.5051 | 0.00 |  0.1779 |    0.0048 | 0.1795 | 0.0048\n",
      "| 0093 |  3.5513 |  0.6333 | -1.4135 |  0.7570 | 0.0250 |    0.0252 |  14.1895 | 0.00 |  0.0250 |    0.0005 | 0.0255 | 0.0004\n",
      "-------------------------------------------------------------------------------------------------------------\n",
      "MSP CHISQ=3.3871702316441454 TEFF=6059.1074311691955+-352.10785042859675 LOGG=3.6738198803589937+-0.21349362684685622 META=-0.6535146552432949+-0.037977151436131465 ALPHAM=0.16765577363456935+-0.009742839970576381 AV=0.0+-0.0 REDSHIFT=0+-0 SIGMA_DISP_km_s=0+-0 RMS=2.843746470163867 MED_FLUX=0.011217914521694183 TEFF_mass=4184.330214111064+-243.1604875653731 LOGG_mass=3.972282878227287+-0.20716930424526087 META_mass=-0.00025277970145067837+-2.3820435173286547e-06 ALPHAM_mass=0.15629594725669949+-0.00042703605488702005 MASS=1495072587885140.2 log_M/L=10.036614063634655 log_Mass=15.174662278782641\n",
      "--------------------------------------------------------------\n"
     ]
    },
    {
     "name": "stderr",
     "output_type": "stream",
     "text": [
      "fitting spectra:   3%|3         | 55/1801 [3:57:04<86:41:26, 178.74s/spectrum]"
     ]
    },
    {
     "name": "stdout",
     "output_type": "stream",
     "text": [
      "3691-5158 wavelength range: Saving 38 EML systems to file _data/out/elines_DIG_bright_linear_full_900_flux\n",
      "5197-6716 wavelength range: Saving 11 EML systems to file _data/out/elines_DIG_bright_linear_full_900_flux\n",
      "6730-7637 wavelength range: Saving 4 EML systems to file _data/out/elines_DIG_bright_linear_full_900_flux\n",
      "8308-9682 wavelength range: Saving 22 EML systems to file _data/out/elines_DIG_bright_linear_full_900_flux\n",
      "-------------------------------------------------------------------------------------------------------------\n",
      "|  ID  |  TEFF   |  LOGG   |  META   | ALPHAM  | COEFF  | Min.Coeff | log(M/L) |  AV  | N.Coeff | Err.Coeff |\n",
      "-------------------------------------------------------------------------------------------------------------\n",
      "| 0005 |  3.9837 |  3.4683 | -2.0871 |  0.2826 | 0.0146 |    0.0144 |  11.7220 | 0.00 |  0.0146 |    0.0008 | 0.0140 | 0.0008\n",
      "| 0020 |  3.9178 |  2.8502 | -0.1434 |  0.4301 | 0.0243 |    0.0235 |  12.4419 | 0.00 |  0.0243 |    0.0025 | 0.0220 | 0.0023\n",
      "| 0035 |  3.9220 |  2.9127 |  0.4975 |  0.2669 | 0.1062 |    0.1050 |  12.0656 | 0.00 |  0.1062 |    0.0051 | 0.1029 | 0.0049\n",
      "| 0042 |  3.8211 |  3.9899 | -0.3000 |  0.0918 | 0.1095 |    0.1080 |  13.3216 | 0.00 |  0.1095 |    0.0060 | 0.1052 | 0.0058\n",
      "| 0044 |  3.6175 |  2.6876 | -0.8062 |  0.3869 | 0.0069 |    0.0069 |  12.9288 | 0.00 |  0.0069 |    0.0002 | 0.0068 | 0.0002\n",
      "| 0054 |  3.5580 |  4.6137 | -0.1421 | -0.0031 | 0.3164 |    0.3189 |  14.4913 | 0.00 |  0.3164 |    0.0027 | 0.3235 | 0.0009\n",
      "| 0075 |  3.6607 |  2.0839 |  0.1194 | -0.0040 | 0.0506 |    0.0501 |  12.0786 | 0.00 |  0.0506 |    0.0024 | 0.0491 | 0.0023\n",
      "| 0080 |  3.5948 |  4.6425 |  0.1627 |  0.1314 | 0.2756 |    0.2776 |  13.9387 | 0.00 |  0.2756 |    0.0024 | 0.2810 | 0.0014\n",
      "| 0082 |  3.6875 |  3.4132 |  0.3526 | -0.0964 | 0.0147 |    0.0145 |  13.5051 | 0.00 |  0.0147 |    0.0007 | 0.0142 | 0.0007\n",
      "| 0083 |  3.7750 |  3.8381 | -0.2731 |  0.4494 | 0.0553 |    0.0552 |  13.9321 | 0.00 |  0.0553 |    0.0015 | 0.0549 | 0.0015\n",
      "| 0093 |  3.5513 |  0.6333 | -1.4135 |  0.7570 | 0.0147 |    0.0148 |  14.1895 | 0.00 |  0.0147 |    0.0001 | 0.0150 | 0.0001\n",
      "| 0094 |  3.5317 |  0.8120 | -0.2795 |  0.0664 | 0.0111 |    0.0111 |  13.3101 | 0.00 |  0.0111 |    0.0001 | 0.0112 | 0.0001\n",
      "-------------------------------------------------------------------------------------------------------------\n",
      "MSP CHISQ=13.604134585911805 TEFF=4673.893939542506+-185.9305838251391 LOGG=4.010420321463699+-0.15953716566938933 META=-0.04744819541330854+-0.0018875205104695364 ALPHAM=0.12600469268140158+-0.0050125497878228354 AV=0.0+-0.0 REDSHIFT=0+-0 SIGMA_DISP_km_s=0+-0 RMS=0.24496635578026602 MED_FLUX=1.2208046913146973 TEFF_mass=3783.3791212590327+-150.50531696840108 LOGG_mass=4.496447521959619+-0.1663618419040844 META_mass=-0.11444285664307648+-7.71001385195379e-05 ALPHAM_mass=0.052608359774754906+-9.722089157407726e-05 MASS=5.653536033762024e+17 log_M/L=10.577537886339288 log_Mass=17.752320164562974\n",
      "--------------------------------------------------------------\n"
     ]
    },
    {
     "name": "stderr",
     "output_type": "stream",
     "text": [
      "/home/mejia/.cache/pypoetry/virtualenvs/lvm-dap-fAIgvtcU-py3.8/lib/python3.8/site-packages/numpy/core/fromnumeric.py:3440: RuntimeWarning: Mean of empty slice.\n",
      "  return _methods._mean(a, axis=axis, dtype=dtype,\n",
      "/home/mejia/.cache/pypoetry/virtualenvs/lvm-dap-fAIgvtcU-py3.8/lib/python3.8/site-packages/numpy/core/_methods.py:189: RuntimeWarning: invalid value encountered in double_scalars\n",
      "  ret = ret.dtype.type(ret / rcount)\n",
      "fitting spectra:   3%|3         | 56/1801 [4:01:57<103:13:09, 212.95s/spectrum]"
     ]
    },
    {
     "name": "stdout",
     "output_type": "stream",
     "text": [
      "3686-5158 wavelength range: Saving 45 EML systems to file _data/out/elines_DIG_bright_linear_full_900_flux\n",
      "5261-6716 wavelength range: Saving 11 EML systems to file _data/out/elines_DIG_bright_linear_full_900_flux\n",
      "6730-7637 wavelength range: Saving 9 EML systems to file _data/out/elines_DIG_bright_linear_full_900_flux\n",
      "8300-9682 wavelength range: Saving 23 EML systems to file _data/out/elines_DIG_bright_linear_full_900_flux\n",
      "-------------------------------------------------------------------------------------------------------------\n",
      "|  ID  |  TEFF   |  LOGG   |  META   | ALPHAM  | COEFF  | Min.Coeff | log(M/L) |  AV  | N.Coeff | Err.Coeff |\n",
      "-------------------------------------------------------------------------------------------------------------\n",
      "| 0035 |  3.9220 |  2.9127 |  0.4975 |  0.2669 | 0.0161 |    0.0158 |  12.0656 | 0.00 |  0.0161 |    0.0015 | 0.0152 | 0.0015\n",
      "| 0040 |  3.7782 |  4.3005 | -0.5922 |  0.0448 | 0.0737 |    0.0731 |  13.1688 | 0.00 |  0.0737 |    0.0048 | 0.0720 | 0.0047\n",
      "| 0044 |  3.6175 |  2.6876 | -0.8062 |  0.3869 | 0.0000 |    0.0000 |  12.9288 | 0.00 |  0.0000 |    0.0000 | 0.0000 | 0.0000\n",
      "| 0054 |  3.5580 |  4.6137 | -0.1421 | -0.0031 | 0.0503 |    0.0511 |  14.4913 | 0.00 |  0.0503 |    0.0009 | 0.0526 | 0.0005\n",
      "| 0056 |  3.5676 |  4.4046 | -0.1537 |  0.0240 | 0.0028 |    0.0026 |  14.5276 | 0.00 |  0.0028 |    0.0005 | 0.0023 | 0.0005\n",
      "| 0068 |  3.5334 |  0.5546 | -0.3881 |  0.0406 | 0.0158 |    0.0161 |  14.2118 | 0.00 |  0.0158 |    0.0003 | 0.0166 | 0.0001\n",
      "| 0074 |  3.6611 |  2.3618 | -0.0147 |  0.0420 | 0.0169 |    0.0159 |  12.4957 | 0.00 |  0.0169 |    0.0033 | 0.0140 | 0.0031\n",
      "| 0075 |  3.6607 |  2.0839 |  0.1194 | -0.0040 | 0.3950 |    0.4012 |  12.0786 | 0.00 |  0.3950 |    0.0074 | 0.4130 | 0.0038\n",
      "| 0077 |  3.5927 |  1.1325 | -0.1682 |  0.0645 | 0.0057 |    0.0054 |  13.8827 | 0.00 |  0.0057 |    0.0008 | 0.0050 | 0.0008\n",
      "| 0078 |  3.6176 |  2.3510 | -0.5391 |  0.1008 | 0.0049 |    0.0048 |  12.7842 | 0.00 |  0.0049 |    0.0004 | 0.0047 | 0.0004\n",
      "| 0079 |  3.6249 |  1.5016 | -0.3838 |  0.0606 | 0.0291 |    0.0285 |  13.2314 | 0.00 |  0.0291 |    0.0029 | 0.0273 | 0.0029\n",
      "| 0080 |  3.5948 |  4.6425 |  0.1627 |  0.1314 | 0.0008 |    0.0008 |  13.9387 | 0.00 |  0.0008 |    0.0002 | 0.0007 | 0.0002\n",
      "| 0088 |  3.7623 |  4.0596 | -0.4583 |  0.0735 | 0.0020 |    0.0019 |  14.1363 | 0.00 |  0.0020 |    0.0004 | 0.0017 | 0.0004\n",
      "| 0089 |  3.7168 |  3.4819 | -0.4466 |  0.0795 | 0.0830 |    0.0820 |  14.7187 | 0.00 |  0.0830 |    0.0065 | 0.0799 | 0.0064\n",
      "| 0090 |  3.6687 |  2.2820 | -0.5364 |  0.0920 | 0.1205 |    0.1190 |  13.5451 | 0.00 |  0.1205 |    0.0093 | 0.1160 | 0.0092\n",
      "| 0091 |  3.7034 |  3.5833 | -0.2093 |  0.1572 | 0.1529 |    0.1514 |  14.6761 | 0.00 |  0.1529 |    0.0106 | 0.1487 | 0.0105\n",
      "| 0092 |  3.7330 |  2.4575 | -0.1315 |  0.0299 | 0.0305 |    0.0304 |  11.9398 | 0.00 |  0.0305 |    0.0017 | 0.0302 | 0.0017\n",
      "-------------------------------------------------------------------------------------------------------------\n",
      "MSP CHISQ=0.5266622541270073 TEFF=4775.140330636066+-390.86341072591983 LOGG=2.7405791254742935+-0.2243268323392821 META=-0.15569706564540578+-0.012744397421734924 ALPHAM=0.0527939732887847+-0.004321387652848059 AV=0.0+-0.0 REDSHIFT=0+-0 SIGMA_DISP_km_s=0+-0 RMS=0.0854648306227778 MED_FLUX=1.0766936540603638 TEFF_mass=4857.319907738576+-397.5901218954787 LOGG_mass=3.563583165337744+-0.22924836111034533 META_mass=-0.2894642218093683+-0.0016846882964224681 ALPHAM_mass=0.10874479538378722+-0.00019452350659442247 MASS=5.3618072671776e+17 log_M/L=10.609082956930068 log_Mass=17.729311198996804\n",
      "--------------------------------------------------------------\n"
     ]
    },
    {
     "name": "stderr",
     "output_type": "stream",
     "text": [
      "fitting spectra:   3%|3         | 57/1801 [4:05:50<106:05:55, 219.01s/spectrum]"
     ]
    },
    {
     "name": "stdout",
     "output_type": "stream",
     "text": [
      "3686-5176 wavelength range: Saving 44 EML systems to file _data/out/elines_DIG_bright_linear_full_900_flux\n",
      "5270-6716 wavelength range: Saving 7 EML systems to file _data/out/elines_DIG_bright_linear_full_900_flux\n",
      "6730-7637 wavelength range: Saving 4 EML systems to file _data/out/elines_DIG_bright_linear_full_900_flux\n",
      "8300-9682 wavelength range: Saving 27 EML systems to file _data/out/elines_DIG_bright_linear_full_900_flux\n",
      "-------------------------------------------------------------------------------------------------------------\n",
      "|  ID  |  TEFF   |  LOGG   |  META   | ALPHAM  | COEFF  | Min.Coeff | log(M/L) |  AV  | N.Coeff | Err.Coeff |\n",
      "-------------------------------------------------------------------------------------------------------------\n",
      "| 0003 |  3.9973 |  3.5769 | -1.4049 |  0.2428 | 0.0360 |    0.0348 |  11.7437 | 0.00 |  0.0360 |    0.0052 | 0.0326 | 0.0050\n",
      "| 0004 |  4.0082 |  4.0227 | -1.5766 |  0.4497 | 0.1167 |    0.1166 |  11.5772 | 0.00 |  0.1167 |    0.0075 | 0.1163 | 0.0075\n",
      "| 0005 |  3.9837 |  3.4683 | -2.0871 |  0.2826 | 0.0350 |    0.0339 |  11.7220 | 0.00 |  0.0350 |    0.0050 | 0.0316 | 0.0049\n",
      "| 0006 |  3.9397 |  2.8905 | -2.3637 |  0.0845 | 0.0437 |    0.0431 |  11.0819 | 0.00 |  0.0437 |    0.0044 | 0.0417 | 0.0043\n",
      "| 0009 |  3.9988 |  3.7561 |  0.0265 | -0.0907 | 0.0308 |    0.0298 |  13.3728 | 0.00 |  0.0308 |    0.0042 | 0.0280 | 0.0041\n",
      "| 0010 |  3.9875 |  3.1223 | -1.0482 | -0.1908 | 0.0171 |    0.0162 |  12.4089 | 0.00 |  0.0171 |    0.0034 | 0.0144 | 0.0032\n",
      "| 0016 |  3.9912 |  3.8512 | -2.4725 | -0.0788 | 0.0059 |    0.0056 |  12.0442 | 0.00 |  0.0059 |    0.0012 | 0.0050 | 0.0011\n",
      "| 0020 |  3.9178 |  2.8502 | -0.1434 |  0.4301 | 0.0145 |    0.0141 |  12.4419 | 0.00 |  0.0145 |    0.0017 | 0.0135 | 0.0017\n",
      "| 0023 |  4.0207 |  3.0792 | -0.7861 |  0.2874 | 0.0140 |    0.0132 |  14.4258 | 0.00 |  0.0140 |    0.0027 | 0.0118 | 0.0026\n",
      "| 0024 |  3.9814 |  3.2205 | -1.5890 |  0.3911 | 0.0050 |    0.0047 |  13.7600 | 0.00 |  0.0050 |    0.0010 | 0.0042 | 0.0009\n",
      "| 0044 |  3.6175 |  2.6876 | -0.8062 |  0.3869 | 0.0147 |    0.0148 |  12.9288 | 0.00 |  0.0147 |    0.0006 | 0.0151 | 0.0006\n",
      "| 0045 |  3.7251 |  3.1927 | -1.9643 |  0.3019 | 0.0344 |    0.0348 |  13.7054 | 0.00 |  0.0344 |    0.0014 | 0.0354 | 0.0013\n",
      "| 0051 |  3.9977 |  3.3025 | -2.8278 |  0.3248 | 0.0087 |    0.0083 |  12.7229 | 0.00 |  0.0087 |    0.0017 | 0.0073 | 0.0016\n",
      "| 0066 |  3.5452 |  5.0235 | -0.0039 | -0.0271 | 0.2084 |    0.2107 |  14.2996 | 0.00 |  0.2084 |    0.0078 | 0.2150 | 0.0074\n",
      "| 0072 |  3.5525 |  4.7937 | -0.2625 |  0.0162 | 0.2666 |    0.2694 |  14.8015 | 0.00 |  0.2666 |    0.0099 | 0.2750 | 0.0095\n",
      "| 0083 |  3.7750 |  3.8381 | -0.2731 |  0.4494 | 0.1292 |    0.1308 |  13.9321 | 0.00 |  0.1292 |    0.0044 | 0.1339 | 0.0041\n",
      "| 0093 |  3.5513 |  0.6333 | -1.4135 |  0.7570 | 0.0086 |    0.0088 |  14.1895 | 0.00 |  0.0086 |    0.0003 | 0.0090 | 0.0002\n",
      "| 0094 |  3.5317 |  0.8120 | -0.2795 |  0.0664 | 0.0099 |    0.0097 |  13.3101 | 0.00 |  0.0099 |    0.0010 | 0.0094 | 0.0010\n",
      "| 0096 |  3.4744 |  0.7093 | -0.2107 |  0.1388 | 0.0006 |    0.0006 |  14.1032 | 0.00 |  0.0006 |    0.0001 | 0.0005 | 0.0001\n",
      "| 0098 |  3.5046 |  2.4923 | -1.2847 |  0.1336 | 0.0001 |    0.0001 |  13.5373 | 0.00 |  0.0001 |    0.0000 | 0.0001 | 0.0000\n",
      "-------------------------------------------------------------------------------------------------------------\n",
      "MSP CHISQ=2.1372463656102108 TEFF=5360.763673344778+-560.3278296125609 LOGG=4.151465972092896+-0.4339273393862972 META=-0.689224017722255+-0.07204036989867925 ALPHAM=0.16340917851060727+-0.01708016169205436 AV=0.0+-0.0 REDSHIFT=0+-0 SIGMA_DISP_km_s=0+-0 RMS=0.2568140406847795 MED_FLUX=0.19334183633327484 TEFF_mass=3742.3182740111383+-391.16163367219235 LOGG_mass=4.712434155260215+-0.4911807630643673 META_mass=-0.24663839086377587+-0.0066427357355568215 ALPHAM_mass=0.04067983872985985+-0.00018594057703669477 MASS=1.555076075126288e+17 log_M/L=10.817289711949083 log_Mass=17.19175163979334\n",
      "--------------------------------------------------------------\n"
     ]
    },
    {
     "name": "stderr",
     "output_type": "stream",
     "text": [
      "fitting spectra:   3%|3         | 58/1801 [4:09:52<109:27:29, 226.08s/spectrum]"
     ]
    },
    {
     "name": "stdout",
     "output_type": "stream",
     "text": [
      "3686-5145 wavelength range: Saving 41 EML systems to file _data/out/elines_DIG_bright_linear_full_900_flux\n",
      "5270-6716 wavelength range: Saving 9 EML systems to file _data/out/elines_DIG_bright_linear_full_900_flux\n",
      "6730-7751 wavelength range: Saving 8 EML systems to file _data/out/elines_DIG_bright_linear_full_900_flux\n",
      "8300-9682 wavelength range: Saving 24 EML systems to file _data/out/elines_DIG_bright_linear_full_900_flux\n",
      "-------------------------------------------------------------------------------------------------------------\n",
      "|  ID  |  TEFF   |  LOGG   |  META   | ALPHAM  | COEFF  | Min.Coeff | log(M/L) |  AV  | N.Coeff | Err.Coeff |\n",
      "-------------------------------------------------------------------------------------------------------------\n",
      "| 0003 |  3.9973 |  3.5769 | -1.4049 |  0.2428 | 0.0046 |    0.0043 |  11.7437 | 0.00 |  0.0046 |    0.0009 | 0.0037 | 0.0008\n",
      "| 0004 |  4.0082 |  4.0227 | -1.5766 |  0.4497 | 0.0247 |    0.0245 |  11.5772 | 0.00 |  0.0247 |    0.0012 | 0.0241 | 0.0012\n",
      "| 0005 |  3.9837 |  3.4683 | -2.0871 |  0.2826 | 0.0052 |    0.0048 |  11.7220 | 0.00 |  0.0052 |    0.0010 | 0.0042 | 0.0009\n",
      "| 0008 |  4.0046 |  3.0858 | -2.6604 |  0.0534 | 0.0029 |    0.0028 |  11.9797 | 0.00 |  0.0029 |    0.0004 | 0.0025 | 0.0004\n",
      "| 0016 |  3.9912 |  3.8512 | -2.4725 | -0.0788 | 0.0194 |    0.0191 |  12.0442 | 0.00 |  0.0194 |    0.0013 | 0.0185 | 0.0012\n",
      "| 0020 |  3.9178 |  2.8502 | -0.1434 |  0.4301 | 0.0113 |    0.0109 |  12.4419 | 0.00 |  0.0113 |    0.0013 | 0.0102 | 0.0012\n",
      "| 0022 |  3.9211 |  3.5419 | -0.4455 |  0.2577 | 0.0132 |    0.0130 |  12.7263 | 0.00 |  0.0132 |    0.0010 | 0.0125 | 0.0009\n",
      "| 0031 |  3.8428 |  4.2527 | -0.9222 |  0.0270 | 0.0024 |    0.0022 |  14.4797 | 0.00 |  0.0024 |    0.0005 | 0.0019 | 0.0004\n",
      "| 0042 |  3.8211 |  3.9899 | -0.3000 |  0.0918 | 0.0075 |    0.0070 |  13.3216 | 0.00 |  0.0075 |    0.0013 | 0.0062 | 0.0012\n",
      "| 0043 |  3.6841 |  2.6831 | -0.5948 |  0.1234 | 0.0074 |    0.0074 |  13.1753 | 0.00 |  0.0074 |    0.0003 | 0.0073 | 0.0003\n",
      "| 0045 |  3.7251 |  3.1927 | -1.9643 |  0.3019 | 0.0084 |    0.0083 |  13.7054 | 0.00 |  0.0084 |    0.0005 | 0.0081 | 0.0005\n",
      "| 0060 |  3.6221 |  0.7941 | -0.4154 |  0.2514 | 0.0008 |    0.0007 |  12.4853 | 0.00 |  0.0008 |    0.0001 | 0.0006 | 0.0001\n",
      "| 0067 |  3.5661 |  4.1710 |  0.0740 | -0.0205 | 0.0275 |    0.0275 |  15.6416 | 0.00 |  0.0275 |    0.0008 | 0.0274 | 0.0008\n",
      "| 0070 |  3.5661 |  0.2192 | -1.0902 |  0.4151 | 0.0003 |    0.0003 |  12.4227 | 0.00 |  0.0003 |    0.0001 | 0.0003 | 0.0001\n",
      "| 0072 |  3.5525 |  4.7937 | -0.2625 |  0.0162 | 0.0298 |    0.0295 |  14.8015 | 0.00 |  0.0298 |    0.0015 | 0.0290 | 0.0015\n",
      "| 0073 |  3.5644 |  0.6615 | -1.9179 |  0.8199 | 0.0020 |    0.0020 |  13.6592 | 0.00 |  0.0020 |    0.0002 | 0.0019 | 0.0002\n",
      "| 0075 |  3.6607 |  2.0839 |  0.1194 | -0.0040 | 0.2710 |    0.2727 |  12.0786 | 0.00 |  0.2710 |    0.0037 | 0.2760 | 0.0032\n",
      "| 0078 |  3.6176 |  2.3510 | -0.5391 |  0.1008 | 0.0889 |    0.0892 |  12.7842 | 0.00 |  0.0889 |    0.0018 | 0.0897 | 0.0018\n",
      "| 0080 |  3.5948 |  4.6425 |  0.1627 |  0.1314 | 0.3204 |    0.3235 |  13.9387 | 0.00 |  0.3204 |    0.0035 | 0.3290 | 0.0016\n",
      "| 0082 |  3.6875 |  3.4132 |  0.3526 | -0.0964 | 0.0014 |    0.0013 |  13.5051 | 0.00 |  0.0014 |    0.0002 | 0.0012 | 0.0002\n",
      "| 0083 |  3.7750 |  3.8381 | -0.2731 |  0.4494 | 0.0237 |    0.0235 |  13.9321 | 0.00 |  0.0237 |    0.0012 | 0.0231 | 0.0011\n",
      "| 0087 |  3.7006 |  3.0027 |  0.4294 |  0.2140 | 0.1054 |    0.1048 |  12.3724 | 0.00 |  0.1054 |    0.0041 | 0.1038 | 0.0041\n",
      "| 0088 |  3.7623 |  4.0596 | -0.4583 |  0.0735 | 0.0192 |    0.0182 |  14.1363 | 0.00 |  0.0192 |    0.0029 | 0.0165 | 0.0027\n",
      "| 0094 |  3.5317 |  0.8120 | -0.2795 |  0.0664 | 0.0025 |    0.0025 |  13.3101 | 0.00 |  0.0025 |    0.0002 | 0.0024 | 0.0002\n",
      "-------------------------------------------------------------------------------------------------------------\n",
      "MSP CHISQ=0.5702446457526069 TEFF=4636.094691347691+-222.89162364617923 LOGG=3.396363538762551+-0.1632885076873625 META=-0.08882857100036158+-0.004270651428537795 ALPHAM=0.11134475582648024+-0.0053531722414921455 AV=0.0+-0.0 REDSHIFT=0+-0 SIGMA_DISP_km_s=0+-0 RMS=0.11502963950041972 MED_FLUX=0.621540367603302 TEFF_mass=3778.131710334861+-181.64294893227358 LOGG_mass=4.289802520907304+-0.18926392047120363 META_mass=0.02671668879299436+-0.00014794787974455284 ALPHAM_mass=0.017102219205869386+-3.367985921260036e-05 MASS=3.7986267365439354e+17 log_M/L=10.69802119167511 log_Mass=17.579626620687254\n",
      "--------------------------------------------------------------\n",
      "3686-5158 wavelength range: Saving 42 EML systems to file _data/out/elines_DIG_bright_linear_full_900_flux\n",
      "5270-6716 wavelength range: Saving 10 EML systems to file _data/out/elines_DIG_bright_linear_full_900_flux\n",
      "6730-7637 wavelength range: Saving 3 EML systems to file _data/out/elines_DIG_bright_linear_full_900_flux\n",
      "8308-9682 wavelength range: Saving 23 EML systems to file _data/out/elines_DIG_bright_linear_full_900_flux\n",
      "-------------------------------------------------------------------------------------------------------------\n",
      "|  ID  |  TEFF   |  LOGG   |  META   | ALPHAM  | COEFF  | Min.Coeff | log(M/L) |  AV  | N.Coeff | Err.Coeff |\n",
      "-------------------------------------------------------------------------------------------------------------\n",
      "| 0004 |  4.0082 |  4.0227 | -1.5766 |  0.4497 | 0.0062 |    0.0060 |  11.5772 | 0.00 |  0.0062 |    0.0007 | 0.0056 | 0.0007\n",
      "| 0005 |  3.9837 |  3.4683 | -2.0871 |  0.2826 | 0.0174 |    0.0173 |  11.7220 | 0.00 |  0.0174 |    0.0009 | 0.0171 | 0.0009\n",
      "| 0013 |  3.9918 |  2.9386 | -1.2331 |  0.5237 | 0.0009 |    0.0008 |  11.4489 | 0.00 |  0.0009 |    0.0001 | 0.0007 | 0.0001\n",
      "| 0020 |  3.9178 |  2.8502 | -0.1434 |  0.4301 | 0.0012 |    0.0011 |  12.4419 | 0.00 |  0.0012 |    0.0002 | 0.0010 | 0.0002\n",
      "| 0022 |  3.9211 |  3.5419 | -0.4455 |  0.2577 | 0.0160 |    0.0158 |  12.7263 | 0.00 |  0.0160 |    0.0013 | 0.0152 | 0.0013\n",
      "| 0035 |  3.9220 |  2.9127 |  0.4975 |  0.2669 | 0.0578 |    0.0577 |  12.0656 | 0.00 |  0.0578 |    0.0028 | 0.0573 | 0.0028\n",
      "| 0042 |  3.8211 |  3.9899 | -0.3000 |  0.0918 | 0.0042 |    0.0040 |  13.3216 | 0.00 |  0.0042 |    0.0007 | 0.0037 | 0.0006\n",
      "| 0043 |  3.6841 |  2.6831 | -0.5948 |  0.1234 | 0.0005 |    0.0005 |  13.1753 | 0.00 |  0.0005 |    0.0001 | 0.0005 | 0.0001\n",
      "| 0044 |  3.6175 |  2.6876 | -0.8062 |  0.3869 | 0.0002 |    0.0002 |  12.9288 | 0.00 |  0.0002 |    0.0000 | 0.0002 | 0.0000\n",
      "| 0051 |  3.9977 |  3.3025 | -2.8278 |  0.3248 | 0.0112 |    0.0110 |  12.7229 | 0.00 |  0.0112 |    0.0011 | 0.0105 | 0.0010\n",
      "| 0054 |  3.5580 |  4.6137 | -0.1421 | -0.0031 | 0.1902 |    0.1913 |  14.4913 | 0.00 |  0.1902 |    0.0051 | 0.1936 | 0.0049\n",
      "| 0063 |  3.5913 |  0.8513 | -0.2640 |  0.0303 | 0.0038 |    0.0035 |  13.0746 | 0.00 |  0.0038 |    0.0007 | 0.0031 | 0.0007\n",
      "| 0068 |  3.5334 |  0.5546 | -0.3881 |  0.0406 | 0.0094 |    0.0092 |  14.2118 | 0.00 |  0.0094 |    0.0009 | 0.0088 | 0.0009\n",
      "| 0072 |  3.5525 |  4.7937 | -0.2625 |  0.0162 | 0.2245 |    0.2265 |  14.8015 | 0.00 |  0.2245 |    0.0050 | 0.2301 | 0.0045\n",
      "| 0073 |  3.5644 |  0.6615 | -1.9179 |  0.8199 | 0.0001 |    0.0001 |  13.6592 | 0.00 |  0.0001 |    0.0000 | 0.0001 | 0.0000\n",
      "| 0074 |  3.6611 |  2.3618 | -0.0147 |  0.0420 | 0.0303 |    0.0290 |  12.4957 | 0.00 |  0.0303 |    0.0043 | 0.0267 | 0.0041\n",
      "| 0075 |  3.6607 |  2.0839 |  0.1194 | -0.0040 | 0.0095 |    0.0089 |  12.0786 | 0.00 |  0.0095 |    0.0019 | 0.0078 | 0.0018\n",
      "| 0076 |  3.6375 |  2.4336 |  0.1147 |  0.1366 | 0.0151 |    0.0146 |  12.1601 | 0.00 |  0.0151 |    0.0019 | 0.0136 | 0.0018\n",
      "| 0078 |  3.6176 |  2.3510 | -0.5391 |  0.1008 | 0.0987 |    0.0998 |  12.7842 | 0.00 |  0.0987 |    0.0019 | 0.1018 | 0.0015\n",
      "| 0080 |  3.5948 |  4.6425 |  0.1627 |  0.1314 | 0.0700 |    0.0706 |  13.9387 | 0.00 |  0.0700 |    0.0016 | 0.0716 | 0.0016\n",
      "| 0081 |  3.6748 |  2.9787 | -2.8941 |  0.2371 | 0.0073 |    0.0068 |  13.1684 | 0.00 |  0.0073 |    0.0014 | 0.0060 | 0.0013\n",
      "| 0082 |  3.6875 |  3.4132 |  0.3526 | -0.0964 | 0.0012 |    0.0012 |  13.5051 | 0.00 |  0.0012 |    0.0001 | 0.0011 | 0.0001\n",
      "| 0083 |  3.7750 |  3.8381 | -0.2731 |  0.4494 | 0.0023 |    0.0022 |  13.9321 | 0.00 |  0.0023 |    0.0002 | 0.0021 | 0.0002\n",
      "| 0086 |  3.6552 |  4.2152 |  0.3023 |  0.1461 | 0.0243 |    0.0237 |  13.2321 | 0.00 |  0.0243 |    0.0024 | 0.0227 | 0.0023\n",
      "| 0087 |  3.7006 |  3.0027 |  0.4294 |  0.2140 | 0.1845 |    0.1850 |  12.3724 | 0.00 |  0.1845 |    0.0064 | 0.1858 | 0.0064\n",
      "| 0093 |  3.5513 |  0.6333 | -1.4135 |  0.7570 | 0.0001 |    0.0001 |  14.1895 | 0.00 |  0.0001 |    0.0000 | 0.0001 | 0.0000\n",
      "| 0094 |  3.5317 |  0.8120 | -0.2795 |  0.0664 | 0.0130 |    0.0131 |  13.3101 | 0.00 |  0.0130 |    0.0004 | 0.0132 | 0.0004\n",
      "-------------------------------------------------------------------------------------------------------------\n",
      "MSP CHISQ=1.0843068836077634 TEFF=4408.043568587696+-294.76583784696857 LOGG=3.7213264962141803+-0.2488450727609622 META=-0.1278280805983508+-0.008547862717703327 ALPHAM=0.10505692533573743+-0.007025155749115411 AV=0.0+-0.0 REDSHIFT=0+-0 SIGMA_DISP_km_s=0+-0 RMS=0.399739183631062 MED_FLUX=0.984175443649292 TEFF_mass=3603.1942246245626+-240.94556871340222 LOGG_mass=4.684679428064432+-0.2832593771281369 META_mass=-0.21769684346186435+-0.0008929151923892317 ALPHAM_mass=0.01616955045637722+-3.775238950003211e-05 MASS=7.27744048561415e+17 log_M/L=10.780770049127591 log_Mass=17.861978662496277\n",
      "--------------------------------------------------------------\n"
     ]
    },
    {
     "name": "stderr",
     "output_type": "stream",
     "text": [
      "fitting spectra:   3%|3         | 60/1801 [4:18:50<120:11:46, 248.54s/spectrum]"
     ]
    },
    {
     "name": "stdout",
     "output_type": "stream",
     "text": [
      "3686-5006 wavelength range: Saving 34 EML systems to file _data/out/elines_DIG_bright_linear_full_900_flux\n",
      "5270-6716 wavelength range: Saving 11 EML systems to file _data/out/elines_DIG_bright_linear_full_900_flux\n",
      "6730-7637 wavelength range: Saving 3 EML systems to file _data/out/elines_DIG_bright_linear_full_900_flux\n",
      "8300-9682 wavelength range: Saving 26 EML systems to file _data/out/elines_DIG_bright_linear_full_900_flux\n",
      "-------------------------------------------------------------------------------------------------------------\n",
      "|  ID  |  TEFF   |  LOGG   |  META   | ALPHAM  | COEFF  | Min.Coeff | log(M/L) |  AV  | N.Coeff | Err.Coeff |\n",
      "-------------------------------------------------------------------------------------------------------------\n",
      "| 0005 |  3.9837 |  3.4683 | -2.0871 |  0.2826 | 0.1544 |    0.1540 |  11.7220 | 0.00 |  0.1544 |    0.0012 | 0.1534 | 0.0012\n",
      "| 0044 |  3.6175 |  2.6876 | -0.8062 |  0.3869 | 0.0704 |    0.0701 |  12.9288 | 0.00 |  0.0704 |    0.0009 | 0.0695 | 0.0009\n",
      "| 0072 |  3.5525 |  4.7937 | -0.2625 |  0.0162 | 0.7378 |    0.7385 |  14.8015 | 0.00 |  0.7378 |    0.0008 | 0.7397 | 0.0003\n",
      "| 0093 |  3.5513 |  0.6333 | -1.4135 |  0.7570 | 0.0374 |    0.0374 |  14.1895 | 0.00 |  0.0374 |    0.0001 | 0.0374 | 0.0001\n",
      "-------------------------------------------------------------------------------------------------------------\n",
      "MSP CHISQ=20.36744171369448 TEFF=4203.474961738226+-20.31467842236684 LOGG=4.285140388594529+-0.020709353518546095 META=-0.625456200081406+-0.003022723267673544 ALPHAM=0.11111142323599515+-0.0005369825805165123 AV=0.0+-0.0 REDSHIFT=0+-0 SIGMA_DISP_km_s=0+-0 RMS=0.25254550925569985 MED_FLUX=0.45373275876045227 TEFF_mass=3569.9447379647518+-17.25293477361052 LOGG_mass=4.739939755483233+-0.02110899136657215 META_mass=-0.27754302881643594+-0.0004323906558225452 ALPHAM_mass=0.025738586503585292+-8.83345187618451e-06 MASS=7.520561887556146e+17 log_M/L=11.131314065020531 log_Mass=17.876250289467823\n",
      "--------------------------------------------------------------\n"
     ]
    },
    {
     "name": "stderr",
     "output_type": "stream",
     "text": [
      "fitting spectra:   3%|3         | 61/1801 [4:21:50<110:09:59, 227.93s/spectrum]"
     ]
    },
    {
     "name": "stdout",
     "output_type": "stream",
     "text": [
      "3686-5158 wavelength range: Saving 40 EML systems to file _data/out/elines_DIG_bright_linear_full_900_flux\n",
      "5270-6716 wavelength range: Saving 8 EML systems to file _data/out/elines_DIG_bright_linear_full_900_flux\n",
      "6730-7637 wavelength range: Saving 3 EML systems to file _data/out/elines_DIG_bright_linear_full_900_flux\n",
      "8300-9682 wavelength range: Saving 24 EML systems to file _data/out/elines_DIG_bright_linear_full_900_flux\n",
      "-------------------------------------------------------------------------------------------------------------\n",
      "|  ID  |  TEFF   |  LOGG   |  META   | ALPHAM  | COEFF  | Min.Coeff | log(M/L) |  AV  | N.Coeff | Err.Coeff |\n",
      "-------------------------------------------------------------------------------------------------------------\n",
      "| 0005 |  3.9837 |  3.4683 | -2.0871 |  0.2826 | 0.4352 |    0.4369 |  11.7220 | 0.00 |  0.4352 |    0.0028 | 0.4399 | 0.0022\n",
      "| 0044 |  3.6175 |  2.6876 | -0.8062 |  0.3869 | 0.0733 |    0.0731 |  12.9288 | 0.00 |  0.0733 |    0.0014 | 0.0728 | 0.0014\n",
      "| 0072 |  3.5525 |  4.7937 | -0.2625 |  0.0162 | 0.1099 |    0.1088 |  14.8015 | 0.00 |  0.1099 |    0.0043 | 0.1067 | 0.0041\n",
      "| 0080 |  3.5948 |  4.6425 |  0.1627 |  0.1314 | 0.2648 |    0.2640 |  13.9387 | 0.00 |  0.2648 |    0.0056 | 0.2626 | 0.0055\n",
      "| 0093 |  3.5513 |  0.6333 | -1.4135 |  0.7570 | 0.1168 |    0.1172 |  14.1895 | 0.00 |  0.1168 |    0.0008 | 0.1180 | 0.0007\n",
      "-------------------------------------------------------------------------------------------------------------\n",
      "MSP CHISQ=18.425801270044598 TEFF=5701.211796107502+-132.74044276541173 LOGG=3.5366538095519005+-0.08234337003729994 META=-1.1181394383930428+-0.02603346962607082 ALPHAM=0.27628741947334273+-0.00643275775449073 AV=0.0+-0.0 REDSHIFT=0+-0 SIGMA_DISP_km_s=0+-0 RMS=9.020358845228598 MED_FLUX=3.3076589107513428 TEFF_mass=3649.859988841444+-84.97913220507878 LOGG_mass=4.073887277745055+-0.10550046853408751 META_mass=-0.368073608155168+-0.0013144764423697495 ALPHAM_mass=0.1625752053093729+-0.00019067263927370295 MASS=1.290928958498205e+18 log_M/L=10.503245536144552 log_Mass=18.110902343133084\n",
      "--------------------------------------------------------------\n"
     ]
    },
    {
     "name": "stderr",
     "output_type": "stream",
     "text": [
      "fitting spectra:   3%|3         | 62/1801 [4:26:04<113:52:16, 235.73s/spectrum]"
     ]
    },
    {
     "name": "stdout",
     "output_type": "stream",
     "text": [
      "3686-5015 wavelength range: Saving 39 EML systems to file _data/out/elines_DIG_bright_linear_full_900_flux\n",
      "5270-6716 wavelength range: Saving 7 EML systems to file _data/out/elines_DIG_bright_linear_full_900_flux\n",
      "6730-7135 wavelength range: Saving 3 EML systems to file _data/out/elines_DIG_bright_linear_full_900_flux\n",
      "8300-9682 wavelength range: Saving 25 EML systems to file _data/out/elines_DIG_bright_linear_full_900_flux\n",
      "-------------------------------------------------------------------------------------------------------------\n",
      "|  ID  |  TEFF   |  LOGG   |  META   | ALPHAM  | COEFF  | Min.Coeff | log(M/L) |  AV  | N.Coeff | Err.Coeff |\n",
      "-------------------------------------------------------------------------------------------------------------\n",
      "| 0005 |  3.9837 |  3.4683 | -2.0871 |  0.2826 | 0.2129 |    0.2124 |  11.7220 | 0.00 |  0.2129 |    0.0021 | 0.2117 | 0.0021\n",
      "| 0006 |  3.9397 |  2.8905 | -2.3637 |  0.0845 | 0.0109 |    0.0100 |  11.0819 | 0.00 |  0.0109 |    0.0021 | 0.0086 | 0.0019\n",
      "| 0044 |  3.6175 |  2.6876 | -0.8062 |  0.3869 | 0.0054 |    0.0052 |  12.9288 | 0.00 |  0.0054 |    0.0006 | 0.0047 | 0.0006\n",
      "| 0072 |  3.5525 |  4.7937 | -0.2625 |  0.0162 | 0.7282 |    0.7297 |  14.8015 | 0.00 |  0.7282 |    0.0016 | 0.7323 | 0.0005\n",
      "| 0093 |  3.5513 |  0.6333 | -1.4135 |  0.7570 | 0.0426 |    0.0427 |  14.1895 | 0.00 |  0.0426 |    0.0002 | 0.0427 | 0.0001\n",
      "-------------------------------------------------------------------------------------------------------------\n",
      "MSP CHISQ=10.770773073492052 TEFF=4454.731907040303+-48.19045363079157 LOGG=4.302067550673057+-0.04653895927824403 META=-0.7257503382387311+-0.007851030937945163 ALPHAM=0.10721356685860736+-0.0011598162426174363 AV=0.0+-0.0 REDSHIFT=0+-0 SIGMA_DISP_km_s=0+-0 RMS=19.476180440024834 MED_FLUX=28.523447036743164 TEFF_mass=3569.553698283924+-38.614761913710765 LOGG_mass=4.734495069417412+-0.046403223899966005 META_mass=-0.2791983594879118+-0.0012636396929156012 ALPHAM_mass=0.026714353383224546+-1.3365357276607355e-05 MASS=4.669771387671756e+19 log_M/L=11.125957522651145 log_Mass=19.669295619858854\n",
      "--------------------------------------------------------------\n"
     ]
    },
    {
     "name": "stderr",
     "output_type": "stream",
     "text": [
      "fitting spectra:   3%|3         | 63/1801 [4:30:28<117:56:54, 244.31s/spectrum]"
     ]
    },
    {
     "name": "stdout",
     "output_type": "stream",
     "text": [
      "3686-5158 wavelength range: Saving 39 EML systems to file _data/out/elines_DIG_bright_linear_full_900_flux\n",
      "5270-6716 wavelength range: Saving 10 EML systems to file _data/out/elines_DIG_bright_linear_full_900_flux\n",
      "6730-7135 wavelength range: Saving 3 EML systems to file _data/out/elines_DIG_bright_linear_full_900_flux\n",
      "8300-9682 wavelength range: Saving 21 EML systems to file _data/out/elines_DIG_bright_linear_full_900_flux\n",
      "-------------------------------------------------------------------------------------------------------------\n",
      "|  ID  |  TEFF   |  LOGG   |  META   | ALPHAM  | COEFF  | Min.Coeff | log(M/L) |  AV  | N.Coeff | Err.Coeff |\n",
      "-------------------------------------------------------------------------------------------------------------\n",
      "| 0005 |  3.9837 |  3.4683 | -2.0871 |  0.2826 | 0.0025 |    0.0025 |  11.7220 | 0.00 |  0.0025 |    0.0003 | 0.0023 | 0.0003\n",
      "| 0008 |  4.0046 |  3.0858 | -2.6604 |  0.0534 | 0.0010 |    0.0009 |  11.9797 | 0.00 |  0.0010 |    0.0002 | 0.0008 | 0.0002\n",
      "| 0010 |  3.9875 |  3.1223 | -1.0482 | -0.1908 | 0.0008 |    0.0008 |  12.4089 | 0.00 |  0.0008 |    0.0002 | 0.0007 | 0.0001\n",
      "| 0013 |  3.9918 |  2.9386 | -1.2331 |  0.5237 | 0.0008 |    0.0007 |  11.4489 | 0.00 |  0.0008 |    0.0001 | 0.0006 | 0.0001\n",
      "| 0016 |  3.9912 |  3.8512 | -2.4725 | -0.0788 | 0.0015 |    0.0015 |  12.0442 | 0.00 |  0.0015 |    0.0002 | 0.0014 | 0.0002\n",
      "| 0036 |  3.7765 |  3.0760 | -3.0085 |  0.0313 | 0.0185 |    0.0181 |  13.0033 | 0.00 |  0.0185 |    0.0017 | 0.0174 | 0.0016\n",
      "| 0042 |  3.8211 |  3.9899 | -0.3000 |  0.0918 | 0.0197 |    0.0193 |  13.3216 | 0.00 |  0.0197 |    0.0017 | 0.0186 | 0.0017\n",
      "| 0044 |  3.6175 |  2.6876 | -0.8062 |  0.3869 | 0.0110 |    0.0111 |  12.9288 | 0.00 |  0.0110 |    0.0002 | 0.0113 | 0.0002\n",
      "| 0045 |  3.7251 |  3.1927 | -1.9643 |  0.3019 | 0.0087 |    0.0088 |  13.7054 | 0.00 |  0.0087 |    0.0003 | 0.0089 | 0.0003\n",
      "| 0054 |  3.5580 |  4.6137 | -0.1421 | -0.0031 | 0.0405 |    0.0403 |  14.4913 | 0.00 |  0.0405 |    0.0020 | 0.0401 | 0.0020\n",
      "| 0062 |  3.6034 |  4.8217 |  0.0615 |  0.0298 | 0.0536 |    0.0530 |  14.3674 | 0.00 |  0.0536 |    0.0036 | 0.0519 | 0.0036\n",
      "| 0064 |  3.7728 |  3.6600 | -0.7627 |  0.1747 | 0.0034 |    0.0032 |  14.2166 | 0.00 |  0.0034 |    0.0007 | 0.0028 | 0.0006\n",
      "| 0072 |  3.5525 |  4.7937 | -0.2625 |  0.0162 | 0.0111 |    0.0108 |  14.8015 | 0.00 |  0.0111 |    0.0012 | 0.0103 | 0.0011\n",
      "| 0075 |  3.6607 |  2.0839 |  0.1194 | -0.0040 | 0.1333 |    0.1334 |  12.0786 | 0.00 |  0.1333 |    0.0052 | 0.1335 | 0.0052\n",
      "| 0077 |  3.5927 |  1.1325 | -0.1682 |  0.0645 | 0.0534 |    0.0525 |  13.8827 | 0.00 |  0.0534 |    0.0044 | 0.0508 | 0.0043\n",
      "| 0078 |  3.6176 |  2.3510 | -0.5391 |  0.1008 | 0.0371 |    0.0368 |  12.7842 | 0.00 |  0.0371 |    0.0022 | 0.0363 | 0.0022\n",
      "| 0080 |  3.5948 |  4.6425 |  0.1627 |  0.1314 | 0.1364 |    0.1379 |  13.9387 | 0.00 |  0.1364 |    0.0025 | 0.1408 | 0.0019\n",
      "| 0082 |  3.6875 |  3.4132 |  0.3526 | -0.0964 | 0.0584 |    0.0592 |  13.5051 | 0.00 |  0.0584 |    0.0010 | 0.0606 | 0.0006\n",
      "| 0083 |  3.7750 |  3.8381 | -0.2731 |  0.4494 | 0.0382 |    0.0386 |  13.9321 | 0.00 |  0.0382 |    0.0009 | 0.0392 | 0.0008\n",
      "| 0084 |  3.7074 |  2.8389 | -2.8995 |  0.2013 | 0.0036 |    0.0033 |  14.6561 | 0.00 |  0.0036 |    0.0007 | 0.0029 | 0.0007\n",
      "| 0087 |  3.7006 |  3.0027 |  0.4294 |  0.2140 | 0.2498 |    0.2529 |  12.3724 | 0.00 |  0.2498 |    0.0044 | 0.2586 | 0.0031\n",
      "| 0089 |  3.7168 |  3.4819 | -0.4466 |  0.0795 | 0.0176 |    0.0168 |  14.7187 | 0.00 |  0.0176 |    0.0025 | 0.0155 | 0.0024\n",
      "| 0090 |  3.6687 |  2.2820 | -0.5364 |  0.0920 | 0.0186 |    0.0177 |  13.5451 | 0.00 |  0.0186 |    0.0032 | 0.0159 | 0.0030\n",
      "| 0092 |  3.7330 |  2.4575 | -0.1315 |  0.0299 | 0.0642 |    0.0635 |  11.9398 | 0.00 |  0.0642 |    0.0043 | 0.0621 | 0.0043\n",
      "| 0094 |  3.5317 |  0.8120 | -0.2795 |  0.0664 | 0.0162 |    0.0165 |  13.3101 | 0.00 |  0.0162 |    0.0003 | 0.0169 | 0.0001\n",
      "-------------------------------------------------------------------------------------------------------------\n",
      "MSP CHISQ=0.36580551933780325 TEFF=4631.747579085484+-320.3369006150168 LOGG=3.1661161477768283+-0.21897217334245125 META=-0.023533625195070962+-0.0016276121326786507 ALPHAM=0.10878922785108845+-0.0075239860279690245 AV=0.0+-0.0 REDSHIFT=0+-0 SIGMA_DISP_km_s=0+-0 RMS=0.20778951467221551 MED_FLUX=0.7169770002365112 TEFF_mass=4183.107824625909+-289.3084678296882 LOGG_mass=4.101067786155533+-0.23383055473739933 META_mass=-0.1923046002572149+-0.0011110113218081466 ALPHAM_mass=0.07618434490207518+-0.00011608255826696779 MASS=1.698018294121646e+17 log_M/L=10.286301051993187 log_Mass=17.229942364938136\n",
      "--------------------------------------------------------------\n"
     ]
    },
    {
     "name": "stderr",
     "output_type": "stream",
     "text": [
      "fitting spectra:   4%|3         | 64/1801 [4:31:53<94:47:34, 196.46s/spectrum] "
     ]
    },
    {
     "name": "stdout",
     "output_type": "stream",
     "text": [
      "3686-5015 wavelength range: Saving 36 EML systems to file _data/out/elines_DIG_bright_linear_full_900_flux\n",
      "5270-6716 wavelength range: Saving 8 EML systems to file _data/out/elines_DIG_bright_linear_full_900_flux\n",
      "6730-7637 wavelength range: Saving 4 EML systems to file _data/out/elines_DIG_bright_linear_full_900_flux\n",
      "8300-9682 wavelength range: Saving 25 EML systems to file _data/out/elines_DIG_bright_linear_full_900_flux\n",
      "-------------------------------------------------------------------------------------------------------------\n",
      "|  ID  |  TEFF   |  LOGG   |  META   | ALPHAM  | COEFF  | Min.Coeff | log(M/L) |  AV  | N.Coeff | Err.Coeff |\n",
      "-------------------------------------------------------------------------------------------------------------\n",
      "| 0005 |  3.9837 |  3.4683 | -2.0871 |  0.2826 | 0.0054 |    0.0051 |  11.7220 | 0.00 |  0.0054 |    0.0011 | 0.0045 | 0.0010\n",
      "| 0008 |  4.0046 |  3.0858 | -2.6604 |  0.0534 | 0.1176 |    0.1172 |  11.9797 | 0.00 |  0.1176 |    0.0065 | 0.1163 | 0.0065\n",
      "| 0009 |  3.9988 |  3.7561 |  0.0265 | -0.0907 | 0.0464 |    0.0451 |  13.3728 | 0.00 |  0.0464 |    0.0054 | 0.0425 | 0.0052\n",
      "| 0020 |  3.9178 |  2.8502 | -0.1434 |  0.4301 | 0.1417 |    0.1428 |  12.4419 | 0.00 |  0.1417 |    0.0041 | 0.1448 | 0.0040\n",
      "| 0021 |  3.9420 |  3.2201 | -0.1875 | -0.0746 | 0.0822 |    0.0811 |  13.5782 | 0.00 |  0.0822 |    0.0064 | 0.0790 | 0.0063\n",
      "| 0025 |  3.9420 |  2.4846 | -3.2709 |  0.2771 | 0.0001 |    0.0001 |  12.2457 | 0.00 |  0.0001 |    0.0000 | 0.0001 | 0.0000\n",
      "| 0030 |  3.9499 |  3.8403 | -1.3774 |  0.2330 | 0.0437 |    0.0421 |  13.1582 | 0.00 |  0.0437 |    0.0058 | 0.0392 | 0.0056\n",
      "| 0036 |  3.7765 |  3.0760 | -3.0085 |  0.0313 | 0.0105 |    0.0099 |  13.0033 | 0.00 |  0.0105 |    0.0020 | 0.0087 | 0.0019\n",
      "| 0042 |  3.8211 |  3.9899 | -0.3000 |  0.0918 | 0.0213 |    0.0201 |  13.3216 | 0.00 |  0.0213 |    0.0042 | 0.0177 | 0.0039\n",
      "| 0043 |  3.6841 |  2.6831 | -0.5948 |  0.1234 | 0.0219 |    0.0219 |  13.1753 | 0.00 |  0.0219 |    0.0008 | 0.0221 | 0.0008\n",
      "| 0044 |  3.6175 |  2.6876 | -0.8062 |  0.3869 | 0.0954 |    0.0971 |  12.9288 | 0.00 |  0.0954 |    0.0018 | 0.1001 | 0.0006\n",
      "| 0058 |  3.5790 |  0.9806 | -0.3125 |  0.3323 | 0.0182 |    0.0177 |  12.9605 | 0.00 |  0.0182 |    0.0019 | 0.0169 | 0.0019\n",
      "| 0080 |  3.5948 |  4.6425 |  0.1627 |  0.1314 | 0.2574 |    0.2608 |  13.9387 | 0.00 |  0.2574 |    0.0052 | 0.2672 | 0.0039\n",
      "| 0082 |  3.6875 |  3.4132 |  0.3526 | -0.0964 | 0.0075 |    0.0073 |  13.5051 | 0.00 |  0.0075 |    0.0008 | 0.0070 | 0.0008\n",
      "| 0083 |  3.7750 |  3.8381 | -0.2731 |  0.4494 | 0.1231 |    0.1242 |  13.9321 | 0.00 |  0.1231 |    0.0032 | 0.1264 | 0.0030\n",
      "| 0093 |  3.5513 |  0.6333 | -1.4135 |  0.7570 | 0.0076 |    0.0076 |  14.1895 | 0.00 |  0.0076 |    0.0003 | 0.0076 | 0.0003\n",
      "| 0099 |  3.5679 |  0.4960 | -1.4665 |  0.4006 | 0.0000 |    0.0000 |  15.4081 | 0.00 |  0.0000 |    0.0000 | 0.0000 | 0.0000\n",
      "-------------------------------------------------------------------------------------------------------------\n",
      "MSP CHISQ=2.074188051280681 TEFF=6120.840785393951+-503.966149470427 LOGG=3.540887294200274+-0.29154284483680093 META=-0.5526298507473819+-0.0455013857946069 ALPHAM=0.21071507906335732+-0.017349457493539746 AV=0.0+-0.0 REDSHIFT=0+-0 SIGMA_DISP_km_s=0+-0 RMS=0.9776501777659439 MED_FLUX=-0.1211327388882637 TEFF_mass=4897.54292426726+-403.24457634952967 LOGG_mass=4.073074637259606+-0.2980989887702082 META_mass=-0.09591841533437066+-0.001626188901167355 ALPHAM_mass=0.21641933127933483+-0.0006501239435706681 MASS=-1.7602723958668472e+16 log_M/L=0 log_Mass=0\n",
      "--------------------------------------------------------------\n"
     ]
    },
    {
     "name": "stderr",
     "output_type": "stream",
     "text": [
      "fitting spectra:   4%|3         | 65/1801 [4:35:31<97:52:52, 202.98s/spectrum]"
     ]
    },
    {
     "name": "stdout",
     "output_type": "stream",
     "text": [
      "3691-5158 wavelength range: Saving 36 EML systems to file _data/out/elines_DIG_bright_linear_full_900_flux\n",
      "5270-6716 wavelength range: Saving 7 EML systems to file _data/out/elines_DIG_bright_linear_full_900_flux\n",
      "6730-6730 wavelength range: Saving 2 EML systems to file _data/out/elines_DIG_bright_linear_full_900_flux\n",
      "8345-9545 wavelength range: Saving 21 EML systems to file _data/out/elines_DIG_bright_linear_full_900_flux\n",
      "-------------------------------------------------------------------------------------------------------------\n",
      "|  ID  |  TEFF   |  LOGG   |  META   | ALPHAM  | COEFF  | Min.Coeff | log(M/L) |  AV  | N.Coeff | Err.Coeff |\n",
      "-------------------------------------------------------------------------------------------------------------\n",
      "| 0005 |  3.9837 |  3.4683 | -2.0871 |  0.2826 | 0.3535 |    0.3534 |  11.7220 | 0.00 |  0.3535 |    0.0009 | 0.3531 | 0.0009\n",
      "| 0072 |  3.5525 |  4.7937 | -0.2625 |  0.0162 | 0.5507 |    0.5509 |  14.8015 | 0.00 |  0.5507 |    0.0005 | 0.5512 | 0.0005\n",
      "| 0093 |  3.5513 |  0.6333 | -1.4135 |  0.7570 | 0.0958 |    0.0958 |  14.1895 | 0.00 |  0.0958 |    0.0002 | 0.0957 | 0.0002\n",
      "-------------------------------------------------------------------------------------------------------------\n",
      "MSP CHISQ=25.04094752484494 TEFF=5068.081814470335+-12.927411277270712 LOGG=3.926736527120169+-0.010016124427712951 META=-1.0177424248488738+-0.002596006809279022 ALPHAM=0.18128742152293695+-0.0004624189472892066 AV=0.0+-0.0 REDSHIFT=0+-0 SIGMA_DISP_km_s=0+-0 RMS=0.15509095778397214 MED_FLUX=0.20904169976711273 TEFF_mass=3570.1823685712534+-9.106643796002837 LOGG_mass=4.623518558717013+-0.011200614646492722 META_mass=-0.31029766454148666+-0.0003002531148332576 ALPHAM_mass=0.04648398514908224+-7.605165780875662e-06 MASS=2.660604162853678e+17 log_M/L=11.016611249470786 log_Mass=17.424980266255304\n",
      "--------------------------------------------------------------\n"
     ]
    },
    {
     "name": "stderr",
     "output_type": "stream",
     "text": [
      "fitting spectra:   4%|3         | 66/1801 [4:37:45<87:51:38, 182.30s/spectrum]"
     ]
    },
    {
     "name": "stdout",
     "output_type": "stream",
     "text": [
      "3691-5006 wavelength range: Saving 36 EML systems to file _data/out/elines_DIG_bright_linear_full_900_flux\n",
      "5270-6716 wavelength range: Saving 7 EML systems to file _data/out/elines_DIG_bright_linear_full_900_flux\n",
      "6730-7637 wavelength range: Saving 4 EML systems to file _data/out/elines_DIG_bright_linear_full_900_flux\n",
      "8345-9682 wavelength range: Saving 19 EML systems to file _data/out/elines_DIG_bright_linear_full_900_flux\n",
      "-------------------------------------------------------------------------------------------------------------\n",
      "|  ID  |  TEFF   |  LOGG   |  META   | ALPHAM  | COEFF  | Min.Coeff | log(M/L) |  AV  | N.Coeff | Err.Coeff |\n",
      "-------------------------------------------------------------------------------------------------------------\n",
      "| 0005 |  3.9837 |  3.4683 | -2.0871 |  0.2826 | 0.0304 |    0.0300 |  11.7220 | 0.00 |  0.0304 |    0.0022 | 0.0292 | 0.0022\n",
      "| 0009 |  3.9988 |  3.7561 |  0.0265 | -0.0907 | 0.0652 |    0.0636 |  13.3728 | 0.00 |  0.0652 |    0.0064 | 0.0607 | 0.0062\n",
      "| 0012 |  3.9990 |  3.8112 | -1.6399 | -0.1184 | 0.0369 |    0.0358 |  12.2461 | 0.00 |  0.0369 |    0.0041 | 0.0338 | 0.0039\n",
      "| 0013 |  3.9918 |  2.9386 | -1.2331 |  0.5237 | 0.0360 |    0.0350 |  11.4489 | 0.00 |  0.0360 |    0.0039 | 0.0331 | 0.0038\n",
      "| 0020 |  3.9178 |  2.8502 | -0.1434 |  0.4301 | 0.3284 |    0.3317 |  12.4419 | 0.00 |  0.3284 |    0.0064 | 0.3379 | 0.0054\n",
      "| 0031 |  3.8428 |  4.2527 | -0.9222 |  0.0270 | 0.0164 |    0.0153 |  14.4797 | 0.00 |  0.0164 |    0.0032 | 0.0134 | 0.0030\n",
      "| 0042 |  3.8211 |  3.9899 | -0.3000 |  0.0918 | 0.2006 |    0.2010 |  13.3216 | 0.00 |  0.2006 |    0.0072 | 0.2016 | 0.0072\n",
      "| 0043 |  3.6841 |  2.6831 | -0.5948 |  0.1234 | 0.0274 |    0.0273 |  13.1753 | 0.00 |  0.0274 |    0.0014 | 0.0271 | 0.0014\n",
      "| 0044 |  3.6175 |  2.6876 | -0.8062 |  0.3869 | 0.0038 |    0.0037 |  12.9288 | 0.00 |  0.0038 |    0.0004 | 0.0035 | 0.0004\n",
      "| 0062 |  3.6034 |  4.8217 |  0.0615 |  0.0298 | 0.0074 |    0.0070 |  14.3674 | 0.00 |  0.0074 |    0.0013 | 0.0063 | 0.0012\n",
      "| 0072 |  3.5525 |  4.7937 | -0.2625 |  0.0162 | 0.1276 |    0.1292 |  14.8015 | 0.00 |  0.1276 |    0.0022 | 0.1321 | 0.0015\n",
      "| 0073 |  3.5644 |  0.6615 | -1.9179 |  0.8199 | 0.0031 |    0.0030 |  13.6592 | 0.00 |  0.0031 |    0.0005 | 0.0027 | 0.0005\n",
      "| 0082 |  3.6875 |  3.4132 |  0.3526 | -0.0964 | 0.0361 |    0.0356 |  13.5051 | 0.00 |  0.0361 |    0.0027 | 0.0346 | 0.0027\n",
      "| 0093 |  3.5513 |  0.6333 | -1.4135 |  0.7570 | 0.0806 |    0.0818 |  14.1895 | 0.00 |  0.0806 |    0.0013 | 0.0840 | 0.0004\n",
      "-------------------------------------------------------------------------------------------------------------\n",
      "MSP CHISQ=4.303203737858004 TEFF=6526.165188861336+-468.2704793996346 LOGG=3.310541514839101+-0.2375405490611826 META=-0.4486777264934647+-0.03219387312469957 ALPHAM=0.24450938771591252+-0.017544227718731476 AV=0.0+-0.0 REDSHIFT=0+-0 SIGMA_DISP_km_s=0+-0 RMS=0.41610429736082427 MED_FLUX=0.17323647439479828 TEFF_mass=3877.5988231585293+-278.22848599342797 LOGG_mass=4.198982843990019+-0.2733871979829506 META_mass=-0.41434381116709973+-0.004563646774379859 ALPHAM_mass=0.10736432509995777+-0.0003074502657745609 MASS=6.573313113247557e+16 log_M/L=10.491008894613262 log_Mass=16.81778431995979\n",
      "--------------------------------------------------------------\n"
     ]
    },
    {
     "name": "stderr",
     "output_type": "stream",
     "text": [
      "/home/mejia/.cache/pypoetry/virtualenvs/lvm-dap-fAIgvtcU-py3.8/lib/python3.8/site-packages/numpy/core/fromnumeric.py:3440: RuntimeWarning: Mean of empty slice.\n",
      "  return _methods._mean(a, axis=axis, dtype=dtype,\n",
      "/home/mejia/.cache/pypoetry/virtualenvs/lvm-dap-fAIgvtcU-py3.8/lib/python3.8/site-packages/numpy/core/_methods.py:189: RuntimeWarning: invalid value encountered in double_scalars\n",
      "  ret = ret.dtype.type(ret / rcount)\n",
      "fitting spectra:   4%|3         | 67/1801 [4:42:08<99:27:03, 206.47s/spectrum]"
     ]
    },
    {
     "name": "stdout",
     "output_type": "stream",
     "text": [
      "3697-5176 wavelength range: Saving 54 EML systems to file _data/out/elines_DIG_bright_linear_full_900_flux\n",
      "5200-6716 wavelength range: Saving 22 EML systems to file _data/out/elines_DIG_bright_linear_full_900_flux\n",
      "6730-6730 wavelength range: Saving 2 EML systems to file _data/out/elines_DIG_bright_linear_full_900_flux\n",
      "8300-9682 wavelength range: Saving 28 EML systems to file _data/out/elines_DIG_bright_linear_full_900_flux\n",
      "-------------------------------------------------------------------------------------------------------------\n",
      "|  ID  |  TEFF   |  LOGG   |  META   | ALPHAM  | COEFF  | Min.Coeff | log(M/L) |  AV  | N.Coeff | Err.Coeff |\n",
      "-------------------------------------------------------------------------------------------------------------\n",
      "| 0044 |  3.6175 |  2.6876 | -0.8062 |  0.3869 | 0.0006 |    0.0006 |  12.9288 | 0.00 |  0.0006 |    0.0000 | 0.0006 | 0.0000\n",
      "| 0059 |  3.6092 |  1.3838 |  0.1434 |  0.0343 | 0.0640 |    0.0625 |  13.0951 | 0.00 |  0.0640 |    0.0046 | 0.0597 | 0.0043\n",
      "| 0062 |  3.6034 |  4.8217 |  0.0615 |  0.0298 | 0.0530 |    0.0531 |  14.3674 | 0.00 |  0.0530 |    0.0004 | 0.0533 | 0.0004\n",
      "| 0075 |  3.6607 |  2.0839 |  0.1194 | -0.0040 | 0.1840 |    0.1844 |  12.0786 | 0.00 |  0.1840 |    0.0014 | 0.1852 | 0.0014\n",
      "| 0077 |  3.5927 |  1.1325 | -0.1682 |  0.0645 | 0.2845 |    0.2845 |  13.8827 | 0.00 |  0.2845 |    0.0035 | 0.2846 | 0.0035\n",
      "| 0080 |  3.5948 |  4.6425 |  0.1627 |  0.1314 | 0.0084 |    0.0083 |  13.9387 | 0.00 |  0.0084 |    0.0004 | 0.0081 | 0.0004\n",
      "| 0082 |  3.6875 |  3.4132 |  0.3526 | -0.0964 | 0.0016 |    0.0016 |  13.5051 | 0.00 |  0.0016 |    0.0001 | 0.0015 | 0.0001\n",
      "| 0083 |  3.7750 |  3.8381 | -0.2731 |  0.4494 | 0.0002 |    0.0001 |  13.9321 | 0.00 |  0.0002 |    0.0000 | 0.0001 | 0.0000\n",
      "| 0086 |  3.6552 |  4.2152 |  0.3023 |  0.1461 | 0.3312 |    0.3327 |  13.2321 | 0.00 |  0.3312 |    0.0017 | 0.3353 | 0.0009\n",
      "| 0089 |  3.7168 |  3.4819 | -0.4466 |  0.0795 | 0.0009 |    0.0009 |  14.7187 | 0.00 |  0.0009 |    0.0001 | 0.0008 | 0.0001\n",
      "| 0091 |  3.7034 |  3.5833 | -0.2093 |  0.1572 | 0.0700 |    0.0697 |  14.6761 | 0.00 |  0.0700 |    0.0016 | 0.0692 | 0.0015\n",
      "| 0093 |  3.5513 |  0.6333 | -1.4135 |  0.7570 | 0.0017 |    0.0017 |  14.1895 | 0.00 |  0.0017 |    0.0000 | 0.0017 | 0.0000\n",
      "-------------------------------------------------------------------------------------------------------------\n",
      "MSP CHISQ=16.674754442110537 TEFF=4320.350843538914+-94.37308428238991 LOGG=2.7474453848916625+-0.06001477756312423 META=0.07069264322811826+-0.0015441993067505917 ALPHAM=0.08334870727389943+-0.0018206564376944928 AV=0.0+-0.0 REDSHIFT=0+-0 SIGMA_DISP_km_s=0+-0 RMS=0.03464326132954527 MED_FLUX=0.987752908256784 TEFF_mass=4455.884516410713+-97.33366114205879 LOGG_mass=3.099725167506769+-0.041887976301364 META_mass=-0.1118416486420776+-2.2672567734418033e-05 ALPHAM_mass=0.10827616397034634+-4.553805635489238e-05 MASS=2.608647216306556e+17 log_M/L=10.333630944953573 log_Mass=17.416415350709723\n",
      "--------------------------------------------------------------\n"
     ]
    },
    {
     "name": "stderr",
     "output_type": "stream",
     "text": [
      "fitting spectra:   4%|3         | 68/1801 [4:46:36<108:19:02, 225.01s/spectrum]"
     ]
    },
    {
     "name": "stdout",
     "output_type": "stream",
     "text": [
      "3686-5072 wavelength range: Saving 38 EML systems to file _data/out/elines_DIG_bright_linear_full_900_flux\n",
      "5270-6716 wavelength range: Saving 7 EML systems to file _data/out/elines_DIG_bright_linear_full_900_flux\n",
      "6730-6730 wavelength range: Saving 2 EML systems to file _data/out/elines_DIG_bright_linear_full_900_flux\n",
      "8308-9682 wavelength range: Saving 24 EML systems to file _data/out/elines_DIG_bright_linear_full_900_flux\n",
      "-------------------------------------------------------------------------------------------------------------\n",
      "|  ID  |  TEFF   |  LOGG   |  META   | ALPHAM  | COEFF  | Min.Coeff | log(M/L) |  AV  | N.Coeff | Err.Coeff |\n",
      "-------------------------------------------------------------------------------------------------------------\n",
      "| 0000 |  3.9970 |  2.5946 | -1.0825 |  0.1597 | 0.0003 |    0.0003 |  14.0274 | 0.00 |  0.0003 |    0.0000 | 0.0003 | 0.0000\n",
      "| 0006 |  3.9397 |  2.8905 | -2.3637 |  0.0845 | 0.0022 |    0.0021 |  11.0819 | 0.00 |  0.0022 |    0.0003 | 0.0020 | 0.0002\n",
      "| 0008 |  4.0046 |  3.0858 | -2.6604 |  0.0534 | 0.0006 |    0.0005 |  11.9797 | 0.00 |  0.0006 |    0.0001 | 0.0005 | 0.0001\n",
      "| 0034 |  3.8120 |  3.7026 |  0.5970 |  0.0726 | 0.0000 |    0.0000 |  13.2184 | 0.00 |  0.0000 |    0.0000 | 0.0000 | 0.0000\n",
      "| 0040 |  3.7782 |  4.3005 | -0.5922 |  0.0448 | 0.0098 |    0.0092 |  13.1688 | 0.00 |  0.0098 |    0.0019 | 0.0081 | 0.0018\n",
      "| 0042 |  3.8211 |  3.9899 | -0.3000 |  0.0918 | 0.0034 |    0.0032 |  13.3216 | 0.00 |  0.0034 |    0.0006 | 0.0029 | 0.0005\n",
      "| 0043 |  3.6841 |  2.6831 | -0.5948 |  0.1234 | 0.0050 |    0.0050 |  13.1753 | 0.00 |  0.0050 |    0.0001 | 0.0052 | 0.0001\n",
      "| 0044 |  3.6175 |  2.6876 | -0.8062 |  0.3869 | 0.0001 |    0.0001 |  12.9288 | 0.00 |  0.0001 |    0.0000 | 0.0001 | 0.0000\n",
      "| 0045 |  3.7251 |  3.1927 | -1.9643 |  0.3019 | 0.0033 |    0.0033 |  13.7054 | 0.00 |  0.0033 |    0.0002 | 0.0033 | 0.0002\n",
      "| 0054 |  3.5580 |  4.6137 | -0.1421 | -0.0031 | 0.0067 |    0.0065 |  14.4913 | 0.00 |  0.0067 |    0.0007 | 0.0062 | 0.0007\n",
      "| 0056 |  3.5676 |  4.4046 | -0.1537 |  0.0240 | 0.0074 |    0.0073 |  14.5276 | 0.00 |  0.0074 |    0.0006 | 0.0070 | 0.0006\n",
      "| 0059 |  3.6092 |  1.3838 |  0.1434 |  0.0343 | 0.0329 |    0.0321 |  13.0951 | 0.00 |  0.0329 |    0.0034 | 0.0307 | 0.0033\n",
      "| 0061 |  3.5870 |  0.9341 | -0.2500 |  0.0797 | 0.0245 |    0.0240 |  13.5128 | 0.00 |  0.0245 |    0.0024 | 0.0230 | 0.0024\n",
      "| 0062 |  3.6034 |  4.8217 |  0.0615 |  0.0298 | 0.0013 |    0.0012 |  14.3674 | 0.00 |  0.0013 |    0.0003 | 0.0011 | 0.0002\n",
      "| 0064 |  3.7728 |  3.6600 | -0.7627 |  0.1747 | 0.0012 |    0.0011 |  14.2166 | 0.00 |  0.0012 |    0.0001 | 0.0011 | 0.0001\n",
      "| 0068 |  3.5334 |  0.5546 | -0.3881 |  0.0406 | 0.0057 |    0.0057 |  14.2118 | 0.00 |  0.0057 |    0.0004 | 0.0056 | 0.0004\n",
      "| 0071 |  3.5543 |  4.9259 | -0.1076 | -0.0448 | 0.0032 |    0.0030 |  14.7191 | 0.00 |  0.0032 |    0.0005 | 0.0028 | 0.0004\n",
      "| 0072 |  3.5525 |  4.7937 | -0.2625 |  0.0162 | 0.0032 |    0.0031 |  14.8015 | 0.00 |  0.0032 |    0.0004 | 0.0029 | 0.0004\n",
      "| 0074 |  3.6611 |  2.3618 | -0.0147 |  0.0420 | 0.1273 |    0.1270 |  12.4957 | 0.00 |  0.1273 |    0.0068 | 0.1264 | 0.0068\n",
      "| 0075 |  3.6607 |  2.0839 |  0.1194 | -0.0040 | 0.2722 |    0.2760 |  12.0786 | 0.00 |  0.2722 |    0.0056 | 0.2832 | 0.0041\n",
      "| 0076 |  3.6375 |  2.4336 |  0.1147 |  0.1366 | 0.0641 |    0.0641 |  12.1601 | 0.00 |  0.0641 |    0.0029 | 0.0643 | 0.0029\n",
      "| 0078 |  3.6176 |  2.3510 | -0.5391 |  0.1008 | 0.0030 |    0.0029 |  12.7842 | 0.00 |  0.0030 |    0.0004 | 0.0027 | 0.0004\n",
      "| 0079 |  3.6249 |  1.5016 | -0.3838 |  0.0606 | 0.0118 |    0.0111 |  13.2314 | 0.00 |  0.0118 |    0.0023 | 0.0098 | 0.0022\n",
      "| 0082 |  3.6875 |  3.4132 |  0.3526 | -0.0964 | 0.0059 |    0.0059 |  13.5051 | 0.00 |  0.0059 |    0.0002 | 0.0060 | 0.0002\n",
      "| 0083 |  3.7750 |  3.8381 | -0.2731 |  0.4494 | 0.0132 |    0.0133 |  13.9321 | 0.00 |  0.0132 |    0.0004 | 0.0135 | 0.0004\n",
      "| 0086 |  3.6552 |  4.2152 |  0.3023 |  0.1461 | 0.0022 |    0.0020 |  13.2321 | 0.00 |  0.0022 |    0.0004 | 0.0018 | 0.0004\n",
      "| 0087 |  3.7006 |  3.0027 |  0.4294 |  0.2140 | 0.0374 |    0.0368 |  12.3724 | 0.00 |  0.0374 |    0.0033 | 0.0356 | 0.0032\n",
      "| 0088 |  3.7623 |  4.0596 | -0.4583 |  0.0735 | 0.0075 |    0.0071 |  14.1363 | 0.00 |  0.0075 |    0.0015 | 0.0063 | 0.0014\n",
      "| 0089 |  3.7168 |  3.4819 | -0.4466 |  0.0795 | 0.1637 |    0.1645 |  14.7187 | 0.00 |  0.1637 |    0.0061 | 0.1659 | 0.0060\n",
      "| 0090 |  3.6687 |  2.2820 | -0.5364 |  0.0920 | 0.1755 |    0.1758 |  13.5451 | 0.00 |  0.1755 |    0.0077 | 0.1763 | 0.0077\n",
      "| 0092 |  3.7330 |  2.4575 | -0.1315 |  0.0299 | 0.0019 |    0.0018 |  11.9398 | 0.00 |  0.0019 |    0.0003 | 0.0017 | 0.0003\n",
      "| 0094 |  3.5317 |  0.8120 | -0.2795 |  0.0664 | 0.0031 |    0.0031 |  13.3101 | 0.00 |  0.0031 |    0.0002 | 0.0030 | 0.0002\n",
      "| 0095 |  3.4789 |  0.5479 | -0.6864 |  0.0918 | 0.0006 |    0.0006 |  12.7137 | 0.00 |  0.0006 |    0.0001 | 0.0006 | 0.0001\n",
      "-------------------------------------------------------------------------------------------------------------\n",
      "MSP CHISQ=0.16891922860643777 TEFF=4672.355801486625+-369.22591682623556 LOGG=2.5143459543619304+-0.19869242190893058 META=-0.15640331809561478+-0.012359537880258334 ALPHAM=0.06404849580787031+-0.005061336420158309 AV=0.0+-0.0 REDSHIFT=0+-0 SIGMA_DISP_km_s=0+-0 RMS=0.11156068021659304 MED_FLUX=0.9409036636352539 TEFF_mass=5001.0319763528305+-395.19905910390685 LOGG_mass=3.4488650152423954+-0.19321345892682795 META_mass=-0.41989706360408524+-0.0017512390029449552 ALPHAM_mass=0.0774139418253955+-0.00012274016656308617 MASS=3.51576039324457e+17 log_M/L=10.484338021025467 log_Mass=17.546019269292067\n",
      "--------------------------------------------------------------\n"
     ]
    },
    {
     "name": "stderr",
     "output_type": "stream",
     "text": [
      "fitting spectra:   4%|3         | 69/1801 [4:50:31<109:37:50, 227.87s/spectrum]"
     ]
    },
    {
     "name": "stdout",
     "output_type": "stream",
     "text": [
      "3686-5184 wavelength range: Saving 35 EML systems to file _data/out/elines_DIG_bright_linear_full_900_flux\n",
      "5270-6716 wavelength range: Saving 8 EML systems to file _data/out/elines_DIG_bright_linear_full_900_flux\n",
      "6730-7637 wavelength range: Saving 4 EML systems to file _data/out/elines_DIG_bright_linear_full_900_flux\n",
      "8308-9545 wavelength range: Saving 23 EML systems to file _data/out/elines_DIG_bright_linear_full_900_flux\n",
      "-------------------------------------------------------------------------------------------------------------\n",
      "|  ID  |  TEFF   |  LOGG   |  META   | ALPHAM  | COEFF  | Min.Coeff | log(M/L) |  AV  | N.Coeff | Err.Coeff |\n",
      "-------------------------------------------------------------------------------------------------------------\n",
      "| 0005 |  3.9837 |  3.4683 | -2.0871 |  0.2826 | 0.0199 |    0.0194 |  11.7220 | 0.00 |  0.0199 |    0.0015 | 0.0185 | 0.0014\n",
      "| 0008 |  4.0046 |  3.0858 | -2.6604 |  0.0534 | 0.0003 |    0.0003 |  11.9797 | 0.00 |  0.0003 |    0.0001 | 0.0002 | 0.0001\n",
      "| 0009 |  3.9988 |  3.7561 |  0.0265 | -0.0907 | 0.0219 |    0.0210 |  13.3728 | 0.00 |  0.0219 |    0.0023 | 0.0196 | 0.0022\n",
      "| 0020 |  3.9178 |  2.8502 | -0.1434 |  0.4301 | 0.0119 |    0.0115 |  12.4419 | 0.00 |  0.0119 |    0.0013 | 0.0106 | 0.0012\n",
      "| 0025 |  3.9420 |  2.4846 | -3.2709 |  0.2771 | 0.0728 |    0.0720 |  12.2457 | 0.00 |  0.0728 |    0.0029 | 0.0707 | 0.0028\n",
      "| 0042 |  3.8211 |  3.9899 | -0.3000 |  0.0918 | 0.0201 |    0.0191 |  13.3216 | 0.00 |  0.0201 |    0.0026 | 0.0174 | 0.0024\n",
      "| 0043 |  3.6841 |  2.6831 | -0.5948 |  0.1234 | 0.0050 |    0.0049 |  13.1753 | 0.00 |  0.0050 |    0.0003 | 0.0047 | 0.0003\n",
      "| 0044 |  3.6175 |  2.6876 | -0.8062 |  0.3869 | 0.0274 |    0.0275 |  12.9288 | 0.00 |  0.0274 |    0.0002 | 0.0277 | 0.0002\n",
      "| 0045 |  3.7251 |  3.1927 | -1.9643 |  0.3019 | 0.0760 |    0.0762 |  13.7054 | 0.00 |  0.0760 |    0.0005 | 0.0767 | 0.0005\n",
      "| 0075 |  3.6607 |  2.0839 |  0.1194 | -0.0040 | 0.7224 |    0.7260 |  12.0786 | 0.00 |  0.7224 |    0.0042 | 0.7324 | 0.0022\n",
      "| 0083 |  3.7750 |  3.8381 | -0.2731 |  0.4494 | 0.0170 |    0.0167 |  13.9321 | 0.00 |  0.0170 |    0.0010 | 0.0162 | 0.0009\n",
      "| 0093 |  3.5513 |  0.6333 | -1.4135 |  0.7570 | 0.0053 |    0.0053 |  14.1895 | 0.00 |  0.0053 |    0.0001 | 0.0053 | 0.0001\n",
      "-------------------------------------------------------------------------------------------------------------\n",
      "MSP CHISQ=4.979634344286969 TEFF=5088.50828980008+-142.92332183856516 LOGG=2.350921990609253+-0.06603144991523784 META=-0.3878128783723799+-0.010892682427158558 ALPHAM=0.07371263741101831+-0.002070401461540774 AV=0.0+-0.0 REDSHIFT=0+-0 SIGMA_DISP_km_s=0+-0 RMS=4.594678146146642 MED_FLUX=10.654537200927734 TEFF_mass=5405.822925489578+-151.83588701835365 LOGG_mass=2.985765934285556+-0.06563053702302836 META_mass=-1.1667122943945674+-0.007481394929642511 ALPHAM_mass=0.3064435125250149+-0.00033993302933020276 MASS=3.137128095249654e+17 log_M/L=9.380861573381935 log_Mass=17.496532252176962\n",
      "--------------------------------------------------------------\n"
     ]
    }
   ],
   "source": [
    "from pyFIT3D.common.auto_ssp_tools import dump_rss_output\n",
    "from pyFIT3D.common.auto_ssp_tools import load_rss\n",
    "from lvmdap._cmdline.dap import auto_rsp_elines_rnd\n",
    "\n",
    "\n",
    "wl__w, rss_flux, rss_eflux = load_rss(spec_file=args.spec_file, error_file=args.error_file)\n",
    "\n",
    "sigma_seq = []\n",
    "input_delta_sigma = args.sigma[1]\n",
    "input_min_sigma = args.sigma[2]\n",
    "input_max_sigma = args.sigma[3]\n",
    "model_spectra = []\n",
    "\n",
    "y_ratio = None\n",
    "ns = rss_flux.shape[0]\n",
    "\n",
    "for i, (f__w, ef__w) in tqdm(enumerate(zip(rss_flux, rss_eflux)), total=ns, desc=\"fitting spectra\", ascii=True, unit=\"spectrum\"):\n",
    "    with nostdout():\n",
    "        _, SPS = auto_rsp_elines_rnd(\n",
    "            wl__w, f__w, ef__w, ssp_file=args.rsp_file, ssp_nl_fit_file=args.rsp_nl_file,\n",
    "            config_file=args.config_file,\n",
    "            w_min=args.w_range[0], w_max=args.w_range[1], nl_w_min=args.w_range_nl[0],\n",
    "            nl_w_max=args.w_range_nl[1], mask_list=args.mask_file,\n",
    "            min=args.flux_scale[0], max=args.flux_scale[1], elines_mask_file=args.emission_lines_file,\n",
    "            fit_gas=not args.ignore_gas, refine_gas=not args.single_gas_fit, sigma_gas=args.sigma_gas,\n",
    "            input_redshift=args.redshift[0], delta_redshift=args.redshift[1], min_redshift=args.redshift[2], max_redshift=args.redshift[3],\n",
    "            input_sigma=args.sigma[0], delta_sigma=args.sigma[1], min_sigma=args.sigma[2], max_sigma=args.sigma[3],\n",
    "            input_AV=args.AV[0], delta_AV=args.AV[1], min_AV=args.AV[2], max_AV=args.AV[3], y_ratio=y_ratio,\n",
    "            sigma_inst=args.sigma_inst, spaxel_id=f\"{args.label}_{i}\", out_path=args.output_path, plot=args.plot\n",
    "        )\n",
    "    y_ratio = SPS.ratio_master\n",
    "\n",
    "    SPS.output_gas_emission(filename=out_file_elines, spec_id=i)\n",
    "    SPS.output_coeffs_MC(filename=out_file_coeffs, write_header=i==0)\n",
    "    SPS.output(filename=out_file_ps, write_header=i==0, block_plot=False)\n",
    "\n",
    "    obs = SPS.spectra[\"orig_flux_ratio\"]\n",
    "    mod = SPS.spectra[\"model_joint\"]\n",
    "\n",
    "    fig, ax = plt.subplots(figsize=(25,5))\n",
    "    plt.plot(wl__w, obs, \"0.7\", lw=5)\n",
    "    plt.plot(wl__w, mod)\n",
    "    plt.xlim(6500,6800)\n",
    "    plt.savefig(os.path.join(args.output_path, f\"{args.label}_{i}.png\"), bbox_inches=\"tight\")\n",
    "    plt.close(fig)\n",
    "\n",
    "    model_spectra.append(SPS.output_spectra_list)\n",
    "\n",
    "model_spectra = np.array(model_spectra).transpose(1, 0, 2)\n",
    "\n",
    "dump_rss_output(out_file_fit=out_file_fit, wavelength=wl__w, model_spectra=model_spectra)"
   ]
  }
 ],
 "metadata": {
  "kernelspec": {
   "display_name": "Python 3.8.5 ('lvm-dap-fAIgvtcU-py3.8')",
   "language": "python",
   "name": "python3"
  },
  "language_info": {
   "codemirror_mode": {
    "name": "ipython",
    "version": 3
   },
   "file_extension": ".py",
   "mimetype": "text/x-python",
   "name": "python",
   "nbconvert_exporter": "python",
   "pygments_lexer": "ipython3",
   "version": "3.8.5"
  },
  "orig_nbformat": 4,
  "vscode": {
   "interpreter": {
    "hash": "4dcf6d271c3f77382195221d77c2f6b34a0583585acad95c3a55523fa3b72423"
   }
  }
 },
 "nbformat": 4,
 "nbformat_minor": 2
}
