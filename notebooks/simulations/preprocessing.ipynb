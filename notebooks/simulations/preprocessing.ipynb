{
 "cells": [
  {
   "cell_type": "code",
   "execution_count": 1,
   "metadata": {},
   "outputs": [],
   "source": [
    "import os\n",
    "import numpy as np\n",
    "import matplotlib.pyplot as plt\n",
    "import seaborn as sns\n",
    "\n",
    "sns.set(context=\"talk\", palette=\"husl\", color_codes=True)\n",
    "\n",
    "from astropy.io import fits\n",
    "from astropy import units as u\n",
    "from astropy.convolution import Gaussian1DKernel\n",
    "\n",
    "from specutils.spectra import Spectrum1D\n",
    "from specutils.manipulation import convolution_smooth"
   ]
  },
  {
   "cell_type": "code",
   "execution_count": 2,
   "metadata": {},
   "outputs": [],
   "source": [
    "# SIM_PATH = \"../../../lvmdatasimulator/examples/outputs/\"\n",
    "\n",
    "# SIMPLE_SIM_NAME = \"LVM_simple_example_linear_full_9000_flux.fits\"\n",
    "# CUSTOM_SIM_NAME = \"LVM_customneb_example_linear_full_9000_flux.fits\"\n",
    "\n",
    "SIM_NAME = \"DIG_bright\"\n",
    "EXP_TIME = 900\n",
    "\n",
    "SIM_PATH = f\"_data-sim/{SIM_NAME}/outputs\"\n",
    "\n",
    "SIMPLE_SIM_NAME = f\"{SIM_NAME}_linear_full_{EXP_TIME}_flux.fits\"\n",
    "\n",
    "current_sim = SIMPLE_SIM_NAME"
   ]
  },
  {
   "cell_type": "code",
   "execution_count": 3,
   "metadata": {},
   "outputs": [],
   "source": [
    "fl_rss, ef_rss = [], []\n",
    "with fits.open(os.path.join(SIM_PATH, current_sim)) as f:\n",
    "    wl__w = f[\"WAVE\"].data\n",
    "    for fl__w, ef__w in zip(f[\"TARGET\"].data, f[\"ERR\"].data):\n",
    "        norm = np.abs(fl__w[fl__w.size//2])\n",
    "        fl__w /= norm\n",
    "        ef__w /= norm\n",
    "\n",
    "        spectrum = Spectrum1D(fl__w*u.erg/u.s/u.cm**2/u.AA, wl__w*u.AA)\n",
    "        kernel = Gaussian1DKernel(stddev=np.sqrt(2.5**2-0.5**2)/2.355/0.5)\n",
    "\n",
    "        fl__w = convolution_smooth(spectrum, kernel).data\n",
    "\n",
    "        fl_rss.append(fl__w)\n",
    "        ef_rss.append(ef__w)\n",
    "\n",
    "header = fits.Header()\n",
    "header[\"CRPIX1\"] = 1\n",
    "header[\"CRVAL1\"] = wl__w.min()\n",
    "header[\"CDELT1\"] = np.diff(wl__w)[0]\n",
    "\n",
    "out_fl_name = os.path.join(SIM_PATH, current_sim.replace(\".fits\", \".fl.rss.fits\"))\n",
    "out_ef_name = os.path.join(SIM_PATH, current_sim.replace(\".fits\", \".ef.rss.fits\"))\n",
    "\n",
    "hdu = fits.PrimaryHDU(data=np.asarray(fl_rss), header=header)\n",
    "hdu.writeto(out_fl_name, overwrite=True)\n",
    "\n",
    "hdu = fits.PrimaryHDU(data=np.asarray(ef_rss), header=header)\n",
    "hdu.writeto(out_ef_name, overwrite=True)"
   ]
  }
 ],
 "metadata": {
  "kernelspec": {
   "display_name": "Python 3.8.5 ('lvm-dap-fAIgvtcU-py3.8')",
   "language": "python",
   "name": "python3"
  },
  "language_info": {
   "codemirror_mode": {
    "name": "ipython",
    "version": 3
   },
   "file_extension": ".py",
   "mimetype": "text/x-python",
   "name": "python",
   "nbconvert_exporter": "python",
   "pygments_lexer": "ipython3",
   "version": "3.8.5"
  },
  "orig_nbformat": 4,
  "vscode": {
   "interpreter": {
    "hash": "4dcf6d271c3f77382195221d77c2f6b34a0583585acad95c3a55523fa3b72423"
   }
  }
 },
 "nbformat": 4,
 "nbformat_minor": 2
}
