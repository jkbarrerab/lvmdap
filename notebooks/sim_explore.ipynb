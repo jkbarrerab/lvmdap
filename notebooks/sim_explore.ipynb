{
 "cells": [
  {
   "cell_type": "code",
   "execution_count": 1,
   "id": "9f496837",
   "metadata": {},
   "outputs": [
    {
     "name": "stdout",
     "output_type": "stream",
     "text": [
      "2.2.0\n"
     ]
    }
   ],
   "source": [
    "%matplotlib inline\n",
    "import numpy as np\n",
    "#import pandas as pd\n",
    "from pylab import *\n",
    "import matplotlib\n",
    "#import plplot\n",
    "from scipy import stats\n",
    "#from io import StringIO\n",
    "#print(pd.__version__)\n",
    "#AttributeError: 'Series' object has no attribute 'to_numpy'\n",
    "import re\n",
    "\n",
    "import math\n",
    "import astropy as astro\n",
    "import scipy.ndimage as spimage\n",
    "from astropy.io import fits, ascii\n",
    "from astropy.table import Table, join\n",
    "from astropy.table import unique as tab_unique\n",
    "from astropy.cosmology import WMAP9 as cosmo\n",
    "import matplotlib as mpl\n",
    "#from numpy import std as biweight_midvariance\n",
    "import matplotlib.cm as cm\n",
    "\n",
    "from scipy import optimize\n",
    "from scipy.stats import gaussian_kde\n",
    "from matplotlib import colors\n",
    "import scipy.ndimage as ndimage\n",
    "from collections import Counter\n",
    "from matplotlib.legend import Legend\n",
    "import matplotlib.patches as patches\n",
    "from matplotlib import pyplot\n",
    "#\n",
    "#\n",
    "#import extinction\n",
    "\n",
    "\n",
    "#\n",
    "# seaborn\n",
    "#import pandas.util.testing as tm\n",
    "import seaborn as sns\n",
    "\n",
    "#\n",
    "# Jorge\n",
    "#\n",
    "\n",
    "from sel2dhist_xy import sel2dhist_xy\n",
    "\n",
    "\n",
    "#\n",
    "# 3D plots!\n",
    "#\n",
    "import numpy as np\n",
    "import scipy.linalg\n",
    "from mpl_toolkits.mplot3d import Axes3D\n",
    "import matplotlib.pyplot as plt\n",
    "\n",
    "#biweight_midvariance\n",
    "\n",
    "\n",
    "import warnings\n",
    "warnings.simplefilter(\"ignore\")\n",
    "\n",
    "#\n",
    "# my_utils\n",
    "#\n",
    "from my_utils import *\n",
    "\n",
    "#\n",
    "#\n",
    "#\n",
    "from ndtest import *\n",
    "from sklearn.decomposition import PCA\n",
    "\n",
    "#\n",
    "#\n",
    "#\n",
    "from scipy.optimize import leastsq, fmin\n",
    "import matplotlib.animation as animation\n",
    "\n",
    "#\n",
    "# Carlos Color map\n",
    "#\n",
    "from cmaps_CLC import vel_map\n",
    "\n",
    "from astropy.table import setdiff"
   ]
  },
  {
   "cell_type": "code",
   "execution_count": 2,
   "id": "be8dd99c",
   "metadata": {},
   "outputs": [],
   "source": [
    "from matplotlib import rcParams as rc\n",
    "rc.update({'font.size': 20,\\\n",
    "           'font.weight': 900,\\\n",
    "           'text.usetex': True,\\\n",
    "           'path.simplify'           :   True,\\\n",
    "           'xtick.labelsize' : 20,\\\n",
    "           'ytick.labelsize' : 20,\\\n",
    "#           'xtick.major.size' : 3.5,\\\n",
    "#           'ytick.major.size' : 3.5,\\\n",
    "           'axes.linewidth'  : 2.0,\\\n",
    "               # Increase the tick-mark lengths (defaults are 4 and 2)\n",
    "           'xtick.major.size'        :   6,\\\n",
    "           'ytick.major.size'        :   6,\\\n",
    "           'xtick.minor.size'        :   3,\\\n",
    "           'ytick.minor.size'        :   3,\\\n",
    "           'xtick.major.width'       :   1,\\\n",
    "           'ytick.major.width'       :   1,\\\n",
    "           'lines.markeredgewidth'   :   1,\\\n",
    "           'legend.numpoints'        :   1,\\\n",
    "           'xtick.minor.width'       :   1,\\\n",
    "           'ytick.minor.width'       :   1,\\\n",
    "           'legend.frameon'          :   False,\\\n",
    "           'legend.handletextpad'    :   0.3,\\\n",
    "           'font.family'    :   'serif',\\\n",
    "           'mathtext.fontset'        :   'stix',\\\n",
    "           'axes.facecolor' : \"w\",\\\n",
    "           \n",
    "          })\n"
   ]
  },
  {
   "cell_type": "code",
   "execution_count": 5,
   "id": "7597dc9e",
   "metadata": {},
   "outputs": [],
   "source": [
    "get_sim=\"input_sim/sim_5\"\n",
    "col_sim=header_columns_header(get_sim, column=2)\n",
    "\n",
    "tab_sim=ascii.read(get_sim, delimiter=',', guess=True, comment='\\s*#', names=col_sim,\\\n",
    "                      fill_values=[('BAD', np.nan)])\n",
    "#tab_sim.rename_column('Name','cubename')"
   ]
  },
  {
   "cell_type": "code",
   "execution_count": 7,
   "id": "f87bb44e",
   "metadata": {},
   "outputs": [
    {
     "data": {
      "text/plain": [
       "<TableColumns names=('MIN_CHISQ','Teff','e_Teff','Log_g','e_Log_g','Fe','e_Fe','alpha','e_alpha','Av','e_Av','z','e_z','disp','e_disp','flux','redshift','med_flux','e_med_flux','Teff_MW','e_Teff_MW','Log_g_MW','e_Log_g_MW','Fe_MW','e_Fe_MW','alpha_MW','e_alpha_MW','sys_vel','log_ML','log_Mass')>"
      ]
     },
     "execution_count": 7,
     "metadata": {},
     "output_type": "execute_result"
    }
   ],
   "source": [
    "tab_sim.columns"
   ]
  },
  {
   "cell_type": "code",
   "execution_count": 8,
   "id": "bd404951",
   "metadata": {},
   "outputs": [
    {
     "data": {
      "text/plain": [
       "[<matplotlib.lines.Line2D at 0x7f2d39b20b10>]"
      ]
     },
     "execution_count": 8,
     "metadata": {},
     "output_type": "execute_result"
    },
    {
     "data": {
      "image/png": "[encoded data removed]",
      "text/plain": [
       "<Figure size 640x480 with 1 Axes>"
      ]
     },
     "metadata": {},
     "output_type": "display_data"
    }
   ],
   "source": [
    "plt.plot(tab_sim['med_flux'],tab_sim['e_med_flux'])"
   ]
  },
  {
   "cell_type": "code",
   "execution_count": 10,
   "id": "ee143afc",
   "metadata": {},
   "outputs": [
    {
     "data": {
      "text/plain": [
       "(array([ 1.,  1.,  3.,  3.,  2.,  8.,  8., 15., 34., 25.]),\n",
       " array([2.3642814 , 2.37184754, 2.37941367, 2.3869798 , 2.39454593,\n",
       "        2.40211207, 2.4096782 , 2.41724433, 2.42481047, 2.4323766 ,\n",
       "        2.43994273]),\n",
       " <BarContainer object of 10 artists>)"
      ]
     },
     "execution_count": 10,
     "metadata": {},
     "output_type": "execute_result"
    },
    {
     "data": {
      "image/png": "[encoded data removed]",
      "text/plain": [
       "<Figure size 640x480 with 1 Axes>"
      ]
     },
     "metadata": {},
     "output_type": "display_data"
    }
   ],
   "source": [
    "SN=tab_sim['med_flux']/tab_sim['e_med_flux']\n",
    "plt.hist(SN)"
   ]
  },
  {
   "cell_type": "code",
   "execution_count": null,
   "id": "ba176586",
   "metadata": {},
   "outputs": [],
   "source": []
  }
 ],
 "metadata": {
  "kernelspec": {
   "display_name": "Python 3 (ipykernel)",
   "language": "python",
   "name": "python3"
  },
  "language_info": {
   "codemirror_mode": {
    "name": "ipython",
    "version": 3
   },
   "file_extension": ".py",
   "mimetype": "text/x-python",
   "name": "python",
   "nbconvert_exporter": "python",
   "pygments_lexer": "ipython3",
   "version": "3.11.7"
  }
 },
 "nbformat": 4,
 "nbformat_minor": 5
}
