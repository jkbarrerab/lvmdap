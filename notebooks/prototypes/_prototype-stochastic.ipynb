{
 "cells": [
  {
   "cell_type": "code",
   "execution_count": 1,
   "metadata": {},
   "outputs": [],
   "source": [
    "# select a target stellar spectrum\n",
    "# read MaStar analysis\n",
    "# calculate CMD\n",
    "# create sampler for the CMD\n",
    "# use as convergence criterium chi^2\n",
    "# test cases:\n",
    "#   * stellar population\n",
    "#   * a few stars\n",
    "#   * no stars (maybe use a S/N criterium)\n",
    "# analyse the resulting CMD\n",
    "# fit isochrones to the resulting CMD\n",
    "# derive other stellar populations\n",
    "import numpy as np\n",
    "import emcee\n",
    "\n",
    "import matplotlib.pyplot as plt\n",
    "import seaborn as sns\n",
    "\n",
    "\n",
    "sns.set(context=\"talk\", palette=\"Set2\", color_codes=True)"
   ]
  },
  {
   "cell_type": "code",
   "execution_count": null,
   "metadata": {},
   "outputs": [],
   "source": [
    "# read MaStar catalogue\n",
    "# build stellar parameter PDF distribution (prior)\n",
    "# "
   ]
  }
 ],
 "metadata": {
  "kernelspec": {
   "display_name": "Python 3.8.5 ('lvm-dap-fAIgvtcU-py3.8')",
   "language": "python",
   "name": "python3"
  },
  "language_info": {
   "codemirror_mode": {
    "name": "ipython",
    "version": 3
   },
   "file_extension": ".py",
   "mimetype": "text/x-python",
   "name": "python",
   "nbconvert_exporter": "python",
   "pygments_lexer": "ipython3",
   "version": "3.8.5"
  },
  "orig_nbformat": 4,
  "vscode": {
   "interpreter": {
    "hash": "4dcf6d271c3f77382195221d77c2f6b34a0583585acad95c3a55523fa3b72423"
   }
  }
 },
 "nbformat": 4,
 "nbformat_minor": 2
}
