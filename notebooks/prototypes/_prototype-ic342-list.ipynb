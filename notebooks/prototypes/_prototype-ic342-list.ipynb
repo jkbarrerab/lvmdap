{
 "cells": [
  {
   "cell_type": "code",
   "execution_count": 1,
   "metadata": {},
   "outputs": [],
   "source": [
    "import os\n",
    "\n",
    "import itertools as it\n",
    "import numpy as np\n",
    "\n",
    "\n",
    "# 10141-10150\n",
    "# 10480-10491\n",
    "# 12027-12050\n",
    "plates = [9673, 9674, 9675]+list(range(10141,10151))+list(range(10480,10492))+list(range(12027,12051))\n",
    "ifus = [9101, 9102, 12701, 12702, 12703, 12704, 12705]\n",
    "\n",
    "MANGA_NAME = \"manga-{}-{}.cube.fits.gz\"\n",
    "names = []\n",
    "for plate, ifu in it.product(plates, ifus):\n",
    "    names.append(MANGA_NAME.format(plate,ifu))"
   ]
  },
  {
   "cell_type": "code",
   "execution_count": 2,
   "metadata": {},
   "outputs": [],
   "source": [
    "path = \"../../_fitting-data/IC342/obs\"\n",
    "os.makedirs(path, exist_ok=True)\n",
    "\n",
    "np.savetxt(os.path.join(path, \"IC342-cubes.txt\"), names, fmt=\"%s\")"
   ]
  }
 ],
 "metadata": {
  "interpreter": {
   "hash": "4dcf6d271c3f77382195221d77c2f6b34a0583585acad95c3a55523fa3b72423"
  },
  "kernelspec": {
   "display_name": "Python 3.8.5 64-bit ('lvm-dap-fAIgvtcU-py3.8': poetry)",
   "name": "python3"
  },
  "language_info": {
   "codemirror_mode": {
    "name": "ipython",
    "version": 3
   },
   "file_extension": ".py",
   "mimetype": "text/x-python",
   "name": "python",
   "nbconvert_exporter": "python",
   "pygments_lexer": "ipython3",
   "version": "3.8.5"
  },
  "orig_nbformat": 4
 },
 "nbformat": 4,
 "nbformat_minor": 2
}
