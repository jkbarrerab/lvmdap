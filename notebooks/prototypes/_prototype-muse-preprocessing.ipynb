{
 "cells": [
  {
   "cell_type": "code",
   "execution_count": 1,
   "metadata": {},
   "outputs": [],
   "source": [
    "from pyFIT3D.common.tools import get_wave_from_header\n",
    "from pyFIT3D.common.constants import __c__\n",
    "import warnings\n",
    "from scipy.optimize import least_squares\n",
    "from astropy.table import Table\n",
    "from astropy.coordinates import SkyCoord\n",
    "from astropy.io import fits\n",
    "from astropy import units as u\n",
    "import os\n",
    "import socket\n",
    "from tqdm import tqdm\n",
    "from copy import deepcopy as copy\n",
    "import itertools as it\n",
    "import numpy as np\n",
    "import matplotlib.pyplot as plt\n",
    "from matplotlib.gridspec import GridSpec\n",
    "from astropy.visualization import hist\n",
    "from scipy.stats import gaussian_kde\n",
    "from scipy.ndimage import generic_filter, gaussian_filter\n",
    "import pandas as pd\n",
    "import seaborn as sns\n",
    "from PIL import Image, ImageEnhance\n",
    "from lvmdap.analysis import img_scale\n",
    "\n",
    "\n",
    "\n",
    "sns.set_theme(context=\"poster\", style=\"ticks\",\n",
    "              palette=\"Set2\", color_codes=True)\n",
    "\n",
    "\n",
    "warnings.filterwarnings('ignore', category=UserWarning)"
   ]
  },
  {
   "cell_type": "code",
   "execution_count": 2,
   "metadata": {},
   "outputs": [
    {
     "name": "stdout",
     "output_type": "stream",
     "text": [
      "Filename: /disk-a/mejia/Research/UNAM/lvm-dap/_fitting-data/LMC-MUSE/raws/ADP.2021-04-28T07:59:02.241.fits\n",
      "No.    Name      Ver    Type      Cards   Dimensions   Format\n",
      "  0  PRIMARY       1 PrimaryHDU    2216   ()      \n",
      "  1  DATA          1 ImageHDU        44   (385, 382, 3801)   float32   \n",
      "  2  STAT          1 ImageHDU        44   (385, 382, 3801)   float32   \n"
     ]
    }
   ],
   "source": [
    "from pyFIT3D.common.io import get_wave_from_header\n",
    "from pyFIT3D.common.tools import cont_seg_all_SN\n",
    "\n",
    "\n",
    "fits_path = \"/disk-a/mejia/Research/UNAM/lvm-dap/_fitting-data/LMC-MUSE/raws\"\n",
    "target_cube = \"ADP.2021-04-28T07:59:02.241.fits\"\n",
    "\n",
    "raw = fits.open(f\"{fits_path}/{target_cube}\")\n",
    "raw.info()\n"
   ]
  },
  {
   "cell_type": "code",
   "execution_count": 3,
   "metadata": {},
   "outputs": [],
   "source": [
    "raw[1].header\n",
    "wave = raw[1].header[\"CRVAL3\"] + raw[1].header[\"CD3_3\"] * \\\n",
    "    (np.arange(raw[1].header[\"NAXIS3\"]) + 1 - raw[1].header[\"CRPIX3\"])\n",
    "# wave = get_wave_from_header(raw[1].header, wave_axis=3)\n",
    "# wave"
   ]
  },
  {
   "cell_type": "code",
   "execution_count": null,
   "metadata": {},
   "outputs": [],
   "source": [
    "# scripts:\n",
    "# 1. download cubes\n",
    "#   - taken from ESO website\n",
    "# 2. generate V-band FITS images with WCS\n",
    "#   - inputs:\n",
    "#       * raw cube\n",
    "#   - outputs:\n",
    "#       * FITS file containing maps and WCS\n",
    "#   - steps:\n",
    "#       * calculate median flux within V-band\n",
    "#       * calculate propagated error within V-band\n",
    "#       * calculate SNR within V-band\n",
    "#       * store each map in a separated HDU\n",
    "#       * calculate WCS\n",
    "#       * store WCS in first HDU\n",
    "#       * save FITS file\n",
    "# 3. coadd cubes of the same pointing\n",
    "#   - inputs:\n",
    "#       * list of maps\n",
    "#   - outputs:\n",
    "#       * coadded cubes\n",
    "#   - steps:\n",
    "#       * read maps\n",
    "#       * store primary headers\n",
    "#       * calculate coadded mosaic\n",
    "#       * display coadded mosaic\n",
    "#       * identify cubes to coadd\n",
    "#       * device strategy for coadding cubes (e.g., slice-by-slice)\n",
    "#       * coadd cubes and propagate errors\n",
    "#       * save coadded cubes\n",
    "# 4. preprocess cubes\n",
    "#   - inputs:\n",
    "#       * coadded cube\n",
    "#   - outputs:\n",
    "#       * RSS fluxes\n",
    "#       * RSS errors\n",
    "#       * segmentation map\n",
    "#       * position table\n",
    "#   - steps:\n",
    "#       * read cube\n",
    "#       * calculate continuum segmented map\n",
    "#       * save resulting RSS fluxes in FITS file\n",
    "#       * save resulting RSS errors in FITS file\n",
    "#       * save position table\n"
   ]
  }
 ],
 "metadata": {
  "kernelspec": {
   "display_name": "Python 3.8.5 ('lvm-dap-fAIgvtcU-py3.8')",
   "language": "python",
   "name": "python3"
  },
  "language_info": {
   "codemirror_mode": {
    "name": "ipython",
    "version": 3
   },
   "file_extension": ".py",
   "mimetype": "text/x-python",
   "name": "python",
   "nbconvert_exporter": "python",
   "pygments_lexer": "ipython3",
   "version": "3.8.5"
  },
  "orig_nbformat": 4,
  "vscode": {
   "interpreter": {
    "hash": "4dcf6d271c3f77382195221d77c2f6b34a0583585acad95c3a55523fa3b72423"
   }
  }
 },
 "nbformat": 4,
 "nbformat_minor": 2
}
