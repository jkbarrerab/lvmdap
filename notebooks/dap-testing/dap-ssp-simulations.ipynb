{
 "cells": [
  {
   "cell_type": "code",
   "execution_count": 1,
   "metadata": {},
   "outputs": [],
   "source": [
    "%matplotlib widget\n",
    "\n",
    "import os\n",
    "\n",
    "import numpy as np\n",
    "import pandas as pd\n",
    "from astropy.io import fits\n",
    "from tqdm import tqdm\n",
    "\n",
    "import ipywidgets as widgets\n",
    "import matplotlib.pyplot as plt\n",
    "from matplotlib.gridspec import GridSpec\n",
    "import seaborn as sns\n",
    "\n",
    "from lvmdap._cmdline import dap\n",
    "from lvmdap.analysis.plotting import plot_triang_pdfs\n",
    "\n",
    "from pyFIT3D.common.auto_ssp_tools import load_rss\n",
    "\n",
    "sns.set(context=\"talk\", style=\"ticks\", palette=\"colorblind\", color_codes=True, font_scale=1)\n",
    "\n",
    "import contextlib\n",
    "import sys\n",
    "\n",
    "\n",
    "# TAKEN FROM https://bit.ly/3fVZ36L\n",
    "class DummyFile(object):\n",
    "    def write(self, x): pass\n",
    "\n",
    "@contextlib.contextmanager\n",
    "def nostdout():\n",
    "    save_stdout = sys.stdout\n",
    "    sys.stdout = DummyFile()\n",
    "    yield\n",
    "    sys.stdout = save_stdout\n",
    "\n",
    "\n",
    "SIMULATION_PATH = \"../../_fitting-data/simulations/ssps\"\n",
    "OUTPUT_PATH = \"../../_fitting-data/outputs\"\n",
    "CONFIGS_PATH = \"_data/configs\""
   ]
  },
  {
   "cell_type": "code",
   "execution_count": 2,
   "metadata": {},
   "outputs": [],
   "source": [
    "STELLAR_BASIS = \"../../_fitting-data/_basis_mastar_v2/stellar-basis-spectra-100.fits.gz\"\n",
    "STELLAR_PARAMS = \"../../_fitting-data/_basis_mastar_v2/stellar-basis-params-100.fits.gz\"\n",
    "SIGMA_INST = np.sqrt((2.62/2.355)**2 - (2.5/2.355)**2)\n",
    "MASK_ELINES = \"../../_fitting-data/_configs/MaNGA/mask_elines.txt\"\n",
    "CONFIG = \"../../_fitting-data/_configs/auto_ssp_V500_several_Hb.config\"\n",
    "EMISSION_LINES = \"../../_fitting-data/_configs/MaNGA/emission_lines_long_list.MaNGA\"\n",
    "\n",
    "# MASK_ELINES = \"../../_fitting-data/_configs/mask_elines.txt\"\n",
    "# CONFIG = os.path.join(CONFIGS_PATH, \"autodetect.auto_ssp_several.config\")\n",
    "# EMISSION_LINES = os.path.join(CONFIGS_PATH, \"autodetect.emission_lines.txt\")"
   ]
  },
  {
   "cell_type": "code",
   "execution_count": 3,
   "metadata": {},
   "outputs": [],
   "source": [
    "from astropy.table import Table\n",
    "import itertools as it\n",
    "import scipy.optimize as so\n",
    "from scipy.interpolate import CloughTocher2DInterpolator\n",
    "\n",
    "from lvmdap.analysis.stats import weighted_pdf\n",
    "from lvmdap.analysis.plotting import contours_from_pdf\n",
    "\n",
    "\n",
    "# read templates\n",
    "stellar_basis = fits.open(STELLAR_BASIS)\n",
    "stellar_param = fits.open(STELLAR_PARAMS)\n",
    "\n",
    "basis_params = Table(stellar_basis[1].data).to_pandas()\n",
    "\n",
    "npars = len(stellar_param)-1\n",
    "colormesh, contours, margin_pdf = [], [], []\n",
    "for k in range(basis_params.index.size):\n",
    "    coeffs = np.zeros(len(basis_params))\n",
    "    coeffs[k] = 1.0\n",
    "    margins, wPDFs, Xs, Ys = {}, {}, {}, {}\n",
    "    for ihdu, (i,j) in zip(range(1,npars+1), it.combinations(range(npars),2)):\n",
    "        wPDF, x_scale, y_scale = weighted_pdf(stellar_param, ihdu, coeffs=coeffs)\n",
    "\n",
    "        if i not in margins:\n",
    "            mPDF = (wPDF*stellar_param[ihdu].header[\"CDELT2\"]).sum(axis=0)\n",
    "            margins[i] = (x_scale, mPDF)\n",
    "        if j not in margins:\n",
    "            mPDF = (wPDF*stellar_param[ihdu].header[\"CDELT1\"]).sum(axis=1)\n",
    "            margins[j] = (y_scale, mPDF)\n",
    "        \n",
    "        wPDFs[ihdu] = wPDF\n",
    "        Xs[ihdu], Ys[ihdu] = np.meshgrid(x_scale, y_scale)\n",
    "\n",
    "#         wPDF_func = CloughTocher2DInterpolator(np.column_stack((X.flatten(),Y.flatten())), wPDF.flatten())\n",
    "#         levels, X_, Y_, PDF_ = contours_from_pdf(\n",
    "#             lambda x, y: wPDF_func(np.column_stack((x,y))),\n",
    "#             range_x=x_scale[[0,-1]],\n",
    "#             range_y=y_scale[[0,-1]],\n",
    "#             deltas=0.05, return_grid=True\n",
    "#         )\n",
    "    colormesh.append((Xs, Ys, wPDFs))\n",
    "#     contours.append((X_, Y_, PDF_, levels))\n",
    "    margin_pdf.append(margins)"
   ]
  },
  {
   "cell_type": "code",
   "execution_count": 4,
   "metadata": {},
   "outputs": [
    {
     "name": "stderr",
     "output_type": "stream",
     "text": [
      "fitting spectra: 100%|#################################################################################################################################| 84/84 [37:45<00:00, 26.97s/SED]\n"
     ]
    }
   ],
   "source": [
    "# read input simulated properties\n",
    "input_params = pd.read_csv(os.path.join(SIMULATION_PATH, \"fsps-true-params.csv\"))\n",
    "input_params[\"zlabels\"] = input_params.metallicity.apply(lambda met: \"{:.5f}\".format(met).replace(\".\",\"p\"))\n",
    "input_params[\"tlabels\"] = input_params.age.apply(lambda age: \"{:.5f}gyr\".format(age/1e9).replace(\".\",\"p\"))\n",
    "input_params[\"labels\"] = input_params.zlabels + \"_\" + input_params.tlabels\n",
    "\n",
    "# fit the simulated spectra\n",
    "for name, label in tqdm(zip(input_params.name, input_params.labels), total=input_params.name.size, desc=\"fitting spectra\", ascii=True, unit=\"SED\"):\n",
    "    target_sed = os.path.join(SIMULATION_PATH, name)\n",
    "    cmdline = f\"{target_sed} {STELLAR_BASIS} {SIGMA_INST} {label} {MASK_ELINES} --emission-lines-file {EMISSION_LINES} --w-range 3600 10000 --w-range-nl 3600 4700 --redshift 0 0 0 0 --sigma 0 0 0 0 --AV 0 0 0 0 -o {OUTPUT_PATH} -c\".split()\n",
    "    with nostdout():\n",
    "        dap._main(cmdline)"
   ]
  },
  {
   "cell_type": "code",
   "execution_count": 5,
   "metadata": {},
   "outputs": [],
   "source": [
    "# read input simulated fluxes\n",
    "for (tracks, library, zlabel), index in input_params.groupby([\"tracks\", \"library\", \"zlabels\"]).groups.items():\n",
    "    el_wavelength, el_spectra, _ = load_rss(f\"{SIMULATION_PATH}/fsps-ssp-{tracks}-{library}-{zlabel}-elluminosity.fits.gz\")\n",
    "    wavelength, stellar_spectra, _ = load_rss(f\"{SIMULATION_PATH}/fsps-ssp-{tracks}-{library}-{zlabel}-stellar.fits.gz\")\n",
    "    wavelength, neb_emission_spectra, _ = load_rss(f\"{SIMULATION_PATH}/fsps-ssp-{tracks}-{library}-{zlabel}-emission.fits.gz\")\n",
    "    wavelength, neb_continuum_spectra, _ = load_rss(f\"{SIMULATION_PATH}/fsps-ssp-{tracks}-{library}-{zlabel}-continuum.fits.gz\")\n",
    "    wavelength, clean_spectra, _ = load_rss(f\"{SIMULATION_PATH}/fsps-ssp-{tracks}-{library}-{zlabel}-clean.fits.gz\")\n",
    "    wavelength, noisy_spectra, _ = load_rss(f\"{SIMULATION_PATH}/fsps-ssp-{tracks}-{library}-{zlabel}-noisy.fits.gz\")\n",
    "    wavelength, error_spectra, _ = load_rss(f\"{SIMULATION_PATH}/fsps-ssp-{tracks}-{library}-{zlabel}-error.fits.gz\")\n",
    "\n",
    "    # read output fluxes\n",
    "    wavelengths = []\n",
    "    obs_joint_spectra, mod_stellar_spectra, mod_joint_spectra, obs_gas_spectra, residual_joint_spectra, obs_stellar_spectra = [], [], [], [], [], []\n",
    "    fitting_colormesh, fitting_contours, fitting_margin_pdf = [], [], []\n",
    "    for m in index:\n",
    "        label = input_params.labels.loc[m]\n",
    "        fitting = pd.read_csv(f\"{OUTPUT_PATH}/coeffs_{label}\", sep=\"\\t\", skiprows=1, index_col=\"ID\", names=\"ID\tTEFF\tLOGG\tMETA\tCOEFF\tMinCoeff\tlogML\tAV\tNCoeff\tErrs\".split())\n",
    "        models = fits.open(f\"{OUTPUT_PATH}/output.{label}.fits.gz\")\n",
    "\n",
    "        wavelengths.append(np.array([models[0].header[\"CRVAL1\"] + (i*models[0].header[\"CDELT1\"]) for i in range(models[0].header[\"NAXIS1\"])]))\n",
    "        obs_joint_spectra.append(models[0].data[0])\n",
    "        mod_stellar_spectra.append(models[0].data[1])\n",
    "        mod_joint_spectra.append(models[0].data[2])\n",
    "        obs_gas_spectra.append(models[0].data[3])\n",
    "        residual_joint_spectra.append(models[0].data[4])\n",
    "        obs_stellar_spectra.append(models[0].data[5])\n",
    "                \n",
    "        margins, wPDFs, Xs, Ys = {}, {}, {}, {}\n",
    "        for ihdu, (i,j) in zip(range(1,npars+1), it.combinations(range(npars),2)):\n",
    "            wPDF, x_scale, y_scale = weighted_pdf(stellar_param, ihdu, coeffs=fitting.COEFF.values)\n",
    "\n",
    "            if i not in margins:\n",
    "                mPDF = (wPDF*stellar_param[ihdu].header[\"CDELT2\"]).sum(axis=0)\n",
    "                margins[i] = (x_scale, mPDF)\n",
    "            if j not in margins:\n",
    "                mPDF = (wPDF*stellar_param[ihdu].header[\"CDELT1\"]).sum(axis=1)\n",
    "                margins[j] = (y_scale, mPDF)\n",
    "\n",
    "            wPDFs[ihdu] = wPDF\n",
    "            Xs[ihdu], Ys[ihdu] = np.meshgrid(x_scale, y_scale)\n",
    "\n",
    "        fitting_colormesh.append((Xs, Ys, wPDFs))\n",
    "        fitting_margin_pdf.append(margins)\n",
    "    \n",
    "    wavelengths = np.array(wavelengths)\n",
    "    obs_joint_spectra = np.array(obs_joint_spectra)\n",
    "    mod_stellar_spectra = np.array(mod_stellar_spectra)\n",
    "    mod_joint_spectra = np.array(mod_joint_spectra)\n",
    "    obs_gas_spectra = np.array(obs_gas_spectra)\n",
    "    residual_joint_spectra = np.array(residual_joint_spectra)\n",
    "    obs_stellar_spectra = np.array(obs_stellar_spectra)"
   ]
  },
  {
   "cell_type": "code",
   "execution_count": 6,
   "metadata": {},
   "outputs": [
    {
     "data": {
      "application/vnd.jupyter.widget-view+json": {
       "model_id": "a6fbcd1189f84004a04e98f8a23ff714",
       "version_major": 2,
       "version_minor": 0
      },
      "text/plain": [
       "Canvas(toolbar=Toolbar(toolitems=[('Home', 'Reset original view', 'home', 'home'), ('Back', 'Back to previous …"
      ]
     },
     "metadata": {},
     "output_type": "display_data"
    },
    {
     "data": {
      "application/vnd.jupyter.widget-view+json": {
       "model_id": "924cae54e7fd45a0a0a19480461905b2",
       "version_major": 2,
       "version_minor": 0
      },
      "text/plain": [
       "interactive(children=(Dropdown(description='k', index=40, options=(0, 1, 2, 3, 4, 5, 6, 7, 8, 9, 10, 11, 12, 1…"
      ]
     },
     "metadata": {},
     "output_type": "display_data"
    }
   ],
   "source": [
    "basis_wavelength = np.array([stellar_basis[0].header[\"CRVAL1\"] + (i*stellar_basis[0].header[\"CDELT1\"]) for i in range(stellar_basis[0].header[\"NAXIS1\"])])\n",
    "basis_spectra = stellar_basis[0].data\n",
    "\n",
    "labels = {\"TEFF\":r\"$\\log{T_\\text{eff}}$\", \"LOGG\":r\"$\\log{g}$\", \"MET\":r\"$[\\text{Fe}/\\text{H}]$\", \"ALPHAM\":r\"$[\\alpha/\\text{Fe}]$\"}\n",
    "npars = len(labels)\n",
    "nproj = len(stellar_param) - 1\n",
    "cmap = \"binary_r\"\n",
    "\n",
    "# plt.close(fig=\"all\")\n",
    "fig = plt.figure(constrained_layout=True, figsize=(15,7))\n",
    "\n",
    "n = 10\n",
    "gs = GridSpec(npars, n, figure=fig)\n",
    "ax0 = fig.add_subplot(gs[:, :n-npars])\n",
    "ax0.set_yscale(\"log\")\n",
    "axs = []\n",
    "for i in range(npars):\n",
    "    axs.append([fig.add_subplot(gs[i, j+(n-npars)], sharex=(axs[i-1][j] if i!=0 else None)) for j in range(npars)])\n",
    "axs = np.array(axs)\n",
    "for i,j in zip(*np.triu_indices_from(axs, k=1)):\n",
    "        axs[i,j].set_visible(False)\n",
    "\n",
    "lines = []\n",
    "for k in range(basis_params.index.size):\n",
    "    lines += ax0.plot(basis_wavelength, basis_spectra[k], \"-\", color=\"0.8\", lw=1.5)\n",
    "\n",
    "colors_teff = sns.color_palette(\"rainbow_r\", n_colors=basis_params.index.size)\n",
    "colors_teff = np.array(colors_teff)[basis_params.sort_values(\"TEFF\").index]\n",
    "\n",
    "@widgets.interact(k=basis_params.index)\n",
    "def update_basis(k=basis_params.index[40]):\n",
    "    [ax.clear() for ax in axs.ravel()]\n",
    "    plt.setp(lines, color=\"0.8\", zorder=0)\n",
    "    lines[k].set_color(colors_teff[k])\n",
    "    lines[k].set_zorder(1)\n",
    "    \n",
    "    Xs, Ys, wPDFs = colormesh[k]\n",
    "#     X_, Y_, PDF_, levels = contours[k]\n",
    "    margins = margin_pdf[k]\n",
    "    \n",
    "    colors = []\n",
    "    for ihdu, (i,j) in zip(range(1,nproj+1), it.combinations(range(npars),2)):\n",
    "        X, Y, wPDF = Xs[ihdu], Ys[ihdu], wPDFs[ihdu]\n",
    "        \n",
    "        x_name = stellar_param[ihdu].header[\"CTYPE1\"]\n",
    "        y_name = stellar_param[ihdu].header[\"CTYPE2\"]\n",
    "\n",
    "        colors.append(sns.color_palette(cmap)[0])\n",
    "\n",
    "        pcm = axs[j,i].pcolormesh(X, Y, wPDF, cmap=cmap, shading=\"auto\")\n",
    "#         axs[j,i].contour(X_, Y_, PDF_, levels=levels, colors=\"w\", linewidths=1)\n",
    "\n",
    "        mask_x = np.any(~np.isclose(wPDF, 0, rtol=0.05), axis=0)\n",
    "        mask_y = np.any(~np.isclose(wPDF, 0, rtol=0.05), axis=1)\n",
    "        axs[j,i].set_xlim(X.min(), X.max())\n",
    "        axs[j,i].set_ylim(Y.min(), Y.max())\n",
    "        if axs[j,i].get_subplotspec().is_last_row():\n",
    "            axs[j,i].set_xlabel(labels[x_name])\n",
    "        if i == 0:\n",
    "            axs[j,i].set_ylabel(labels[y_name])\n",
    "        else:\n",
    "            axs[j,i].tick_params(labelleft=False)\n",
    "\n",
    "    for i in range(npars):\n",
    "        x, pdf = margins[i]\n",
    "        axs[i,i].plot(x, pdf/pdf.max(), \"-\", color=colors[i])\n",
    "        axs[i,i].tick_params(left=False, labelleft=False)\n",
    "        sns.despine(ax=axs[i,i], left=True)\n",
    "\n",
    "# update_basis(90)\n",
    "# fig.savefig(\"stellar-templates.png\", bbox_inches=\"tight\")"
   ]
  },
  {
   "cell_type": "code",
   "execution_count": 10,
   "metadata": {},
   "outputs": [
    {
     "data": {
      "application/vnd.jupyter.widget-view+json": {
       "model_id": "eb661f99c38f4ae8a418276f91db7123",
       "version_major": 2,
       "version_minor": 0
      },
      "text/plain": [
       "Canvas(toolbar=Toolbar(toolitems=[('Home', 'Reset original view', 'home', 'home'), ('Back', 'Back to previous …"
      ]
     },
     "metadata": {},
     "output_type": "display_data"
    },
    {
     "data": {
      "application/vnd.jupyter.widget-view+json": {
       "model_id": "57b181766a7c480a9cae8bc7378ba962",
       "version_major": 2,
       "version_minor": 0
      },
      "text/plain": [
       "interactive(children=(Dropdown(description='i', options=(0, 1, 2, 3, 4, 5, 6, 7, 8, 9, 10, 11, 12, 13, 14, 15,…"
      ]
     },
     "metadata": {},
     "output_type": "display_data"
    }
   ],
   "source": [
    "elines = {4101.0: r\"$\\text{H}\\delta$\", 4340.468: r\"$\\text{H}\\gamma$\", 4861.32: r\"$\\text{H}\\beta$\", 4958.91: r\"$[\\text{O}\\textsc{iii}]\\lambda4959$\",\n",
    "          5006.84: r\"$[\\text{O}\\textsc{iii}]\\lambda5007$\", 6562.817: r\"$\\text{H}\\alpha$\",\n",
    "          6583.6: r\"$[\\text{N}\\textsc{ii}]\\lambda6584$\", 6716.47: r\"$[\\text{S}\\textsc{ii}]\\lambda6717$\", 6730.85: r\"$[\\text{S}\\textsc{ii}]\\lambda6731$\"}\n",
    "\n",
    "# plt.close(fig=\"all\")\n",
    "fig = plt.figure(constrained_layout=True, figsize=(15,7))\n",
    "\n",
    "gs = GridSpec(2, 5, figure=fig)\n",
    "ax1 = fig.add_subplot(gs[0, :-1])\n",
    "ax2 = fig.add_subplot(gs[1, :-1], sharex=ax1)\n",
    "axins1 = fig.add_subplot(gs[0, -1:])\n",
    "axins2 = fig.add_subplot(gs[1, -1:], sharex=axins1)\n",
    "\n",
    "ax1.tick_params(labelleft=True, labelbottom=False)\n",
    "axins1.tick_params(labelleft=True, labelbottom=False)\n",
    "axins2.tick_params(labelleft=True, labelbottom=True)\n",
    "\n",
    "wmin, wmax, wstep = 3600, 7500, 1.0\n",
    "ax1.set_xlim(wmin,wmax)\n",
    "\n",
    "@widgets.interact(i=range(input_params.age.drop_duplicates().size), line_wl=dict(zip(elines.values(), elines.keys())), line_width=(20, 50, wstep), kwargs=dict(continuous_update=False))\n",
    "def update_spectra(i=0, line_wl=6562.817, line_width=30):\n",
    "    ax1.clear()\n",
    "    ax2.clear()\n",
    "    axins1.clear()\n",
    "    axins2.clear()\n",
    "\n",
    "    wl = wavelengths[i]\n",
    "    fl_o = obs_joint_spectra[i]\n",
    "    fl_m = mod_stellar_spectra[i]\n",
    "    fl_j = mod_joint_spectra[i]\n",
    "    fl_g = obs_gas_spectra[i]\n",
    "    fl_r = residual_joint_spectra[i]\n",
    "    fl_n = obs_stellar_spectra[i]\n",
    "\n",
    "    mask_a1 = (wmin<=wl)&(wl<=wmax)\n",
    "    ax1.set_title(r\"$\\mathrm{Age}=%.4f\\,$Gyr\"%(input_params.age.drop_duplicates().values[i]/1e9))\n",
    "    ax1.plot(wl[mask_a1], fl_o[mask_a1], \"-\", color=\"0.7\", lw=2)\n",
    "    ax1.plot(wl[mask_a1], fl_j[mask_a1], \"-\", color=\"tab:purple\", lw=1.5)\n",
    "    ax1.axvspan(line_wl-line_width, line_wl+line_width, fc=\"0.9\", lw=0)\n",
    "    ax1.set_ylim(0,5)\n",
    "    ax1.set_ylabel(r\"$F_\\lambda/F_{5500}$\")\n",
    "    ax2.plot(wl[mask_a1], (fl_n)[mask_a1], \"-\", color=\"0.7\", lw=2)\n",
    "    ax2.plot(wl[mask_a1], (fl_m)[mask_a1], \"-\", color=\"tab:red\", lw=1.5)\n",
    "    ax2.axvspan(line_wl-line_width, line_wl+line_width, fc=\"0.9\", lw=0)\n",
    "    ax2.set_ylim(0,4)\n",
    "    ax2.set_xlabel(r\"$\\lambda\\,$[\\AA]\")\n",
    "    ax2.set_ylabel(r\"$F_\\lambda/F_{5500}$\")\n",
    "\n",
    "    _, ymax = ax1.get_ylim()\n",
    "    for ewl in elines:\n",
    "        ax1.axvline(ewl, ls=\"--\", lw=1, color=\"0.2\")\n",
    "        ax2.axvline(ewl, ls=\"--\", lw=1, color=\"0.2\")\n",
    "        if ewl in [5006.84, 6583.6, 6730.85]:\n",
    "            ax1.text(ewl+17, ymax-ymax*0.05, elines[ewl], ha=\"left\", va=\"top\", fontsize=\"xx-small\", rotation=90, color=\"0.2\")\n",
    "        else:\n",
    "            ax1.text(ewl-8, ymax-ymax*0.05, elines[ewl], ha=\"right\", va=\"top\", fontsize=\"xx-small\", rotation=90, color=\"0.2\")\n",
    "\n",
    "    \n",
    "    axins1.set_xlim(line_wl-line_width, line_wl+line_width)\n",
    "    mask_ai1 = (line_wl-line_width<=wl)&(wl<=line_wl+line_width)\n",
    "    axins1.plot(wl[mask_ai1], fl_o[mask_ai1], \"-\", color=\"0.7\", lw=2)\n",
    "    axins1.plot(wl[mask_ai1], fl_j[mask_ai1], \"-\", color=\"tab:purple\", lw=1.5)\n",
    "    axins2.plot(wl[mask_ai1], fl_n[mask_ai1], \"-\", color=\"0.7\", lw=2)\n",
    "    axins2.plot(wl[mask_ai1], fl_m[mask_ai1], \"-\", color=\"tab:red\", lw=1.5)\n",
    "\n",
    "# update_spectra()\n",
    "# fig.savefig(\"fitting-example.png\", bbox_inches=\"tight\")"
   ]
  },
  {
   "cell_type": "code",
   "execution_count": 11,
   "metadata": {},
   "outputs": [
    {
     "data": {
      "application/vnd.jupyter.widget-view+json": {
       "model_id": "67b28d933f044e35986a430b3733b5df",
       "version_major": 2,
       "version_minor": 0
      },
      "text/plain": [
       "Canvas(toolbar=Toolbar(toolitems=[('Home', 'Reset original view', 'home', 'home'), ('Back', 'Back to previous …"
      ]
     },
     "metadata": {},
     "output_type": "display_data"
    },
    {
     "data": {
      "application/vnd.jupyter.widget-view+json": {
       "model_id": "ccea80e1667c4ace85b11363a2057ce7",
       "version_major": 2,
       "version_minor": 0
      },
      "text/plain": [
       "interactive(children=(Dropdown(description='i', index=32, options=(0, 1, 2, 3, 4, 5, 6, 7, 8, 9, 10, 11, 12, 1…"
      ]
     },
     "metadata": {},
     "output_type": "display_data"
    }
   ],
   "source": [
    "basis_wavelength = np.array([stellar_basis[0].header[\"CRVAL1\"] + (i*stellar_basis[0].header[\"CDELT1\"]) for i in range(stellar_basis[0].header[\"NAXIS1\"])])\n",
    "basis_spectra = stellar_basis[0].data\n",
    "\n",
    "# labels = {\"TEFF\":r\"$\\log{T_\\text{eff}}$\", \"LOGG\":r\"$\\log{g}$\", \"MET\":r\"$[\\text{Fe}/\\text{H}]$\"}\n",
    "# npars = len(stellar_param)-1\n",
    "cmap = \"binary_r\"\n",
    "\n",
    "# plt.close(fig=\"all\")\n",
    "fig = plt.figure(constrained_layout=True, figsize=(15,7))\n",
    "\n",
    "n = 10\n",
    "gs = GridSpec(npars, n, figure=fig)\n",
    "ax0 = fig.add_subplot(gs[:, :n-npars])\n",
    "ax0.set_yscale(\"log\")\n",
    "axs = []\n",
    "for i in range(npars):\n",
    "    axs.append([fig.add_subplot(gs[i, j+(n-npars)], sharex=(axs[i-1][j] if i!=0 else None)) for j in range(npars)])\n",
    "axs = np.array(axs)\n",
    "for i,j in zip(*np.triu_indices_from(axs, k=1)):\n",
    "        axs[i,j].set_visible(False)\n",
    "\n",
    "lines = []\n",
    "for k in range(basis_params.index.size):\n",
    "    lines += ax0.plot(basis_wavelength, basis_spectra[k], \"-\", color=\"0.9\", lw=1.5)\n",
    "\n",
    "colors_teff = sns.color_palette(\"rainbow_r\", n_colors=basis_params.index.size)\n",
    "colors_teff = np.array(colors_teff)[basis_params.sort_values(\"TEFF\").index]\n",
    "\n",
    "@widgets.interact(i=range(input_params.age.drop_duplicates().size))\n",
    "def update_simulation(i=32):\n",
    "    wl = wavelengths[i]\n",
    "    fl_o = obs_joint_spectra[i]\n",
    "    fl_m = mod_stellar_spectra[i]\n",
    "    fl_j = mod_joint_spectra[i]\n",
    "    fl_g = obs_gas_spectra[i]\n",
    "    fl_r = residual_joint_spectra[i]\n",
    "    fl_n = obs_stellar_spectra[i]\n",
    "    \n",
    "    [ax.clear() for ax in axs.ravel()]\n",
    "    ax0.clear()\n",
    "    lines = []\n",
    "    for k in range(basis_params.index.size):\n",
    "        lines += ax0.plot(basis_wavelength, basis_spectra[k], \"-\", color=\"0.9\", lw=1.5)\n",
    "    \n",
    "    mask_a1 = (wmin<=wl)&(wl<=wmax)\n",
    "    ax0.set_title(r\"$\\mathrm{Age}=%.4f\\,$Gyr\"%(input_params.age.drop_duplicates().values[i]/1e9))\n",
    "    ax0.plot(wl[mask_a1], (fl_n)[mask_a1], \"-\", color=\"0.7\", lw=2)\n",
    "    ax0.plot(wl[mask_a1], (fl_m)[mask_a1], \"-\", color=\"tab:red\", lw=1.5)\n",
    "    ax0.set_ylim(0,6)\n",
    "    ax0.set_xlabel(r\"$\\lambda\\,$[\\AA]\")\n",
    "    ax0.set_ylabel(r\"$F_\\lambda/F_{5500}$\")\n",
    "    \n",
    "    Xs, Ys, wPDFs = fitting_colormesh[i]\n",
    "    margins = fitting_margin_pdf[i]\n",
    "    \n",
    "    colors = []\n",
    "    for ihdu, (i,j) in zip(range(1,nproj+1), it.combinations(range(npars),2)):\n",
    "        X, Y, wPDF = Xs[ihdu], Ys[ihdu], wPDFs[ihdu]\n",
    "        \n",
    "        x_name = stellar_param[ihdu].header[\"CTYPE1\"]\n",
    "        y_name = stellar_param[ihdu].header[\"CTYPE2\"]\n",
    "\n",
    "        colors.append(sns.color_palette(cmap)[0])\n",
    "\n",
    "        pcm = axs[j,i].pcolormesh(X, Y, wPDF, cmap=cmap, shading=\"auto\")\n",
    "\n",
    "        mask_x = np.any(~np.isclose(wPDF, 0, rtol=0.05), axis=0)\n",
    "        mask_y = np.any(~np.isclose(wPDF, 0, rtol=0.05), axis=1)\n",
    "        axs[j,i].set_xlim(X.min(), X.max())\n",
    "        axs[j,i].set_ylim(Y.min(), Y.max())\n",
    "        if axs[j,i].is_last_row():\n",
    "            axs[j,i].set_xlabel(labels[x_name])\n",
    "        if i == 0:\n",
    "            axs[j,i].set_ylabel(labels[y_name])\n",
    "        else:\n",
    "            axs[j,i].tick_params(labelleft=False)\n",
    "\n",
    "    for i in range(npars):\n",
    "        x, pdf = margins[i]\n",
    "        axs[i,i].plot(x, pdf/pdf.max(), \"-\", color=colors[i])\n",
    "        axs[i,i].tick_params(left=False, labelleft=False)\n",
    "        sns.despine(ax=axs[i,i], left=True)\n",
    "\n",
    "# update_simulation(50)\n",
    "# fig.savefig(\"fitting-example-stellar.png\", bbox_inches=\"tight\")"
   ]
  },
  {
   "cell_type": "code",
   "execution_count": 9,
   "metadata": {},
   "outputs": [
    {
     "data": {
      "application/vnd.jupyter.widget-view+json": {
       "model_id": "ce57b64702e34c70a26f5f3f6cb3413d",
       "version_major": 2,
       "version_minor": 0
      },
      "text/plain": [
       "Canvas(toolbar=Toolbar(toolitems=[('Home', 'Reset original view', 'home', 'home'), ('Back', 'Back to previous …"
      ]
     },
     "metadata": {},
     "output_type": "display_data"
    },
    {
     "data": {
      "application/vnd.jupyter.widget-view+json": {
       "model_id": "c93eb7ba65f549d6b9e6b283051c86bb",
       "version_major": 2,
       "version_minor": 0
      },
      "text/plain": [
       "interactive(children=(Dropdown(description='i', index=12, options=(0, 1, 2, 3, 4, 5, 6, 7, 8, 9, 10, 11, 12, 1…"
      ]
     },
     "metadata": {},
     "output_type": "display_data"
    }
   ],
   "source": [
    "fig, axs = plt.subplots(2, 4, figsize=(15, 7), sharex=True, sharey=True, tight_layout=True)\n",
    "\n",
    "emin, emax = -10, +10\n",
    "sns.despine(fig=fig)\n",
    "\n",
    "@widgets.interact(i=range(input_params.age.drop_duplicates().size), line_width=(20, 50, wstep), kwargs=dict(continuous_update=False))\n",
    "def update_spectra(i=12, line_width=40):\n",
    "    [ax.clear() for ax in axs.ravel()]\n",
    "    gas_error = (mod_joint_spectra[i] - mod_stellar_spectra[i]) - neb_emission_spectra[i]\n",
    "#     gas_error = np.divide(gas_error, neb_emission_spectra[i], where=neb_emission_spectra[i]!=0, out=np.full_like(gas_error, np.nan, dtype=np.double))\n",
    "#     gas_error *= 100\n",
    "\n",
    "    for ax, line in zip(axs.ravel(), elines):\n",
    "        ax.set_title(elines.get(line))\n",
    "        iwl, fwl = np.argmin(np.abs(wavelength - (line-line_width))), np.argmin(np.abs(wavelength - (line+line_width)))\n",
    "        ax.hist(gas_error[iwl:fwl], 20, range=(emin,emax), fc=\"tab:purple\", lw=0, density=True, alpha=0.5)\n",
    "        mean, std = np.nanmean(gas_error[iwl:fwl]), np.nanstd(gas_error[iwl:fwl])\n",
    "        ax.axvspan(mean-std, mean+std, fc=\"0.9\", lw=0, zorder=-1)\n",
    "        ax.axvline(mean, ls=\"--\", color=\"0.5\", lw=1, zorder=-1)\n",
    "        if ax.is_last_row():\n",
    "            ax.set_xlabel(\"residual\")\n",
    "        ax.set_xlim(emin,emax)\n",
    "\n",
    "# update_spectra()"
   ]
  }
 ],
 "metadata": {
  "kernelspec": {
   "display_name": "Python 3 (ipykernel)",
   "language": "python",
   "name": "python3"
  },
  "language_info": {
   "codemirror_mode": {
    "name": "ipython",
    "version": 3
   },
   "file_extension": ".py",
   "mimetype": "text/x-python",
   "name": "python",
   "nbconvert_exporter": "python",
   "pygments_lexer": "ipython3",
   "version": "3.8.5"
  },
  "widgets": {
   "application/vnd.jupyter.widget-state+json": {
    "state": {
     "0509bd580757465fb1ad501632316342": {
      "model_module": "@jupyter-widgets/base",
      "model_module_version": "1.2.0",
      "model_name": "LayoutModel",
      "state": {}
     },
     "0890605f7faf4be1bd2d6a965bfaf7f8": {
      "model_module": "@jupyter-widgets/output",
      "model_module_version": "1.0.0",
      "model_name": "OutputModel",
      "state": {
       "layout": "IPY_MODEL_28e807e8602d438da1ab153e54e7f918"
      }
     },
     "0f4974af395c4894ae8966f0db10e803": {
      "model_module": "@jupyter-widgets/base",
      "model_module_version": "1.2.0",
      "model_name": "LayoutModel",
      "state": {}
     },
     "10ef9a12eae94c3cb2510c3e2156a281": {
      "model_module": "jupyter-matplotlib",
      "model_module_version": "^0.9.0",
      "model_name": "MPLCanvasModel",
      "state": {
       "_cursor": "default",
       "_figure_label": "Figure 2",
       "_height": 700,
       "_width": 1500,
       "layout": "IPY_MODEL_1b54b424d81d4295b14a7b98e045fab2",
       "toolbar": "IPY_MODEL_de8740adc42f4ade8478104a832a1d90",
       "toolbar_position": "left"
      }
     },
     "170edf70c1614dd5b2b51821ad4a042f": {
      "model_module": "@jupyter-widgets/base",
      "model_module_version": "1.2.0",
      "model_name": "LayoutModel",
      "state": {}
     },
     "197608e5447949109a0f314165d3bacd": {
      "model_module": "@jupyter-widgets/controls",
      "model_module_version": "1.5.0",
      "model_name": "DescriptionStyleModel",
      "state": {
       "description_width": ""
      }
     },
     "1b54b424d81d4295b14a7b98e045fab2": {
      "model_module": "@jupyter-widgets/base",
      "model_module_version": "1.2.0",
      "model_name": "LayoutModel",
      "state": {}
     },
     "1f8af50ed0824057b70dd4e44f1f3400": {
      "model_module": "@jupyter-widgets/base",
      "model_module_version": "1.2.0",
      "model_name": "LayoutModel",
      "state": {}
     },
     "27dd4828bfea4c409fb8bec398d15d22": {
      "model_module": "@jupyter-widgets/controls",
      "model_module_version": "1.5.0",
      "model_name": "FloatSliderModel",
      "state": {
       "description": "line_width",
       "layout": "IPY_MODEL_5a84c915d8b348d0b631c45e8c60dc36",
       "max": 50,
       "min": 20,
       "style": "IPY_MODEL_465a738f61fd470caa47aabf186013e6",
       "value": 40
      }
     },
     "28e807e8602d438da1ab153e54e7f918": {
      "model_module": "@jupyter-widgets/base",
      "model_module_version": "1.2.0",
      "model_name": "LayoutModel",
      "state": {}
     },
     "29c1121adbda46679e4936797cd1644b": {
      "model_module": "@jupyter-widgets/output",
      "model_module_version": "1.0.0",
      "model_name": "OutputModel",
      "state": {
       "layout": "IPY_MODEL_b91895030b6845a0a828d2b66faef160",
       "outputs": [
        {
         "name": "stderr",
         "output_type": "stream",
         "text": "/home/mejia/.local/tmp/ipykernel_348560/3565788073.py:71: MatplotlibDeprecationWarning: \nThe is_last_row function was deprecated in Matplotlib 3.4 and will be removed two minor releases later. Use ax.get_subplotspec().is_last_row() instead.\n  if axs[j,i].is_last_row():\n"
        }
       ]
      }
     },
     "32c672c03b6b4bc2bcec7380245bbf20": {
      "model_module": "@jupyter-widgets/controls",
      "model_module_version": "1.5.0",
      "model_name": "FloatSliderModel",
      "state": {
       "description": "line_width",
       "layout": "IPY_MODEL_3ec2ef17e5134dc18c07f53b6d3e8919",
       "max": 50,
       "min": 20,
       "style": "IPY_MODEL_a9a62fc7f7054b8f9cd8c2070d440e83",
       "value": 30
      }
     },
     "34f9e544772a4774922284a6b169de78": {
      "model_module": "@jupyter-widgets/output",
      "model_module_version": "1.0.0",
      "model_name": "OutputModel",
      "state": {
       "layout": "IPY_MODEL_8cfdbb79e8cf4fdda58c531f192f29de"
      }
     },
     "380c04f632c84a28ba08818284bd8187": {
      "model_module": "@jupyter-widgets/base",
      "model_module_version": "1.2.0",
      "model_name": "LayoutModel",
      "state": {}
     },
     "3dea0387873c4682af1e129e1c291ad3": {
      "model_module": "@jupyter-widgets/base",
      "model_module_version": "1.2.0",
      "model_name": "LayoutModel",
      "state": {}
     },
     "3ec2ef17e5134dc18c07f53b6d3e8919": {
      "model_module": "@jupyter-widgets/base",
      "model_module_version": "1.2.0",
      "model_name": "LayoutModel",
      "state": {}
     },
     "42ee485c5a1942cf953919b59ab11a48": {
      "model_module": "@jupyter-widgets/base",
      "model_module_version": "1.2.0",
      "model_name": "LayoutModel",
      "state": {}
     },
     "465a738f61fd470caa47aabf186013e6": {
      "model_module": "@jupyter-widgets/controls",
      "model_module_version": "1.5.0",
      "model_name": "SliderStyleModel",
      "state": {
       "description_width": ""
      }
     },
     "482f42b4b2474b26b22383b380fe2575": {
      "model_module": "@jupyter-widgets/base",
      "model_module_version": "1.2.0",
      "model_name": "LayoutModel",
      "state": {}
     },
     "48d9e53fcb7e47f4959b0bce987df33a": {
      "model_module": "@jupyter-widgets/base",
      "model_module_version": "1.2.0",
      "model_name": "LayoutModel",
      "state": {}
     },
     "4ad8b52ee83643fab799f6432bf6745a": {
      "model_module": "jupyter-matplotlib",
      "model_module_version": "^0.9.0",
      "model_name": "ToolbarModel",
      "state": {
       "layout": "IPY_MODEL_f6a7023d8e87497cbcd52ef7369c9180",
       "toolitems": [
        [
         "Home",
         "Reset original view",
         "home",
         "home"
        ],
        [
         "Back",
         "Back to previous view",
         "arrow-left",
         "back"
        ],
        [
         "Forward",
         "Forward to next view",
         "arrow-right",
         "forward"
        ],
        [
         "Pan",
         "Left button pans, Right button zooms\nx/y fixes axis, CTRL fixes aspect",
         "arrows",
         "pan"
        ],
        [
         "Zoom",
         "Zoom to rectangle\nx/y fixes axis, CTRL fixes aspect",
         "square-o",
         "zoom"
        ],
        [
         "Download",
         "Download plot",
         "floppy-o",
         "save_figure"
        ]
       ]
      }
     },
     "4b96766208354c178d5797be9d47a3ee": {
      "model_module": "@jupyter-widgets/controls",
      "model_module_version": "1.5.0",
      "model_name": "DropdownModel",
      "state": {
       "_options_labels": [
        "0",
        "1",
        "2",
        "3",
        "4",
        "5",
        "6",
        "7",
        "8",
        "9",
        "10",
        "11",
        "12",
        "13",
        "14",
        "15",
        "16",
        "17",
        "18",
        "19",
        "20",
        "21",
        "22",
        "23",
        "24",
        "25",
        "26",
        "27",
        "28",
        "29",
        "30",
        "31",
        "32",
        "33",
        "34",
        "35",
        "36",
        "37",
        "38",
        "39",
        "40",
        "41",
        "42",
        "43",
        "44",
        "45",
        "46",
        "47",
        "48",
        "49",
        "50",
        "51",
        "52",
        "53",
        "54",
        "55",
        "56",
        "57",
        "58",
        "59",
        "60",
        "61",
        "62",
        "63",
        "64",
        "65",
        "66",
        "67",
        "68",
        "69",
        "70",
        "71",
        "72",
        "73",
        "74",
        "75",
        "76",
        "77",
        "78",
        "79",
        "80",
        "81",
        "82",
        "83"
       ],
       "description": "i",
       "index": 18,
       "layout": "IPY_MODEL_a9d35385ae3d4589ba3bffdf3804532d",
       "style": "IPY_MODEL_197608e5447949109a0f314165d3bacd"
      }
     },
     "4c4b18e409bd45ca8a9b3b3de6de7fd4": {
      "model_module": "@jupyter-widgets/controls",
      "model_module_version": "1.5.0",
      "model_name": "SliderStyleModel",
      "state": {
       "description_width": ""
      }
     },
     "4e15095778ea4d29aaa2ba95ce879075": {
      "model_module": "jupyter-matplotlib",
      "model_module_version": "^0.9.0",
      "model_name": "ToolbarModel",
      "state": {
       "layout": "IPY_MODEL_d3cc35723fb94fdb8b2353e1adeaec32",
       "toolitems": [
        [
         "Home",
         "Reset original view",
         "home",
         "home"
        ],
        [
         "Back",
         "Back to previous view",
         "arrow-left",
         "back"
        ],
        [
         "Forward",
         "Forward to next view",
         "arrow-right",
         "forward"
        ],
        [
         "Pan",
         "Left button pans, Right button zooms\nx/y fixes axis, CTRL fixes aspect",
         "arrows",
         "pan"
        ],
        [
         "Zoom",
         "Zoom to rectangle\nx/y fixes axis, CTRL fixes aspect",
         "square-o",
         "zoom"
        ],
        [
         "Download",
         "Download plot",
         "floppy-o",
         "save_figure"
        ]
       ]
      }
     },
     "4f25adf7e8524335b591d7432670e385": {
      "model_module": "@jupyter-widgets/controls",
      "model_module_version": "1.5.0",
      "model_name": "DescriptionStyleModel",
      "state": {
       "description_width": ""
      }
     },
     "4ffd40375aa347ab98c471c00a58a841": {
      "model_module": "@jupyter-widgets/controls",
      "model_module_version": "1.5.0",
      "model_name": "DropdownModel",
      "state": {
       "_options_labels": [
        "0",
        "1",
        "2",
        "3",
        "4",
        "5",
        "6",
        "7",
        "8",
        "9",
        "10",
        "11",
        "12",
        "13",
        "14",
        "15",
        "16",
        "17",
        "18",
        "19",
        "20",
        "21",
        "22",
        "23",
        "24",
        "25",
        "26",
        "27",
        "28",
        "29",
        "30",
        "31",
        "32",
        "33",
        "34",
        "35",
        "36",
        "37",
        "38",
        "39",
        "40",
        "41",
        "42",
        "43",
        "44",
        "45",
        "46",
        "47",
        "48",
        "49",
        "50",
        "51",
        "52",
        "53",
        "54",
        "55",
        "56",
        "57",
        "58",
        "59",
        "60",
        "61",
        "62",
        "63",
        "64",
        "65",
        "66",
        "67",
        "68",
        "69",
        "70",
        "71",
        "72",
        "73",
        "74",
        "75",
        "76",
        "77",
        "78",
        "79",
        "80",
        "81",
        "82",
        "83"
       ],
       "description": "i",
       "index": 0,
       "layout": "IPY_MODEL_48d9e53fcb7e47f4959b0bce987df33a",
       "style": "IPY_MODEL_9853d565cc62429ea65e19aa83048ea3"
      }
     },
     "56a21c8e15b54c1b881bf8fc943879eb": {
      "model_module": "@jupyter-widgets/output",
      "model_module_version": "1.0.0",
      "model_name": "OutputModel",
      "state": {
       "layout": "IPY_MODEL_1f8af50ed0824057b70dd4e44f1f3400",
       "outputs": [
        {
         "name": "stderr",
         "output_type": "stream",
         "text": "/home/mejia/.local/tmp/ipykernel_348560/3565788073.py:71: MatplotlibDeprecationWarning: \nThe is_last_row function was deprecated in Matplotlib 3.4 and will be removed two minor releases later. Use ax.get_subplotspec().is_last_row() instead.\n  if axs[j,i].is_last_row():\n"
        }
       ]
      }
     },
     "57b181766a7c480a9cae8bc7378ba962": {
      "model_module": "@jupyter-widgets/controls",
      "model_module_version": "1.5.0",
      "model_name": "VBoxModel",
      "state": {
       "_dom_classes": [
        "widget-interact"
       ],
       "children": [
        "IPY_MODEL_4b96766208354c178d5797be9d47a3ee",
        "IPY_MODEL_5d7b76f14dbd4e8bb29a928f62d7c64e",
        "IPY_MODEL_a0e5e68f72944e36ae2ad2537d82263d",
        "IPY_MODEL_0890605f7faf4be1bd2d6a965bfaf7f8"
       ],
       "layout": "IPY_MODEL_170edf70c1614dd5b2b51821ad4a042f"
      }
     },
     "5a84c915d8b348d0b631c45e8c60dc36": {
      "model_module": "@jupyter-widgets/base",
      "model_module_version": "1.2.0",
      "model_name": "LayoutModel",
      "state": {}
     },
     "5c3390c144044e9ca2c5a3d63d99331f": {
      "model_module": "@jupyter-widgets/base",
      "model_module_version": "1.2.0",
      "model_name": "LayoutModel",
      "state": {}
     },
     "5d7b76f14dbd4e8bb29a928f62d7c64e": {
      "model_module": "@jupyter-widgets/controls",
      "model_module_version": "1.5.0",
      "model_name": "DropdownModel",
      "state": {
       "_options_labels": [
        "$\\text{H}\\delta$",
        "$\\text{H}\\gamma$",
        "$\\text{H}\\beta$",
        "$[\\text{O}\\textsc{iii}]\\lambda4959$",
        "$[\\text{O}\\textsc{iii}]\\lambda5007$",
        "$\\text{H}\\alpha$",
        "$[\\text{N}\\textsc{ii}]\\lambda6584$",
        "$[\\text{S}\\textsc{ii}]\\lambda6717$",
        "$[\\text{S}\\textsc{ii}]\\lambda6731$"
       ],
       "description": "line_wl",
       "index": 5,
       "layout": "IPY_MODEL_c95abac530544ef6858e2b0150745796",
       "style": "IPY_MODEL_4f25adf7e8524335b591d7432670e385"
      }
     },
     "5e619d6351bd4c808db0fd05aae623b3": {
      "model_module": "@jupyter-widgets/output",
      "model_module_version": "1.0.0",
      "model_name": "OutputModel",
      "state": {
       "layout": "IPY_MODEL_bae1e97eb0984a318182bcd9e35010fd",
       "outputs": [
        {
         "name": "stderr",
         "output_type": "stream",
         "text": "/home/mejia/.local/tmp/ipykernel_348560/3779191008.py:20: MatplotlibDeprecationWarning: \nThe is_last_row function was deprecated in Matplotlib 3.4 and will be removed two minor releases later. Use ax.get_subplotspec().is_last_row() instead.\n  if ax.is_last_row():\n"
        }
       ]
      }
     },
     "67b28d933f044e35986a430b3733b5df": {
      "model_module": "jupyter-matplotlib",
      "model_module_version": "^0.9.0",
      "model_name": "MPLCanvasModel",
      "state": {
       "_cursor": "default",
       "_figure_label": "Figure 6",
       "_height": 700,
       "_width": 1500,
       "layout": "IPY_MODEL_3dea0387873c4682af1e129e1c291ad3",
       "toolbar": "IPY_MODEL_9b987482fd6f48bb937cd4bc7541e4cd",
       "toolbar_position": "left"
      }
     },
     "69a70f14ce824057bda5a411c0d88478": {
      "model_module": "@jupyter-widgets/base",
      "model_module_version": "1.2.0",
      "model_name": "LayoutModel",
      "state": {}
     },
     "6b94c1028db540d38b810b3e0efd69de": {
      "model_module": "@jupyter-widgets/base",
      "model_module_version": "1.2.0",
      "model_name": "LayoutModel",
      "state": {}
     },
     "6c667f276a474b2392eb74f765561015": {
      "model_module": "@jupyter-widgets/base",
      "model_module_version": "1.2.0",
      "model_name": "LayoutModel",
      "state": {}
     },
     "722511cf333e4bd5b1b194e8460f4ea2": {
      "model_module": "@jupyter-widgets/controls",
      "model_module_version": "1.5.0",
      "model_name": "DropdownModel",
      "state": {
       "_options_labels": [
        "0",
        "1",
        "2",
        "3",
        "4",
        "5",
        "6",
        "7",
        "8",
        "9",
        "10",
        "11",
        "12",
        "13",
        "14",
        "15",
        "16",
        "17",
        "18",
        "19",
        "20",
        "21",
        "22",
        "23",
        "24",
        "25",
        "26",
        "27",
        "28",
        "29",
        "30",
        "31",
        "32",
        "33",
        "34",
        "35",
        "36",
        "37",
        "38",
        "39",
        "40",
        "41",
        "42",
        "43",
        "44",
        "45",
        "46",
        "47",
        "48",
        "49",
        "50",
        "51",
        "52",
        "53",
        "54",
        "55",
        "56",
        "57",
        "58",
        "59",
        "60",
        "61",
        "62",
        "63",
        "64",
        "65",
        "66",
        "67",
        "68",
        "69",
        "70",
        "71",
        "72",
        "73",
        "74",
        "75",
        "76",
        "77",
        "78",
        "79",
        "80",
        "81",
        "82",
        "83"
       ],
       "description": "i",
       "index": 32,
       "layout": "IPY_MODEL_42ee485c5a1942cf953919b59ab11a48",
       "style": "IPY_MODEL_c56136d7ca64436dbc189dba9b977257"
      }
     },
     "818b2910f87a49038493bbcf555b7a7e": {
      "model_module": "@jupyter-widgets/base",
      "model_module_version": "1.2.0",
      "model_name": "LayoutModel",
      "state": {}
     },
     "880c8c1bc90e454bac3ed82aa51fe741": {
      "model_module": "@jupyter-widgets/base",
      "model_module_version": "1.2.0",
      "model_name": "LayoutModel",
      "state": {}
     },
     "8b7575f0a009494b917be811464839be": {
      "model_module": "jupyter-matplotlib",
      "model_module_version": "^0.9.0",
      "model_name": "ToolbarModel",
      "state": {
       "layout": "IPY_MODEL_8eb8e47e4d36498aad076226ca6f8fdd",
       "toolitems": [
        [
         "Home",
         "Reset original view",
         "home",
         "home"
        ],
        [
         "Back",
         "Back to previous view",
         "arrow-left",
         "back"
        ],
        [
         "Forward",
         "Forward to next view",
         "arrow-right",
         "forward"
        ],
        [
         "Pan",
         "Left button pans, Right button zooms\nx/y fixes axis, CTRL fixes aspect",
         "arrows",
         "pan"
        ],
        [
         "Zoom",
         "Zoom to rectangle\nx/y fixes axis, CTRL fixes aspect",
         "square-o",
         "zoom"
        ],
        [
         "Download",
         "Download plot",
         "floppy-o",
         "save_figure"
        ]
       ]
      }
     },
     "8cfdbb79e8cf4fdda58c531f192f29de": {
      "model_module": "@jupyter-widgets/base",
      "model_module_version": "1.2.0",
      "model_name": "LayoutModel",
      "state": {}
     },
     "8eb8e47e4d36498aad076226ca6f8fdd": {
      "model_module": "@jupyter-widgets/base",
      "model_module_version": "1.2.0",
      "model_name": "LayoutModel",
      "state": {}
     },
     "8f6eebee1fec4b80afedfca5d5f2b5cd": {
      "model_module": "@jupyter-widgets/base",
      "model_module_version": "1.2.0",
      "model_name": "LayoutModel",
      "state": {}
     },
     "924cae54e7fd45a0a0a19480461905b2": {
      "model_module": "@jupyter-widgets/controls",
      "model_module_version": "1.5.0",
      "model_name": "VBoxModel",
      "state": {
       "_dom_classes": [
        "widget-interact"
       ],
       "children": [
        "IPY_MODEL_f9c95e98d7654a38914c56b358950f7e",
        "IPY_MODEL_34f9e544772a4774922284a6b169de78"
       ],
       "layout": "IPY_MODEL_69a70f14ce824057bda5a411c0d88478"
      }
     },
     "9853d565cc62429ea65e19aa83048ea3": {
      "model_module": "@jupyter-widgets/controls",
      "model_module_version": "1.5.0",
      "model_name": "DescriptionStyleModel",
      "state": {
       "description_width": ""
      }
     },
     "997b2427efa5438cbfe760112af5cabb": {
      "model_module": "@jupyter-widgets/controls",
      "model_module_version": "1.5.0",
      "model_name": "DescriptionStyleModel",
      "state": {
       "description_width": ""
      }
     },
     "9a1123afcc9c479d80a3e9efc76203da": {
      "model_module": "@jupyter-widgets/output",
      "model_module_version": "1.0.0",
      "model_name": "OutputModel",
      "state": {
       "layout": "IPY_MODEL_8f6eebee1fec4b80afedfca5d5f2b5cd"
      }
     },
     "9b987482fd6f48bb937cd4bc7541e4cd": {
      "model_module": "jupyter-matplotlib",
      "model_module_version": "^0.9.0",
      "model_name": "ToolbarModel",
      "state": {
       "layout": "IPY_MODEL_482f42b4b2474b26b22383b380fe2575",
       "toolitems": [
        [
         "Home",
         "Reset original view",
         "home",
         "home"
        ],
        [
         "Back",
         "Back to previous view",
         "arrow-left",
         "back"
        ],
        [
         "Forward",
         "Forward to next view",
         "arrow-right",
         "forward"
        ],
        [
         "Pan",
         "Left button pans, Right button zooms\nx/y fixes axis, CTRL fixes aspect",
         "arrows",
         "pan"
        ],
        [
         "Zoom",
         "Zoom to rectangle\nx/y fixes axis, CTRL fixes aspect",
         "square-o",
         "zoom"
        ],
        [
         "Download",
         "Download plot",
         "floppy-o",
         "save_figure"
        ]
       ]
      }
     },
     "a00cc11770c34816a74472468c23d32e": {
      "model_module": "@jupyter-widgets/base",
      "model_module_version": "1.2.0",
      "model_name": "LayoutModel",
      "state": {}
     },
     "a0e5e68f72944e36ae2ad2537d82263d": {
      "model_module": "@jupyter-widgets/controls",
      "model_module_version": "1.5.0",
      "model_name": "FloatSliderModel",
      "state": {
       "description": "line_width",
       "layout": "IPY_MODEL_bd16a7a6009842fc804ef3c7fee48f3f",
       "max": 50,
       "min": 20,
       "style": "IPY_MODEL_4c4b18e409bd45ca8a9b3b3de6de7fd4",
       "value": 30
      }
     },
     "a22adb30970844e284ce9d63081df9a6": {
      "model_module": "@jupyter-widgets/base",
      "model_module_version": "1.2.0",
      "model_name": "LayoutModel",
      "state": {}
     },
     "a652916510504635b2c868bcafaae77f": {
      "model_module": "@jupyter-widgets/controls",
      "model_module_version": "1.5.0",
      "model_name": "VBoxModel",
      "state": {
       "_dom_classes": [
        "widget-interact"
       ],
       "children": [
        "IPY_MODEL_4ffd40375aa347ab98c471c00a58a841",
        "IPY_MODEL_b5f0c156146a4bcd86ded5e41a91fb94",
        "IPY_MODEL_32c672c03b6b4bc2bcec7380245bbf20",
        "IPY_MODEL_9a1123afcc9c479d80a3e9efc76203da"
       ],
       "layout": "IPY_MODEL_0509bd580757465fb1ad501632316342"
      }
     },
     "a6fbcd1189f84004a04e98f8a23ff714": {
      "model_module": "jupyter-matplotlib",
      "model_module_version": "^0.9.0",
      "model_name": "MPLCanvasModel",
      "state": {
       "_cursor": "default",
       "_figure_label": "Figure 1",
       "_height": 700,
       "_width": 1500,
       "layout": "IPY_MODEL_a22adb30970844e284ce9d63081df9a6",
       "toolbar": "IPY_MODEL_4ad8b52ee83643fab799f6432bf6745a",
       "toolbar_position": "left"
      }
     },
     "a9a62fc7f7054b8f9cd8c2070d440e83": {
      "model_module": "@jupyter-widgets/controls",
      "model_module_version": "1.5.0",
      "model_name": "SliderStyleModel",
      "state": {
       "description_width": ""
      }
     },
     "a9b7be7357b34fa2b8b6343cfe5ee308": {
      "model_module": "jupyter-matplotlib",
      "model_module_version": "^0.9.0",
      "model_name": "ToolbarModel",
      "state": {
       "layout": "IPY_MODEL_6c667f276a474b2392eb74f765561015",
       "toolitems": [
        [
         "Home",
         "Reset original view",
         "home",
         "home"
        ],
        [
         "Back",
         "Back to previous view",
         "arrow-left",
         "back"
        ],
        [
         "Forward",
         "Forward to next view",
         "arrow-right",
         "forward"
        ],
        [
         "Pan",
         "Left button pans, Right button zooms\nx/y fixes axis, CTRL fixes aspect",
         "arrows",
         "pan"
        ],
        [
         "Zoom",
         "Zoom to rectangle\nx/y fixes axis, CTRL fixes aspect",
         "square-o",
         "zoom"
        ],
        [
         "Download",
         "Download plot",
         "floppy-o",
         "save_figure"
        ]
       ]
      }
     },
     "a9d35385ae3d4589ba3bffdf3804532d": {
      "model_module": "@jupyter-widgets/base",
      "model_module_version": "1.2.0",
      "model_name": "LayoutModel",
      "state": {}
     },
     "af88194248924ea69bdefb398c127b6b": {
      "model_module": "@jupyter-widgets/base",
      "model_module_version": "1.2.0",
      "model_name": "LayoutModel",
      "state": {}
     },
     "b09b024ef5e145f9b3b076ae290dc1e0": {
      "model_module": "@jupyter-widgets/controls",
      "model_module_version": "1.5.0",
      "model_name": "VBoxModel",
      "state": {
       "_dom_classes": [
        "widget-interact"
       ],
       "children": [
        "IPY_MODEL_b92246dc7ba54dc6bd4d6fcf868b07ef",
        "IPY_MODEL_56a21c8e15b54c1b881bf8fc943879eb"
       ],
       "layout": "IPY_MODEL_5c3390c144044e9ca2c5a3d63d99331f"
      }
     },
     "b5f0c156146a4bcd86ded5e41a91fb94": {
      "model_module": "@jupyter-widgets/controls",
      "model_module_version": "1.5.0",
      "model_name": "DropdownModel",
      "state": {
       "_options_labels": [
        "$\\text{H}\\delta$",
        "$\\text{H}\\gamma$",
        "$\\text{H}\\beta$",
        "$[\\text{O}\\textsc{iii}]\\lambda4959$",
        "$[\\text{O}\\textsc{iii}]\\lambda5007$",
        "$\\text{H}\\alpha$",
        "$[\\text{N}\\textsc{ii}]\\lambda6584$",
        "$[\\text{S}\\textsc{ii}]\\lambda6717$",
        "$[\\text{S}\\textsc{ii}]\\lambda6731$"
       ],
       "description": "line_wl",
       "index": 5,
       "layout": "IPY_MODEL_f375a07756324de18b2e360a71f9581c",
       "style": "IPY_MODEL_997b2427efa5438cbfe760112af5cabb"
      }
     },
     "b91895030b6845a0a828d2b66faef160": {
      "model_module": "@jupyter-widgets/base",
      "model_module_version": "1.2.0",
      "model_name": "LayoutModel",
      "state": {}
     },
     "b92246dc7ba54dc6bd4d6fcf868b07ef": {
      "model_module": "@jupyter-widgets/controls",
      "model_module_version": "1.5.0",
      "model_name": "DropdownModel",
      "state": {
       "_options_labels": [
        "0",
        "1",
        "2",
        "3",
        "4",
        "5",
        "6",
        "7",
        "8",
        "9",
        "10",
        "11",
        "12",
        "13",
        "14",
        "15",
        "16",
        "17",
        "18",
        "19",
        "20",
        "21",
        "22",
        "23",
        "24",
        "25",
        "26",
        "27",
        "28",
        "29",
        "30",
        "31",
        "32",
        "33",
        "34",
        "35",
        "36",
        "37",
        "38",
        "39",
        "40",
        "41",
        "42",
        "43",
        "44",
        "45",
        "46",
        "47",
        "48",
        "49",
        "50",
        "51",
        "52",
        "53",
        "54",
        "55",
        "56",
        "57",
        "58",
        "59",
        "60",
        "61",
        "62",
        "63",
        "64",
        "65",
        "66",
        "67",
        "68",
        "69",
        "70",
        "71",
        "72",
        "73",
        "74",
        "75",
        "76",
        "77",
        "78",
        "79",
        "80",
        "81",
        "82",
        "83"
       ],
       "description": "i",
       "index": 32,
       "layout": "IPY_MODEL_818b2910f87a49038493bbcf555b7a7e",
       "style": "IPY_MODEL_f64b7b14e3d34d74a7652d8ad2baafe4"
      }
     },
     "b95d8eb540554a96b1630b4495412d3f": {
      "model_module": "@jupyter-widgets/controls",
      "model_module_version": "1.5.0",
      "model_name": "DescriptionStyleModel",
      "state": {
       "description_width": ""
      }
     },
     "bae1e97eb0984a318182bcd9e35010fd": {
      "model_module": "@jupyter-widgets/base",
      "model_module_version": "1.2.0",
      "model_name": "LayoutModel",
      "state": {}
     },
     "bd16a7a6009842fc804ef3c7fee48f3f": {
      "model_module": "@jupyter-widgets/base",
      "model_module_version": "1.2.0",
      "model_name": "LayoutModel",
      "state": {}
     },
     "c18f01bbcf974fdf9e8a508933743b21": {
      "model_module": "@jupyter-widgets/controls",
      "model_module_version": "1.5.0",
      "model_name": "DescriptionStyleModel",
      "state": {
       "description_width": ""
      }
     },
     "c56136d7ca64436dbc189dba9b977257": {
      "model_module": "@jupyter-widgets/controls",
      "model_module_version": "1.5.0",
      "model_name": "DescriptionStyleModel",
      "state": {
       "description_width": ""
      }
     },
     "c93eb7ba65f549d6b9e6b283051c86bb": {
      "model_module": "@jupyter-widgets/controls",
      "model_module_version": "1.5.0",
      "model_name": "VBoxModel",
      "state": {
       "_dom_classes": [
        "widget-interact"
       ],
       "children": [
        "IPY_MODEL_e8c898b6b2f148e49e4ba96a69e4deda",
        "IPY_MODEL_27dd4828bfea4c409fb8bec398d15d22",
        "IPY_MODEL_5e619d6351bd4c808db0fd05aae623b3"
       ],
       "layout": "IPY_MODEL_a00cc11770c34816a74472468c23d32e"
      }
     },
     "c95abac530544ef6858e2b0150745796": {
      "model_module": "@jupyter-widgets/base",
      "model_module_version": "1.2.0",
      "model_name": "LayoutModel",
      "state": {}
     },
     "ccea80e1667c4ace85b11363a2057ce7": {
      "model_module": "@jupyter-widgets/controls",
      "model_module_version": "1.5.0",
      "model_name": "VBoxModel",
      "state": {
       "_dom_classes": [
        "widget-interact"
       ],
       "children": [
        "IPY_MODEL_722511cf333e4bd5b1b194e8460f4ea2",
        "IPY_MODEL_29c1121adbda46679e4936797cd1644b"
       ],
       "layout": "IPY_MODEL_880c8c1bc90e454bac3ed82aa51fe741"
      }
     },
     "ce57b64702e34c70a26f5f3f6cb3413d": {
      "model_module": "jupyter-matplotlib",
      "model_module_version": "^0.9.0",
      "model_name": "MPLCanvasModel",
      "state": {
       "_cursor": "default",
       "_figure_label": "Figure 4",
       "_height": 700,
       "_width": 1500,
       "layout": "IPY_MODEL_6b94c1028db540d38b810b3e0efd69de",
       "toolbar": "IPY_MODEL_a9b7be7357b34fa2b8b6343cfe5ee308",
       "toolbar_position": "left"
      }
     },
     "d3cc35723fb94fdb8b2353e1adeaec32": {
      "model_module": "@jupyter-widgets/base",
      "model_module_version": "1.2.0",
      "model_name": "LayoutModel",
      "state": {}
     },
     "d4ca3efb338a40228473ef36e2d15853": {
      "model_module": "@jupyter-widgets/base",
      "model_module_version": "1.2.0",
      "model_name": "LayoutModel",
      "state": {}
     },
     "de8740adc42f4ade8478104a832a1d90": {
      "model_module": "jupyter-matplotlib",
      "model_module_version": "^0.9.0",
      "model_name": "ToolbarModel",
      "state": {
       "layout": "IPY_MODEL_0f4974af395c4894ae8966f0db10e803",
       "toolitems": [
        [
         "Home",
         "Reset original view",
         "home",
         "home"
        ],
        [
         "Back",
         "Back to previous view",
         "arrow-left",
         "back"
        ],
        [
         "Forward",
         "Forward to next view",
         "arrow-right",
         "forward"
        ],
        [
         "Pan",
         "Left button pans, Right button zooms\nx/y fixes axis, CTRL fixes aspect",
         "arrows",
         "pan"
        ],
        [
         "Zoom",
         "Zoom to rectangle\nx/y fixes axis, CTRL fixes aspect",
         "square-o",
         "zoom"
        ],
        [
         "Download",
         "Download plot",
         "floppy-o",
         "save_figure"
        ]
       ]
      }
     },
     "e8c898b6b2f148e49e4ba96a69e4deda": {
      "model_module": "@jupyter-widgets/controls",
      "model_module_version": "1.5.0",
      "model_name": "DropdownModel",
      "state": {
       "_options_labels": [
        "0",
        "1",
        "2",
        "3",
        "4",
        "5",
        "6",
        "7",
        "8",
        "9",
        "10",
        "11",
        "12",
        "13",
        "14",
        "15",
        "16",
        "17",
        "18",
        "19",
        "20",
        "21",
        "22",
        "23",
        "24",
        "25",
        "26",
        "27",
        "28",
        "29",
        "30",
        "31",
        "32",
        "33",
        "34",
        "35",
        "36",
        "37",
        "38",
        "39",
        "40",
        "41",
        "42",
        "43",
        "44",
        "45",
        "46",
        "47",
        "48",
        "49",
        "50",
        "51",
        "52",
        "53",
        "54",
        "55",
        "56",
        "57",
        "58",
        "59",
        "60",
        "61",
        "62",
        "63",
        "64",
        "65",
        "66",
        "67",
        "68",
        "69",
        "70",
        "71",
        "72",
        "73",
        "74",
        "75",
        "76",
        "77",
        "78",
        "79",
        "80",
        "81",
        "82",
        "83"
       ],
       "description": "i",
       "index": 12,
       "layout": "IPY_MODEL_af88194248924ea69bdefb398c127b6b",
       "style": "IPY_MODEL_c18f01bbcf974fdf9e8a508933743b21"
      }
     },
     "eb661f99c38f4ae8a418276f91db7123": {
      "model_module": "jupyter-matplotlib",
      "model_module_version": "^0.9.0",
      "model_name": "MPLCanvasModel",
      "state": {
       "_cursor": "default",
       "_figure_label": "Figure 5",
       "_height": 700,
       "_image_mode": "diff",
       "_message": "x=7353. y=2.97",
       "_width": 1500,
       "layout": "IPY_MODEL_d4ca3efb338a40228473ef36e2d15853",
       "toolbar": "IPY_MODEL_8b7575f0a009494b917be811464839be",
       "toolbar_position": "left"
      }
     },
     "ebaad4644d5c454685ea7186ed06956e": {
      "model_module": "jupyter-matplotlib",
      "model_module_version": "^0.9.0",
      "model_name": "MPLCanvasModel",
      "state": {
       "_cursor": "default",
       "_figure_label": "Figure 3",
       "_height": 700,
       "_image_mode": "diff",
       "_width": 1500,
       "layout": "IPY_MODEL_380c04f632c84a28ba08818284bd8187",
       "toolbar": "IPY_MODEL_4e15095778ea4d29aaa2ba95ce879075",
       "toolbar_position": "left"
      }
     },
     "ee4c7057d14f4ba39e8ebc25f3096a2e": {
      "model_module": "@jupyter-widgets/base",
      "model_module_version": "1.2.0",
      "model_name": "LayoutModel",
      "state": {}
     },
     "f375a07756324de18b2e360a71f9581c": {
      "model_module": "@jupyter-widgets/base",
      "model_module_version": "1.2.0",
      "model_name": "LayoutModel",
      "state": {}
     },
     "f64b7b14e3d34d74a7652d8ad2baafe4": {
      "model_module": "@jupyter-widgets/controls",
      "model_module_version": "1.5.0",
      "model_name": "DescriptionStyleModel",
      "state": {
       "description_width": ""
      }
     },
     "f6a7023d8e87497cbcd52ef7369c9180": {
      "model_module": "@jupyter-widgets/base",
      "model_module_version": "1.2.0",
      "model_name": "LayoutModel",
      "state": {}
     },
     "f9c95e98d7654a38914c56b358950f7e": {
      "model_module": "@jupyter-widgets/controls",
      "model_module_version": "1.5.0",
      "model_name": "DropdownModel",
      "state": {
       "_options_labels": [
        "0",
        "1",
        "2",
        "3",
        "4",
        "5",
        "6",
        "7",
        "8",
        "9",
        "10",
        "11",
        "12",
        "13",
        "14",
        "15",
        "16",
        "17",
        "18",
        "19",
        "20",
        "21",
        "22",
        "23",
        "24",
        "25",
        "26",
        "27",
        "28",
        "29",
        "30",
        "31",
        "32",
        "33",
        "34",
        "35",
        "36",
        "37",
        "38",
        "39",
        "40",
        "41",
        "42",
        "43",
        "44",
        "45",
        "46",
        "47",
        "48",
        "49",
        "50",
        "51",
        "52",
        "53",
        "54",
        "55",
        "56",
        "57",
        "58",
        "59",
        "60",
        "61",
        "62",
        "63",
        "64",
        "65",
        "66",
        "67",
        "68",
        "69",
        "70",
        "71",
        "72",
        "73",
        "74",
        "75",
        "76",
        "77",
        "78",
        "79",
        "80",
        "81",
        "82",
        "83",
        "84",
        "85",
        "86",
        "87",
        "88",
        "89",
        "90",
        "91",
        "92",
        "93",
        "94",
        "95",
        "96",
        "97",
        "98",
        "99"
       ],
       "description": "k",
       "index": 40,
       "layout": "IPY_MODEL_ee4c7057d14f4ba39e8ebc25f3096a2e",
       "style": "IPY_MODEL_b95d8eb540554a96b1630b4495412d3f"
      }
     }
    },
    "version_major": 2,
    "version_minor": 0
   }
  }
 },
 "nbformat": 4,
 "nbformat_minor": 4
}
