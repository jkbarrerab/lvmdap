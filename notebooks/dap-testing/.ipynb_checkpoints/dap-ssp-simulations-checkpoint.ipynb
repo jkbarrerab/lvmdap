{
 "cells": [
  {
   "cell_type": "code",
   "execution_count": 1,
   "metadata": {},
   "outputs": [],
   "source": [
    "%matplotlib widget\n",
    "\n",
    "import os\n",
    "\n",
    "import numpy as np\n",
    "import pandas as pd\n",
    "from astropy.io import fits\n",
    "from tqdm import tqdm\n",
    "\n",
    "import ipywidgets as widgets\n",
    "import matplotlib.pyplot as plt\n",
    "from matplotlib.gridspec import GridSpec\n",
    "import seaborn as sns\n",
    "\n",
    "from lvmdap._cmdline import dap\n",
    "from lvmdap.analysis.plotting import plot_triang_pdfs\n",
    "\n",
    "from pyFIT3D.common.auto_ssp_tools import load_rss\n",
    "\n",
    "sns.set(context=\"talk\", style=\"ticks\", palette=\"colorblind\", color_codes=True, font_scale=1)\n",
    "\n",
    "import contextlib\n",
    "import sys\n",
    "\n",
    "\n",
    "# TAKEN FROM https://bit.ly/3fVZ36L\n",
    "class DummyFile(object):\n",
    "    def write(self, x): pass\n",
    "\n",
    "@contextlib.contextmanager\n",
    "def nostdout():\n",
    "    save_stdout = sys.stdout\n",
    "    sys.stdout = DummyFile()\n",
    "    yield\n",
    "    sys.stdout = save_stdout\n",
    "\n",
    "\n",
    "SIMULATION_PATH = \"../../_fitting-data/simulations/ssps\"\n",
    "OUTPUT_PATH = \"../../_fitting-data/outputs\"\n",
    "CONFIGS_PATH = \"_data/configs\""
   ]
  },
  {
   "cell_type": "code",
   "execution_count": 5,
   "metadata": {},
   "outputs": [],
   "source": [
    "STELLAR_BASIS = \"../../_fitting-data/_basis_mastar_v2/stellar-basis-spectra-100.fits.gz\"\n",
    "STELLAR_PARAMS = \"../../_fitting-data/_basis_mastar_v2/stellar-basis-params-100.fits.gz\"\n",
    "SIGMA_INST = np.sqrt((2.62/2.355)**2 - (2.5/2.355)**2)\n",
    "MASK_ELINES = \"../../_fitting-data/_configs/MaNGA/mask_elines.txt\"\n",
    "CONFIG = \"../../_fitting-data/_configs/auto_ssp_V500_several_Hb.config\"\n",
    "EMISSION_LINES = \"../../_fitting-data/_configs/MaNGA/emission_lines_long_list.MaNGA\"\n",
    "\n",
    "# MASK_ELINES = \"../../_fitting-data/_configs/mask_elines.txt\"\n",
    "# CONFIG = os.path.join(CONFIGS_PATH, \"autodetect.auto_ssp_several.config\")\n",
    "# EMISSION_LINES = os.path.join(CONFIGS_PATH, \"autodetect.emission_lines.txt\")"
   ]
  },
  {
   "cell_type": "code",
   "execution_count": 6,
   "metadata": {},
   "outputs": [],
   "source": [
    "from astropy.table import Table\n",
    "import itertools as it\n",
    "import scipy.optimize as so\n",
    "from scipy.interpolate import CloughTocher2DInterpolator\n",
    "\n",
    "from lvmdap.analysis.stats import weighted_pdf\n",
    "from lvmdap.analysis.plotting import contours_from_pdf\n",
    "\n",
    "\n",
    "# read templates\n",
    "stellar_basis = fits.open(STELLAR_BASIS)\n",
    "stellar_param = fits.open(STELLAR_PARAMS)\n",
    "\n",
    "basis_params = Table(stellar_basis[1].data).to_pandas()\n",
    "\n",
    "npars = len(stellar_param)-1\n",
    "colormesh, contours, margin_pdf = [], [], []\n",
    "for k in range(basis_params.index.size):\n",
    "    coeffs = np.zeros(len(basis_params))\n",
    "    coeffs[k] = 1.0\n",
    "    margins, wPDFs, Xs, Ys = {}, {}, {}, {}\n",
    "    for ihdu, (i,j) in zip(range(1,npars+1), it.combinations(range(npars),2)):\n",
    "        wPDF, x_scale, y_scale = weighted_pdf(stellar_param, ihdu, coeffs=coeffs)\n",
    "\n",
    "        if i not in margins:\n",
    "            mPDF = (wPDF*stellar_param[ihdu].header[\"CDELT2\"]).sum(axis=0)\n",
    "            margins[i] = (x_scale, mPDF)\n",
    "        if j not in margins:\n",
    "            mPDF = (wPDF*stellar_param[ihdu].header[\"CDELT1\"]).sum(axis=1)\n",
    "            margins[j] = (y_scale, mPDF)\n",
    "        \n",
    "        wPDFs[ihdu] = wPDF\n",
    "        Xs[ihdu], Ys[ihdu] = np.meshgrid(x_scale, y_scale)\n",
    "\n",
    "#         wPDF_func = CloughTocher2DInterpolator(np.column_stack((X.flatten(),Y.flatten())), wPDF.flatten())\n",
    "#         levels, X_, Y_, PDF_ = contours_from_pdf(\n",
    "#             lambda x, y: wPDF_func(np.column_stack((x,y))),\n",
    "#             range_x=x_scale[[0,-1]],\n",
    "#             range_y=y_scale[[0,-1]],\n",
    "#             deltas=0.05, return_grid=True\n",
    "#         )\n",
    "    colormesh.append((Xs, Ys, wPDFs))\n",
    "#     contours.append((X_, Y_, PDF_, levels))\n",
    "    margin_pdf.append(margins)"
   ]
  },
  {
   "cell_type": "code",
   "execution_count": 7,
   "metadata": {},
   "outputs": [
    {
     "name": "stderr",
     "output_type": "stream",
     "text": [
      "fitting spectra:   0%|                                                                                                                                          | 0/84 [00:00<?, ?SED/s]"
     ]
    },
    {
     "name": "stdout",
     "output_type": "stream",
     "text": [
      "-- List crossmatch currently under develpment.\n"
     ]
    },
    {
     "name": "stderr",
     "output_type": "stream",
     "text": [
      "\n"
     ]
    },
    {
     "ename": "FileNotFoundError",
     "evalue": "[Errno 2] No such file or directory: '_fitting-data/_configs/MaNGA/emission_lines_long_list.MaNGA'",
     "output_type": "error",
     "traceback": [
      "\u001b[1;31m---------------------------------------------------------------------------\u001b[0m",
      "\u001b[1;31mFileNotFoundError\u001b[0m                         Traceback (most recent call last)",
      "\u001b[1;32m~/.local/tmp/ipykernel_344776/2405830004.py\u001b[0m in \u001b[0;36m<module>\u001b[1;34m\u001b[0m\n\u001b[0;32m     10\u001b[0m     \u001b[0mcmdline\u001b[0m \u001b[1;33m=\u001b[0m \u001b[1;34mf\"{target_sed} {STELLAR_BASIS} {SIGMA_INST} {label} {MASK_ELINES} --emission-lines-file {EMISSION_LINES} --w-range 3600 10000 --w-range-nl 3600 4700 --redshift 0 0 0 0 --sigma 0 0 0 0 --AV 0 0 0 0 -o {OUTPUT_PATH} -c\"\u001b[0m\u001b[1;33m.\u001b[0m\u001b[0msplit\u001b[0m\u001b[1;33m(\u001b[0m\u001b[1;33m)\u001b[0m\u001b[1;33m\u001b[0m\u001b[1;33m\u001b[0m\u001b[0m\n\u001b[0;32m     11\u001b[0m \u001b[1;31m#     with nostdout():\u001b[0m\u001b[1;33m\u001b[0m\u001b[1;33m\u001b[0m\u001b[1;33m\u001b[0m\u001b[0m\n\u001b[1;32m---> 12\u001b[1;33m     \u001b[0mdap\u001b[0m\u001b[1;33m.\u001b[0m\u001b[0m_main\u001b[0m\u001b[1;33m(\u001b[0m\u001b[0mcmdline\u001b[0m\u001b[1;33m)\u001b[0m\u001b[1;33m\u001b[0m\u001b[1;33m\u001b[0m\u001b[0m\n\u001b[0m\u001b[0;32m     13\u001b[0m     \u001b[1;32mbreak\u001b[0m\u001b[1;33m\u001b[0m\u001b[1;33m\u001b[0m\u001b[0m\n",
      "\u001b[1;32m/disk-a/mejia/Research/UNAM/lvm-dap/lvmdap/_cmdline/dap.py\u001b[0m in \u001b[0;36m_main\u001b[1;34m(cmd_args)\u001b[0m\n\u001b[0;32m    240\u001b[0m \u001b[1;33m\u001b[0m\u001b[0m\n\u001b[0;32m    241\u001b[0m     \u001b[1;31m# FITTING --------------------------------------------------------------------------------------\u001b[0m\u001b[1;33m\u001b[0m\u001b[1;33m\u001b[0m\u001b[1;33m\u001b[0m\u001b[0m\n\u001b[1;32m--> 242\u001b[1;33m     cf, SPS = auto_rsp_elines_rnd(\n\u001b[0m\u001b[0;32m    243\u001b[0m         \u001b[0mspec_file\u001b[0m\u001b[1;33m=\u001b[0m\u001b[0margs\u001b[0m\u001b[1;33m.\u001b[0m\u001b[0mspec_file\u001b[0m\u001b[1;33m,\u001b[0m \u001b[0mssp_file\u001b[0m\u001b[1;33m=\u001b[0m\u001b[0margs\u001b[0m\u001b[1;33m.\u001b[0m\u001b[0mrsp_file\u001b[0m\u001b[1;33m,\u001b[0m \u001b[0mssp_nl_fit_file\u001b[0m\u001b[1;33m=\u001b[0m\u001b[0margs\u001b[0m\u001b[1;33m.\u001b[0m\u001b[0mrsp_nl_file\u001b[0m\u001b[1;33m,\u001b[0m\u001b[1;33m\u001b[0m\u001b[1;33m\u001b[0m\u001b[0m\n\u001b[0;32m    244\u001b[0m         \u001b[0mconfig_file\u001b[0m\u001b[1;33m=\u001b[0m\u001b[0margs\u001b[0m\u001b[1;33m.\u001b[0m\u001b[0mconfig_file\u001b[0m\u001b[1;33m,\u001b[0m\u001b[1;33m\u001b[0m\u001b[1;33m\u001b[0m\u001b[0m\n",
      "\u001b[1;32m/disk-a/mejia/Research/UNAM/lvm-dap/lvmdap/_cmdline/dap.py\u001b[0m in \u001b[0;36mauto_rsp_elines_rnd\u001b[1;34m(spec_file, ssp_file, out_file, config_file, plot, error_file, ssp_nl_fit_file, sigma_inst, mask_list, min, max, w_min, w_max, nl_w_min, nl_w_max, elines_mask_file, input_redshift, delta_redshift, min_redshift, max_redshift, input_sigma, delta_sigma, min_sigma, max_sigma, input_AV, delta_AV, min_AV, max_AV, seed, ratio, fit_sigma_rnd, out_path)\u001b[0m\n\u001b[0;32m     58\u001b[0m     \u001b[1;32mif\u001b[0m \u001b[0mconfig_file\u001b[0m \u001b[1;32mis\u001b[0m \u001b[1;32mNone\u001b[0m\u001b[1;33m:\u001b[0m\u001b[1;33m\u001b[0m\u001b[1;33m\u001b[0m\u001b[0m\n\u001b[0;32m     59\u001b[0m         \u001b[1;32mif\u001b[0m \u001b[0mout_path\u001b[0m \u001b[1;32mis\u001b[0m \u001b[1;32mNone\u001b[0m\u001b[1;33m:\u001b[0m \u001b[0mout_path\u001b[0m \u001b[1;33m=\u001b[0m \u001b[1;34m\".\"\u001b[0m\u001b[1;33m\u001b[0m\u001b[1;33m\u001b[0m\u001b[0m\n\u001b[1;32m---> 60\u001b[1;33m         config_filenames, wl_chunks, wave_peaks_tot, wave_peaks_tot_corr = detect_create_ConfigEmissionModel(\n\u001b[0m\u001b[0;32m     61\u001b[0m             \u001b[0mwl__w\u001b[0m\u001b[1;33m,\u001b[0m \u001b[0mf__w\u001b[0m\u001b[1;33m,\u001b[0m\u001b[1;33m\u001b[0m\u001b[1;33m\u001b[0m\u001b[0m\n\u001b[0;32m     62\u001b[0m             \u001b[0mredshift\u001b[0m\u001b[1;33m=\u001b[0m\u001b[0minput_redshift\u001b[0m\u001b[1;33m,\u001b[0m\u001b[1;33m\u001b[0m\u001b[1;33m\u001b[0m\u001b[0m\n",
      "\u001b[1;32m/disk-a/mejia/Research/UNAM/lvm-dap/lib/pyFIT3D/pyFIT3D/common/gas_tools.py\u001b[0m in \u001b[0;36mdetect_create_ConfigEmissionModel\u001b[1;34m(wave, flux, sigma_guess, redshift, chunks, flux_boundaries_fact, sigma_boundaries_fact, v0_boundaries_add, polynomial_order, polynomial_coeff_guess, polynomial_coeff_boundaries, peak_find_nsearch, peak_find_threshold, peak_find_dmin, plot, output_path, crossmatch_list_filename, crossmatch_absdmax_AA, crossmatch_redshift_search_boundaries, crossmatch_redshift_search_step, sort_by_flux, verbose)\u001b[0m\n\u001b[0;32m    884\u001b[0m                 \u001b[0mprint_verbose\u001b[0m\u001b[1;33m(\u001b[0m\u001b[1;34mf'-- List crossmatch: best redshift for the emission lines: {best_redshift}'\u001b[0m\u001b[1;33m,\u001b[0m \u001b[0mverbose\u001b[0m\u001b[1;33m=\u001b[0m\u001b[1;32mTrue\u001b[0m\u001b[1;33m)\u001b[0m\u001b[1;33m\u001b[0m\u001b[1;33m\u001b[0m\u001b[0m\n\u001b[0;32m    885\u001b[0m                 \u001b[0mredshift\u001b[0m \u001b[1;33m=\u001b[0m \u001b[0mbest_redshift\u001b[0m\u001b[1;33m\u001b[0m\u001b[1;33m\u001b[0m\u001b[0m\n\u001b[1;32m--> 886\u001b[1;33m             r = list_eml_compare(wave_hyperbolicfit_peaks, crossmatch_list_filename,\n\u001b[0m\u001b[0;32m    887\u001b[0m                                  \u001b[0mredshift\u001b[0m\u001b[1;33m=\u001b[0m\u001b[0mredshift\u001b[0m\u001b[1;33m,\u001b[0m \u001b[0mabs_max_dist_AA\u001b[0m\u001b[1;33m=\u001b[0m\u001b[0mcrossmatch_absdmax_AA\u001b[0m\u001b[1;33m,\u001b[0m\u001b[1;33m\u001b[0m\u001b[1;33m\u001b[0m\u001b[0m\n\u001b[0;32m    888\u001b[0m                                  verbose=verbose)\n",
      "\u001b[1;32m/disk-a/mejia/Research/UNAM/lvm-dap/lib/pyFIT3D/pyFIT3D/common/tools.py\u001b[0m in \u001b[0;36mlist_eml_compare\u001b[1;34m(wave_list, filename_list_ref, redshift, abs_max_dist_AA, plot, verbose)\u001b[0m\n\u001b[0;32m   3136\u001b[0m     \u001b[0mname_eml\u001b[0m \u001b[1;33m=\u001b[0m \u001b[0mnp\u001b[0m\u001b[1;33m.\u001b[0m\u001b[0marray\u001b[0m\u001b[1;33m(\u001b[0m\u001b[1;33m[\u001b[0m\u001b[1;33m]\u001b[0m\u001b[1;33m)\u001b[0m\u001b[1;33m\u001b[0m\u001b[1;33m\u001b[0m\u001b[0m\n\u001b[0;32m   3137\u001b[0m     \u001b[0mne\u001b[0m \u001b[1;33m=\u001b[0m \u001b[1;36m0\u001b[0m\u001b[1;33m\u001b[0m\u001b[1;33m\u001b[0m\u001b[0m\n\u001b[1;32m-> 3138\u001b[1;33m     \u001b[1;32mwith\u001b[0m \u001b[0mopen\u001b[0m\u001b[1;33m(\u001b[0m\u001b[0mfilename_list_ref\u001b[0m\u001b[1;33m)\u001b[0m \u001b[1;32mas\u001b[0m \u001b[0mfp\u001b[0m\u001b[1;33m:\u001b[0m\u001b[1;33m\u001b[0m\u001b[1;33m\u001b[0m\u001b[0m\n\u001b[0m\u001b[0;32m   3139\u001b[0m         \u001b[0mline\u001b[0m \u001b[1;33m=\u001b[0m \u001b[0mfp\u001b[0m\u001b[1;33m.\u001b[0m\u001b[0mreadline\u001b[0m\u001b[1;33m(\u001b[0m\u001b[1;33m)\u001b[0m\u001b[1;33m\u001b[0m\u001b[1;33m\u001b[0m\u001b[0m\n\u001b[0;32m   3140\u001b[0m         \u001b[1;32mwhile\u001b[0m \u001b[0mline\u001b[0m\u001b[1;33m:\u001b[0m\u001b[1;33m\u001b[0m\u001b[1;33m\u001b[0m\u001b[0m\n",
      "\u001b[1;31mFileNotFoundError\u001b[0m: [Errno 2] No such file or directory: '_fitting-data/_configs/MaNGA/emission_lines_long_list.MaNGA'"
     ]
    }
   ],
   "source": [
    "# read input simulated properties\n",
    "input_params = pd.read_csv(os.path.join(SIMULATION_PATH, \"fsps-true-params.csv\"))\n",
    "input_params[\"zlabels\"] = input_params.metallicity.apply(lambda met: \"{:.5f}\".format(met).replace(\".\",\"p\"))\n",
    "input_params[\"tlabels\"] = input_params.age.apply(lambda age: \"{:.5f}gyr\".format(age/1e9).replace(\".\",\"p\"))\n",
    "input_params[\"labels\"] = input_params.zlabels + \"_\" + input_params.tlabels\n",
    "\n",
    "# fit the simulated spectra\n",
    "for name, label in tqdm(zip(input_params.name, input_params.labels), total=input_params.name.size, desc=\"fitting spectra\", ascii=True, unit=\"SED\"):\n",
    "    target_sed = os.path.join(SIMULATION_PATH, name)\n",
    "    cmdline = f\"{target_sed} {STELLAR_BASIS} {SIGMA_INST} {label} {MASK_ELINES} --emission-lines-file {EMISSION_LINES} --w-range 3600 10000 --w-range-nl 3600 4700 --redshift 0 0 0 0 --sigma 0 0 0 0 --AV 0 0 0 0 -o {OUTPUT_PATH} -c\".split()\n",
    "#     with nostdout():\n",
    "    dap._main(cmdline)\n",
    "    break"
   ]
  },
  {
   "cell_type": "code",
   "execution_count": 5,
   "metadata": {},
   "outputs": [],
   "source": [
    "# read input simulated fluxes\n",
    "for (tracks, library, zlabel), index in input_params.groupby([\"tracks\", \"library\", \"zlabels\"]).groups.items():\n",
    "    el_wavelength, el_spectra, _ = load_rss(f\"{SIMULATION_PATH}/fsps-ssp-{tracks}-{library}-{zlabel}-elluminosity.fits.gz\")\n",
    "    wavelength, stellar_spectra, _ = load_rss(f\"{SIMULATION_PATH}/fsps-ssp-{tracks}-{library}-{zlabel}-stellar.fits.gz\")\n",
    "    wavelength, neb_emission_spectra, _ = load_rss(f\"{SIMULATION_PATH}/fsps-ssp-{tracks}-{library}-{zlabel}-emission.fits.gz\")\n",
    "    wavelength, neb_continuum_spectra, _ = load_rss(f\"{SIMULATION_PATH}/fsps-ssp-{tracks}-{library}-{zlabel}-continuum.fits.gz\")\n",
    "    wavelength, clean_spectra, _ = load_rss(f\"{SIMULATION_PATH}/fsps-ssp-{tracks}-{library}-{zlabel}-clean.fits.gz\")\n",
    "    wavelength, noisy_spectra, _ = load_rss(f\"{SIMULATION_PATH}/fsps-ssp-{tracks}-{library}-{zlabel}-noisy.fits.gz\")\n",
    "    wavelength, error_spectra, _ = load_rss(f\"{SIMULATION_PATH}/fsps-ssp-{tracks}-{library}-{zlabel}-error.fits.gz\")\n",
    "\n",
    "    # read output fluxes\n",
    "    wavelengths = []\n",
    "    obs_joint_spectra, mod_stellar_spectra, mod_joint_spectra, obs_gas_spectra, residual_joint_spectra, obs_stellar_spectra = [], [], [], [], [], []\n",
    "    fitting_colormesh, fitting_contours, fitting_margin_pdf = [], [], []\n",
    "    for m in index:\n",
    "        label = input_params.labels.loc[m]\n",
    "        fitting = pd.read_csv(f\"{OUTPUT_PATH}/coeffs_{label}\", sep=\"\\t\", skiprows=1, index_col=\"ID\", names=\"ID\tTEFF\tLOGG\tMETA\tCOEFF\tMinCoeff\tlogML\tAV\tNCoeff\tErrs\".split())\n",
    "        models = fits.open(f\"{OUTPUT_PATH}/output.{label}.fits.gz\")\n",
    "\n",
    "        wavelengths.append(np.array([models[0].header[\"CRVAL1\"] + (i*models[0].header[\"CDELT1\"]) for i in range(models[0].header[\"NAXIS1\"])]))\n",
    "        obs_joint_spectra.append(models[0].data[0])\n",
    "        mod_stellar_spectra.append(models[0].data[1])\n",
    "        mod_joint_spectra.append(models[0].data[2])\n",
    "        obs_gas_spectra.append(models[0].data[3])\n",
    "        residual_joint_spectra.append(models[0].data[4])\n",
    "        obs_stellar_spectra.append(models[0].data[5])\n",
    "                \n",
    "        margins, wPDFs, Xs, Ys = {}, {}, {}, {}\n",
    "        for ihdu, (i,j) in zip(range(1,npars+1), it.combinations(range(npars),2)):\n",
    "            wPDF, x_scale, y_scale = weighted_pdf(stellar_param, ihdu, coeffs=fitting.COEFF.values)\n",
    "\n",
    "            if i not in margins:\n",
    "                mPDF = (wPDF*stellar_param[ihdu].header[\"CDELT2\"]).sum(axis=0)\n",
    "                margins[i] = (x_scale, mPDF)\n",
    "            if j not in margins:\n",
    "                mPDF = (wPDF*stellar_param[ihdu].header[\"CDELT1\"]).sum(axis=1)\n",
    "                margins[j] = (y_scale, mPDF)\n",
    "\n",
    "            wPDFs[ihdu] = wPDF\n",
    "            Xs[ihdu], Ys[ihdu] = np.meshgrid(x_scale, y_scale)\n",
    "\n",
    "        fitting_colormesh.append((Xs, Ys, wPDFs))\n",
    "        fitting_margin_pdf.append(margins)\n",
    "    \n",
    "    wavelengths = np.array(wavelengths)\n",
    "    obs_joint_spectra = np.array(obs_joint_spectra)\n",
    "    mod_stellar_spectra = np.array(mod_stellar_spectra)\n",
    "    mod_joint_spectra = np.array(mod_joint_spectra)\n",
    "    obs_gas_spectra = np.array(obs_gas_spectra)\n",
    "    residual_joint_spectra = np.array(residual_joint_spectra)\n",
    "    obs_stellar_spectra = np.array(obs_stellar_spectra)"
   ]
  },
  {
   "cell_type": "code",
   "execution_count": 12,
   "metadata": {},
   "outputs": [
    {
     "data": {
      "application/vnd.jupyter.widget-view+json": {
       "model_id": "dd98d1ad36364f58867ba2c6669b425e",
       "version_major": 2,
       "version_minor": 0
      },
      "text/plain": [
       "Canvas(toolbar=Toolbar(toolitems=[('Home', 'Reset original view', 'home', 'home'), ('Back', 'Back to previous …"
      ]
     },
     "metadata": {},
     "output_type": "display_data"
    },
    {
     "data": {
      "application/vnd.jupyter.widget-view+json": {
       "model_id": "83228385b1584d4895f5d84bd10c7124",
       "version_major": 2,
       "version_minor": 0
      },
      "text/plain": [
       "interactive(children=(Dropdown(description='k', index=40, options=(0, 1, 2, 3, 4, 5, 6, 7, 8, 9, 10, 11, 12, 1…"
      ]
     },
     "metadata": {},
     "output_type": "display_data"
    }
   ],
   "source": [
    "basis_wavelength = np.array([stellar_basis[0].header[\"CRVAL1\"] + (i*stellar_basis[0].header[\"CDELT1\"]) for i in range(stellar_basis[0].header[\"NAXIS1\"])])\n",
    "basis_spectra = stellar_basis[0].data\n",
    "\n",
    "labels = {\"TEFF\":r\"$\\log{T_\\text{eff}}$\", \"LOGG\":r\"$\\log{g}$\", \"MET\":r\"$[\\text{Fe}/\\text{H}]$\", \"ALPHAM\":r\"$[\\alpha/\\text{Fe}]$\"}\n",
    "npars = len(labels)\n",
    "nproj = len(stellar_param) - 1\n",
    "cmap = \"binary_r\"\n",
    "\n",
    "# plt.close(fig=\"all\")\n",
    "fig = plt.figure(constrained_layout=True, figsize=(15,7))\n",
    "\n",
    "n = 10\n",
    "gs = GridSpec(npars, n, figure=fig)\n",
    "ax0 = fig.add_subplot(gs[:, :n-npars])\n",
    "ax0.set_yscale(\"log\")\n",
    "axs = []\n",
    "for i in range(npars):\n",
    "    axs.append([fig.add_subplot(gs[i, j+(n-npars)], sharex=(axs[i-1][j] if i!=0 else None)) for j in range(npars)])\n",
    "axs = np.array(axs)\n",
    "for i,j in zip(*np.triu_indices_from(axs, k=1)):\n",
    "        axs[i,j].set_visible(False)\n",
    "\n",
    "lines = []\n",
    "for k in range(basis_params.index.size):\n",
    "    lines += ax0.plot(basis_wavelength, basis_spectra[k], \"-\", color=\"0.8\", lw=1.5)\n",
    "\n",
    "colors_teff = sns.color_palette(\"rainbow_r\", n_colors=basis_params.index.size)\n",
    "colors_teff = np.array(colors_teff)[basis_params.sort_values(\"TEFF\").index]\n",
    "\n",
    "@widgets.interact(k=basis_params.index)\n",
    "def update_basis(k=basis_params.index[40]):\n",
    "    [ax.clear() for ax in axs.ravel()]\n",
    "    plt.setp(lines, color=\"0.8\", zorder=0)\n",
    "    lines[k].set_color(colors_teff[k])\n",
    "    lines[k].set_zorder(1)\n",
    "    \n",
    "    Xs, Ys, wPDFs = colormesh[k]\n",
    "#     X_, Y_, PDF_, levels = contours[k]\n",
    "    margins = margin_pdf[k]\n",
    "    \n",
    "    colors = []\n",
    "    for ihdu, (i,j) in zip(range(1,nproj+1), it.combinations(range(npars),2)):\n",
    "        X, Y, wPDF = Xs[ihdu], Ys[ihdu], wPDFs[ihdu]\n",
    "        \n",
    "        x_name = stellar_param[ihdu].header[\"CTYPE1\"]\n",
    "        y_name = stellar_param[ihdu].header[\"CTYPE2\"]\n",
    "\n",
    "        colors.append(sns.color_palette(cmap)[0])\n",
    "\n",
    "        pcm = axs[j,i].pcolormesh(X, Y, wPDF, cmap=cmap, shading=\"auto\")\n",
    "#         axs[j,i].contour(X_, Y_, PDF_, levels=levels, colors=\"w\", linewidths=1)\n",
    "\n",
    "        mask_x = np.any(~np.isclose(wPDF, 0, rtol=0.05), axis=0)\n",
    "        mask_y = np.any(~np.isclose(wPDF, 0, rtol=0.05), axis=1)\n",
    "        axs[j,i].set_xlim(X.min(), X.max())\n",
    "        axs[j,i].set_ylim(Y.min(), Y.max())\n",
    "        if axs[j,i].get_subplotspec().is_last_row():\n",
    "            axs[j,i].set_xlabel(labels[x_name])\n",
    "        if i == 0:\n",
    "            axs[j,i].set_ylabel(labels[y_name])\n",
    "        else:\n",
    "            axs[j,i].tick_params(labelleft=False)\n",
    "\n",
    "    for i in range(npars):\n",
    "        x, pdf = margins[i]\n",
    "        axs[i,i].plot(x, pdf/pdf.max(), \"-\", color=colors[i])\n",
    "        axs[i,i].tick_params(left=False, labelleft=False)\n",
    "        sns.despine(ax=axs[i,i], left=True)\n",
    "\n",
    "# update_basis(90)\n",
    "# fig.savefig(\"stellar-templates.png\", bbox_inches=\"tight\")"
   ]
  },
  {
   "cell_type": "code",
   "execution_count": 9,
   "metadata": {},
   "outputs": [
    {
     "data": {
      "application/vnd.jupyter.widget-view+json": {
       "model_id": "030a4f9c95e14c3d9501c345e96769c4",
       "version_major": 2,
       "version_minor": 0
      },
      "text/plain": [
       "Canvas(toolbar=Toolbar(toolitems=[('Home', 'Reset original view', 'home', 'home'), ('Back', 'Back to previous …"
      ]
     },
     "metadata": {},
     "output_type": "display_data"
    }
   ],
   "source": [
    "elines = {4101.0: r\"$\\text{H}\\delta$\", 4340.468: r\"$\\text{H}\\gamma$\", 4861.32: r\"$\\text{H}\\beta$\", 4958.91: r\"$[\\text{O}\\textsc{iii}]\\lambda4959$\",\n",
    "          5006.84: r\"$[\\text{O}\\textsc{iii}]\\lambda5007$\", 6562.817: r\"$\\text{H}\\alpha$\",\n",
    "          6583.6: r\"$[\\text{N}\\textsc{ii}]\\lambda6584$\", 6716.47: r\"$[\\text{S}\\textsc{ii}]\\lambda6717$\", 6730.85: r\"$[\\text{S}\\textsc{ii}]\\lambda6731$\"}\n",
    "\n",
    "# plt.close(fig=\"all\")\n",
    "fig = plt.figure(constrained_layout=True, figsize=(15,7))\n",
    "\n",
    "gs = GridSpec(2, 5, figure=fig)\n",
    "ax1 = fig.add_subplot(gs[0, :-1])\n",
    "ax2 = fig.add_subplot(gs[1, :-1], sharex=ax1)\n",
    "axins1 = fig.add_subplot(gs[0, -1:])\n",
    "axins2 = fig.add_subplot(gs[1, -1:], sharex=axins1)\n",
    "\n",
    "ax1.tick_params(labelleft=True, labelbottom=False)\n",
    "axins1.tick_params(labelleft=True, labelbottom=False)\n",
    "axins2.tick_params(labelleft=True, labelbottom=True)\n",
    "\n",
    "wmin, wmax, wstep = 3600, 7500, 1.0\n",
    "ax1.set_xlim(wmin,wmax)\n",
    "\n",
    "# @widgets.interact(i=range(input_params.age.drop_duplicates().size), line_wl=dict(zip(elines.values(), elines.keys())), line_width=(20, 50, wstep), kwargs=dict(continuous_update=False))\n",
    "def update_spectra(i=12, line_wl=6562.817, line_width=30):\n",
    "    ax1.clear()\n",
    "    ax2.clear()\n",
    "    axins1.clear()\n",
    "    axins2.clear()\n",
    "\n",
    "    wl = wavelengths[i]\n",
    "    fl_o = obs_joint_spectra[i]\n",
    "    fl_m = mod_stellar_spectra[i]\n",
    "    fl_j = mod_joint_spectra[i]\n",
    "    fl_g = obs_gas_spectra[i]\n",
    "    fl_r = residual_joint_spectra[i]\n",
    "    fl_n = obs_stellar_spectra[i]\n",
    "\n",
    "    mask_a1 = (wmin<=wl)&(wl<=wmax)\n",
    "    ax1.set_title(r\"$\\mathrm{Age}=%.4f\\,$Gyr\"%(input_params.age.drop_duplicates().values[i]/1e9))\n",
    "    ax1.plot(wl[mask_a1], fl_o[mask_a1], \"-\", color=\"0.7\", lw=2)\n",
    "    ax1.plot(wl[mask_a1], fl_j[mask_a1], \"-\", color=\"tab:purple\", lw=1.5)\n",
    "    ax1.axvspan(line_wl-line_width, line_wl+line_width, fc=\"0.9\", lw=0)\n",
    "    ax1.set_ylim(0,5)\n",
    "    ax1.set_ylabel(r\"$F_\\lambda/F_{5500}$\")\n",
    "    ax2.plot(wl[mask_a1], (fl_n)[mask_a1], \"-\", color=\"0.7\", lw=2)\n",
    "    ax2.plot(wl[mask_a1], (fl_m)[mask_a1], \"-\", color=\"tab:red\", lw=1.5)\n",
    "    ax2.axvspan(line_wl-line_width, line_wl+line_width, fc=\"0.9\", lw=0)\n",
    "    ax2.set_ylim(0,4)\n",
    "    ax2.set_xlabel(r\"$\\lambda\\,$[\\AA]\")\n",
    "    ax2.set_ylabel(r\"$F_\\lambda/F_{5500}$\")\n",
    "\n",
    "    _, ymax = ax1.get_ylim()\n",
    "    for ewl in elines:\n",
    "        ax1.axvline(ewl, ls=\"--\", lw=1, color=\"0.2\")\n",
    "        ax2.axvline(ewl, ls=\"--\", lw=1, color=\"0.2\")\n",
    "        if ewl in [5006.84, 6583.6, 6730.85]:\n",
    "            ax1.text(ewl+17, ymax-ymax*0.05, elines[ewl], ha=\"left\", va=\"top\", fontsize=\"xx-small\", rotation=90, color=\"0.2\")\n",
    "        else:\n",
    "            ax1.text(ewl-8, ymax-ymax*0.05, elines[ewl], ha=\"right\", va=\"top\", fontsize=\"xx-small\", rotation=90, color=\"0.2\")\n",
    "\n",
    "    \n",
    "    axins1.set_xlim(line_wl-line_width, line_wl+line_width)\n",
    "    mask_ai1 = (line_wl-line_width<=wl)&(wl<=line_wl+line_width)\n",
    "    axins1.plot(wl[mask_ai1], fl_o[mask_ai1], \"-\", color=\"0.7\", lw=2)\n",
    "    axins1.plot(wl[mask_ai1], fl_j[mask_ai1], \"-\", color=\"tab:purple\", lw=1.5)\n",
    "    axins2.plot(wl[mask_ai1], fl_n[mask_ai1], \"-\", color=\"0.7\", lw=2)\n",
    "    axins2.plot(wl[mask_ai1], fl_m[mask_ai1], \"-\", color=\"tab:red\", lw=1.5)\n",
    "\n",
    "update_spectra()\n",
    "# fig.savefig(\"fitting-example.png\", bbox_inches=\"tight\")"
   ]
  },
  {
   "cell_type": "code",
   "execution_count": 10,
   "metadata": {},
   "outputs": [
    {
     "data": {
      "application/vnd.jupyter.widget-view+json": {
       "model_id": "0cf779c02a064b97a54f4799fad6b8ec",
       "version_major": 2,
       "version_minor": 0
      },
      "text/plain": [
       "Canvas(toolbar=Toolbar(toolitems=[('Home', 'Reset original view', 'home', 'home'), ('Back', 'Back to previous …"
      ]
     },
     "metadata": {},
     "output_type": "display_data"
    },
    {
     "data": {
      "application/vnd.jupyter.widget-view+json": {
       "model_id": "0e1213db77c14c34b6ed2d25e5e77d44",
       "version_major": 2,
       "version_minor": 0
      },
      "text/plain": [
       "interactive(children=(Dropdown(description='i', index=32, options=(0, 1, 2, 3, 4, 5, 6, 7, 8, 9, 10, 11, 12, 1…"
      ]
     },
     "metadata": {},
     "output_type": "display_data"
    }
   ],
   "source": [
    "basis_wavelength = np.array([stellar_basis[0].header[\"CRVAL1\"] + (i*stellar_basis[0].header[\"CDELT1\"]) for i in range(stellar_basis[0].header[\"NAXIS1\"])])\n",
    "basis_spectra = stellar_basis[0].data\n",
    "\n",
    "# labels = {\"TEFF\":r\"$\\log{T_\\text{eff}}$\", \"LOGG\":r\"$\\log{g}$\", \"MET\":r\"$[\\text{Fe}/\\text{H}]$\"}\n",
    "# npars = len(stellar_param)-1\n",
    "cmap = \"binary_r\"\n",
    "\n",
    "# plt.close(fig=\"all\")\n",
    "fig = plt.figure(constrained_layout=True, figsize=(15,7))\n",
    "\n",
    "n = 10\n",
    "gs = GridSpec(npars, n, figure=fig)\n",
    "ax0 = fig.add_subplot(gs[:, :n-npars])\n",
    "ax0.set_yscale(\"log\")\n",
    "axs = []\n",
    "for i in range(npars):\n",
    "    axs.append([fig.add_subplot(gs[i, j+(n-npars)], sharex=(axs[i-1][j] if i!=0 else None)) for j in range(npars)])\n",
    "axs = np.array(axs)\n",
    "for i,j in zip(*np.triu_indices_from(axs, k=1)):\n",
    "        axs[i,j].set_visible(False)\n",
    "\n",
    "lines = []\n",
    "for k in range(basis_params.index.size):\n",
    "    lines += ax0.plot(basis_wavelength, basis_spectra[k], \"-\", color=\"0.9\", lw=1.5)\n",
    "\n",
    "colors_teff = sns.color_palette(\"rainbow_r\", n_colors=basis_params.index.size)\n",
    "colors_teff = np.array(colors_teff)[basis_params.sort_values(\"TEFF\").index]\n",
    "\n",
    "@widgets.interact(i=range(input_params.age.drop_duplicates().size))\n",
    "def update_simulation(i=32):\n",
    "    wl = wavelengths[i]\n",
    "    fl_o = obs_joint_spectra[i]\n",
    "    fl_m = mod_stellar_spectra[i]\n",
    "    fl_j = mod_joint_spectra[i]\n",
    "    fl_g = obs_gas_spectra[i]\n",
    "    fl_r = residual_joint_spectra[i]\n",
    "    fl_n = obs_stellar_spectra[i]\n",
    "    \n",
    "    [ax.clear() for ax in axs.ravel()]\n",
    "    ax0.clear()\n",
    "    lines = []\n",
    "    for k in range(basis_params.index.size):\n",
    "        lines += ax0.plot(basis_wavelength, basis_spectra[k], \"-\", color=\"0.9\", lw=1.5)\n",
    "    \n",
    "    mask_a1 = (wmin<=wl)&(wl<=wmax)\n",
    "    ax0.set_title(r\"$\\mathrm{Age}=%.4f\\,$Gyr\"%(input_params.age.drop_duplicates().values[i]/1e9))\n",
    "    ax0.plot(wl[mask_a1], (fl_n)[mask_a1], \"-\", color=\"0.7\", lw=2)\n",
    "    ax0.plot(wl[mask_a1], (fl_m)[mask_a1], \"-\", color=\"tab:red\", lw=1.5)\n",
    "    ax0.set_ylim(0,6)\n",
    "    ax0.set_xlabel(r\"$\\lambda\\,$[\\AA]\")\n",
    "    ax0.set_ylabel(r\"$F_\\lambda/F_{5500}$\")\n",
    "    \n",
    "    Xs, Ys, wPDFs = fitting_colormesh[i]\n",
    "    margins = fitting_margin_pdf[i]\n",
    "    \n",
    "    colors = []\n",
    "    for ihdu, (i,j) in zip(range(1,nproj+1), it.combinations(range(npars),2)):\n",
    "        X, Y, wPDF = Xs[ihdu], Ys[ihdu], wPDFs[ihdu]\n",
    "        \n",
    "        x_name = stellar_param[ihdu].header[\"CTYPE1\"]\n",
    "        y_name = stellar_param[ihdu].header[\"CTYPE2\"]\n",
    "\n",
    "        colors.append(sns.color_palette(cmap)[0])\n",
    "\n",
    "        pcm = axs[j,i].pcolormesh(X, Y, wPDF, cmap=cmap, shading=\"auto\")\n",
    "\n",
    "        mask_x = np.any(~np.isclose(wPDF, 0, rtol=0.05), axis=0)\n",
    "        mask_y = np.any(~np.isclose(wPDF, 0, rtol=0.05), axis=1)\n",
    "        axs[j,i].set_xlim(X.min(), X.max())\n",
    "        axs[j,i].set_ylim(Y.min(), Y.max())\n",
    "        if axs[j,i].is_last_row():\n",
    "            axs[j,i].set_xlabel(labels[x_name])\n",
    "        if i == 0:\n",
    "            axs[j,i].set_ylabel(labels[y_name])\n",
    "        else:\n",
    "            axs[j,i].tick_params(labelleft=False)\n",
    "\n",
    "    for i in range(npars):\n",
    "        x, pdf = margins[i]\n",
    "        axs[i,i].plot(x, pdf/pdf.max(), \"-\", color=colors[i])\n",
    "        axs[i,i].tick_params(left=False, labelleft=False)\n",
    "        sns.despine(ax=axs[i,i], left=True)\n",
    "\n",
    "# update_simulation(50)\n",
    "# fig.savefig(\"fitting-example-stellar.png\", bbox_inches=\"tight\")"
   ]
  },
  {
   "cell_type": "code",
   "execution_count": 11,
   "metadata": {},
   "outputs": [
    {
     "data": {
      "application/vnd.jupyter.widget-view+json": {
       "model_id": "3971c1a4c2b54bdaa14c4c2b20b2244f",
       "version_major": 2,
       "version_minor": 0
      },
      "text/plain": [
       "Canvas(toolbar=Toolbar(toolitems=[('Home', 'Reset original view', 'home', 'home'), ('Back', 'Back to previous …"
      ]
     },
     "metadata": {},
     "output_type": "display_data"
    },
    {
     "name": "stderr",
     "output_type": "stream",
     "text": [
      "/home/mejia/.local/tmp/ipykernel_295367/1617428573.py:20: MatplotlibDeprecationWarning: \n",
      "The is_last_row function was deprecated in Matplotlib 3.4 and will be removed two minor releases later. Use ax.get_subplotspec().is_last_row() instead.\n",
      "  if ax.is_last_row():\n"
     ]
    }
   ],
   "source": [
    "fig, axs = plt.subplots(2, 4, figsize=(15, 7), sharex=True, sharey=True, tight_layout=True)\n",
    "\n",
    "emin, emax = -10, +10\n",
    "sns.despine(fig=fig)\n",
    "\n",
    "# @widgets.interact(i=range(input_params.age.drop_duplicates().size), line_width=(20, 50, wstep), kwargs=dict(continuous_update=False))\n",
    "def update_spectra(i=12, line_width=40):\n",
    "    [ax.clear() for ax in axs.ravel()]\n",
    "    gas_error = (mod_joint_spectra[i] - mod_stellar_spectra[i]) - neb_emission_spectra[i]\n",
    "#     gas_error = np.divide(gas_error, neb_emission_spectra[i], where=neb_emission_spectra[i]!=0, out=np.full_like(gas_error, np.nan, dtype=np.double))\n",
    "#     gas_error *= 100\n",
    "\n",
    "    for ax, line in zip(axs.ravel(), elines):\n",
    "        ax.set_title(elines.get(line))\n",
    "        iwl, fwl = np.argmin(np.abs(wavelength - (line-line_width))), np.argmin(np.abs(wavelength - (line+line_width)))\n",
    "        ax.hist(gas_error[iwl:fwl], 20, range=(emin,emax), fc=\"tab:purple\", lw=0, density=True, alpha=0.5)\n",
    "        mean, std = np.nanmean(gas_error[iwl:fwl]), np.nanstd(gas_error[iwl:fwl])\n",
    "        ax.axvspan(mean-std, mean+std, fc=\"0.9\", lw=0, zorder=-1)\n",
    "        ax.axvline(mean, ls=\"--\", color=\"0.5\", lw=1, zorder=-1)\n",
    "        if ax.is_last_row():\n",
    "            ax.set_xlabel(\"residual\")\n",
    "        ax.set_xlim(emin,emax)\n",
    "\n",
    "update_spectra()"
   ]
  }
 ],
 "metadata": {
  "kernelspec": {
   "display_name": "Python 3 (ipykernel)",
   "language": "python",
   "name": "python3"
  },
  "language_info": {
   "codemirror_mode": {
    "name": "ipython",
    "version": 3
   },
   "file_extension": ".py",
   "mimetype": "text/x-python",
   "name": "python",
   "nbconvert_exporter": "python",
   "pygments_lexer": "ipython3",
   "version": "3.8.5"
  },
  "widgets": {
   "application/vnd.jupyter.widget-state+json": {
    "state": {},
    "version_major": 2,
    "version_minor": 0
   }
  }
 },
 "nbformat": 4,
 "nbformat_minor": 4
}
